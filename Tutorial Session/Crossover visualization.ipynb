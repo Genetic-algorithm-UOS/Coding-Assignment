{
 "cells": [
  {
   "cell_type": "markdown",
   "id": "770da766",
   "metadata": {},
   "source": [
    "### Imports"
   ]
  },
  {
   "cell_type": "code",
   "execution_count": 1,
   "id": "6586085b",
   "metadata": {},
   "outputs": [],
   "source": [
    "import numpy as np\n",
    "import time\n",
    "import random"
   ]
  },
  {
   "cell_type": "markdown",
   "id": "f8718414",
   "metadata": {},
   "source": [
    "### Crossover functions"
   ]
  },
  {
   "cell_type": "code",
   "execution_count": 29,
   "id": "7e49925e",
   "metadata": {},
   "outputs": [],
   "source": [
    "def uniform_order_crossover(p1, p2, template):\n",
    "\n",
    "    # create 'empty' child\n",
    "    child = np.zeros((len(p1),),dtype=int)\n",
    "    # where the template is true, take values from p1\n",
    "    child[template] = p1[template]\n",
    "    \n",
    "    print(\"Child at step 1 according to the boolean mask: \\n\", child, \"\\n\")\n",
    "    time.sleep(1)\n",
    "    \n",
    "    # store genes used from p1\n",
    "    used_genes = p1[template]\n",
    "\n",
    "    # get all genes from p2\n",
    "    remaining_genes = p2.tolist()\n",
    "    # add genes from p2 (that were not used from p1) to the empty spots of the child\n",
    "    for i, value in enumerate(child):\n",
    "        # if this spot is already filled, continue\n",
    "        if value != 0:\n",
    "            continue\n",
    "\n",
    "        # do while:  pop(get and remove) next gene from p2 until one is found that is not yet in the genome of the child, then add that\n",
    "        while True:\n",
    "            next_gene = remaining_genes.pop(0)\n",
    "            if next_gene not in used_genes:\n",
    "                child[i] = next_gene\n",
    "                print(\"Child at step \", i+1 ,\": \\n\", child, \"\\n\")\n",
    "                time.sleep(1)\n",
    "    \n",
    "                break\n",
    "\n",
    "    return child\n",
    "\n",
    "def get_crossover_template(length, crossover_rate = 0.2):\n",
    "    # initialize template with false values\n",
    "    template = np.zeros((length,),dtype=bool)\n",
    "    \n",
    "    # get random indices of the amount #of genes * crossover rate\n",
    "    random_indices = np.random.choice(template.shape[0], int(length*crossover_rate), replace=False)\n",
    "    \n",
    "    #set these indices to true\n",
    "    template[random_indices] = True\n",
    "\n",
    "    return template"
   ]
  },
  {
   "cell_type": "markdown",
   "id": "9092005f",
   "metadata": {},
   "source": [
    "### Create random parents"
   ]
  },
  {
   "cell_type": "code",
   "execution_count": 38,
   "id": "02c569e6",
   "metadata": {},
   "outputs": [
    {
     "name": "stdout",
     "output_type": "stream",
     "text": [
      "These are our current parents! \n",
      "\n",
      "Parent 1: \n",
      " [8 2 7 5 3 9 4 1 6] \n",
      "\n",
      "Parent 2: \n",
      " [ 8  5  3  1  6  7 10  2  4] \n",
      "\n"
     ]
    }
   ],
   "source": [
    "p1 = np.array(random.sample(range(1, 11), 9))\n",
    "p2 = np.array(random.sample(range(1, 11), 9))\n",
    "\n",
    "print(\"These are our current parents! \\n\")\n",
    "\n",
    "print(\"Parent 1: \\n\",p1,\"\\n\")\n",
    "print(\"Parent 2: \\n\",p2,\"\\n\")"
   ]
  },
  {
   "cell_type": "markdown",
   "id": "b1f75336",
   "metadata": {},
   "source": [
    "Notice how there are duplicate entries when comparing both parents? In order to prevent the creation of invalid groups, we need to apply a special crossover operation called uniform crossover. This will allow us to create children which do not share  genomes and thus only produce valid solutions!"
   ]
  },
  {
   "cell_type": "markdown",
   "id": "b8088e52",
   "metadata": {},
   "source": [
    "### Create the binary template"
   ]
  },
  {
   "cell_type": "markdown",
   "id": "5cd09307",
   "metadata": {},
   "source": [
    "To do this, we first need a binary crossover mask of lenght p<sub>1</sub>/p<sub>2</sub> which consists of random boolean values! The crossover_rate describes how many genes will be transfered over from the parent gene. Depending on the redundance of both genomes, a high crossover_rate may be impossible. "
   ]
  },
  {
   "cell_type": "code",
   "execution_count": 41,
   "id": "f946dfe5",
   "metadata": {},
   "outputs": [
    {
     "name": "stdout",
     "output_type": "stream",
     "text": [
      "Binary template for our crossover operation! \n",
      "\n",
      "[False False False  True False False False  True  True] \n",
      "\n"
     ]
    }
   ],
   "source": [
    "print(\"Binary template for our crossover operation! \\n\")\n",
    "template = get_crossover_template(len(p1),crossover_rate = 0.4)\n",
    "\n",
    "print(template, \"\\n\")"
   ]
  },
  {
   "cell_type": "markdown",
   "id": "6dcc7f54",
   "metadata": {},
   "source": [
    "### Apply uniform crossover operation and create a child"
   ]
  },
  {
   "cell_type": "markdown",
   "id": "3f82451a",
   "metadata": {},
   "source": [
    "Moving on to the crossover operation, we start of by creating an empty child which inherits the genomes of p<sub>1</sub> in spots where the binary template is True. We now proceed to fill up all remaining genes with values of p2 that do not equal the genomes we already chose in the previous step. This process is done from left to right."
   ]
  },
  {
   "cell_type": "code",
   "execution_count": 42,
   "id": "693af5e0",
   "metadata": {},
   "outputs": [
    {
     "name": "stdout",
     "output_type": "stream",
     "text": [
      "Child at step 1 according to the boolean mask: \n",
      " [0 0 0 5 0 0 0 1 6] \n",
      "\n",
      "Child at step  1 : \n",
      " [8 0 0 5 0 0 0 1 6] \n",
      "\n",
      "Child at step  2 : \n",
      " [8 3 0 5 0 0 0 1 6] \n",
      "\n",
      "Child at step  3 : \n",
      " [8 3 7 5 0 0 0 1 6] \n",
      "\n",
      "Child at step  5 : \n",
      " [ 8  3  7  5 10  0  0  1  6] \n",
      "\n",
      "Child at step  6 : \n",
      " [ 8  3  7  5 10  2  0  1  6] \n",
      "\n",
      "Child at step  7 : \n",
      " [ 8  3  7  5 10  2  4  1  6] \n",
      "\n"
     ]
    }
   ],
   "source": [
    "child = uniform_order_crossover(p1, p2, template)"
   ]
  },
  {
   "cell_type": "markdown",
   "id": "fe07bae2",
   "metadata": {},
   "source": [
    "Now lets again take a look at all components that were involved here."
   ]
  },
  {
   "cell_type": "code",
   "execution_count": 43,
   "id": "e9d2b86b",
   "metadata": {},
   "outputs": [
    {
     "name": "stdout",
     "output_type": "stream",
     "text": [
      "Parent 1: \n",
      " [8 2 7 5 3 9 4 1 6] \n",
      "\n",
      "Parent 2: \n",
      " [ 8  5  3  1  6  7 10  2  4] \n",
      "\n",
      "Binary template: \n",
      " [False False False  True False False False  True  True] \n",
      "\n",
      "Resulting child: \n",
      " [ 8  3  7  5 10  2  4  1  6] \n",
      "\n"
     ]
    }
   ],
   "source": [
    "print(\"Parent 1: \\n\",p1,\"\\n\")\n",
    "print(\"Parent 2: \\n\",p2,\"\\n\")\n",
    "print(\"Binary template: \\n\", template, \"\\n\")\n",
    "print(\"Resulting child: \\n\", child, \"\\n\")"
   ]
  }
 ],
 "metadata": {
  "kernelspec": {
   "display_name": "Python 3 (ipykernel)",
   "language": "python",
   "name": "python3"
  },
  "language_info": {
   "codemirror_mode": {
    "name": "ipython",
    "version": 3
   },
   "file_extension": ".py",
   "mimetype": "text/x-python",
   "name": "python",
   "nbconvert_exporter": "python",
   "pygments_lexer": "ipython3",
   "version": "3.9.7"
  }
 },
 "nbformat": 4,
 "nbformat_minor": 5
}
