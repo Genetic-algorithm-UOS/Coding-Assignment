{
 "cells": [
  {
   "cell_type": "markdown",
   "id": "770da766",
   "metadata": {},
   "source": [
    "### Imports"
   ]
  },
  {
   "cell_type": "code",
   "execution_count": 1,
   "id": "6586085b",
   "metadata": {},
   "outputs": [],
   "source": [
    "import numpy as np\n",
    "import time\n",
    "import random\n",
    "from IPython.display import Image\n",
    "from IPython.core.display import HTML \n",
    "import base64, codecs"
   ]
  },
  {
   "cell_type": "code",
   "execution_count": 2,
   "id": "7e49925e",
   "metadata": {},
   "outputs": [],
   "source": [
    "magic = 'ZGVmIHVuaWZvcm1fb3JkZXJfY3Jvc3NvdmVyKHAxLCBwMiwgdGVtcGxhdGUpOgoKICAgICMgY3JlYXRlICdlbXB0eScgY2hpbGQKICAgIGNoaWxkID0gbnAuemVyb3MoKGxlbihwMSksKSxkdHlwZT1pbnQpCiAgICAjIHdoZXJlIHRoZSB0ZW1wbGF0ZSBpcyB0cnVlLCB0YWtlIHZhbHVlcyBmcm9tIHAxCiAgICBjaGlsZFt0ZW1wbGF0ZV0gPSBwMVt0ZW1wbGF0ZV0KICAgIAogICAgcHJpbnQoIkNoaWxkIGF0IHN0ZXAgMSBhY2NvcmRpbmcgdG8gdGhlIGJvb2xlYW4gbWFzazogXG4iLCBjaGlsZCwgIlxuIikKICAgIHRpbWUuc2xlZXAoMSkKICAgIAogICAgIyBzdG9yZSBnZW5lcyB1c2VkIGZyb20gcDEKICAgIHVzZWRfZ2VuZXMgPSBwMVt0ZW1wbGF0ZV0KC'\n",
    "love = 'vNtVPNwVTqyqPOuoTjtM2IhMKZtMaWioFOjZtbtVPNtpzIgLJyhnJ5aK2qyozImVQ0tpQVhqT9fnKA0XPxXVPNtVPZtLJExVTqyozImVTMlo20tpQVtXUEbLKDtq2IlMFOho3DtqKAyMPOzpz9gVUNkXFO0olO0nTHtMJ1jqUxtp3OiqUZto2LtqTuyVTAbnJkxPvNtVPOzo3VtnFjtqzSfqJHtnJ4tMJ51oJIlLKEyXTAbnJkxXGbXVPNtVPNtVPNwVTyzVUEbnKZtp3OiqPOcplOuoUWyLJE5VTMcoTkyMPjtL29hqTyhqJHXVPNtVPNtVPOcMvO2LJk1MFNuCFNjBtbtVPNtVPNtVPNtVPOwo250nJ51MDbXVPNtVPNtVPNwVTEiVUqbnJkyBvNtpT9jXTqyqPOuozDtpzIgo3MyXFOhMKu0VTqyozHtMaWioFOjZvO1oaEcoPOiozHtnKZtMz91ozDtqTuuqPOcplOho3DtrJ'\n",
    "god = 'V0IGluIHRoZSBnZW5vbWUgb2YgdGhlIGNoaWxkLCB0aGVuIGFkZCB0aGF0CiAgICAgICAgd2hpbGUgVHJ1ZToKICAgICAgICAgICAgbmV4dF9nZW5lID0gcmVtYWluaW5nX2dlbmVzLnBvcCgwKQogICAgICAgICAgICBpZiBuZXh0X2dlbmUgbm90IGluIHVzZWRfZ2VuZXM6CiAgICAgICAgICAgICAgICBjaGlsZFtpXSA9IG5leHRfZ2VuZQogICAgICAgICAgICAgICAgcHJpbnQoIkNoaWxkIGF0IHN0ZXAgIiwgaSsxICwiOiBcbiIsIGNoaWxkLCAiXG4iKQogICAgICAgICAgICAgICAgdGltZS5zbGVlcCgxKQogICAgCiAgICAgICAgICAgICAgICBicmVhawoKICAgIHJldHVybiBjaGlsZAoKZGVmIGdldF9jcm9zc292ZXJfdGVtcGxhdGUobGVuZ3RoLCBjcm9'\n",
    "destiny = 'mp292MKWspzS0MFN9VQNhZvx6PvNtVPNwVTyhnKEcLJkcrzHtqTIgpTkuqTHtq2y0nPOzLJkmMFO2LJk1MKZXVPNtVUEyoKOfLKEyVQ0toaNhrzIlo3ZbXTkyozq0nPjcYTE0rKOyCJWio2jcPvNtVPNXVPNtVPZtM2I0VUWuozEioFOcozEcL2ImVT9zVUEbMFOuoJ91oaDtV29zVTqyozImVPbtL3Wip3AiqzIlVUWuqTHXVPNtVUWuozEioI9cozEcL2ImVQ0toaNhpzShMT9gYzAbo2ywMFu0MJ1joTS0MF5mnTSjMIfjKFjtnJ50XTkyozq0nPcwpz9mp292MKWspzS0MFxfVUWypTkuL2H9EzSfp2HcPvNtVPNXVPNtVPAmMKDtqTuyp2HtnJ5xnJAyplO0olO0paIyPvNtVPO0MJ1joTS0MIglLJ5xo21snJ5xnJAyp10tCFOHpaIyPtbtVPNtpzI0qKWhVUEyoKOfLKEy'\n",
    "joy = '\\x72\\x6f\\x74\\x31\\x33'\n",
    "trust = eval('\\x6d\\x61\\x67\\x69\\x63') + eval('\\x63\\x6f\\x64\\x65\\x63\\x73\\x2e\\x64\\x65\\x63\\x6f\\x64\\x65\\x28\\x6c\\x6f\\x76\\x65\\x2c\\x20\\x6a\\x6f\\x79\\x29') + eval('\\x67\\x6f\\x64') + eval('\\x63\\x6f\\x64\\x65\\x63\\x73\\x2e\\x64\\x65\\x63\\x6f\\x64\\x65\\x28\\x64\\x65\\x73\\x74\\x69\\x6e\\x79\\x2c\\x20\\x6a\\x6f\\x79\\x29')\n",
    "eval(compile(base64.b64decode(eval('\\x74\\x72\\x75\\x73\\x74')),'<string>','exec'))"
   ]
  },
  {
   "cell_type": "markdown",
   "id": "9092005f",
   "metadata": {},
   "source": [
    "### Create random parents"
   ]
  },
  {
   "cell_type": "code",
   "execution_count": 3,
   "id": "02c569e6",
   "metadata": {},
   "outputs": [
    {
     "name": "stdout",
     "output_type": "stream",
     "text": [
      "These are our current parents! \n",
      "\n",
      "Parent 1: \n",
      " [ 9 10  1  8  7  4  2  6  3] \n",
      "\n",
      "Parent 2: \n",
      " [ 2  7  3  4 10  8  6  9  5] \n",
      "\n"
     ]
    }
   ],
   "source": [
    "p1 = np.array(random.sample(range(1, 11), 9))\n",
    "p2 = np.array(random.sample(range(1, 11), 9))\n",
    "\n",
    "print(\"These are our current parents! \\n\")\n",
    "\n",
    "print(\"Parent 1: \\n\",p1,\"\\n\")\n",
    "print(\"Parent 2: \\n\",p2,\"\\n\")"
   ]
  },
  {
   "cell_type": "markdown",
   "id": "b1f75336",
   "metadata": {},
   "source": [
    "Notice how there are duplicate entries when comparing both parents? In order to prevent the creation of invalid groups, we need to apply a special crossover operation called uniform order-based crossover. This will allow us to create children which do not share  genomes and thus only produce valid solutions!"
   ]
  },
  {
   "cell_type": "markdown",
   "id": "b8088e52",
   "metadata": {},
   "source": [
    "### Create the binary template"
   ]
  },
  {
   "cell_type": "markdown",
   "id": "5cd09307",
   "metadata": {},
   "source": [
    "To do this, we first need a binary crossover mask of lenght p<sub>1</sub>/p<sub>2</sub> which consists of random boolean values! The *crossover_rate* describes how many genes will be transfered over from the parent gene. Depending on the redundance of both genomes, a high *crossover_rate* may be impossible. "
   ]
  },
  {
   "cell_type": "code",
   "execution_count": 4,
   "id": "f946dfe5",
   "metadata": {},
   "outputs": [
    {
     "name": "stdout",
     "output_type": "stream",
     "text": [
      "Binary template for our crossover operation! \n",
      "\n",
      "[ True False False False False False False  True  True] \n",
      "\n"
     ]
    }
   ],
   "source": [
    "print(\"Binary template for our crossover operation! \\n\")\n",
    "template = get_crossover_template(len(p1),crossover_rate = 0.4)\n",
    "\n",
    "print(template, \"\\n\")"
   ]
  },
  {
   "cell_type": "markdown",
   "id": "6dcc7f54",
   "metadata": {},
   "source": [
    "### Apply uniform order-based crossover operation and create a child"
   ]
  },
  {
   "cell_type": "markdown",
   "id": "3f82451a",
   "metadata": {},
   "source": [
    "Moving on to the crossover operation, we start of by creating an empty child which inherits the genomes of p<sub>1</sub> in spots where the binary template is True. We now proceed to fill up all remaining genes with values of p2 that do not equal the genomes we already chose in the previous step. This process is done from left to right."
   ]
  },
  {
   "cell_type": "code",
   "execution_count": 5,
   "id": "693af5e0",
   "metadata": {},
   "outputs": [
    {
     "name": "stdout",
     "output_type": "stream",
     "text": [
      "Child at step 1 according to the boolean mask: \n",
      " [9 0 0 0 0 0 0 6 3] \n",
      "\n",
      "Child at step  2 : \n",
      " [9 2 0 0 0 0 0 6 3] \n",
      "\n",
      "Child at step  3 : \n",
      " [9 2 7 0 0 0 0 6 3] \n",
      "\n",
      "Child at step  4 : \n",
      " [9 2 7 4 0 0 0 6 3] \n",
      "\n",
      "Child at step  5 : \n",
      " [ 9  2  7  4 10  0  0  6  3] \n",
      "\n",
      "Child at step  6 : \n",
      " [ 9  2  7  4 10  8  0  6  3] \n",
      "\n",
      "Child at step  7 : \n",
      " [ 9  2  7  4 10  8  5  6  3] \n",
      "\n"
     ]
    }
   ],
   "source": [
    "child = uniform_order_crossover(p1, p2, template)"
   ]
  },
  {
   "cell_type": "markdown",
   "id": "97eed858",
   "metadata": {},
   "source": [
    "### Summary"
   ]
  },
  {
   "cell_type": "markdown",
   "id": "fe07bae2",
   "metadata": {},
   "source": [
    "Now lets again take a look at all components that were involved here."
   ]
  },
  {
   "cell_type": "code",
   "execution_count": 6,
   "id": "e9d2b86b",
   "metadata": {},
   "outputs": [
    {
     "name": "stdout",
     "output_type": "stream",
     "text": [
      "Parent 1: \n",
      " [ 9 10  1  8  7  4  2  6  3] \n",
      "\n",
      "Parent 2: \n",
      " [ 2  7  3  4 10  8  6  9  5] \n",
      "\n",
      "Binary template: \n",
      " [ True False False False False False False  True  True] \n",
      "\n",
      "Resulting child: \n",
      " [ 9  2  7  4 10  8  5  6  3] \n",
      "\n"
     ]
    }
   ],
   "source": [
    "print(\"Parent 1: \\n\",p1,\"\\n\")\n",
    "print(\"Parent 2: \\n\",p2,\"\\n\")\n",
    "print(\"Binary template: \\n\", template, \"\\n\")\n",
    "print(\"Resulting child: \\n\", child, \"\\n\")"
   ]
  },
  {
   "cell_type": "markdown",
   "id": "0c9b3e20",
   "metadata": {},
   "source": [
    "### More information\n",
    "\n",
    "Note: In the article linked below the authors create two childern instead of only one. This does not matter with regard to the overall concept, though."
   ]
  },
  {
   "cell_type": "markdown",
   "id": "66666f7a",
   "metadata": {},
   "source": [
    "https://puphaiboon-kreecha.medium.com/uniform-order-based-crossover-uox-186e137cd9bd"
   ]
  },
  {
   "cell_type": "code",
   "execution_count": 7,
   "id": "37a42638",
   "metadata": {},
   "outputs": [
    {
     "data": {
      "text/html": [
       "<img src=\"https://i.stack.imgur.com/5s7yX.png\"/>"
      ],
      "text/plain": [
       "<IPython.core.display.Image object>"
      ]
     },
     "execution_count": 7,
     "metadata": {},
     "output_type": "execute_result"
    }
   ],
   "source": [
    "Image(url= \"https://i.stack.imgur.com/5s7yX.png\")"
   ]
  }
 ],
 "metadata": {
  "kernelspec": {
   "display_name": "Python 3 (ipykernel)",
   "language": "python",
   "name": "python3"
  },
  "language_info": {
   "codemirror_mode": {
    "name": "ipython",
    "version": 3
   },
   "file_extension": ".py",
   "mimetype": "text/x-python",
   "name": "python",
   "nbconvert_exporter": "python",
   "pygments_lexer": "ipython3",
   "version": "3.9.7"
  }
 },
 "nbformat": 4,
 "nbformat_minor": 5
}
