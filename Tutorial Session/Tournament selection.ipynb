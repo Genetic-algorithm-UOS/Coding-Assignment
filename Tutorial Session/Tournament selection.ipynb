{
 "cells": [
  {
   "cell_type": "markdown",
   "id": "770da766",
   "metadata": {},
   "source": [
    "### Imports"
   ]
  },
  {
   "cell_type": "code",
   "execution_count": 1,
   "id": "6586085b",
   "metadata": {},
   "outputs": [],
   "source": [
    "import numpy as np\n",
    "import random"
   ]
  },
  {
   "cell_type": "markdown",
   "id": "f8718414",
   "metadata": {},
   "source": [
    "### Tournament selection functions"
   ]
  },
  {
   "cell_type": "code",
   "execution_count": 109,
   "id": "f279bd36",
   "metadata": {},
   "outputs": [],
   "source": [
    "def tournament_selection(population, tournament_size = 4):\n",
    "\n",
    "    individuals = np.array([individual[0] for individual in population])\n",
    "    print('We take our population above as input. \\n')\n",
    "\n",
    "    random_indices = np.random.choice(individuals.shape[0], tournament_size*2, replace=False)\n",
    "    print('We then generate (tournament_size*2) unique random indices, one for each tournament:',random_indices)\n",
    "\n",
    "    print('This means, we take indices', random_indices[:tournament_size], 'and', random_indices[tournament_size:], 'for the tournaments.\\n')\n",
    "\n",
    "    tournament1 = []\n",
    "    tournament2 = []\n",
    "\n",
    "    print('We then perform 2 tournaments between the following individuals:\\n')\n",
    "    for i in random_indices[:tournament_size]:\n",
    "        tournament1.append(population[i])\n",
    "\n",
    "    for i in random_indices[tournament_size:]:\n",
    "        tournament2.append(population[i])\n",
    "\n",
    "    print('Tournament 1:')\n",
    "    for i in tournament1:\n",
    "        print('{} - with fitness score ({})'.format(i[0],i[1]))\n",
    "    print('\\n')\n",
    "\n",
    "    print('Tournament 2:')\n",
    "    for i in tournament2:\n",
    "        print('{} - with fitness score ({})'.format(i[0],i[1]))\n",
    "    print('\\n')\n",
    "    \n",
    "    parents = []\n",
    "\n",
    "    for tournament in (tournament1,tournament2):\n",
    "\n",
    "        # fitness_scores = [Fitness().evaluate_fitness(individual, students) for individual in tournament]\n",
    "        fitness_scores = [individual[1] for individual in tournament]\n",
    "\n",
    "        idx = np.argsort(fitness_scores)[::-1]\n",
    "\n",
    "        parents.append(tournament[idx[0]])\n",
    "\n",
    "    print('We then select the best individual from each tournament as the parent:')\n",
    "    print('Parent 1:',parents[0][0], 'with fitness score', parents[0][1])\n",
    "    print('Parent 2:',parents[1][0], 'with fitness score', parents[1][1])"
   ]
  },
  {
   "cell_type": "markdown",
   "id": "9092005f",
   "metadata": {},
   "source": [
    "### Create a random population"
   ]
  },
  {
   "cell_type": "code",
   "execution_count": 71,
   "id": "2d739eba",
   "metadata": {},
   "outputs": [
    {
     "name": "stdout",
     "output_type": "stream",
     "text": [
      "Individual 0: [6, 8, 5, 4, 3, 2, 7, 10, 1] - with fitness score (9)\n",
      "Individual 1: [4, 9, 3, 1, 2, 10, 8, 5, 7] - with fitness score (19)\n",
      "Individual 2: [6, 1, 8, 3, 4, 5, 10, 2, 9] - with fitness score (14)\n",
      "Individual 3: [5, 10, 2, 4, 9, 8, 7, 3, 6] - with fitness score (1)\n",
      "Individual 4: [4, 10, 3, 7, 5, 8, 9, 6, 2] - with fitness score (17)\n",
      "Individual 5: [4, 8, 3, 7, 2, 6, 1, 5, 9] - with fitness score (13)\n",
      "Individual 6: [6, 7, 2, 3, 8, 1, 9, 4, 10] - with fitness score (12)\n",
      "Individual 7: [7, 5, 3, 6, 4, 8, 1, 2, 9] - with fitness score (12)\n",
      "Individual 8: [6, 4, 2, 5, 10, 8, 1, 7, 9] - with fitness score (3)\n",
      "Individual 9: [8, 3, 7, 5, 1, 10, 4, 2, 6] - with fitness score (6)\n"
     ]
    }
   ],
   "source": [
    "population_length = 10\n",
    "population = []\n",
    "\n",
    "for i in range(population_length):\n",
    "    population.append((random.sample(range(1, 11), 9), np.random.randint(0, 20)))\n",
    "\n",
    "for n,i in enumerate(population):\n",
    "    print('Individual {}: {} - with fitness score ({})'.format(n,i[0],i[1]))"
   ]
  },
  {
   "cell_type": "markdown",
   "id": "b1f75336",
   "metadata": {},
   "source": [
    "After creating the population, we can use the tournament selection function to select the best individuals (with the highest fitness)."
   ]
  },
  {
   "cell_type": "markdown",
   "id": "b8088e52",
   "metadata": {},
   "source": [
    "### Apply tournament selection"
   ]
  },
  {
   "cell_type": "code",
   "execution_count": 106,
   "id": "347992ca",
   "metadata": {},
   "outputs": [
    {
     "name": "stdout",
     "output_type": "stream",
     "text": [
      "We take our population above as input. \n",
      "\n",
      "We then generate (tournament_size*2) unique random indices, one for each tournament: [6 4 2 3 0 7]\n",
      "This means, we take indices [6 4 2] and [3 0 7] for the tournaments.\n",
      "\n",
      "We then perform 2 tournaments between the following individuals:\n",
      "\n",
      "Tournament 1:\n",
      "[6, 7, 2, 3, 8, 1, 9, 4, 10] - with fitness score (12)\n",
      "[4, 10, 3, 7, 5, 8, 9, 6, 2] - with fitness score (17)\n",
      "[6, 1, 8, 3, 4, 5, 10, 2, 9] - with fitness score (14)\n",
      "\n",
      "\n",
      "Tournament 2:\n",
      "[5, 10, 2, 4, 9, 8, 7, 3, 6] - with fitness score (1)\n",
      "[6, 8, 5, 4, 3, 2, 7, 10, 1] - with fitness score (9)\n",
      "[7, 5, 3, 6, 4, 8, 1, 2, 9] - with fitness score (12)\n",
      "\n",
      "\n",
      "We then select the best individual from each tournament as the parent:\n",
      "Parent 1: [4, 10, 3, 7, 5, 8, 9, 6, 2] with fitness score 17\n",
      "Parent 2: [7, 5, 3, 6, 4, 8, 1, 2, 9] with fitness score 12\n"
     ]
    }
   ],
   "source": [
    "tournament_selection(population, tournament_size=3)"
   ]
  }
 ],
 "metadata": {
  "kernelspec": {
   "display_name": "Python 3 (ipykernel)",
   "language": "python",
   "name": "python3"
  },
  "language_info": {
   "codemirror_mode": {
    "name": "ipython",
    "version": 3
   },
   "file_extension": ".py",
   "mimetype": "text/x-python",
   "name": "python",
   "nbconvert_exporter": "python",
   "pygments_lexer": "ipython3",
   "version": "3.9.7"
  }
 },
 "nbformat": 4,
 "nbformat_minor": 5
}
