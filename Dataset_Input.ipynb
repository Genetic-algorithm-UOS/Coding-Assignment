{
 "cells": [
  {
   "cell_type": "code",
   "execution_count": 67,
   "metadata": {},
   "outputs": [],
   "source": [
    "import csv\n",
    "import ipywidgets as widgets\n",
    "from IPython.display import display"
   ]
  },
  {
   "cell_type": "markdown",
   "metadata": {},
   "source": [
    "### Input your name:"
   ]
  },
  {
   "cell_type": "code",
   "execution_count": 68,
   "metadata": {},
   "outputs": [
    {
     "data": {
      "application/vnd.jupyter.widget-view+json": {
       "model_id": "c802145102094019ab3930ce1e47d453",
       "version_major": 2,
       "version_minor": 0
      },
      "text/plain": [
       "Text(value='Donald Dump', description='Your name:')"
      ]
     },
     "metadata": {},
     "output_type": "display_data"
    },
    {
     "data": {
      "application/vnd.jupyter.widget-view+json": {
       "model_id": "96cceb5b6e55411399616ec24f712908",
       "version_major": 2,
       "version_minor": 0
      },
      "text/plain": [
       "Dropdown(description='Language:', options=('Any', 'English', 'German'), value='Any')"
      ]
     },
     "metadata": {},
     "output_type": "display_data"
    },
    {
     "data": {
      "application/vnd.jupyter.widget-view+json": {
       "model_id": "9c631313161e4acaab0c695ae89b0e9a",
       "version_major": 2,
       "version_minor": 0
      },
      "text/plain": [
       "Dropdown(description='First Major:', options=('AI', 'NP', 'PHIL', 'CL', 'NI', 'NB', 'DS'), value='AI')"
      ]
     },
     "metadata": {},
     "output_type": "display_data"
    },
    {
     "data": {
      "application/vnd.jupyter.widget-view+json": {
       "model_id": "3e5a5a94c882425db1684908575492ab",
       "version_major": 2,
       "version_minor": 0
      },
      "text/plain": [
       "Dropdown(description='Second Major:', index=4, options=('AI', 'NP', 'PHIL', 'CL', 'NI', 'NB', 'DS'), value='NI…"
      ]
     },
     "metadata": {},
     "output_type": "display_data"
    },
    {
     "data": {
      "application/vnd.jupyter.widget-view+json": {
       "model_id": "171b1a96a2084d0790e0bf98cb558c19",
       "version_major": 2,
       "version_minor": 0
      },
      "text/plain": [
       "Dropdown(description='Motivation:', index=2, options=('Very low', 'Low', 'Medium', 'High', 'Very high'), value…"
      ]
     },
     "metadata": {},
     "output_type": "display_data"
    },
    {
     "data": {
      "application/vnd.jupyter.widget-view+json": {
       "model_id": "010f81574def428b9c9ede4c5e81539d",
       "version_major": 2,
       "version_minor": 0
      },
      "text/plain": [
       "Dropdown(description='Meeting place:', index=1, options=('In person', 'Online'), value='Online')"
      ]
     },
     "metadata": {},
     "output_type": "display_data"
    },
    {
     "data": {
      "application/vnd.jupyter.widget-view+json": {
       "model_id": "89bde218b9ca481283a10f31a8e60f82",
       "version_major": 2,
       "version_minor": 0
      },
      "text/plain": [
       "Dropdown(description='Personality:', index=10, options=('ESTJ', 'ENTJ', 'ESFJ', 'ENFJ', 'ISTJ', 'ISFJ', 'INTJ'…"
      ]
     },
     "metadata": {},
     "output_type": "display_data"
    },
    {
     "data": {
      "application/vnd.jupyter.widget-view+json": {
       "model_id": "f26a94ababf64d1d8d2a95fd1c5acfe5",
       "version_major": 2,
       "version_minor": 0
      },
      "text/plain": [
       "Dropdown(description='Friend:', options=('Angelika Fischer', 'Jens Unger', 'Stefan Moench', 'Klaus Achen', 'Re…"
      ]
     },
     "metadata": {},
     "output_type": "display_data"
    },
    {
     "data": {
      "application/vnd.jupyter.widget-view+json": {
       "model_id": "4c63cdb1c4504335b77f1fbafa684009",
       "version_major": 2,
       "version_minor": 0
      },
      "text/plain": [
       "Dropdown(description='Blocked Day', options=('Monday', 'Tuesday', 'Wednesday', 'Thursday', 'Friday'), value='M…"
      ]
     },
     "metadata": {},
     "output_type": "display_data"
    }
   ],
   "source": [
    "csv_persons = csv.reader(open(\"dataset_full_.csv\"))\n",
    "next(csv_persons, None)\n",
    "\n",
    "all_participants = [x[1] for x in csv_persons]\n",
    "nameinput = widgets.Text(description=\"Your name:\", value='Donald Dump', disabled=False)\n",
    "language_dropdown = widgets.Dropdown(\n",
    "    options=['Any', 'English', 'German'],\n",
    "    value='Any',\n",
    "    description='Language:',\n",
    "    disabled=False,\n",
    ")\n",
    "maj = [\"AI\", \"NP\", \"PHIL\", \"CL\", \"NI\", \"NB\", \"DS\"]\n",
    "first_major = widgets.Dropdown(\n",
    "    options=maj,\n",
    "    value='AI',\n",
    "    description='First Major:',\n",
    "    disabled=False,\n",
    ")\n",
    "second_major = widgets.Dropdown(\n",
    "    options=maj,\n",
    "    value='NI',\n",
    "    description='Second Major:',\n",
    "    disabled=False,\n",
    ")\n",
    "level_of_motivation = widgets.Dropdown(\n",
    "    options=[\"Very low\", \"Low\", \"Medium\", \"High\", \"Very high\"],\n",
    "    value='Medium',\n",
    "    description='Motivation:',\n",
    "    disabled=False,\n",
    ")\n",
    "meeting_place = widgets.Dropdown(\n",
    "    options=[\"In person\", \"Online\"],\n",
    "    value='Online',\n",
    "    description='Meeting place:',\n",
    "    disabled=False,\n",
    ")\n",
    "pers = [\"ESTJ\", \"ENTJ\", \"ESFJ\", \"ENFJ\", \n",
    "        \"ISTJ\", \"ISFJ\", \"INTJ\", \"INFJ\", \n",
    "        \"ESTP\", \"ESFP\", \"ENTP\", \"ENFP\", \n",
    "        \"ISTP\", \"ISFP\", \"INTP\", \"INFP\"\n",
    "        ]\n",
    "personality = widgets.Dropdown(\n",
    "    options=pers,\n",
    "    value='ENTP',\n",
    "    description='Personality:',\n",
    "    disabled=False,\n",
    ")\n",
    "friend = widgets.Dropdown(\n",
    "    options=all_participants,\n",
    "    value=all_participants[0],\n",
    "    description='Friend:',\n",
    "    disabled=False,\n",
    ")\n",
    "BlockedDay = widgets.Dropdown(\n",
    "    options=[\"Monday\", \"Tuesday\", \"Wednesday\", \"Thursday\", \"Friday\"],\n",
    "    value=\"Monday\",\n",
    "    description='Blocked Day',\n",
    "    disabled=False,\n",
    ")\n",
    "\n",
    "display(nameinput, language_dropdown, first_major, second_major, level_of_motivation, meeting_place, personality, friend, BlockedDay)"
   ]
  },
  {
   "cell_type": "code",
   "execution_count": 71,
   "metadata": {},
   "outputs": [],
   "source": [
    "values = [len(all_participants) + 1, nameinput.get_interact_value(), language_dropdown.get_interact_value(), first_major.get_interact_value(), second_major.get_interact_value(), level_of_motivation.get_interact_value(), meeting_place.get_interact_value(), personality.get_interact_value(), friend.get_interact_value(), BlockedDay.get_interact_value()]\n",
    "with open(\"dataset_full_.csv\", \"a\") as f:\n",
    "    writer = csv.writer(f)\n",
    "    writer.writerow(values)"
   ]
  }
 ],
 "metadata": {
  "interpreter": {
   "hash": "b0b0bb6359295fc56c719f904968bda4c9aa91c8906011719b9239c30320e5b5"
  },
  "kernelspec": {
   "display_name": "Python 3.9.7 ('base')",
   "language": "python",
   "name": "python3"
  },
  "language_info": {
   "codemirror_mode": {
    "name": "ipython",
    "version": 3
   },
   "file_extension": ".py",
   "mimetype": "text/x-python",
   "name": "python",
   "nbconvert_exporter": "python",
   "pygments_lexer": "ipython3",
   "version": "3.9.7"
  },
  "orig_nbformat": 4
 },
 "nbformat": 4,
 "nbformat_minor": 2
}
