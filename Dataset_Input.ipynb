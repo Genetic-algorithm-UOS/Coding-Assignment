{
 "cells": [
  {
   "cell_type": "code",
   "execution_count": 2,
   "metadata": {},
   "outputs": [],
   "source": [
    "import csv\n",
    "import ipywidgets as widgets\n",
    "from IPython.display import display"
   ]
  },
  {
   "cell_type": "markdown",
   "metadata": {},
   "source": [
    "### Input your name:"
   ]
  },
  {
   "cell_type": "code",
   "execution_count": 11,
   "metadata": {},
   "outputs": [
    {
     "data": {
      "application/vnd.jupyter.widget-view+json": {
       "model_id": "c1680e3489484c02bd678d73a66dc33e",
       "version_major": 2,
       "version_minor": 0
      },
      "text/plain": [
       "Text(value='Donald Dump', description='Your name:')"
      ]
     },
     "metadata": {},
     "output_type": "display_data"
    },
    {
     "data": {
      "application/vnd.jupyter.widget-view+json": {
       "model_id": "4a7382d582ea4b87b37c2e0c61f14f07",
       "version_major": 2,
       "version_minor": 0
      },
      "text/plain": [
       "Dropdown(description='Language:', options=('Any', 'English', 'German'), value='Any')"
      ]
     },
     "metadata": {},
     "output_type": "display_data"
    },
    {
     "data": {
      "application/vnd.jupyter.widget-view+json": {
       "model_id": "707a0ce6a5ea4f6c8a0474edb5c6bfe8",
       "version_major": 2,
       "version_minor": 0
      },
      "text/plain": [
       "Dropdown(description='First Major:', options=('AI', 'NP', 'PHIL', 'CL', 'NI', 'NB', 'DS'), value='AI')"
      ]
     },
     "metadata": {},
     "output_type": "display_data"
    },
    {
     "data": {
      "application/vnd.jupyter.widget-view+json": {
       "model_id": "7a8b7ca3e3414bef9ce4108d9e202401",
       "version_major": 2,
       "version_minor": 0
      },
      "text/plain": [
       "Dropdown(description='Second Major:', index=4, options=('AI', 'NP', 'PHIL', 'CL', 'NI', 'NB', 'DS'), value='NI…"
      ]
     },
     "metadata": {},
     "output_type": "display_data"
    },
    {
     "data": {
      "application/vnd.jupyter.widget-view+json": {
       "model_id": "8a18a779786442b3a7ba61e185c4cdc1",
       "version_major": 2,
       "version_minor": 0
      },
      "text/plain": [
       "Dropdown(description='Motivation:', index=2, options=('Very low', 'Low', 'Medium', 'High', 'Very high'), value…"
      ]
     },
     "metadata": {},
     "output_type": "display_data"
    },
    {
     "data": {
      "application/vnd.jupyter.widget-view+json": {
       "model_id": "2025f59f96b94b598090d27ac87f3bcd",
       "version_major": 2,
       "version_minor": 0
      },
      "text/plain": [
       "Dropdown(description='Meeting place:', index=1, options=('In person', 'Online'), value='Online')"
      ]
     },
     "metadata": {},
     "output_type": "display_data"
    },
    {
     "data": {
      "application/vnd.jupyter.widget-view+json": {
       "model_id": "d9ec4ca712eb499582812590ba1ec88f",
       "version_major": 2,
       "version_minor": 0
      },
      "text/plain": [
       "Dropdown(description='Personality:', index=10, options=('ESTJ', 'ENTJ', 'ESFJ', 'ENFJ', 'ISTJ', 'ISFJ', 'INTJ'…"
      ]
     },
     "metadata": {},
     "output_type": "display_data"
    },
    {
     "data": {
      "application/vnd.jupyter.widget-view+json": {
       "model_id": "f5bf41e818584bc6b490d58d3a1c3217",
       "version_major": 2,
       "version_minor": 0
      },
      "text/plain": [
       "Dropdown(description='Friend:', options=('Paul Pfeffer', 'Phillipp Fiedler', 'Ines Schroeder', 'Diana Holtzman…"
      ]
     },
     "metadata": {},
     "output_type": "display_data"
    },
    {
     "data": {
      "application/vnd.jupyter.widget-view+json": {
       "model_id": "a860be629c98497c981aea41ef6aa079",
       "version_major": 2,
       "version_minor": 0
      },
      "text/plain": [
       "Dropdown(description='Blocked Day', options=('Monday', 'Tuesday', 'Wednesday', 'Thursday', 'Friday'), value='M…"
      ]
     },
     "metadata": {},
     "output_type": "display_data"
    }
   ],
   "source": [
    "csv_persons = csv.reader(open(\"dataset_full.csv\", encoding='utf8'))\n",
    "next(csv_persons, None)\n",
    "\n",
    "all_participants = [x[1] for x in csv_persons]\n",
    "nameinput = widgets.Text(description=\"Your name:\", value='Donald Dump', disabled=False)\n",
    "language_dropdown = widgets.Dropdown(\n",
    "    options=['Any', 'English', 'German'],\n",
    "    value='Any',\n",
    "    description='Language:',\n",
    "    disabled=False,\n",
    ")\n",
    "maj = [\"AI\", \"NP\", \"PHIL\", \"CL\", \"NI\", \"NB\", \"DS\"]\n",
    "first_major = widgets.Dropdown(\n",
    "    options=maj,\n",
    "    value='AI',\n",
    "    description='First Major:',\n",
    "    disabled=False,\n",
    ")\n",
    "second_major = widgets.Dropdown(\n",
    "    options=maj,\n",
    "    value='NI',\n",
    "    description='Second Major:',\n",
    "    disabled=False,\n",
    ")\n",
    "level_of_motivation = widgets.Dropdown(\n",
    "    options=[\"Very low\", \"Low\", \"Medium\", \"High\", \"Very high\"],\n",
    "    value='Medium',\n",
    "    description='Motivation:',\n",
    "    disabled=False,\n",
    ")\n",
    "meeting_place = widgets.Dropdown(\n",
    "    options=[\"In person\", \"Online\"],\n",
    "    value='Online',\n",
    "    description='Meeting place:',\n",
    "    disabled=False,\n",
    ")\n",
    "pers = [\"ESTJ\", \"ENTJ\", \"ESFJ\", \"ENFJ\", \n",
    "        \"ISTJ\", \"ISFJ\", \"INTJ\", \"INFJ\", \n",
    "        \"ESTP\", \"ESFP\", \"ENTP\", \"ENFP\", \n",
    "        \"ISTP\", \"ISFP\", \"INTP\", \"INFP\"\n",
    "        ]\n",
    "personality = widgets.Dropdown(\n",
    "    options=pers,\n",
    "    value='ENTP',\n",
    "    description='Personality:',\n",
    "    disabled=False,\n",
    ")\n",
    "friend = widgets.Dropdown(\n",
    "    options=all_participants,\n",
    "    value=all_participants[0],\n",
    "    description='Friend:',\n",
    "    disabled=False,\n",
    ")\n",
    "BlockedDay = widgets.Dropdown(\n",
    "    options=[\"Monday\", \"Tuesday\", \"Wednesday\", \"Thursday\", \"Friday\"],\n",
    "    value=\"Monday\",\n",
    "    description='Blocked Day',\n",
    "    disabled=False,\n",
    ")\n",
    "\n",
    "display(nameinput, language_dropdown, first_major, second_major, level_of_motivation, meeting_place, personality, friend, BlockedDay)"
   ]
  },
  {
   "cell_type": "code",
   "execution_count": 12,
   "metadata": {},
   "outputs": [],
   "source": [
    "values = [len(all_participants) + 1, nameinput.get_interact_value(), language_dropdown.get_interact_value(), first_major.get_interact_value(), second_major.get_interact_value(), level_of_motivation.get_interact_value(), meeting_place.get_interact_value(), personality.get_interact_value(), friend.get_interact_value(), BlockedDay.get_interact_value()]\n",
    "with open(\"dataset_full_.csv\", \"a\", encoding='utf8') as f:\n",
    "    writer = csv.writer(f)\n",
    "    writer.writerow(values)"
   ]
  }
 ],
 "metadata": {
  "interpreter": {
   "hash": "b0b0bb6359295fc56c719f904968bda4c9aa91c8906011719b9239c30320e5b5"
  },
  "kernelspec": {
   "display_name": "Python 3 (ipykernel)",
   "language": "python",
   "name": "python3"
  },
  "language_info": {
   "codemirror_mode": {
    "name": "ipython",
    "version": 3
   },
   "file_extension": ".py",
   "mimetype": "text/x-python",
   "name": "python",
   "nbconvert_exporter": "python",
   "pygments_lexer": "ipython3",
   "version": "3.9.7"
  }
 },
 "nbformat": 4,
 "nbformat_minor": 2
}
