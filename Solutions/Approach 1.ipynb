{
 "cells": [
  {
   "cell_type": "code",
   "execution_count": 132,
   "metadata": {
    "collapsed": true,
    "pycharm": {
     "name": "#%%\n"
    }
   },
   "outputs": [],
   "source": [
    "import numpy as np\n",
    "import random\n",
    "import pandas as pd\n",
    "from typing import List"
   ]
  },
  {
   "cell_type": "code",
   "execution_count": 133,
   "metadata": {
    "collapsed": false,
    "pycharm": {
     "name": "#%%\n"
    }
   },
   "outputs": [],
   "source": [
    "students = pd.read_csv('dataset_full.csv')\n",
    "\n",
    "# hyperparameters\n",
    "num_individuals = 100\n",
    "groupsize = 5"
   ]
  },
  {
   "cell_type": "markdown",
   "metadata": {
    "pycharm": {
     "name": "#%% md\n"
    }
   },
   "source": [
    "Darwinian Natural Selection\n",
    "\n",
    "- Variation\n",
    "- Selection\n",
    "- Heredity"
   ]
  },
  {
   "cell_type": "markdown",
   "metadata": {
    "pycharm": {
     "name": "#%% md\n"
    }
   },
   "source": [
    "1. Variation (Create a population)"
   ]
  },
  {
   "cell_type": "code",
   "execution_count": 134,
   "metadata": {
    "pycharm": {
     "name": "#%%\n"
    }
   },
   "outputs": [
    {
     "data": {
      "text/plain": "   ID               Name         Gender Preferred language          Majors  \\\n0   1        Marko Pfaff           Male            English    ('CP', 'AI')   \n1   2  Christian Kuester  Indeterminate                Any  ('CL', 'PHIL')   \n2   3  Johanna Schreiber         Female                Any    ('CL', 'NI')   \n3   4        Tim Krueger           Male                Any    ('NI', 'CP')   \n4   5      Jessica Fried         Female                Any  ('CP', 'PHIL')   \n\n  Level of ambition Preferred meeting place Personality type  \\\n0              High               In person             INTP   \n1         Very high               In person             ESTJ   \n2         Very high               In person             ENFJ   \n3            Medium               In person             ESFJ   \n4          Very low               In person             ESFP   \n\n        Best friend Preferred day  \n0      Mathias Durr        Friday  \n1  Phillipp Koertig      Thursday  \n2      Marie Kohler     Wednesday  \n3       Marina Kalb       Tuesday  \n4     Florian Bader     Wednesday  ",
      "text/html": "<div>\n<style scoped>\n    .dataframe tbody tr th:only-of-type {\n        vertical-align: middle;\n    }\n\n    .dataframe tbody tr th {\n        vertical-align: top;\n    }\n\n    .dataframe thead th {\n        text-align: right;\n    }\n</style>\n<table border=\"1\" class=\"dataframe\">\n  <thead>\n    <tr style=\"text-align: right;\">\n      <th></th>\n      <th>ID</th>\n      <th>Name</th>\n      <th>Gender</th>\n      <th>Preferred language</th>\n      <th>Majors</th>\n      <th>Level of ambition</th>\n      <th>Preferred meeting place</th>\n      <th>Personality type</th>\n      <th>Best friend</th>\n      <th>Preferred day</th>\n    </tr>\n  </thead>\n  <tbody>\n    <tr>\n      <th>0</th>\n      <td>1</td>\n      <td>Marko Pfaff</td>\n      <td>Male</td>\n      <td>English</td>\n      <td>('CP', 'AI')</td>\n      <td>High</td>\n      <td>In person</td>\n      <td>INTP</td>\n      <td>Mathias Durr</td>\n      <td>Friday</td>\n    </tr>\n    <tr>\n      <th>1</th>\n      <td>2</td>\n      <td>Christian Kuester</td>\n      <td>Indeterminate</td>\n      <td>Any</td>\n      <td>('CL', 'PHIL')</td>\n      <td>Very high</td>\n      <td>In person</td>\n      <td>ESTJ</td>\n      <td>Phillipp Koertig</td>\n      <td>Thursday</td>\n    </tr>\n    <tr>\n      <th>2</th>\n      <td>3</td>\n      <td>Johanna Schreiber</td>\n      <td>Female</td>\n      <td>Any</td>\n      <td>('CL', 'NI')</td>\n      <td>Very high</td>\n      <td>In person</td>\n      <td>ENFJ</td>\n      <td>Marie Kohler</td>\n      <td>Wednesday</td>\n    </tr>\n    <tr>\n      <th>3</th>\n      <td>4</td>\n      <td>Tim Krueger</td>\n      <td>Male</td>\n      <td>Any</td>\n      <td>('NI', 'CP')</td>\n      <td>Medium</td>\n      <td>In person</td>\n      <td>ESFJ</td>\n      <td>Marina Kalb</td>\n      <td>Tuesday</td>\n    </tr>\n    <tr>\n      <th>4</th>\n      <td>5</td>\n      <td>Jessica Fried</td>\n      <td>Female</td>\n      <td>Any</td>\n      <td>('CP', 'PHIL')</td>\n      <td>Very low</td>\n      <td>In person</td>\n      <td>ESFP</td>\n      <td>Florian Bader</td>\n      <td>Wednesday</td>\n    </tr>\n  </tbody>\n</table>\n</div>"
     },
     "execution_count": 134,
     "metadata": {},
     "output_type": "execute_result"
    }
   ],
   "source": [
    "students.head()"
   ]
  },
  {
   "cell_type": "code",
   "execution_count": 135,
   "metadata": {
    "pycharm": {
     "name": "#%%\n"
    }
   },
   "outputs": [],
   "source": [
    "class Population():\n",
    "    def __init__(self, students, n_individuals, groupsize):\n",
    "        super(Population, self).__init__()\n",
    "\n",
    "        if n_individuals % groupsize != 0:\n",
    "            raise ValueError(f'Received unexpected group size: {n_individuals} groups % {groupsize} individuals has to be 0.')\n",
    "        \n",
    "        self.students = students\n",
    "        self.n_individuals = n_individuals\n",
    "        self.ids = students.ID.tolist()\n",
    "        self.groupsize = groupsize\n",
    "\n",
    "    def create_random_individual(self):\n",
    "        individual = self.ids.copy()\n",
    "        random.shuffle(individual)\n",
    "\n",
    "        return individual\n",
    "\n",
    "    def create_initial_population(self) -> np.ndarray:\n",
    "        \"\"\" Creates an initial populations and returns it\"\"\"\n",
    "        population = []\n",
    "        for _ in range(self.n_individuals):\n",
    "            population.append(self.create_random_individual())\n",
    "\n",
    "        return np.array(population, dtype=int)\n",
    "\n",
    "    def show_groups_from_individual(self, individual: np.ndarray) -> None:\n",
    "        \"\"\" Prints all Groups of given $individual$\"\"\"\n",
    "        groups = []\n",
    "        for i in individual:\n",
    "            groups.append(self.students['Name'][i-1])\n",
    "        \n",
    "        for n,j in enumerate(range(0, len(groups), self.groupsize)):\n",
    "            print(f'Group {n+1} :',groups[j:j+5])\n",
    "\n",
    "        return None\n",
    "\n",
    "    def get_groups_from_individual(self, individual: np.ndarray) -> List[np.ndarray]:\n",
    "        \"\"\" Returns a Python List of all Groups in an individual(as numpy ndarrays) \"\"\"\n",
    "        groups = []\n",
    "        for i in individual:\n",
    "            groups.append(self.students.loc[i-1])\n",
    "\n",
    "        nested_groups_list = []\n",
    "        for n,j in enumerate(range(0, len(groups), self.groupsize)):\n",
    "            nested_groups_list.append(pd.DataFrame(groups[j:j+5]))\n",
    "\n",
    "        return nested_groups_list\n",
    "\n",
    "    def get_groups_by_person_fullname(self, fullname: str, individual: np.ndarray) -> List[np.ndarray]:\n",
    "        \"\"\" Returns all Groups that got a Person with $fullname$ in given $individual$\"\"\"\n",
    "        nested_groups_list = self.get_groups_from_individual(individual)\n",
    "\n",
    "        groups_with_person = []\n",
    "        for group in nested_groups_list:\n",
    "            if fullname in group[\"Name\"].values:\n",
    "                groups_with_person.append(group)\n",
    "        return groups_with_person\n",
    "\n",
    "    def get_group_by_person_ID(self, ID: int, individual: np.ndarray) -> np.ndarray:\n",
    "        \"\"\" Returns Group that has Person with given $ID$ in given $individual$\"\"\"\n",
    "        nested_groups_list = self.get_groups_from_individual(individual)\n",
    "\n",
    "        groups_with_person = []\n",
    "        for group in nested_groups_list:\n",
    "            if ID in group[\"ID\"].values:\n",
    "                return group\n",
    "        return None"
   ]
  },
  {
   "cell_type": "code",
   "execution_count": 136,
   "metadata": {
    "pycharm": {
     "name": "#%%\n"
    }
   },
   "outputs": [
    {
     "data": {
      "text/plain": "array([[ 16,   4,  78, ...,  82,  91,   1],\n       [ 92,  47,  77, ...,  90,   5,  48],\n       [ 54,  13,   7, ...,  19,  90,  60],\n       ...,\n       [ 41,  65,  70, ...,  25,   6,  75],\n       [ 59,  85,  97, ..., 100,  70,  31],\n       [ 88,  13,  57, ...,  48,   5,  38]])"
     },
     "execution_count": 136,
     "metadata": {},
     "output_type": "execute_result"
    }
   ],
   "source": [
    "population_manager = Population(students, num_individuals, groupsize)\n",
    "\n",
    "test_population = population_manager.create_initial_population()\n",
    "\n",
    "test_population"
   ]
  },
  {
   "cell_type": "markdown",
   "metadata": {
    "pycharm": {
     "name": "#%% md\n"
    }
   },
   "source": [
    "Show Groups from the IDs"
   ]
  },
  {
   "cell_type": "code",
   "execution_count": 137,
   "metadata": {
    "pycharm": {
     "name": "#%%\n"
    }
   },
   "outputs": [
    {
     "name": "stdout",
     "output_type": "stream",
     "text": [
      "Group 1 : ['Stefan Beyer', 'Tim Krueger', 'Marie Muench', 'Luca Wexler', 'Karin Pfaff']\n",
      "Group 2 : ['Leon Fisher', 'René Dresdner', 'Sabrina Diederich', 'Lukas Kaiser', 'Marco Eisenhauer']\n",
      "Group 3 : ['Jan Richter', 'Felix Gruenewald', 'Maria Weisz', 'Andreas Fisher', 'Lukas Sommer']\n",
      "Group 4 : ['Michael Bohm', 'Phillipp Schroeder', 'Petra Schwab', 'Dominik Kohl', 'Sarah Hoover']\n",
      "Group 5 : ['Claudia Abendroth', 'Erik Schroeder', 'Juliane Urner', 'Eric Kirsch', 'Jessica Fried']\n",
      "Group 6 : ['Brigitte Müller', 'David Schweitzer', 'Max Meyer', 'Juliane Drescher', 'Diana Traugott']\n",
      "Group 7 : ['Erik Schäfer', 'René Kuefer', 'Anke Lehmann', 'Sophie Bohm', 'Florian Bader']\n",
      "Group 8 : ['Sarah Boehm', 'Patrick Shuster', 'Juliane Freeh', 'Jessika Wagner', 'Max Osterhagen']\n",
      "Group 9 : ['Kathrin Scherer', 'Florian Pfeiffer', 'Marina Kalb', 'Mike Freud', 'Jennifer König']\n",
      "Group 10 : ['Sarah Mehler', 'Angelika Brauer', 'Anke Richter', 'Jennifer Zimmer', 'Sabrina Fink']\n",
      "Group 11 : ['Maximilian Schäfer', 'Petra Zweig', 'Christian Kuester', 'Dominik Hoch', 'Juliane Frei']\n",
      "Group 12 : ['Antje Schroder', 'Jörg Strauss', 'Christian Werfel', 'Laura Wulf', 'Niklas Frey']\n",
      "Group 13 : ['Martina Weisz', 'Jonas Zimmer', 'Felix Wirtz', 'Benjamin Schmitz', 'Sven Weiß']\n",
      "Group 14 : ['Ralph Weissmuller', 'Mathias Durr', 'Marie Kohler', 'Steffen Wagner', 'Martina Baumgartner']\n",
      "Group 15 : ['Doreen Freud', 'Anne Brandt', 'Simone Kohl', 'Stefan Freud', 'Dennis Reiniger']\n",
      "Group 16 : ['Sophie Kastner', 'Dieter Schweitzer', 'Tim Neustadt', 'Christine Baum', 'Maik Meier']\n",
      "Group 17 : ['Sven Holzman', 'Maximilian Fiedler', 'Juliane Schultheiss', 'Ursula Burger', 'Ursula Reiniger']\n",
      "Group 18 : ['Angelika Eggers', 'Ralph Busch', 'Ralph Freitag', 'Sara Papst', 'Nadine Reiniger']\n",
      "Group 19 : ['Johanna Schreiber', 'Gabriele Weiss', 'Jan Dietrich', 'Katrin Bachmeier', 'Sandra Metzger']\n",
      "Group 20 : ['Leah Duerr', 'Ines Ebersbacher', 'Phillipp Koertig', 'Lisa Mauer', 'Marko Pfaff']\n"
     ]
    }
   ],
   "source": [
    "population_manager.show_groups_from_individual(test_population[0])"
   ]
  },
  {
   "cell_type": "markdown",
   "metadata": {
    "pycharm": {
     "name": "#%% md\n"
    }
   },
   "source": [
    "________"
   ]
  },
  {
   "cell_type": "markdown",
   "metadata": {
    "pycharm": {
     "name": "#%% md\n"
    }
   },
   "source": [
    "2. Selection (Evaluate the fitness of each group, find fittest)"
   ]
  },
  {
   "cell_type": "code",
   "execution_count": 138,
   "metadata": {
    "pycharm": {
     "name": "#%%\n"
    }
   },
   "outputs": [],
   "source": [
    "class Fitness():\n",
    "    def __init__(self):\n",
    "        super(Fitness, self).__init__()\n",
    "\n",
    "    def evaluate_fitness(self, individual, students):\n",
    "        \"\"\" Evaluates the fitness of an individual. \"\"\"\n",
    "\n",
    "        # split individual into student groups of the groupsize\n",
    "        groups = np.array_split(individual, (len(individual)/groupsize))\n",
    "\n",
    "        # iterate over groups and calculate scores for the different parameters\n",
    "        scores = []\n",
    "        for group_ids in groups:\n",
    "            # get full data for students in this group from pd dataframe\n",
    "            group = students.loc[students['ID'].isin(group_ids)]\n",
    "\n",
    "            # get individual scores for parameters\n",
    "            language_score = self.evaluate_language(group)\n",
    "            if language_score == -1:\n",
    "                # if we really want to use a hard constraint we would need to return -1 here, this makes for really bad (initial) results though\n",
    "                # return -1\n",
    "                scores.append(language_score)\n",
    "                continue\n",
    "\n",
    "            major_score = self.evaluate_majors(group)\n",
    "            ambition_score = self.evaluate_ambition(group)\n",
    "            place_score = self.evaluate_meeting_place(group)\n",
    "            gender_score = self.evaluate_gender(group)\n",
    "            friend_score = self.evaluate_friends(group)\n",
    "            personality_score = self.evaluate_personality(group)\n",
    "            day_score = self.evaluate_meeting_day(group)\n",
    "\n",
    "            # formula for adding and weighting different scores\n",
    "            scores.append(language_score+major_score+ambition_score+place_score+gender_score+friend_score+personality_score+day_score)\n",
    "\n",
    "        #Convert to series to calculate mean more easily\n",
    "        return pd.Series(scores).mean()\n",
    "\n",
    "    def evaluate_language(self, group):\n",
    "        # number of groupmembers per language\n",
    "        counts = group['Preferred language'].value_counts()\n",
    "\n",
    "        # hard constraints, if languages are conflicting, return -1\n",
    "        if 'German' in counts.index and 'English' in counts.index:\n",
    "            return -1\n",
    "\n",
    "        return groupsize\n",
    "\n",
    "    def evaluate_majors(self, group):\n",
    "        majors = group['Majors'].tolist()\n",
    "\n",
    "        # preprocess majors from dataset notation to list with all majors\n",
    "        group_majors = []\n",
    "        for pair in majors:\n",
    "            pair = pair[1:-1].split(\", \")\n",
    "\n",
    "            group_majors.append(pair[0][1:-1])\n",
    "            group_majors.append(pair[1][1:-1])\n",
    "\n",
    "        #convert to Series for easier handling\n",
    "        group_majors = pd.Series(group_majors)\n",
    "        #get value counts\n",
    "        group_major_values = group_majors.value_counts()\n",
    "        #remove majors only one person takes (as they provide no synergy to the group)\n",
    "        group_major_values = group_major_values[group_major_values > 1]\n",
    "\n",
    "        #add number of shared majors and divide by 2; Formula is kinda arbitrary\n",
    "        return group_major_values.sum() /2\n",
    "\n",
    "    def evaluate_ambition(self, group):\n",
    "        # get pd Series of ambitions\n",
    "        ambitions = group['Level of ambition']\n",
    "        # get int value mappings for ambitions\n",
    "\n",
    "        mapping = {\n",
    "            'Very low': 1,\n",
    "            'Low': 2,\n",
    "            'Medium': 3,\n",
    "            'High': 4,\n",
    "            'Very high': 5\n",
    "        } \n",
    "\n",
    "        ambitions = ambitions.map(mapping)\n",
    "\n",
    "        # fitness is groupsize - variance in group motivation (so less variance = more fitness)\n",
    "        return groupsize - ambitions.var()\n",
    "\n",
    "    def evaluate_meeting_place(self, group):\n",
    "        # number of groupmembers for each preferred meeting place\n",
    "        meeting_place = group['Preferred meeting place'].value_counts()\n",
    "\n",
    "        # if all prefer the same meeting place return 5, else 0\n",
    "        if meeting_place[0] == groupsize:\n",
    "            return 5\n",
    "\n",
    "        return 0\n",
    "\n",
    "    def evaluate_gender(self, group):\n",
    "        # evaluate by variance\n",
    "        genders = group['Gender'].value_counts()\n",
    "\n",
    "        # add 0 entry for missing genders\n",
    "        for gender in ['Male', 'Female', 'Indeterminate']:\n",
    "            if gender not in genders.index:\n",
    "                genders[gender] = 0\n",
    "\n",
    "        # return groupsize - variance\n",
    "        return groupsize - genders.var()\n",
    "\n",
    "    def evaluate_friends(self, group):\n",
    "        #for each member +1 if friend is also in group\n",
    "        group_member_names = group['Name'].tolist()\n",
    "        best_friends_name = group['Best friend'].tolist()\n",
    "\n",
    "        # get intersection between both lists\n",
    "        friends_in_group = list(set(group_member_names).intersection(best_friends_name))\n",
    "\n",
    "        # fitness += 1 for every pair of friends\n",
    "        return len(friends_in_group)\n",
    "\n",
    "    def evaluate_personality(self, group):\n",
    "        #information about compatible personality types is taken from\n",
    "        # Montequín, Vicente Rodríguez, et al. \"Using Myers-Briggs type indicator (MBTI) as a tool for setting up student teams for information technology projects.\" Journal of Information Technology and Application in Education 1.1 (2012): 28-34.\n",
    "\n",
    "        #count existing personality types in each group\n",
    "        personalities = group['Personality type']\n",
    "        types = personalities.value_counts()\n",
    "\n",
    "        #fitness function starts with 0 and gets better\n",
    "        # with every good group member\n",
    "        fitness = 0\n",
    "\n",
    "        #its good if there is a group leader like an ISTJ or an ESTJ, but only one\n",
    "        try:\n",
    "            if (types['ISTJ'] + types['ESTJ'] == 1):\n",
    "                fitness+=5\n",
    "            elif (types['ISTJ'] + types['ESTJ'] >= 2):\n",
    "                fitness-=5\n",
    "        except KeyError:\n",
    "            pass\n",
    "\n",
    "        #compare compatibility of group members\n",
    "        for i, personality_a in enumerate(personalities.tolist()):\n",
    "            for j, personality_b in enumerate(personalities.tolist()):\n",
    "                # skip same group member and members already compared\n",
    "                if i <= j:\n",
    "                    continue\n",
    "\n",
    "                # increase fitness if\n",
    "                if (personality_a[1] != personality_b[1]) ^ (personality_a[2] != personality_b[2]):\n",
    "                    if (personality_a[0] != personality_b[0]) or (personality_a[3] != personality_b[3]):\n",
    "                        fitness+=1\n",
    "\n",
    "        return fitness\n",
    "\n",
    "    def evaluate_meeting_day(self, group):\n",
    "        # number of groupmembers for each preferred meeting day\n",
    "        meeting_day = group['Preferred day'].value_counts()\n",
    "\n",
    "        # if all prefer the same meeting day return 5, else 0\n",
    "        if meeting_day[0] == groupsize:\n",
    "            return 5\n",
    "\n",
    "        return 0\n",
    "\n",
    "    def mean_fitness(self, population):\n",
    "        # get list of fitness scores for all individuals in this population\n",
    "        fitness_scores = [self.evaluate_fitness(individual, students) for individual in population]\n",
    "\n",
    "        # convert to series to calculate mean more easily\n",
    "        return round(pd.Series(fitness_scores).mean(), 3)\n",
    "\n",
    "    def best_fitness(self, population):\n",
    "        # get list of fitness scores for all individuals in this population\n",
    "        fitness_scores = [self.evaluate_fitness(individual, students) for individual in population]\n",
    "\n",
    "        # sort by best first\n",
    "        scores_sorted = sorted(fitness_scores, reverse=True)\n",
    "\n",
    "        # return fitness of best individual\n",
    "        return round(scores_sorted[0], 3)\n",
    "\n",
    "    def get_fittest_individual(self, population, students):\n",
    "        # get list of fitness scores for all individuals in this population\n",
    "        highest_fitness = float(\"-inf\")\n",
    "        fittest_individual = None\n",
    "        for individual in population:\n",
    "            fitness = self.evaluate_fitness(individual, students)\n",
    "            if highest_fitness < self.evaluate_fitness(individual, students):\n",
    "                highest_fitness = fitness\n",
    "                fittest_individual = individual\n",
    "        return fittest_individual\n",
    "\n",
    "    def indices_sorted_by_fitness(self, population):\n",
    "        fitness_scores = [self.evaluate_fitness(individual, students) for individual in population]\n",
    "\n",
    "        indices = np.argsort(fitness_scores)\n",
    "\n",
    "        return indices.tolist()"
   ]
  },
  {
   "cell_type": "code",
   "execution_count": 139,
   "metadata": {
    "pycharm": {
     "name": "#%%\n"
    }
   },
   "outputs": [
    {
     "data": {
      "text/plain": "20.357"
     },
     "execution_count": 139,
     "metadata": {},
     "output_type": "execute_result"
    }
   ],
   "source": [
    "best_fitness = Fitness().best_fitness(test_population)\n",
    "best_fitness"
   ]
  },
  {
   "cell_type": "markdown",
   "metadata": {
    "pycharm": {
     "name": "#%% md\n"
    }
   },
   "source": [
    "3. Heredity (Pass on the fittest to the next generation)"
   ]
  },
  {
   "cell_type": "code",
   "execution_count": 140,
   "metadata": {
    "pycharm": {
     "name": "#%%\n"
    }
   },
   "outputs": [],
   "source": [
    "class Crossover():\n",
    "    def __init__(self):\n",
    "        super(Crossover, self).__init__()\n",
    "\n",
    "    def uniform_order_crossover(self, p1, p2):\n",
    "\n",
    "        template = self.get_crossover_template(len(p1), crossover_rate=0.2)\n",
    "        # create 'empty' child\n",
    "        child = np.zeros((len(p1),),dtype=int)\n",
    "        # where the template is true, take values from p1\n",
    "        child[template] = p1[template]\n",
    "        # store genes used from p1\n",
    "        used_genes = p1[template]\n",
    "\n",
    "        # get all genes from p2\n",
    "        remaining_genes = p2.tolist()\n",
    "        # add genes from p2 (that were not used from p1) to the empty spots of the child\n",
    "        for i, value in enumerate(child):\n",
    "            # if this spot is already filled, continue\n",
    "            if value != 0:\n",
    "                continue\n",
    "\n",
    "            # do while:  pop(get and remove) next gene from p2 until one is found that is not yet in the genome of the child, then add that\n",
    "            while True:\n",
    "                next_gene = remaining_genes.pop(0)\n",
    "                if next_gene not in used_genes:\n",
    "                    child[i] = next_gene\n",
    "                    break\n",
    "\n",
    "        return child\n",
    "\n",
    "    def get_crossover_template(self,length, crossover_rate = 0.2):\n",
    "        # initialize template with false values\n",
    "        template = np.zeros((length,),dtype=bool)\n",
    "        # get random indices of the amount #of genes * crossover rate\n",
    "        random_indices = np.random.choice(template.shape[0], int(length*crossover_rate), replace=False)\n",
    "        #set these indices to true\n",
    "        template[random_indices] = True\n",
    "\n",
    "        return template\n",
    "\n",
    "    def tournament_selection(self, population, tournament_size = 8):\n",
    "        # get random indices to select random individuals from population\n",
    "        random_indices = np.random.choice(population.shape[0], tournament_size*2, replace=False)\n",
    "\n",
    "        # get individuals from random indices and split into two tournaments\n",
    "        tournament1 = population[random_indices[:tournament_size]]\n",
    "        tournament2 = population[random_indices[tournament_size:]]\n",
    "\n",
    "        parents = []\n",
    "        # tournament is won by fittest individual in each tournament, those become the two parents\n",
    "        for tournament in (tournament1,tournament2):\n",
    "            # get fitness scores for every individual in the tournament\n",
    "            fitness_scores = [Fitness().evaluate_fitness(individual, students) for individual in tournament]\n",
    "            # get indices ordered by highest fitness first\n",
    "            idx = np.argsort(fitness_scores)[::-1]\n",
    "            # add individual with highest fitness to parents\n",
    "            parents.append(tournament[idx[0]])\n",
    "\n",
    "        return parents"
   ]
  },
  {
   "cell_type": "code",
   "execution_count": 141,
   "metadata": {
    "pycharm": {
     "name": "#%%\n"
    }
   },
   "outputs": [
    {
     "name": "stdout",
     "output_type": "stream",
     "text": [
      "[[71 45 61 ... 65 14 97]\n",
      " [58 23 55 ... 72 61 91]\n",
      " [61 85 99 ... 94 44 62]\n",
      " ...\n",
      " [97 12 46 ...  6 75 47]\n",
      " [25 77 57 ... 84 12 73]\n",
      " [56 38 45 ... 78 64 44]] \n",
      "\n",
      "[ 92  87  49  27  89  44  53  82  61  43  71  55  15  76   6  84  47  74\n",
      "  88  45  72  11  77  50  36  56   4   9  81  52  75  30  54  28  78  86\n",
      "  34  94  13  35  67  31  42  29  10  24  64  23   7  25  90 100  16  19\n",
      "  95  48   3  46  41  26  98  85  20  66   1  21  40  68  37  65  38  69\n",
      "  63  93  60  97  62  58   2  17  33  96  51  14  99  18  80  59  39  12\n",
      "  91  73   8  70   5  32  22  83  79  57] \n",
      "\n",
      "[ 75  60  62  78  69  40  31  85  94  92  14  29  21  38  83   4  41  25\n",
      "  66  87  10   5  73   3  45  13  52  91  19  58  93  99  35  16  24  98\n",
      "  18  63  82  50  23  30  15  86   1  34  11  39  64  28  49  51 100  22\n",
      "  47  77  79  96  95  70  74  76   2  36  72  20  33  48  53  32  67  27\n",
      "  68  81  46   7  56   9  55  43  84   8  54  71  17  59  44  88  61  12\n",
      "  57  26  42  97  80  65   6  89  90  37] \n",
      "\n",
      "[ 75  60  62  78  69  31  85  94  61  92  14  29  38  83   4  41  47  74\n",
      "  25  45  66  87  77  50  10   5  73   9   3  13  52  19  54  58  93  86\n",
      "  34  35  16  24  98  18  63  82  30  15   1  23  11  39  64  28  49  51\n",
      " 100  22  79  46  96  95  70  76  20  36  72  21  40  33  48  53  67  27\n",
      "  68  81   7  97  56  55   2  43  84   8  71  17  99  59  44  88  12  57\n",
      "  91  26  42  80  65  32   6  89  90  37]\n"
     ]
    }
   ],
   "source": [
    "random_population = Population(students, num_individuals, groupsize).create_initial_population()\n",
    "\n",
    "print(random_population, '\\n')\n",
    "\n",
    "random_parent1, random_parent2 = Crossover().tournament_selection(random_population)\n",
    "\n",
    "print(random_parent1, '\\n')\n",
    "print(random_parent2, '\\n')\n",
    "\n",
    "child = Crossover().uniform_order_crossover(random_parent1, random_parent2)\n",
    "\n",
    "print(child)"
   ]
  },
  {
   "cell_type": "markdown",
   "metadata": {
    "pycharm": {
     "name": "#%% md\n"
    }
   },
   "source": [
    "We also add a mutation function: "
   ]
  },
  {
   "cell_type": "code",
   "execution_count": 142,
   "metadata": {
    "pycharm": {
     "name": "#%%\n"
    }
   },
   "outputs": [],
   "source": [
    "def mutation(individual, mutation_rate = 0.2):\n",
    "    # if random percentage is lower than the mutation rate, switch two random genes\n",
    "    if random.uniform(0, 1) < mutation_rate:\n",
    "        idx1 = random.randint(0, len(individual)-1)\n",
    "        idx2 = random.randint(0, len(individual)-1)\n",
    "\n",
    "        individual[idx1], individual[idx2] = individual[idx2], individual[idx1]\n",
    "\n",
    "    return individual"
   ]
  },
  {
   "cell_type": "markdown",
   "metadata": {
    "pycharm": {
     "name": "#%% md\n"
    }
   },
   "source": [
    "Finally, our executable GA class:"
   ]
  },
  {
   "cell_type": "code",
   "execution_count": 143,
   "metadata": {
    "pycharm": {
     "name": "#%%\n"
    }
   },
   "outputs": [],
   "source": [
    "class Genetic_Algorithm():\n",
    "    def __init__(self, students, num_individuals, groupsize):\n",
    "        super(Genetic_Algorithm, self).__init__()\n",
    "\n",
    "        self.students = students\n",
    "        self.groupsize = groupsize\n",
    "        self.num_individuals = num_individuals\n",
    "        self.ids = students.ID.tolist()\n",
    "\n",
    "    def run(self, episodes, replace='all', mutation_rate=0.2):\n",
    "\n",
    "        self.epidodes = episodes\n",
    "        self.population = Population(students, num_individuals, groupsize).create_initial_population()\n",
    "\n",
    "        print(\"episode \" + str(0) + \": mean fitness score: \" + str(Fitness().mean_fitness(self.population)) + \"; best individual fitness: \" + str(Fitness().best_fitness(self.population)))\n",
    "\n",
    "        if replace == 'all':\n",
    "            for episode in range(episodes):\n",
    "                new_pop = []\n",
    "                # we get two new individuals by each step, so half the pop size\n",
    "                for _ in range(len(self.population)//2):\n",
    "                    # find two parents by tournament selection\n",
    "                    p1, p2 = Crossover().tournament_selection(self.population,8)\n",
    "\n",
    "                    # create two children by uniform order crossover\n",
    "                    c1 = Crossover().uniform_order_crossover(p1,p2)\n",
    "                    c2 = Crossover().uniform_order_crossover(p2,p1)\n",
    "                    # do mutation\n",
    "                    c1 = mutation(c1, mutation_rate)\n",
    "                    c2 = mutation(c2, mutation_rate)\n",
    "                    # add children to new population\n",
    "                    new_pop.append(c1)\n",
    "                    new_pop.append(c2)\n",
    "\n",
    "                self.population = np.array(new_pop,dtype=int)\n",
    "\n",
    "                print(\"episode \" + str(episode+1) + \": mean fitness score: \" + str(Fitness().mean_fitness(self.population)) + \"; best individual fitness: \" + str(Fitness().best_fitness(self.population)))\n",
    "\n",
    "        elif list(replace):\n",
    "            for episode in range(episodes):\n",
    "                pop_indices_sorted_by_fitness = Fitness().indices_sorted_by_fitness(self.population)\n",
    "                \n",
    "                # we get two new individuals by each step, so half the pop size\n",
    "                for _ in range(replace//2):\n",
    "                    # find two parents by tournament selection\n",
    "                    p1, p2 = Crossover().tournament_selection(self.population,8)\n",
    "\n",
    "                    # create two children by uniform order crossover\n",
    "                    c1 = Crossover().uniform_order_crossover(p1,p2)\n",
    "                    c2 = Crossover().uniform_order_crossover(p2,p1)\n",
    "                    # do mutation\n",
    "                    c1 = mutation(c1)\n",
    "                    c2 = mutation(c2)\n",
    "                    # add children to new population\n",
    "                    next_idx = pop_indices_sorted_by_fitness.pop(0)\n",
    "                    self.population[next_idx] = c1\n",
    "                    next_idx = pop_indices_sorted_by_fitness.pop(0)\n",
    "                    self.population[next_idx] = c2\n",
    "\n",
    "                print(\"episode \" + str(episode+1) + \": mean fitness score: \" + str(Fitness().mean_fitness(self.population)) + \"; best individual fitness: \" + str(Fitness().best_fitness(self.population)))\n",
    "\n",
    "        return self.population"
   ]
  },
  {
   "cell_type": "code",
   "execution_count": null,
   "outputs": [
    {
     "name": "stdout",
     "output_type": "stream",
     "text": [
      "episode 0: mean fitness score: 16.445; best individual fitness: 19.187\n",
      "episode 1: mean fitness score: 16.878; best individual fitness: 19.607\n",
      "episode 2: mean fitness score: 17.19; best individual fitness: 20.137\n",
      "episode 3: mean fitness score: 17.738; best individual fitness: 20.822\n",
      "episode 4: mean fitness score: 17.938; best individual fitness: 20.847\n",
      "episode 5: mean fitness score: 18.63; best individual fitness: 20.797\n",
      "episode 6: mean fitness score: 18.854; best individual fitness: 21.307\n",
      "episode 7: mean fitness score: 19.163; best individual fitness: 20.967\n",
      "episode 8: mean fitness score: 19.379; best individual fitness: 20.877\n",
      "episode 9: mean fitness score: 19.362; best individual fitness: 21.212\n"
     ]
    }
   ],
   "source": [
    "population = Genetic_Algorithm(students, num_individuals, groupsize).run(episodes=10, replace='all', mutation_rate=0.2)"
   ],
   "metadata": {
    "collapsed": false,
    "pycharm": {
     "name": "#%%\n",
     "is_executing": true
    }
   }
  },
  {
   "cell_type": "code",
   "execution_count": null,
   "outputs": [],
   "source": [
    "# Select the fittest individiual from our population\n",
    "fittest_individual = Fitness().get_fittest_individual(population, students)\n",
    "\n",
    "# Convert the Gene String to a List of Groups\n",
    "groups_df = population_manager.get_groups_from_individual(fittest_individual)\n",
    "\n",
    "# Plot an example group of the list\n",
    "groups_df[0]"
   ],
   "metadata": {
    "collapsed": false,
    "pycharm": {
     "name": "#%%\n",
     "is_executing": true
    }
   }
  },
  {
   "cell_type": "markdown",
   "source": [
    "*Let's find your group or the one of a friend*"
   ],
   "metadata": {
    "collapsed": false,
    "pycharm": {
     "name": "#%% md\n"
    }
   }
  },
  {
   "cell_type": "code",
   "execution_count": null,
   "outputs": [],
   "source": [
    "# User Input for the Full Name - Please be accurate!\n",
    "fullname = str(input(\"Please the Full-Name you want to look up: \"))\n",
    "# Get the group by your Full Name - If there are multiple Persons with your name you will get all of them\n",
    "my_group = population_manager.get_groups_by_person_fullname(fullname, fittest_individual)\n",
    "# Plotting the first group found\n",
    "if my_group:\n",
    "    print(my_group)\n",
    "else:\n",
    "    print(\"Didn't find the requested Person with given Fullname\")"
   ],
   "metadata": {
    "collapsed": false,
    "pycharm": {
     "name": "#%%\n",
     "is_executing": true
    }
   }
  },
  {
   "cell_type": "code",
   "execution_count": null,
   "outputs": [],
   "source": [
    "# Find your group by your ID\n",
    "my_group = population_manager.get_group_by_person_ID(33, fittest_individual)\n",
    "# Plotting the group, if one found with given ID\n",
    "if my_group is not None:\n",
    "    print(my_group)\n",
    "else:\n",
    "    print(\"Didn't find the requested Person with given ID\")"
   ],
   "metadata": {
    "collapsed": false,
    "pycharm": {
     "name": "#%%\n",
     "is_executing": true
    }
   }
  },
  {
   "cell_type": "markdown",
   "source": [
    "## Manual Data Analysis\n",
    "In the next code cells you can look at the distributions of people in groups. Feel free to add more!"
   ],
   "metadata": {
    "collapsed": false,
    "pycharm": {
     "name": "#%% md\n"
    }
   }
  },
  {
   "cell_type": "code",
   "execution_count": null,
   "outputs": [],
   "source": [
    "def print_groups_distribution(column_name, groups):\n",
    "    for group_index, group in enumerate(groups):\n",
    "        statistics = group[column_name].value_counts() / group[column_name].value_counts().sum()\n",
    "        print(f\"Group {group_index}: Ratio of {column_name} is {sorted([i + ': ' + str(statistics[i]) for i in statistics.index])}\")"
   ],
   "metadata": {
    "collapsed": false,
    "pycharm": {
     "name": "#%%\n",
     "is_executing": true
    }
   }
  },
  {
   "cell_type": "code",
   "execution_count": null,
   "outputs": [],
   "source": [
    "def print_groups_friends_match(groups):\n",
    "\n",
    "    for group_index, group in enumerate(groups):\n",
    "        print(f\"Group {group_index}: Friends matching: {Fitness().evaluate_friends(groups_df[0])}\")"
   ],
   "metadata": {
    "collapsed": false,
    "pycharm": {
     "name": "#%%\n",
     "is_executing": true
    }
   }
  },
  {
   "cell_type": "code",
   "execution_count": null,
   "outputs": [],
   "source": [
    "print_groups_distribution(\"Gender\", groups_df)"
   ],
   "metadata": {
    "collapsed": false,
    "pycharm": {
     "name": "#%%\n",
     "is_executing": true
    }
   }
  },
  {
   "cell_type": "code",
   "execution_count": null,
   "outputs": [],
   "source": [
    "print_groups_distribution(\"Preferred language\", groups_df)"
   ],
   "metadata": {
    "collapsed": false,
    "pycharm": {
     "name": "#%%\n",
     "is_executing": true
    }
   }
  },
  {
   "cell_type": "code",
   "execution_count": null,
   "outputs": [],
   "source": [
    "print_groups_distribution(\"Preferred meeting place\", groups_df)"
   ],
   "metadata": {
    "collapsed": false,
    "pycharm": {
     "name": "#%%\n",
     "is_executing": true
    }
   }
  },
  {
   "cell_type": "code",
   "execution_count": null,
   "outputs": [],
   "source": [
    "print_groups_distribution(\"Preferred day\", groups_df)"
   ],
   "metadata": {
    "collapsed": false,
    "pycharm": {
     "name": "#%%\n",
     "is_executing": true
    }
   }
  },
  {
   "cell_type": "code",
   "execution_count": null,
   "outputs": [],
   "source": [
    "print_groups_distribution(\"Personality type\", groups_df)"
   ],
   "metadata": {
    "collapsed": false,
    "pycharm": {
     "name": "#%%\n",
     "is_executing": true
    }
   }
  },
  {
   "cell_type": "code",
   "execution_count": null,
   "outputs": [],
   "source": [
    "print_groups_distribution(\"Level of ambition\", groups_df)"
   ],
   "metadata": {
    "collapsed": false,
    "pycharm": {
     "name": "#%%\n",
     "is_executing": true
    }
   }
  },
  {
   "cell_type": "code",
   "execution_count": null,
   "outputs": [],
   "source": [
    "print_groups_friends_match(groups_df)\n"
   ],
   "metadata": {
    "collapsed": false,
    "pycharm": {
     "name": "#%%\n",
     "is_executing": true
    }
   }
  },
  {
   "cell_type": "code",
   "execution_count": null,
   "outputs": [],
   "source": [],
   "metadata": {
    "collapsed": false,
    "pycharm": {
     "name": "#%%\n",
     "is_executing": true
    }
   }
  }
 ],
 "metadata": {
  "kernelspec": {
   "display_name": "Python 3",
   "language": "python",
   "name": "python3"
  },
  "language_info": {
   "codemirror_mode": {
    "name": "ipython",
    "version": 3
   },
   "file_extension": ".py",
   "mimetype": "text/x-python",
   "name": "python",
   "nbconvert_exporter": "python",
   "pygments_lexer": "ipython3",
   "version": "3.9.7"
  }
 },
 "nbformat": 4,
 "nbformat_minor": 0
}