{
 "cells": [
  {
   "cell_type": "code",
   "execution_count": 1,
   "metadata": {
    "collapsed": true,
    "pycharm": {
     "name": "#%%\n"
    }
   },
   "outputs": [],
   "source": [
    "import numpy as np\n",
    "import random\n",
    "import pandas as pd\n",
    "from typing import List"
   ]
  },
  {
   "cell_type": "code",
   "execution_count": 3,
   "metadata": {
    "collapsed": false,
    "pycharm": {
     "name": "#%%\n"
    }
   },
   "outputs": [],
   "source": [
    "students = pd.read_csv('dataset_full.csv')\n",
    "\n",
    "# Groupsize hyperparameter\n",
    "groupsize = 5"
   ]
  },
  {
   "cell_type": "markdown",
   "metadata": {
    "pycharm": {
     "name": "#%% md\n"
    }
   },
   "source": [
    "Darwinian Natural Selection\n",
    "\n",
    "- Variation\n",
    "- Selection\n",
    "- Heredity"
   ]
  },
  {
   "cell_type": "markdown",
   "metadata": {
    "pycharm": {
     "name": "#%% md\n"
    }
   },
   "source": [
    "1. Variation (Create a population)"
   ]
  },
  {
   "cell_type": "code",
   "execution_count": 4,
   "metadata": {
    "pycharm": {
     "name": "#%%\n"
    }
   },
   "outputs": [
    {
     "data": {
      "text/html": [
       "<div>\n",
       "<style scoped>\n",
       "    .dataframe tbody tr th:only-of-type {\n",
       "        vertical-align: middle;\n",
       "    }\n",
       "\n",
       "    .dataframe tbody tr th {\n",
       "        vertical-align: top;\n",
       "    }\n",
       "\n",
       "    .dataframe thead th {\n",
       "        text-align: right;\n",
       "    }\n",
       "</style>\n",
       "<table border=\"1\" class=\"dataframe\">\n",
       "  <thead>\n",
       "    <tr style=\"text-align: right;\">\n",
       "      <th></th>\n",
       "      <th>ID</th>\n",
       "      <th>Name</th>\n",
       "      <th>Gender</th>\n",
       "      <th>Preferred language</th>\n",
       "      <th>Majors</th>\n",
       "      <th>Level of ambition</th>\n",
       "      <th>Preferred meeting place</th>\n",
       "      <th>Personality type</th>\n",
       "      <th>Best friend</th>\n",
       "      <th>Preferred day</th>\n",
       "    </tr>\n",
       "  </thead>\n",
       "  <tbody>\n",
       "    <tr>\n",
       "      <th>0</th>\n",
       "      <td>1</td>\n",
       "      <td>Stephan Ritter</td>\n",
       "      <td>Male</td>\n",
       "      <td>Any</td>\n",
       "      <td>('NS', 'CL')</td>\n",
       "      <td>Very high</td>\n",
       "      <td>In person</td>\n",
       "      <td>ENTJ</td>\n",
       "      <td>Kerstin König</td>\n",
       "      <td>Thursday</td>\n",
       "    </tr>\n",
       "    <tr>\n",
       "      <th>1</th>\n",
       "      <td>2</td>\n",
       "      <td>Barbara Wolf</td>\n",
       "      <td>Female</td>\n",
       "      <td>Any</td>\n",
       "      <td>('CL', 'NI')</td>\n",
       "      <td>High</td>\n",
       "      <td>In person</td>\n",
       "      <td>INTP</td>\n",
       "      <td>Lucas Kuester</td>\n",
       "      <td>Friday</td>\n",
       "    </tr>\n",
       "    <tr>\n",
       "      <th>2</th>\n",
       "      <td>3</td>\n",
       "      <td>Kristian Richter</td>\n",
       "      <td>Indeterminate</td>\n",
       "      <td>German</td>\n",
       "      <td>('PHIL', 'NI')</td>\n",
       "      <td>Very low</td>\n",
       "      <td>In person</td>\n",
       "      <td>ENFP</td>\n",
       "      <td>Laura Hoover</td>\n",
       "      <td>Tuesday</td>\n",
       "    </tr>\n",
       "    <tr>\n",
       "      <th>3</th>\n",
       "      <td>4</td>\n",
       "      <td>Brigitte Austerlitz</td>\n",
       "      <td>Female</td>\n",
       "      <td>Any</td>\n",
       "      <td>('PHIL', 'AI')</td>\n",
       "      <td>Low</td>\n",
       "      <td>In person</td>\n",
       "      <td>ENTJ</td>\n",
       "      <td>Stefan Lange</td>\n",
       "      <td>Thursday</td>\n",
       "    </tr>\n",
       "    <tr>\n",
       "      <th>4</th>\n",
       "      <td>5</td>\n",
       "      <td>Mandy Roth</td>\n",
       "      <td>Female</td>\n",
       "      <td>Any</td>\n",
       "      <td>('PHIL', 'NI')</td>\n",
       "      <td>Very low</td>\n",
       "      <td>In person</td>\n",
       "      <td>ISTJ</td>\n",
       "      <td>Philipp Frankfurter</td>\n",
       "      <td>Thursday</td>\n",
       "    </tr>\n",
       "  </tbody>\n",
       "</table>\n",
       "</div>"
      ],
      "text/plain": [
       "   ID                 Name         Gender Preferred language          Majors  \\\n",
       "0   1       Stephan Ritter           Male                Any    ('NS', 'CL')   \n",
       "1   2         Barbara Wolf         Female                Any    ('CL', 'NI')   \n",
       "2   3     Kristian Richter  Indeterminate             German  ('PHIL', 'NI')   \n",
       "3   4  Brigitte Austerlitz         Female                Any  ('PHIL', 'AI')   \n",
       "4   5           Mandy Roth         Female                Any  ('PHIL', 'NI')   \n",
       "\n",
       "  Level of ambition Preferred meeting place Personality type  \\\n",
       "0         Very high               In person             ENTJ   \n",
       "1              High               In person             INTP   \n",
       "2          Very low               In person             ENFP   \n",
       "3               Low               In person             ENTJ   \n",
       "4          Very low               In person             ISTJ   \n",
       "\n",
       "           Best friend Preferred day  \n",
       "0        Kerstin König      Thursday  \n",
       "1        Lucas Kuester        Friday  \n",
       "2         Laura Hoover       Tuesday  \n",
       "3         Stefan Lange      Thursday  \n",
       "4  Philipp Frankfurter      Thursday  "
      ]
     },
     "execution_count": 4,
     "metadata": {},
     "output_type": "execute_result"
    }
   ],
   "source": [
    "students.head()"
   ]
  },
  {
   "cell_type": "code",
   "execution_count": 5,
   "metadata": {
    "pycharm": {
     "name": "#%%\n"
    }
   },
   "outputs": [],
   "source": [
    "class Population():\n",
    "    def __init__(self, students, groupsize):\n",
    "        super(Population, self).__init__()\n",
    "        \n",
    "        self.students = students\n",
    "        self.n_individuals = len(students)\n",
    "        self.ids = students.ID.tolist()\n",
    "        self.groupsize = groupsize\n",
    "\n",
    "        if self.n_individuals % groupsize != 0:\n",
    "            raise ValueError(f'Received unexpected group size: {self.n_individuals} groups % {groupsize} individuals has to be 0.')\n",
    "\n",
    "    def create_random_individual(self):\n",
    "        individual = self.ids.copy()\n",
    "        random.shuffle(individual)\n",
    "\n",
    "        return individual\n",
    "\n",
    "    def create_initial_population(self) -> np.ndarray:\n",
    "        \"\"\" Creates an initial populations and returns it\"\"\"\n",
    "        population = []\n",
    "        for _ in range(self.n_individuals):\n",
    "            population.append(self.create_random_individual())\n",
    "\n",
    "        return np.array(population, dtype=int)\n",
    "\n",
    "    def show_groups_from_individual(self, individual: np.ndarray) -> None:\n",
    "        \"\"\" Prints all Groups of given $individual$\"\"\"\n",
    "        groups = []\n",
    "        for i in individual:\n",
    "            groups.append(self.students['Name'][i-1])\n",
    "        \n",
    "        for n,j in enumerate(range(0, len(groups), self.groupsize)):\n",
    "            print(f'Group {n+1} :',groups[j:j+5])\n",
    "\n",
    "        return None\n",
    "\n",
    "    def get_groups_from_individual(self, individual: np.ndarray) -> List[np.ndarray]:\n",
    "        \"\"\" Returns a Python List of all Groups in an individual(as numpy ndarrays) \"\"\"\n",
    "        groups = pd.DataFrame()\n",
    "        for i in individual:\n",
    "            groups = pd.concat((groups, self.students.loc[self.students['ID'] == i]))\n",
    "\n",
    "        groups = groups.reset_index(drop=True)\n",
    "\n",
    "        nested_groups_list = []\n",
    "        for n,j in enumerate(range(0, len(groups), self.groupsize)):\n",
    "            nested_groups_list.append(pd.DataFrame(groups[j:j+groupsize]))\n",
    "\n",
    "        return nested_groups_list\n",
    "\n",
    "    def get_groups_by_person_fullname(self, fullname: str, individual: np.ndarray) -> List[np.ndarray]:\n",
    "        \"\"\" Returns all Groups that got a Person with $fullname$ in given $individual$\"\"\"\n",
    "        nested_groups_list = self.get_groups_from_individual(individual)\n",
    "\n",
    "        groups_with_person = []\n",
    "        for group in nested_groups_list:\n",
    "            if fullname in group[\"Name\"].values:\n",
    "                groups_with_person.append(group)\n",
    "        return groups_with_person\n",
    "\n",
    "    def get_group_by_person_ID(self, ID: int, individual: np.ndarray) -> np.ndarray:\n",
    "        \"\"\" Returns Group that has Person with given $ID$ in given $individual$\"\"\"\n",
    "        nested_groups_list = self.get_groups_from_individual(individual)\n",
    "\n",
    "        for group in nested_groups_list:\n",
    "            if ID in group[\"ID\"].values:\n",
    "                return group\n",
    "        return None"
   ]
  },
  {
   "cell_type": "code",
   "execution_count": 6,
   "metadata": {
    "pycharm": {
     "name": "#%%\n"
    }
   },
   "outputs": [
    {
     "data": {
      "text/plain": [
       "array([[13, 24, 52, ..., 94, 29, 66],\n",
       "       [53, 24, 63, ..., 81, 32, 59],\n",
       "       [51, 55, 29, ..., 60, 76, 90],\n",
       "       ...,\n",
       "       [ 8, 25, 32, ..., 65, 11,  2],\n",
       "       [84, 13, 21, ..., 41,  2, 53],\n",
       "       [97, 42, 16, ..., 61, 65, 38]])"
      ]
     },
     "execution_count": 6,
     "metadata": {},
     "output_type": "execute_result"
    }
   ],
   "source": [
    "population_manager = Population(students, groupsize)\n",
    "\n",
    "test_population = population_manager.create_initial_population()\n",
    "\n",
    "test_population"
   ]
  },
  {
   "cell_type": "markdown",
   "metadata": {
    "pycharm": {
     "name": "#%% md\n"
    }
   },
   "source": [
    "Show Groups from the IDs"
   ]
  },
  {
   "cell_type": "code",
   "execution_count": 7,
   "metadata": {
    "pycharm": {
     "name": "#%%\n"
    }
   },
   "outputs": [
    {
     "name": "stdout",
     "output_type": "stream",
     "text": [
      "Group 1 : ['Andrea Kastner', 'Susanne Kaestner', 'Wolfgang Berg', 'Sebastian Wurfel', 'Kristin Feierabend']\n",
      "Group 2 : ['Mandy Roth', 'Petra Kaufmann', 'Christina Hoffmann', 'René Kaufmann', 'Sophie Bohm']\n",
      "Group 3 : ['Marko Hoch', 'Erik Engel', 'Jens Hoffmann', 'Diana Traugott', 'Sven Kalb']\n",
      "Group 4 : ['Ulrike Hoover', 'Marco Junker', 'Nicole Burger', 'Barbara Wolf', 'Janina Kruger']\n",
      "Group 5 : ['Michael Kaiser', 'Michael Eiffel', 'Stefanie Wurfel', 'Marco Schaefer', 'Martin Kalb']\n",
      "Group 6 : ['Lisa Eiffel', 'Uwe Naumann', 'Paul Pfaff', 'Christian Moench', 'Tim Reinhard']\n",
      "Group 7 : ['Tom Mueller', 'Mike Fuchs', 'Mandy Himmel', 'Katrin Lang', 'Stefan Lange']\n",
      "Group 8 : ['Matthias Schreiber', 'Christian Austerlitz', 'Kerstin Fenstermacher', 'Jessika Huber', 'Kathrin Schwab']\n",
      "Group 9 : ['Gabriele Krüger', 'Torsten Freeh', 'Alexander Egger', 'Lucas Kuester', 'Ulrich Scholz']\n",
      "Group 10 : ['Jonas Fassbinder', 'Sophia Schmitt', 'Swen Metzger', 'Laura Hoover', 'Sabine Theissen']\n",
      "Group 11 : ['Dennis Schweitzer', 'Michelle Dietrich', 'Erik Werner', 'Jessica Grunwald', 'Monika Rothschild']\n",
      "Group 12 : ['Ulrich Urner', 'Yvonne Abt', 'Stefanie Braun', 'Kerstin König', 'Michael Freitag']\n",
      "Group 13 : ['Phillipp Sommer', 'Antje Schroder', 'Sarah Frankfurter', 'Marina Freytag', 'Mandy Mueller']\n",
      "Group 14 : ['Sebastian Muench', 'Sophie Krüger', 'Jan Kappel', 'Anne Gerste', 'Thorsten Unger']\n",
      "Group 15 : ['Diana Schuhmacher', 'Leon Fisher', 'Michelle Cole', 'Leon Schulze', 'Sara Abt']\n",
      "Group 16 : ['Thorsten Dresdner', 'Jan Probst', 'Niklas Freytag', 'Monika Eberhart', 'Phillipp Kortig']\n",
      "Group 17 : ['Erik Becker', 'Juliane Maurer', 'Ines Hertzog', 'Brigitte Austerlitz', 'Stephanie Bachmeier']\n",
      "Group 18 : ['Gabriele Weiss', 'Lena Goldschmidt', 'Kristian Richter', 'Martina Dresdner', 'Klaus Schuster']\n",
      "Group 19 : ['Stephanie Frei', 'Matthias Fischer', 'Stephan Ritter', 'Florian Achen', 'Nicole Hoch']\n",
      "Group 20 : ['Ralf Schreiber', 'Uwe Theiss', 'Philipp Frankfurter', 'Nadine Urner', 'Leon Schneider']\n"
     ]
    }
   ],
   "source": [
    "population_manager.show_groups_from_individual(test_population[0])"
   ]
  },
  {
   "cell_type": "markdown",
   "metadata": {
    "pycharm": {
     "name": "#%% md\n"
    }
   },
   "source": [
    "________"
   ]
  },
  {
   "cell_type": "markdown",
   "metadata": {
    "pycharm": {
     "name": "#%% md\n"
    }
   },
   "source": [
    "2. Selection (Evaluate the fitness of each group, find fittest)"
   ]
  },
  {
   "cell_type": "code",
   "execution_count": 8,
   "metadata": {
    "pycharm": {
     "name": "#%%\n"
    }
   },
   "outputs": [],
   "source": [
    "class Fitness():\n",
    "    def __init__(self):\n",
    "        super(Fitness, self).__init__()\n",
    "\n",
    "    def evaluate_fitness(self, individual, students):\n",
    "        \"\"\" Evaluates the fitness of an individual. \"\"\"\n",
    "\n",
    "        # split individual into student groups of the groupsize\n",
    "        groups = np.array_split(individual, (len(individual)/groupsize))\n",
    "\n",
    "        # iterate over groups and calculate scores for the different parameters\n",
    "        scores = []\n",
    "        for group_ids in groups:\n",
    "            # get full data for students in this group from pd dataframe\n",
    "            group = students.loc[students['ID'].isin(group_ids)]\n",
    "\n",
    "            # get individual scores for parameters\n",
    "            language_score = self.evaluate_language(group)\n",
    "            if language_score == -1:\n",
    "                # if we really want to use a hard constraint we would need to return -1 here, this makes for really bad (initial) results though\n",
    "                # return -1\n",
    "                scores.append(language_score)\n",
    "                continue\n",
    "\n",
    "            major_score = self.evaluate_majors(group)\n",
    "            ambition_score = self.evaluate_ambition(group)\n",
    "            place_score = self.evaluate_meeting_place(group)\n",
    "            gender_score = self.evaluate_gender(group)\n",
    "            friend_score = self.evaluate_friends(group)\n",
    "            personality_score = self.evaluate_personality(group)\n",
    "            day_score = self.evaluate_meeting_day(group)\n",
    "\n",
    "            # formula for adding and weighting different scores\n",
    "            scores.append(language_score+major_score+ambition_score+place_score+gender_score+friend_score+personality_score+day_score)\n",
    "\n",
    "        #Convert to series to calculate mean more easily\n",
    "        return pd.Series(scores).mean()\n",
    "\n",
    "    def evaluate_language(self, group):\n",
    "        # number of groupmembers per language\n",
    "        counts = group['Preferred language'].value_counts()\n",
    "\n",
    "        # hard constraints, if languages are conflicting, return -1\n",
    "        if 'German' in counts.index and 'English' in counts.index:\n",
    "            return -1\n",
    "\n",
    "        return groupsize\n",
    "\n",
    "    def evaluate_majors(self, group):\n",
    "        majors = group['Majors'].tolist()\n",
    "\n",
    "        # preprocess majors from dataset notation to list with all majors\n",
    "        group_majors = []\n",
    "        for pair in majors:\n",
    "            pair = pair[1:-1].split(\", \")\n",
    "\n",
    "            group_majors.append(pair[0][1:-1])\n",
    "            group_majors.append(pair[1][1:-1])\n",
    "\n",
    "        #convert to Series for easier handling\n",
    "        group_majors = pd.Series(group_majors)\n",
    "        #get value counts\n",
    "        group_major_values = group_majors.value_counts()\n",
    "        #remove majors only one person takes (as they provide no synergy to the group)\n",
    "        group_major_values = group_major_values[group_major_values > 1]\n",
    "\n",
    "        #add number of shared majors and divide by 2; Formula is kinda arbitrary\n",
    "        return group_major_values.sum() /2\n",
    "\n",
    "    def evaluate_ambition(self, group):\n",
    "        # get pd Series of ambitions\n",
    "        ambitions = group['Level of ambition']\n",
    "        # get int value mappings for ambitions\n",
    "\n",
    "        mapping = {\n",
    "            'Very low': 1,\n",
    "            'Low': 2,\n",
    "            'Medium': 3,\n",
    "            'High': 4,\n",
    "            'Very high': 5\n",
    "        } \n",
    "\n",
    "        ambitions = ambitions.map(mapping)\n",
    "\n",
    "        # fitness is groupsize - variance in group motivation (so less variance = more fitness)\n",
    "        return groupsize - ambitions.var()\n",
    "\n",
    "    def evaluate_meeting_place(self, group):\n",
    "        # number of groupmembers for each preferred meeting place\n",
    "        meeting_place = group['Preferred meeting place'].value_counts()\n",
    "\n",
    "        # if all prefer the same meeting place return 5, else 0\n",
    "        if meeting_place[0] == groupsize:\n",
    "            return 5\n",
    "\n",
    "        return 0\n",
    "\n",
    "    def evaluate_gender(self, group):\n",
    "        # evaluate by variance\n",
    "        genders = group['Gender'].value_counts()\n",
    "\n",
    "        # add 0 entry for missing genders\n",
    "        for gender in ['Male', 'Female', 'Indeterminate']:\n",
    "            if gender not in genders.index:\n",
    "                genders[gender] = 0\n",
    "\n",
    "        # return groupsize - variance\n",
    "        return groupsize - genders.var()\n",
    "\n",
    "    def evaluate_friends(self, group):\n",
    "        #for each member +1 if friend is also in group\n",
    "        group_member_names = group['Name'].tolist()\n",
    "        best_friends_name = group['Best friend'].tolist()\n",
    "\n",
    "        # get intersection between both lists\n",
    "        friends_in_group = list(set(group_member_names).intersection(best_friends_name))\n",
    "\n",
    "        # fitness += 1 for every pair of friends\n",
    "        return len(friends_in_group)\n",
    "\n",
    "    def evaluate_personality(self, group):\n",
    "        #information about compatible personality types is taken from\n",
    "        # Montequín, Vicente Rodríguez, et al. \"Using Myers-Briggs type indicator (MBTI) as a tool for setting up student teams for information technology projects.\" Journal of Information Technology and Application in Education 1.1 (2012): 28-34.\n",
    "\n",
    "        #count existing personality types in each group\n",
    "        personalities = group['Personality type']\n",
    "        types = personalities.value_counts()\n",
    "\n",
    "        #fitness function starts with 0 and gets better\n",
    "        # with every good group member\n",
    "        fitness = 0\n",
    "\n",
    "        #its good if there is a group leader like an ISTJ or an ESTJ, but only one\n",
    "        try:\n",
    "            if (types['ISTJ'] + types['ESTJ'] == 1):\n",
    "                fitness+=5\n",
    "            elif (types['ISTJ'] + types['ESTJ'] >= 2):\n",
    "                fitness-=5\n",
    "        except KeyError:\n",
    "            pass\n",
    "\n",
    "        #compare compatibility of group members\n",
    "        for i, personality_a in enumerate(personalities.tolist()):\n",
    "            for j, personality_b in enumerate(personalities.tolist()):\n",
    "                # skip same group member and members already compared\n",
    "                if i <= j:\n",
    "                    continue\n",
    "\n",
    "                # increase fitness if\n",
    "                if (personality_a[1] != personality_b[1]) ^ (personality_a[2] != personality_b[2]):\n",
    "                    if (personality_a[0] != personality_b[0]) or (personality_a[3] != personality_b[3]):\n",
    "                        fitness+=1\n",
    "\n",
    "        return fitness\n",
    "\n",
    "    def evaluate_meeting_day(self, group):\n",
    "        # number of groupmembers for each preferred meeting day\n",
    "        meeting_day = group['Preferred day'].value_counts()\n",
    "\n",
    "        # if all prefer the same meeting day return 5, else 0\n",
    "        if meeting_day[0] == groupsize:\n",
    "            return 5\n",
    "\n",
    "        return 0\n",
    "\n",
    "    def mean_fitness(self, population):\n",
    "        # get list of fitness scores for all individuals in this population\n",
    "        fitness_scores = [self.evaluate_fitness(individual, students) for individual in population]\n",
    "\n",
    "        # convert to series to calculate mean more easily\n",
    "        return round(pd.Series(fitness_scores).mean(), 3)\n",
    "\n",
    "    def best_fitness(self, population):\n",
    "        # get list of fitness scores for all individuals in this population\n",
    "        fitness_scores = [self.evaluate_fitness(individual, students) for individual in population]\n",
    "\n",
    "        # sort by best first\n",
    "        scores_sorted = sorted(fitness_scores, reverse=True)\n",
    "\n",
    "        # return fitness of best individual\n",
    "        return round(scores_sorted[0], 3)\n",
    "\n",
    "    def get_fittest_individual(self, population, students):\n",
    "        # get list of fitness scores for all individuals in this population\n",
    "        highest_fitness = float(\"-inf\")\n",
    "        fittest_individual = None\n",
    "        for individual in population:\n",
    "            fitness = self.evaluate_fitness(individual, students)\n",
    "            if highest_fitness < self.evaluate_fitness(individual, students):\n",
    "                highest_fitness = fitness\n",
    "                fittest_individual = individual\n",
    "        return fittest_individual\n",
    "\n",
    "    def indices_sorted_by_fitness(self, population):\n",
    "        fitness_scores = [self.evaluate_fitness(individual, students) for individual in population]\n",
    "\n",
    "        indices = np.argsort(fitness_scores)\n",
    "\n",
    "        return indices.tolist()"
   ]
  },
  {
   "cell_type": "code",
   "execution_count": 9,
   "metadata": {
    "pycharm": {
     "name": "#%%\n"
    }
   },
   "outputs": [
    {
     "data": {
      "text/plain": [
       "18.75"
      ]
     },
     "execution_count": 9,
     "metadata": {},
     "output_type": "execute_result"
    }
   ],
   "source": [
    "best_fitness = Fitness().best_fitness(test_population)\n",
    "best_fitness"
   ]
  },
  {
   "cell_type": "markdown",
   "metadata": {
    "pycharm": {
     "name": "#%% md\n"
    }
   },
   "source": [
    "3. Heredity (Pass on the fittest to the next generation)"
   ]
  },
  {
   "cell_type": "code",
   "execution_count": 10,
   "metadata": {
    "pycharm": {
     "name": "#%%\n"
    }
   },
   "outputs": [],
   "source": [
    "class Crossover():\n",
    "    def __init__(self):\n",
    "        super(Crossover, self).__init__()\n",
    "\n",
    "    def uniform_order_crossover(self, p1, p2):\n",
    "\n",
    "        template = self.get_crossover_template(len(p1), crossover_rate=0.2)\n",
    "        # create 'empty' child\n",
    "        child = np.zeros((len(p1),),dtype=int)\n",
    "        # where the template is true, take values from p1\n",
    "        child[template] = p1[template]\n",
    "        # store genes used from p1\n",
    "        used_genes = p1[template]\n",
    "\n",
    "        # get all genes from p2\n",
    "        remaining_genes = p2.tolist()\n",
    "        # add genes from p2 (that were not used from p1) to the empty spots of the child\n",
    "        for i, value in enumerate(child):\n",
    "            # if this spot is already filled, continue\n",
    "            if value != 0:\n",
    "                continue\n",
    "\n",
    "            # do while:  pop(get and remove) next gene from p2 until one is found that is not yet in the genome of the child, then add that\n",
    "            while True:\n",
    "                next_gene = remaining_genes.pop(0)\n",
    "                if next_gene not in used_genes:\n",
    "                    child[i] = next_gene\n",
    "                    break\n",
    "\n",
    "        return child\n",
    "\n",
    "    def get_crossover_template(self,length, crossover_rate = 0.2):\n",
    "        # initialize template with false values\n",
    "        template = np.zeros((length,),dtype=bool)\n",
    "        # get random indices of the amount #of genes * crossover rate\n",
    "        random_indices = np.random.choice(template.shape[0], int(length*crossover_rate), replace=False)\n",
    "        #set these indices to true\n",
    "        template[random_indices] = True\n",
    "\n",
    "        return template\n",
    "\n",
    "    def tournament_selection(self, population, tournament_size = 8):\n",
    "        # get random indices to select random individuals from population\n",
    "        random_indices = np.random.choice(population.shape[0], tournament_size*2, replace=False)\n",
    "\n",
    "        # get individuals from random indices and split into two tournaments\n",
    "        tournament1 = population[random_indices[:tournament_size]]\n",
    "        tournament2 = population[random_indices[tournament_size:]]\n",
    "\n",
    "        parents = []\n",
    "        # tournament is won by fittest individual in each tournament, those become the two parents\n",
    "        for tournament in (tournament1,tournament2):\n",
    "            # get fitness scores for every individual in the tournament\n",
    "            fitness_scores = [Fitness().evaluate_fitness(individual, students) for individual in tournament]\n",
    "            # get indices ordered by highest fitness first\n",
    "            idx = np.argsort(fitness_scores)[::-1]\n",
    "            # add individual with highest fitness to parents\n",
    "            parents.append(tournament[idx[0]])\n",
    "\n",
    "        return parents"
   ]
  },
  {
   "cell_type": "code",
   "execution_count": 11,
   "metadata": {
    "pycharm": {
     "name": "#%%\n"
    }
   },
   "outputs": [
    {
     "name": "stdout",
     "output_type": "stream",
     "text": [
      "First parent:\n",
      "[ 30 100  44  67  86  41  39   9  59  52  68  17  36  62  29  33  11  19\n",
      "  90  56  53  84  81  87  28  16  89  23  10  73  21  98  94   4  99  79\n",
      "  43  66  50   2  20  45   3  91  85  83  46  31  32  63  27  26   7  65\n",
      "  61  15  88  75  14  70  42   5   1  74  34  76  97  72  37  82  49  40\n",
      "  48  22  35  55  54  69  12  58  92  18  71  57   6  25  95  80  60  93\n",
      "  13  78  64  47  24  51  77   8  38  96] \n",
      "\n",
      "Second parent:\n",
      "[ 29  72  94  82  49  33  44  17  15  48  38  40  85  79  60 100   2  63\n",
      "  13  68   6  99  45  96  53  98  30  59  58  62  66  16  10  64  43   3\n",
      "  39  90  31  27  32  55   5  36  52  18  28  22   8  71  54  75  97  83\n",
      "  65  73  81  95  93  77  80  14  88  23  41  89  56  76  24  35  12  92\n",
      "  21  61  34   7  57   4  70  50   1   9  74  91  26  69  19  11  84  87\n",
      "  51  42  37  67  20  78  86  47  46  25] \n",
      "\n",
      "Child after crossover:\n",
      "[ 29  82  44  49  86  33  17  15  48  52  38  40  85  79 100   2  63  13\n",
      "  68   6  99  45  81  87  96  53  98  30  59  73  58  62  94   4  66  16\n",
      "  10  43  50   3  39  90  31  91  27   5  36  18  32  28  22   8  71  54\n",
      "  75  97  88  83  65  95  93  77  14  23  41  89  56  72  76  24  35  12\n",
      "  92  21  61  55  34   7  70   1   9  74  26  57  69  19  11  80  60  84\n",
      "  42  37  64  47  67  51  20  78  46  25]\n"
     ]
    }
   ],
   "source": [
    "random_population = Population(students, groupsize).create_initial_population()\n",
    "\n",
    "random_parent1, random_parent2 = Crossover().tournament_selection(random_population)\n",
    "\n",
    "print('First parent:')\n",
    "print(random_parent1, '\\n')\n",
    "print('Second parent:')\n",
    "print(random_parent2, '\\n')\n",
    "\n",
    "child = Crossover().uniform_order_crossover(random_parent1, random_parent2)\n",
    "\n",
    "print('Child after crossover:')\n",
    "print(child)"
   ]
  },
  {
   "cell_type": "markdown",
   "metadata": {
    "pycharm": {
     "name": "#%% md\n"
    }
   },
   "source": [
    "We also add a mutation function: "
   ]
  },
  {
   "cell_type": "code",
   "execution_count": 12,
   "metadata": {
    "pycharm": {
     "name": "#%%\n"
    }
   },
   "outputs": [],
   "source": [
    "def mutation(individual, mutation_rate = 0.2):\n",
    "    # if random percentage is lower than the mutation rate, switch two random genes\n",
    "    if random.uniform(0, 1) < mutation_rate:\n",
    "        idx1 = random.randint(0, len(individual)-1)\n",
    "        idx2 = random.randint(0, len(individual)-1)\n",
    "\n",
    "        individual[idx1], individual[idx2] = individual[idx2], individual[idx1]\n",
    "\n",
    "    return individual"
   ]
  },
  {
   "cell_type": "markdown",
   "metadata": {
    "pycharm": {
     "name": "#%% md\n"
    }
   },
   "source": [
    "Finally, our executable GA class:"
   ]
  },
  {
   "cell_type": "code",
   "execution_count": 14,
   "metadata": {
    "pycharm": {
     "name": "#%%\n"
    }
   },
   "outputs": [],
   "source": [
    "class Genetic_Algorithm():\n",
    "    def __init__(self, students, groupsize):\n",
    "        super(Genetic_Algorithm, self).__init__()\n",
    "\n",
    "        self.students = students\n",
    "        self.groupsize = groupsize\n",
    "        self.num_individuals = len(students)\n",
    "        self.ids = students.ID.tolist()\n",
    "\n",
    "    def run(self, episodes, replace='all', mutation_rate=0.05):\n",
    "\n",
    "        self.epidodes = episodes\n",
    "        self.population = Population(students, groupsize).create_initial_population()\n",
    "\n",
    "        print(\"episode \" + str(0) + \": mean fitness score: \" + str(Fitness().mean_fitness(self.population)) + \"; best individual fitness: \" + str(Fitness().best_fitness(self.population)))\n",
    "\n",
    "        if replace == 'all':\n",
    "            for episode in range(episodes):\n",
    "                new_pop = []\n",
    "                # we get two new individuals by each step, so half the pop size\n",
    "                for _ in range(len(self.population)//2):\n",
    "                    # find two parents by tournament selection\n",
    "                    p1, p2 = Crossover().tournament_selection(self.population,8)\n",
    "\n",
    "                    # create two children by uniform order crossover\n",
    "                    c1 = Crossover().uniform_order_crossover(p1,p2)\n",
    "                    c2 = Crossover().uniform_order_crossover(p2,p1)\n",
    "                    # do mutation\n",
    "                    c1 = mutation(c1, mutation_rate)\n",
    "                    c2 = mutation(c2, mutation_rate)\n",
    "                    # add children to new population\n",
    "                    new_pop.append(c1)\n",
    "                    new_pop.append(c2)\n",
    "\n",
    "                self.population = np.array(new_pop,dtype=int)\n",
    "\n",
    "                print(\"episode \" + str(episode+1) + \": mean fitness score: \" + str(Fitness().mean_fitness(self.population)) + \"; best individual fitness: \" + str(Fitness().best_fitness(self.population)))\n",
    "\n",
    "        elif int(replace):\n",
    "            for episode in range(episodes):\n",
    "                pop_indices_sorted_by_fitness = Fitness().indices_sorted_by_fitness(self.population)\n",
    "                \n",
    "                # we get two new individuals by each step, so half the pop size\n",
    "                for _ in range(replace//2):\n",
    "                    # find two parents by tournament selection\n",
    "                    p1, p2 = Crossover().tournament_selection(self.population,8)\n",
    "\n",
    "                    # create two children by uniform order crossover\n",
    "                    c1 = Crossover().uniform_order_crossover(p1,p2)\n",
    "                    c2 = Crossover().uniform_order_crossover(p2,p1)\n",
    "                    # do mutation\n",
    "                    c1 = mutation(c1)\n",
    "                    c2 = mutation(c2)\n",
    "                    # add children to new population\n",
    "                    next_idx = pop_indices_sorted_by_fitness.pop(0)\n",
    "                    self.population[next_idx] = c1\n",
    "                    next_idx = pop_indices_sorted_by_fitness.pop(0)\n",
    "                    self.population[next_idx] = c2\n",
    "\n",
    "                print(\"episode \" + str(episode+1) + \": mean fitness score: \" + str(Fitness().mean_fitness(self.population)) + \"; best individual fitness: \" + str(Fitness().best_fitness(self.population)))\n",
    "\n",
    "        return self.population"
   ]
  },
  {
   "cell_type": "code",
   "execution_count": 15,
   "metadata": {
    "collapsed": false,
    "pycharm": {
     "name": "#%%\n"
    }
   },
   "outputs": [
    {
     "name": "stdout",
     "output_type": "stream",
     "text": [
      "episode 0: mean fitness score: 16.459; best individual fitness: 19.657\n",
      "episode 1: mean fitness score: 17.217; best individual fitness: 19.713\n"
     ]
    }
   ],
   "source": [
    "best_population = Genetic_Algorithm(students, groupsize).run(episodes=10, replace='all', mutation_rate=0.1)"
   ]
  },
  {
   "cell_type": "markdown",
   "metadata": {},
   "source": [
    "_____________________"
   ]
  },
  {
   "cell_type": "markdown",
   "metadata": {},
   "source": [
    "Evaluations"
   ]
  },
  {
   "cell_type": "code",
   "execution_count": 42,
   "metadata": {
    "collapsed": false,
    "pycharm": {
     "name": "#%%\n"
    }
   },
   "outputs": [
    {
     "data": {
      "text/html": [
       "<div>\n",
       "<style scoped>\n",
       "    .dataframe tbody tr th:only-of-type {\n",
       "        vertical-align: middle;\n",
       "    }\n",
       "\n",
       "    .dataframe tbody tr th {\n",
       "        vertical-align: top;\n",
       "    }\n",
       "\n",
       "    .dataframe thead th {\n",
       "        text-align: right;\n",
       "    }\n",
       "</style>\n",
       "<table border=\"1\" class=\"dataframe\">\n",
       "  <thead>\n",
       "    <tr style=\"text-align: right;\">\n",
       "      <th></th>\n",
       "      <th>ID</th>\n",
       "      <th>Name</th>\n",
       "      <th>Gender</th>\n",
       "      <th>Preferred language</th>\n",
       "      <th>Majors</th>\n",
       "      <th>Level of ambition</th>\n",
       "      <th>Preferred meeting place</th>\n",
       "      <th>Personality type</th>\n",
       "      <th>Best friend</th>\n",
       "      <th>Preferred day</th>\n",
       "    </tr>\n",
       "  </thead>\n",
       "  <tbody>\n",
       "    <tr>\n",
       "      <th>0</th>\n",
       "      <td>8</td>\n",
       "      <td>Sabrina Diederich</td>\n",
       "      <td>Female</td>\n",
       "      <td>Any</td>\n",
       "      <td>('PHIL', 'AI')</td>\n",
       "      <td>Low</td>\n",
       "      <td>In person</td>\n",
       "      <td>ENTP</td>\n",
       "      <td>Sandra Metzger</td>\n",
       "      <td>Monday</td>\n",
       "    </tr>\n",
       "    <tr>\n",
       "      <th>1</th>\n",
       "      <td>67</td>\n",
       "      <td>Doreen Freud</td>\n",
       "      <td>Female</td>\n",
       "      <td>Any</td>\n",
       "      <td>('NS', 'NI')</td>\n",
       "      <td>Medium</td>\n",
       "      <td>In person</td>\n",
       "      <td>INTP</td>\n",
       "      <td>Felix Wirtz</td>\n",
       "      <td>Monday</td>\n",
       "    </tr>\n",
       "    <tr>\n",
       "      <th>2</th>\n",
       "      <td>68</td>\n",
       "      <td>Anne Brandt</td>\n",
       "      <td>Female</td>\n",
       "      <td>Any</td>\n",
       "      <td>('CL', 'CP')</td>\n",
       "      <td>Low</td>\n",
       "      <td>In person</td>\n",
       "      <td>ENTJ</td>\n",
       "      <td>Patrick Shuster</td>\n",
       "      <td>Friday</td>\n",
       "    </tr>\n",
       "    <tr>\n",
       "      <th>3</th>\n",
       "      <td>39</td>\n",
       "      <td>Antje Schroder</td>\n",
       "      <td>Female</td>\n",
       "      <td>Any</td>\n",
       "      <td>('NS', 'CP')</td>\n",
       "      <td>Medium</td>\n",
       "      <td>Online</td>\n",
       "      <td>ESTP</td>\n",
       "      <td>Dennis Reiniger</td>\n",
       "      <td>Friday</td>\n",
       "    </tr>\n",
       "    <tr>\n",
       "      <th>4</th>\n",
       "      <td>76</td>\n",
       "      <td>Andreas Fisher</td>\n",
       "      <td>Male</td>\n",
       "      <td>German</td>\n",
       "      <td>('NI', 'PHIL')</td>\n",
       "      <td>Low</td>\n",
       "      <td>In person</td>\n",
       "      <td>ESTP</td>\n",
       "      <td>Ralph Weissmuller</td>\n",
       "      <td>Friday</td>\n",
       "    </tr>\n",
       "    <tr>\n",
       "      <th>5</th>\n",
       "      <td>35</td>\n",
       "      <td>Jan Dietrich</td>\n",
       "      <td>Male</td>\n",
       "      <td>German</td>\n",
       "      <td>('AI', 'NI')</td>\n",
       "      <td>High</td>\n",
       "      <td>In person</td>\n",
       "      <td>ISTP</td>\n",
       "      <td>Juliane Drescher</td>\n",
       "      <td>Wednesday</td>\n",
       "    </tr>\n",
       "    <tr>\n",
       "      <th>6</th>\n",
       "      <td>78</td>\n",
       "      <td>Marie Muench</td>\n",
       "      <td>Female</td>\n",
       "      <td>Any</td>\n",
       "      <td>('NI', 'AI')</td>\n",
       "      <td>Very high</td>\n",
       "      <td>In person</td>\n",
       "      <td>INFP</td>\n",
       "      <td>Erik Schäfer</td>\n",
       "      <td>Tuesday</td>\n",
       "    </tr>\n",
       "    <tr>\n",
       "      <th>7</th>\n",
       "      <td>30</td>\n",
       "      <td>Christian Werfel</td>\n",
       "      <td>Male</td>\n",
       "      <td>Any</td>\n",
       "      <td>('CP', 'AI')</td>\n",
       "      <td>Very low</td>\n",
       "      <td>Online</td>\n",
       "      <td>ISTJ</td>\n",
       "      <td>Diana Traugott</td>\n",
       "      <td>Thursday</td>\n",
       "    </tr>\n",
       "    <tr>\n",
       "      <th>8</th>\n",
       "      <td>57</td>\n",
       "      <td>Maximilian Fiedler</td>\n",
       "      <td>Male</td>\n",
       "      <td>German</td>\n",
       "      <td>('AI', 'NI')</td>\n",
       "      <td>Very low</td>\n",
       "      <td>In person</td>\n",
       "      <td>ISTP</td>\n",
       "      <td>Marco Eisenhauer</td>\n",
       "      <td>Tuesday</td>\n",
       "    </tr>\n",
       "    <tr>\n",
       "      <th>9</th>\n",
       "      <td>58</td>\n",
       "      <td>Jonas Zimmer</td>\n",
       "      <td>Male</td>\n",
       "      <td>Any</td>\n",
       "      <td>('AI', 'CP')</td>\n",
       "      <td>High</td>\n",
       "      <td>Online</td>\n",
       "      <td>ENTP</td>\n",
       "      <td>Mike Freud</td>\n",
       "      <td>Thursday</td>\n",
       "    </tr>\n",
       "  </tbody>\n",
       "</table>\n",
       "</div>"
      ],
      "text/plain": [
       "   ID                Name  Gender Preferred language          Majors  \\\n",
       "0   8   Sabrina Diederich  Female                Any  ('PHIL', 'AI')   \n",
       "1  67        Doreen Freud  Female                Any    ('NS', 'NI')   \n",
       "2  68         Anne Brandt  Female                Any    ('CL', 'CP')   \n",
       "3  39      Antje Schroder  Female                Any    ('NS', 'CP')   \n",
       "4  76      Andreas Fisher    Male             German  ('NI', 'PHIL')   \n",
       "5  35        Jan Dietrich    Male             German    ('AI', 'NI')   \n",
       "6  78        Marie Muench  Female                Any    ('NI', 'AI')   \n",
       "7  30    Christian Werfel    Male                Any    ('CP', 'AI')   \n",
       "8  57  Maximilian Fiedler    Male             German    ('AI', 'NI')   \n",
       "9  58        Jonas Zimmer    Male                Any    ('AI', 'CP')   \n",
       "\n",
       "  Level of ambition Preferred meeting place Personality type  \\\n",
       "0               Low               In person             ENTP   \n",
       "1            Medium               In person             INTP   \n",
       "2               Low               In person             ENTJ   \n",
       "3            Medium                  Online             ESTP   \n",
       "4               Low               In person             ESTP   \n",
       "5              High               In person             ISTP   \n",
       "6         Very high               In person             INFP   \n",
       "7          Very low                  Online             ISTJ   \n",
       "8          Very low               In person             ISTP   \n",
       "9              High                  Online             ENTP   \n",
       "\n",
       "         Best friend Preferred day  \n",
       "0     Sandra Metzger        Monday  \n",
       "1        Felix Wirtz        Monday  \n",
       "2    Patrick Shuster        Friday  \n",
       "3    Dennis Reiniger        Friday  \n",
       "4  Ralph Weissmuller        Friday  \n",
       "5   Juliane Drescher     Wednesday  \n",
       "6       Erik Schäfer       Tuesday  \n",
       "7     Diana Traugott      Thursday  \n",
       "8   Marco Eisenhauer       Tuesday  \n",
       "9         Mike Freud      Thursday  "
      ]
     },
     "execution_count": 42,
     "metadata": {},
     "output_type": "execute_result"
    }
   ],
   "source": [
    "# Select the fittest individiual from our population\n",
    "fittest_individual = Fitness().get_fittest_individual(best_population, students)\n",
    "\n",
    "# Convert the Gene String to a List of Groups\n",
    "groups_df = population_manager.get_groups_from_individual(fittest_individual)\n",
    "\n",
    "# Plot an example group of the list\n",
    "groups_df[0]"
   ]
  },
  {
   "cell_type": "markdown",
   "metadata": {
    "collapsed": false,
    "pycharm": {
     "name": "#%% md\n"
    }
   },
   "source": [
    "*Let's find your group or the one of a friend*"
   ]
  },
  {
   "cell_type": "code",
   "execution_count": 45,
   "metadata": {
    "collapsed": false,
    "pycharm": {
     "name": "#%%\n"
    }
   },
   "outputs": [
    {
     "name": "stdout",
     "output_type": "stream",
     "text": [
      "[     ID                 Name  Gender Preferred language          Majors  \\\n",
      "60   92         Sarah Hoover  Female                Any    ('NS', 'NI')   \n",
      "61   16         Stefan Beyer    Male                Any    ('CP', 'NI')   \n",
      "62   73         Jörg Strauss    Male            English  ('NS', 'PHIL')   \n",
      "63   10          René Kuefer    Male                Any    ('NS', 'NI')   \n",
      "64  100  Juliane Schultheiss  Female            English    ('AI', 'CP')   \n",
      "65   45      Brigitte Müller  Female            English    ('AI', 'CP')   \n",
      "66   72   Maximilian Schäfer    Male            English    ('AI', 'NI')   \n",
      "67    3    Johanna Schreiber  Female                Any    ('CL', 'NI')   \n",
      "68   93          Marina Kalb  Female                Any  ('NI', 'PHIL')   \n",
      "69   15     Marco Eisenhauer    Male                Any    ('NI', 'CL')   \n",
      "\n",
      "   Level of ambition Preferred meeting place Personality type  \\\n",
      "60              High               In person             ESTJ   \n",
      "61               Low               In person             ESTP   \n",
      "62          Very low               In person             ISTP   \n",
      "63               Low               In person             INTP   \n",
      "64         Very high               In person             ESFP   \n",
      "65               Low                  Online             INTJ   \n",
      "66              High               In person             ISTP   \n",
      "67         Very high               In person             ENFJ   \n",
      "68              High               In person             INTJ   \n",
      "69              High               In person             ISTJ   \n",
      "\n",
      "           Best friend Preferred day  \n",
      "60      Jennifer König      Thursday  \n",
      "61           Sven Weiß        Friday  \n",
      "62         Leon Fisher        Friday  \n",
      "63        Dominik Hoch        Monday  \n",
      "64    Felix Gruenewald     Wednesday  \n",
      "65          Laura Wulf        Monday  \n",
      "66       Juliane Freeh        Friday  \n",
      "67        Marie Kohler     Wednesday  \n",
      "68         Tim Krueger      Thursday  \n",
      "69  Maximilian Fiedler       Tuesday  ]\n"
     ]
    }
   ],
   "source": [
    "# User Input for the Full Name - Please be accurate!\n",
    "fullname = str(input(\"Please the Full-Name you want to look up: \"))\n",
    "# Get the group by your Full Name - If there are multiple Persons with your name you will get all of them\n",
    "my_group = population_manager.get_groups_by_person_fullname(fullname, fittest_individual)\n",
    "# Plotting the first group found\n",
    "if my_group:\n",
    "    print(my_group)\n",
    "else:\n",
    "    print(\"Didn't find the requested Person with given Fullname\")"
   ]
  },
  {
   "cell_type": "code",
   "execution_count": 46,
   "metadata": {
    "collapsed": false,
    "pycharm": {
     "name": "#%%\n"
    }
   },
   "outputs": [
    {
     "name": "stdout",
     "output_type": "stream",
     "text": [
      "    ID              Name  Gender Preferred language          Majors  \\\n",
      "70  97        Sara Papst  Female                Any    ('NI', 'AI')   \n",
      "71  64   Angelika Brauer  Female                Any    ('CP', 'NS')   \n",
      "72  33       Niklas Frey    Male             German    ('NI', 'NS')   \n",
      "73  82  Phillipp Koertig    Male                Any    ('CP', 'NS')   \n",
      "74  63       Karin Pfaff  Female                Any    ('NS', 'CP')   \n",
      "75  65         Sven Weiß    Male                Any    ('AI', 'CP')   \n",
      "76  21      Sven Holzman    Male                Any    ('CL', 'NI')   \n",
      "77  95    Diana Traugott  Female                Any    ('NI', 'NS')   \n",
      "78  44   Ursula Reiniger  Female                Any    ('CL', 'NS')   \n",
      "79  12       Luca Wexler    Male             German  ('NI', 'PHIL')   \n",
      "\n",
      "   Level of ambition Preferred meeting place Personality type  \\\n",
      "70          Very low               In person             ESFP   \n",
      "71         Very high                  Online             ISFP   \n",
      "72            Medium                  Online             ENTJ   \n",
      "73         Very high               In person             ISTJ   \n",
      "74              High                  Online             INFP   \n",
      "75               Low                  Online             INFJ   \n",
      "76         Very high               In person             ESTJ   \n",
      "77         Very high               In person             ESFP   \n",
      "78         Very high               In person             ESFP   \n",
      "79         Very high                  Online             INFP   \n",
      "\n",
      "           Best friend Preferred day  \n",
      "70        Sarah Mehler      Thursday  \n",
      "71  Phillipp Schroeder     Wednesday  \n",
      "72      Sophie Kastner       Tuesday  \n",
      "73   Christian Kuester        Monday  \n",
      "74         Luca Wexler     Wednesday  \n",
      "75        Stefan Beyer        Monday  \n",
      "76        Anke Lehmann        Friday  \n",
      "77    Christian Werfel        Monday  \n",
      "78      Jessika Wagner      Thursday  \n",
      "79         Karin Pfaff     Wednesday  \n"
     ]
    }
   ],
   "source": [
    "# Find your group by your ID\n",
    "my_group = population_manager.get_group_by_person_ID(33, fittest_individual)\n",
    "# Plotting the group, if one found with given ID\n",
    "if my_group is not None:\n",
    "    print(my_group)\n",
    "else:\n",
    "    print(\"Didn't find the requested Person with given ID\")"
   ]
  },
  {
   "cell_type": "markdown",
   "metadata": {
    "collapsed": false,
    "pycharm": {
     "name": "#%% md\n"
    }
   },
   "source": [
    "## Manual Data Analysis\n",
    "In the next code cells you can look at the distributions of people in groups. Feel free to add more!"
   ]
  },
  {
   "cell_type": "code",
   "execution_count": null,
   "metadata": {
    "collapsed": false,
    "pycharm": {
     "name": "#%%\n"
    }
   },
   "outputs": [],
   "source": [
    "def print_groups_distribution(column_name, groups):\n",
    "    for group_index, group in enumerate(groups):\n",
    "        statistics = group[column_name].value_counts() / group[column_name].value_counts().sum()\n",
    "        print(f\"Group {group_index}: Ratio of {column_name} is {sorted([i + ': ' + str(statistics[i]) for i in statistics.index])}\")"
   ]
  },
  {
   "cell_type": "code",
   "execution_count": null,
   "metadata": {
    "collapsed": false,
    "pycharm": {
     "name": "#%%\n"
    }
   },
   "outputs": [],
   "source": [
    "def print_groups_friends_match(groups):\n",
    "\n",
    "    for group_index, group in enumerate(groups):\n",
    "        print(f\"Group {group_index}: Friends matching: {Fitness().evaluate_friends(groups_df[0])}\")"
   ]
  },
  {
   "cell_type": "code",
   "execution_count": null,
   "metadata": {
    "collapsed": false,
    "pycharm": {
     "name": "#%%\n"
    }
   },
   "outputs": [],
   "source": [
    "print_groups_distribution(\"Gender\", groups_df)"
   ]
  },
  {
   "cell_type": "code",
   "execution_count": null,
   "metadata": {
    "collapsed": false,
    "pycharm": {
     "name": "#%%\n"
    }
   },
   "outputs": [],
   "source": [
    "print_groups_distribution(\"Preferred language\", groups_df)"
   ]
  },
  {
   "cell_type": "code",
   "execution_count": null,
   "metadata": {
    "collapsed": false,
    "pycharm": {
     "name": "#%%\n"
    }
   },
   "outputs": [],
   "source": [
    "print_groups_distribution(\"Preferred meeting place\", groups_df)"
   ]
  },
  {
   "cell_type": "code",
   "execution_count": null,
   "metadata": {
    "collapsed": false,
    "pycharm": {
     "name": "#%%\n"
    }
   },
   "outputs": [],
   "source": [
    "print_groups_distribution(\"Preferred day\", groups_df)"
   ]
  },
  {
   "cell_type": "code",
   "execution_count": null,
   "metadata": {
    "collapsed": false,
    "pycharm": {
     "name": "#%%\n"
    }
   },
   "outputs": [],
   "source": [
    "print_groups_distribution(\"Personality type\", groups_df)"
   ]
  },
  {
   "cell_type": "code",
   "execution_count": null,
   "metadata": {
    "collapsed": false,
    "pycharm": {
     "name": "#%%\n"
    }
   },
   "outputs": [],
   "source": [
    "print_groups_distribution(\"Level of ambition\", groups_df)"
   ]
  },
  {
   "cell_type": "code",
   "execution_count": null,
   "metadata": {
    "collapsed": false,
    "pycharm": {
     "name": "#%%\n"
    }
   },
   "outputs": [],
   "source": [
    "print_groups_friends_match(groups_df)"
   ]
  },
  {
   "cell_type": "code",
   "execution_count": null,
   "metadata": {
    "collapsed": false,
    "pycharm": {
     "name": "#%%\n"
    }
   },
   "outputs": [],
   "source": []
  }
 ],
 "metadata": {
  "kernelspec": {
   "display_name": "Python 3",
   "language": "python",
   "name": "python3"
  },
  "language_info": {
   "codemirror_mode": {
    "name": "ipython",
    "version": 3
   },
   "file_extension": ".py",
   "mimetype": "text/x-python",
   "name": "python",
   "nbconvert_exporter": "python",
   "pygments_lexer": "ipython3",
   "version": "3.6.13"
  }
 },
 "nbformat": 4,
 "nbformat_minor": 0
}
