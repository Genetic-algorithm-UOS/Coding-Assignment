{
 "cells": [
  {
   "cell_type": "code",
   "execution_count": 8,
   "metadata": {
    "collapsed": true,
    "pycharm": {
     "name": "#%%\n"
    }
   },
   "outputs": [],
   "source": [
    "import numpy as np\n",
    "import random\n",
    "import pandas as pd\n",
    "from typing import List"
   ]
  },
  {
   "cell_type": "code",
   "execution_count": 9,
   "metadata": {
    "collapsed": false,
    "pycharm": {
     "name": "#%%\n"
    }
   },
   "outputs": [],
   "source": [
    "students = pd.read_csv('dataset_full.csv')\n",
    "\n",
    "# hyperparameters\n",
    "num_individuals = 100\n",
    "groupsize = 5"
   ]
  },
  {
   "cell_type": "markdown",
   "metadata": {
    "pycharm": {
     "name": "#%% md\n"
    }
   },
   "source": [
    "Darwinian Natural Selection\n",
    "\n",
    "- Variation\n",
    "- Selection\n",
    "- Heredity"
   ]
  },
  {
   "cell_type": "markdown",
   "metadata": {
    "pycharm": {
     "name": "#%% md\n"
    }
   },
   "source": [
    "1. Variation (Create a population)"
   ]
  },
  {
   "cell_type": "code",
   "execution_count": 10,
   "metadata": {
    "pycharm": {
     "name": "#%%\n"
    }
   },
   "outputs": [
    {
     "data": {
      "text/plain": "   ID               Name         Gender Preferred language          Majors  \\\n0   2  Christian Kuester  Indeterminate                Any  ('CL', 'PHIL')   \n1   3  Johanna Schreiber         Female                Any    ('CL', 'NI')   \n2   4        Tim Krueger           Male                Any    ('NI', 'CP')   \n3   5      Jessica Fried         Female                Any  ('CP', 'PHIL')   \n4   6      René Dresdner           Male            English    ('NI', 'CL')   \n\n  Level of ambition Preferred meeting place Personality type  \\\n0         Very high               In person             ESTJ   \n1         Very high               In person             ENFJ   \n2            Medium               In person             ESFJ   \n3          Very low               In person             ESFP   \n4         Very high               In person             ESFJ   \n\n        Best friend Preferred day  \n0  Phillipp Koertig      Thursday  \n1      Marie Kohler     Wednesday  \n2       Marina Kalb       Tuesday  \n3     Florian Bader     Wednesday  \n4      Michael Bohm        Monday  ",
      "text/html": "<div>\n<style scoped>\n    .dataframe tbody tr th:only-of-type {\n        vertical-align: middle;\n    }\n\n    .dataframe tbody tr th {\n        vertical-align: top;\n    }\n\n    .dataframe thead th {\n        text-align: right;\n    }\n</style>\n<table border=\"1\" class=\"dataframe\">\n  <thead>\n    <tr style=\"text-align: right;\">\n      <th></th>\n      <th>ID</th>\n      <th>Name</th>\n      <th>Gender</th>\n      <th>Preferred language</th>\n      <th>Majors</th>\n      <th>Level of ambition</th>\n      <th>Preferred meeting place</th>\n      <th>Personality type</th>\n      <th>Best friend</th>\n      <th>Preferred day</th>\n    </tr>\n  </thead>\n  <tbody>\n    <tr>\n      <th>0</th>\n      <td>2</td>\n      <td>Christian Kuester</td>\n      <td>Indeterminate</td>\n      <td>Any</td>\n      <td>('CL', 'PHIL')</td>\n      <td>Very high</td>\n      <td>In person</td>\n      <td>ESTJ</td>\n      <td>Phillipp Koertig</td>\n      <td>Thursday</td>\n    </tr>\n    <tr>\n      <th>1</th>\n      <td>3</td>\n      <td>Johanna Schreiber</td>\n      <td>Female</td>\n      <td>Any</td>\n      <td>('CL', 'NI')</td>\n      <td>Very high</td>\n      <td>In person</td>\n      <td>ENFJ</td>\n      <td>Marie Kohler</td>\n      <td>Wednesday</td>\n    </tr>\n    <tr>\n      <th>2</th>\n      <td>4</td>\n      <td>Tim Krueger</td>\n      <td>Male</td>\n      <td>Any</td>\n      <td>('NI', 'CP')</td>\n      <td>Medium</td>\n      <td>In person</td>\n      <td>ESFJ</td>\n      <td>Marina Kalb</td>\n      <td>Tuesday</td>\n    </tr>\n    <tr>\n      <th>3</th>\n      <td>5</td>\n      <td>Jessica Fried</td>\n      <td>Female</td>\n      <td>Any</td>\n      <td>('CP', 'PHIL')</td>\n      <td>Very low</td>\n      <td>In person</td>\n      <td>ESFP</td>\n      <td>Florian Bader</td>\n      <td>Wednesday</td>\n    </tr>\n    <tr>\n      <th>4</th>\n      <td>6</td>\n      <td>René Dresdner</td>\n      <td>Male</td>\n      <td>English</td>\n      <td>('NI', 'CL')</td>\n      <td>Very high</td>\n      <td>In person</td>\n      <td>ESFJ</td>\n      <td>Michael Bohm</td>\n      <td>Monday</td>\n    </tr>\n  </tbody>\n</table>\n</div>"
     },
     "execution_count": 10,
     "metadata": {},
     "output_type": "execute_result"
    }
   ],
   "source": [
    "students.head()"
   ]
  },
  {
   "cell_type": "code",
   "execution_count": 37,
   "metadata": {
    "pycharm": {
     "name": "#%%\n"
    }
   },
   "outputs": [],
   "source": [
    "class Population():\n",
    "    def __init__(self, students, n_individuals, groupsize):\n",
    "        super(Population, self).__init__()\n",
    "\n",
    "        if n_individuals % groupsize != 0:\n",
    "            raise ValueError(f'Received unexpected group size: {n_individuals} groups % {groupsize} individuals has to be 0.')\n",
    "        \n",
    "        self.students = students\n",
    "        self.n_individuals = n_individuals\n",
    "        self.ids = students.ID.tolist()\n",
    "        self.groupsize = groupsize\n",
    "\n",
    "    def create_random_individual(self):\n",
    "        individual = self.ids.copy()\n",
    "        random.shuffle(individual)\n",
    "\n",
    "        return individual\n",
    "\n",
    "    def create_initial_population(self) -> np.ndarray:\n",
    "        \"\"\" Creates an initial populations and returns it\"\"\"\n",
    "        population = []\n",
    "        for _ in range(self.n_individuals):\n",
    "            population.append(self.create_random_individual())\n",
    "\n",
    "        return np.array(population, dtype=int)\n",
    "\n",
    "    def show_groups_from_individual(self, individual: np.ndarray) -> None:\n",
    "        \"\"\" Prints all Groups of given $individual$\"\"\"\n",
    "        groups = []\n",
    "        for i in individual:\n",
    "            groups.append(self.students['Name'][i-1])\n",
    "        \n",
    "        for n,j in enumerate(range(0, len(groups), self.groupsize)):\n",
    "            print(f'Group {n+1} :',groups[j:j+5])\n",
    "\n",
    "        return None\n",
    "\n",
    "    def get_groups_from_individual(self, individual: np.ndarray) -> List[np.ndarray]:\n",
    "        \"\"\" Returns a Python List of all Groups in an individual(as numpy ndarrays) \"\"\"\n",
    "        groups = pd.DataFrame()\n",
    "        for i in individual:\n",
    "            groups = pd.concat((groups, self.students.loc[self.students['ID'] == i]))\n",
    "\n",
    "        groups = groups.reset_index(drop=True)\n",
    "\n",
    "        nested_groups_list = []\n",
    "        for n,j in enumerate(range(0, len(groups), self.groupsize)):\n",
    "            nested_groups_list.append(pd.DataFrame(groups[j:j+groupsize]))\n",
    "\n",
    "        return nested_groups_list\n",
    "\n",
    "    def get_groups_by_person_fullname(self, fullname: str, individual: np.ndarray) -> List[np.ndarray]:\n",
    "        \"\"\" Returns all Groups that got a Person with $fullname$ in given $individual$\"\"\"\n",
    "        nested_groups_list = self.get_groups_from_individual(individual)\n",
    "\n",
    "        groups_with_person = []\n",
    "        for group in nested_groups_list:\n",
    "            if fullname in group[\"Name\"].values:\n",
    "                groups_with_person.append(group)\n",
    "        return groups_with_person\n",
    "\n",
    "    def get_group_by_person_ID(self, ID: int, individual: np.ndarray) -> np.ndarray:\n",
    "        \"\"\" Returns Group that has Person with given $ID$ in given $individual$\"\"\"\n",
    "        nested_groups_list = self.get_groups_from_individual(individual)\n",
    "\n",
    "        groups_with_person = []\n",
    "        for group in nested_groups_list:\n",
    "            if ID in group[\"ID\"].values:\n",
    "                return group\n",
    "        return None"
   ]
  },
  {
   "cell_type": "code",
   "execution_count": 38,
   "metadata": {
    "pycharm": {
     "name": "#%%\n"
    }
   },
   "outputs": [
    {
     "data": {
      "text/plain": "array([[  3,  13,  71, ...,  88,  32,  90],\n       [ 76,  60,  21, ...,  65,  59,  69],\n       [ 37,  75,  94, ...,  60,  59,  14],\n       ...,\n       [ 97,  94,  46, ...,  81,  84,  65],\n       [100,  32,  11, ...,  88,  82,  93],\n       [ 50,  49,  45, ...,  13,   6,  29]])"
     },
     "execution_count": 38,
     "metadata": {},
     "output_type": "execute_result"
    }
   ],
   "source": [
    "population_manager = Population(students, num_individuals, groupsize)\n",
    "\n",
    "test_population = population_manager.create_initial_population()\n",
    "\n",
    "test_population"
   ]
  },
  {
   "cell_type": "markdown",
   "metadata": {
    "pycharm": {
     "name": "#%% md\n"
    }
   },
   "source": [
    "Show Groups from the IDs"
   ]
  },
  {
   "cell_type": "code",
   "execution_count": 39,
   "metadata": {
    "pycharm": {
     "name": "#%%\n"
    }
   },
   "outputs": [
    {
     "ename": "KeyError",
     "evalue": "100",
     "output_type": "error",
     "traceback": [
      "\u001B[0;31m---------------------------------------------------------------------------\u001B[0m",
      "\u001B[0;31mValueError\u001B[0m                                Traceback (most recent call last)",
      "File \u001B[0;32m~/miniconda3/lib/python3.8/site-packages/pandas/core/indexes/range.py:385\u001B[0m, in \u001B[0;36mRangeIndex.get_loc\u001B[0;34m(self, key, method, tolerance)\u001B[0m\n\u001B[1;32m    384\u001B[0m \u001B[38;5;28;01mtry\u001B[39;00m:\n\u001B[0;32m--> 385\u001B[0m     \u001B[38;5;28;01mreturn\u001B[39;00m \u001B[38;5;28;43mself\u001B[39;49m\u001B[38;5;241;43m.\u001B[39;49m\u001B[43m_range\u001B[49m\u001B[38;5;241;43m.\u001B[39;49m\u001B[43mindex\u001B[49m\u001B[43m(\u001B[49m\u001B[43mnew_key\u001B[49m\u001B[43m)\u001B[49m\n\u001B[1;32m    386\u001B[0m \u001B[38;5;28;01mexcept\u001B[39;00m \u001B[38;5;167;01mValueError\u001B[39;00m \u001B[38;5;28;01mas\u001B[39;00m err:\n",
      "\u001B[0;31mValueError\u001B[0m: 100 is not in range",
      "\nThe above exception was the direct cause of the following exception:\n",
      "\u001B[0;31mKeyError\u001B[0m                                  Traceback (most recent call last)",
      "Input \u001B[0;32mIn [39]\u001B[0m, in \u001B[0;36m<cell line: 1>\u001B[0;34m()\u001B[0m\n\u001B[0;32m----> 1\u001B[0m \u001B[43mpopulation_manager\u001B[49m\u001B[38;5;241;43m.\u001B[39;49m\u001B[43mshow_groups_from_individual\u001B[49m\u001B[43m(\u001B[49m\u001B[43mtest_population\u001B[49m\u001B[43m[\u001B[49m\u001B[38;5;241;43m0\u001B[39;49m\u001B[43m]\u001B[49m\u001B[43m)\u001B[49m\n",
      "Input \u001B[0;32mIn [37]\u001B[0m, in \u001B[0;36mPopulation.show_groups_from_individual\u001B[0;34m(self, individual)\u001B[0m\n\u001B[1;32m     29\u001B[0m groups \u001B[38;5;241m=\u001B[39m []\n\u001B[1;32m     30\u001B[0m \u001B[38;5;28;01mfor\u001B[39;00m i \u001B[38;5;129;01min\u001B[39;00m individual:\n\u001B[0;32m---> 31\u001B[0m     groups\u001B[38;5;241m.\u001B[39mappend(\u001B[38;5;28;43mself\u001B[39;49m\u001B[38;5;241;43m.\u001B[39;49m\u001B[43mstudents\u001B[49m\u001B[43m[\u001B[49m\u001B[38;5;124;43m'\u001B[39;49m\u001B[38;5;124;43mName\u001B[39;49m\u001B[38;5;124;43m'\u001B[39;49m\u001B[43m]\u001B[49m\u001B[43m[\u001B[49m\u001B[43mi\u001B[49m\u001B[38;5;241;43m-\u001B[39;49m\u001B[38;5;241;43m1\u001B[39;49m\u001B[43m]\u001B[49m)\n\u001B[1;32m     33\u001B[0m \u001B[38;5;28;01mfor\u001B[39;00m n,j \u001B[38;5;129;01min\u001B[39;00m \u001B[38;5;28menumerate\u001B[39m(\u001B[38;5;28mrange\u001B[39m(\u001B[38;5;241m0\u001B[39m, \u001B[38;5;28mlen\u001B[39m(groups), \u001B[38;5;28mself\u001B[39m\u001B[38;5;241m.\u001B[39mgroupsize)):\n\u001B[1;32m     34\u001B[0m     \u001B[38;5;28mprint\u001B[39m(\u001B[38;5;124mf\u001B[39m\u001B[38;5;124m'\u001B[39m\u001B[38;5;124mGroup \u001B[39m\u001B[38;5;132;01m{\u001B[39;00mn\u001B[38;5;241m+\u001B[39m\u001B[38;5;241m1\u001B[39m\u001B[38;5;132;01m}\u001B[39;00m\u001B[38;5;124m :\u001B[39m\u001B[38;5;124m'\u001B[39m,groups[j:j\u001B[38;5;241m+\u001B[39m\u001B[38;5;241m5\u001B[39m])\n",
      "File \u001B[0;32m~/miniconda3/lib/python3.8/site-packages/pandas/core/series.py:958\u001B[0m, in \u001B[0;36mSeries.__getitem__\u001B[0;34m(self, key)\u001B[0m\n\u001B[1;32m    955\u001B[0m     \u001B[38;5;28;01mreturn\u001B[39;00m \u001B[38;5;28mself\u001B[39m\u001B[38;5;241m.\u001B[39m_values[key]\n\u001B[1;32m    957\u001B[0m \u001B[38;5;28;01melif\u001B[39;00m key_is_scalar:\n\u001B[0;32m--> 958\u001B[0m     \u001B[38;5;28;01mreturn\u001B[39;00m \u001B[38;5;28;43mself\u001B[39;49m\u001B[38;5;241;43m.\u001B[39;49m\u001B[43m_get_value\u001B[49m\u001B[43m(\u001B[49m\u001B[43mkey\u001B[49m\u001B[43m)\u001B[49m\n\u001B[1;32m    960\u001B[0m \u001B[38;5;28;01mif\u001B[39;00m is_hashable(key):\n\u001B[1;32m    961\u001B[0m     \u001B[38;5;66;03m# Otherwise index.get_value will raise InvalidIndexError\u001B[39;00m\n\u001B[1;32m    962\u001B[0m     \u001B[38;5;28;01mtry\u001B[39;00m:\n\u001B[1;32m    963\u001B[0m         \u001B[38;5;66;03m# For labels that don't resolve as scalars like tuples and frozensets\u001B[39;00m\n",
      "File \u001B[0;32m~/miniconda3/lib/python3.8/site-packages/pandas/core/series.py:1069\u001B[0m, in \u001B[0;36mSeries._get_value\u001B[0;34m(self, label, takeable)\u001B[0m\n\u001B[1;32m   1066\u001B[0m     \u001B[38;5;28;01mreturn\u001B[39;00m \u001B[38;5;28mself\u001B[39m\u001B[38;5;241m.\u001B[39m_values[label]\n\u001B[1;32m   1068\u001B[0m \u001B[38;5;66;03m# Similar to Index.get_value, but we do not fall back to positional\u001B[39;00m\n\u001B[0;32m-> 1069\u001B[0m loc \u001B[38;5;241m=\u001B[39m \u001B[38;5;28;43mself\u001B[39;49m\u001B[38;5;241;43m.\u001B[39;49m\u001B[43mindex\u001B[49m\u001B[38;5;241;43m.\u001B[39;49m\u001B[43mget_loc\u001B[49m\u001B[43m(\u001B[49m\u001B[43mlabel\u001B[49m\u001B[43m)\u001B[49m\n\u001B[1;32m   1070\u001B[0m \u001B[38;5;28;01mreturn\u001B[39;00m \u001B[38;5;28mself\u001B[39m\u001B[38;5;241m.\u001B[39mindex\u001B[38;5;241m.\u001B[39m_get_values_for_loc(\u001B[38;5;28mself\u001B[39m, loc, label)\n",
      "File \u001B[0;32m~/miniconda3/lib/python3.8/site-packages/pandas/core/indexes/range.py:387\u001B[0m, in \u001B[0;36mRangeIndex.get_loc\u001B[0;34m(self, key, method, tolerance)\u001B[0m\n\u001B[1;32m    385\u001B[0m         \u001B[38;5;28;01mreturn\u001B[39;00m \u001B[38;5;28mself\u001B[39m\u001B[38;5;241m.\u001B[39m_range\u001B[38;5;241m.\u001B[39mindex(new_key)\n\u001B[1;32m    386\u001B[0m     \u001B[38;5;28;01mexcept\u001B[39;00m \u001B[38;5;167;01mValueError\u001B[39;00m \u001B[38;5;28;01mas\u001B[39;00m err:\n\u001B[0;32m--> 387\u001B[0m         \u001B[38;5;28;01mraise\u001B[39;00m \u001B[38;5;167;01mKeyError\u001B[39;00m(key) \u001B[38;5;28;01mfrom\u001B[39;00m \u001B[38;5;21;01merr\u001B[39;00m\n\u001B[1;32m    388\u001B[0m \u001B[38;5;28mself\u001B[39m\u001B[38;5;241m.\u001B[39m_check_indexing_error(key)\n\u001B[1;32m    389\u001B[0m \u001B[38;5;28;01mraise\u001B[39;00m \u001B[38;5;167;01mKeyError\u001B[39;00m(key)\n",
      "\u001B[0;31mKeyError\u001B[0m: 100"
     ]
    }
   ],
   "source": [
    "population_manager.show_groups_from_individual(test_population[0])"
   ]
  },
  {
   "cell_type": "markdown",
   "metadata": {
    "pycharm": {
     "name": "#%% md\n"
    }
   },
   "source": [
    "________"
   ]
  },
  {
   "cell_type": "markdown",
   "metadata": {
    "pycharm": {
     "name": "#%% md\n"
    }
   },
   "source": [
    "2. Selection (Evaluate the fitness of each group, find fittest)"
   ]
  },
  {
   "cell_type": "code",
   "execution_count": 28,
   "metadata": {
    "pycharm": {
     "name": "#%%\n"
    }
   },
   "outputs": [],
   "source": [
    "class Fitness():\n",
    "    def __init__(self):\n",
    "        super(Fitness, self).__init__()\n",
    "\n",
    "    def evaluate_fitness(self, individual, students):\n",
    "        \"\"\" Evaluates the fitness of an individual. \"\"\"\n",
    "\n",
    "        # split individual into student groups of the groupsize\n",
    "        groups = np.array_split(individual, (len(individual)/groupsize))\n",
    "\n",
    "        # iterate over groups and calculate scores for the different parameters\n",
    "        scores = []\n",
    "        for group_ids in groups:\n",
    "            # get full data for students in this group from pd dataframe\n",
    "            group = students.loc[students['ID'].isin(group_ids)]\n",
    "\n",
    "            # get individual scores for parameters\n",
    "            language_score = self.evaluate_language(group)\n",
    "            if language_score == -1:\n",
    "                # if we really want to use a hard constraint we would need to return -1 here, this makes for really bad (initial) results though\n",
    "                # return -1\n",
    "                scores.append(language_score)\n",
    "                continue\n",
    "\n",
    "            major_score = self.evaluate_majors(group)\n",
    "            ambition_score = self.evaluate_ambition(group)\n",
    "            place_score = self.evaluate_meeting_place(group)\n",
    "            gender_score = self.evaluate_gender(group)\n",
    "            friend_score = self.evaluate_friends(group)\n",
    "            personality_score = self.evaluate_personality(group)\n",
    "            day_score = self.evaluate_meeting_day(group)\n",
    "\n",
    "            # formula for adding and weighting different scores\n",
    "            scores.append(language_score+major_score+ambition_score+place_score+gender_score+friend_score+personality_score+day_score)\n",
    "\n",
    "        #Convert to series to calculate mean more easily\n",
    "        return pd.Series(scores).mean()\n",
    "\n",
    "    def evaluate_language(self, group):\n",
    "        # number of groupmembers per language\n",
    "        counts = group['Preferred language'].value_counts()\n",
    "\n",
    "        # hard constraints, if languages are conflicting, return -1\n",
    "        if 'German' in counts.index and 'English' in counts.index:\n",
    "            return -1\n",
    "\n",
    "        return groupsize\n",
    "\n",
    "    def evaluate_majors(self, group):\n",
    "        majors = group['Majors'].tolist()\n",
    "\n",
    "        # preprocess majors from dataset notation to list with all majors\n",
    "        group_majors = []\n",
    "        for pair in majors:\n",
    "            pair = pair[1:-1].split(\", \")\n",
    "\n",
    "            group_majors.append(pair[0][1:-1])\n",
    "            group_majors.append(pair[1][1:-1])\n",
    "\n",
    "        #convert to Series for easier handling\n",
    "        group_majors = pd.Series(group_majors)\n",
    "        #get value counts\n",
    "        group_major_values = group_majors.value_counts()\n",
    "        #remove majors only one person takes (as they provide no synergy to the group)\n",
    "        group_major_values = group_major_values[group_major_values > 1]\n",
    "\n",
    "        #add number of shared majors and divide by 2; Formula is kinda arbitrary\n",
    "        return group_major_values.sum() /2\n",
    "\n",
    "    def evaluate_ambition(self, group):\n",
    "        # get pd Series of ambitions\n",
    "        ambitions = group['Level of ambition']\n",
    "        # get int value mappings for ambitions\n",
    "\n",
    "        mapping = {\n",
    "            'Very low': 1,\n",
    "            'Low': 2,\n",
    "            'Medium': 3,\n",
    "            'High': 4,\n",
    "            'Very high': 5\n",
    "        } \n",
    "\n",
    "        ambitions = ambitions.map(mapping)\n",
    "\n",
    "        # fitness is groupsize - variance in group motivation (so less variance = more fitness)\n",
    "        return groupsize - ambitions.var()\n",
    "\n",
    "    def evaluate_meeting_place(self, group):\n",
    "        # number of groupmembers for each preferred meeting place\n",
    "        meeting_place = group['Preferred meeting place'].value_counts()\n",
    "\n",
    "        # if all prefer the same meeting place return 5, else 0\n",
    "        if meeting_place[0] == groupsize:\n",
    "            return 5\n",
    "\n",
    "        return 0\n",
    "\n",
    "    def evaluate_gender(self, group):\n",
    "        # evaluate by variance\n",
    "        genders = group['Gender'].value_counts()\n",
    "\n",
    "        # add 0 entry for missing genders\n",
    "        for gender in ['Male', 'Female', 'Indeterminate']:\n",
    "            if gender not in genders.index:\n",
    "                genders[gender] = 0\n",
    "\n",
    "        # return groupsize - variance\n",
    "        return groupsize - genders.var()\n",
    "\n",
    "    def evaluate_friends(self, group):\n",
    "        #for each member +1 if friend is also in group\n",
    "        group_member_names = group['Name'].tolist()\n",
    "        best_friends_name = group['Best friend'].tolist()\n",
    "\n",
    "        # get intersection between both lists\n",
    "        friends_in_group = list(set(group_member_names).intersection(best_friends_name))\n",
    "\n",
    "        # fitness += 1 for every pair of friends\n",
    "        return len(friends_in_group)\n",
    "\n",
    "    def evaluate_personality(self, group):\n",
    "        #information about compatible personality types is taken from\n",
    "        # Montequín, Vicente Rodríguez, et al. \"Using Myers-Briggs type indicator (MBTI) as a tool for setting up student teams for information technology projects.\" Journal of Information Technology and Application in Education 1.1 (2012): 28-34.\n",
    "\n",
    "        #count existing personality types in each group\n",
    "        personalities = group['Personality type']\n",
    "        types = personalities.value_counts()\n",
    "\n",
    "        #fitness function starts with 0 and gets better\n",
    "        # with every good group member\n",
    "        fitness = 0\n",
    "\n",
    "        #its good if there is a group leader like an ISTJ or an ESTJ, but only one\n",
    "        try:\n",
    "            if (types['ISTJ'] + types['ESTJ'] == 1):\n",
    "                fitness+=5\n",
    "            elif (types['ISTJ'] + types['ESTJ'] >= 2):\n",
    "                fitness-=5\n",
    "        except KeyError:\n",
    "            pass\n",
    "\n",
    "        #compare compatibility of group members\n",
    "        for i, personality_a in enumerate(personalities.tolist()):\n",
    "            for j, personality_b in enumerate(personalities.tolist()):\n",
    "                # skip same group member and members already compared\n",
    "                if i <= j:\n",
    "                    continue\n",
    "\n",
    "                # increase fitness if\n",
    "                if (personality_a[1] != personality_b[1]) ^ (personality_a[2] != personality_b[2]):\n",
    "                    if (personality_a[0] != personality_b[0]) or (personality_a[3] != personality_b[3]):\n",
    "                        fitness+=1\n",
    "\n",
    "        return fitness\n",
    "\n",
    "    def evaluate_meeting_day(self, group):\n",
    "        # number of groupmembers for each preferred meeting day\n",
    "        meeting_day = group['Preferred day'].value_counts()\n",
    "\n",
    "        # if all prefer the same meeting day return 5, else 0\n",
    "        if meeting_day[0] == groupsize:\n",
    "            return 5\n",
    "\n",
    "        return 0\n",
    "\n",
    "    def mean_fitness(self, population):\n",
    "        # get list of fitness scores for all individuals in this population\n",
    "        fitness_scores = [self.evaluate_fitness(individual, students) for individual in population]\n",
    "\n",
    "        # convert to series to calculate mean more easily\n",
    "        return round(pd.Series(fitness_scores).mean(), 3)\n",
    "\n",
    "    def best_fitness(self, population):\n",
    "        # get list of fitness scores for all individuals in this population\n",
    "        fitness_scores = [self.evaluate_fitness(individual, students) for individual in population]\n",
    "\n",
    "        # sort by best first\n",
    "        scores_sorted = sorted(fitness_scores, reverse=True)\n",
    "\n",
    "        # return fitness of best individual\n",
    "        return round(scores_sorted[0], 3)\n",
    "\n",
    "    def get_fittest_individual(self, population, students):\n",
    "        # get list of fitness scores for all individuals in this population\n",
    "        highest_fitness = float(\"-inf\")\n",
    "        fittest_individual = None\n",
    "        for individual in population:\n",
    "            fitness = self.evaluate_fitness(individual, students)\n",
    "            if highest_fitness < self.evaluate_fitness(individual, students):\n",
    "                highest_fitness = fitness\n",
    "                fittest_individual = individual\n",
    "        return fittest_individual\n",
    "\n",
    "    def indices_sorted_by_fitness(self, population):\n",
    "        fitness_scores = [self.evaluate_fitness(individual, students) for individual in population]\n",
    "\n",
    "        indices = np.argsort(fitness_scores)\n",
    "\n",
    "        return indices.tolist()"
   ]
  },
  {
   "cell_type": "code",
   "execution_count": 29,
   "metadata": {
    "pycharm": {
     "name": "#%%\n"
    }
   },
   "outputs": [
    {
     "data": {
      "text/plain": "41.363"
     },
     "execution_count": 29,
     "metadata": {},
     "output_type": "execute_result"
    }
   ],
   "source": [
    "best_fitness = Fitness().best_fitness(test_population)\n",
    "best_fitness"
   ]
  },
  {
   "cell_type": "markdown",
   "metadata": {
    "pycharm": {
     "name": "#%% md\n"
    }
   },
   "source": [
    "3. Heredity (Pass on the fittest to the next generation)"
   ]
  },
  {
   "cell_type": "code",
   "execution_count": 30,
   "metadata": {
    "pycharm": {
     "name": "#%%\n"
    }
   },
   "outputs": [],
   "source": [
    "class Crossover():\n",
    "    def __init__(self):\n",
    "        super(Crossover, self).__init__()\n",
    "\n",
    "    def uniform_order_crossover(self, p1, p2):\n",
    "\n",
    "        template = self.get_crossover_template(len(p1), crossover_rate=0.2)\n",
    "        # create 'empty' child\n",
    "        child = np.zeros((len(p1),),dtype=int)\n",
    "        # where the template is true, take values from p1\n",
    "        child[template] = p1[template]\n",
    "        # store genes used from p1\n",
    "        used_genes = p1[template]\n",
    "\n",
    "        # get all genes from p2\n",
    "        remaining_genes = p2.tolist()\n",
    "        # add genes from p2 (that were not used from p1) to the empty spots of the child\n",
    "        for i, value in enumerate(child):\n",
    "            # if this spot is already filled, continue\n",
    "            if value != 0:\n",
    "                continue\n",
    "\n",
    "            # do while:  pop(get and remove) next gene from p2 until one is found that is not yet in the genome of the child, then add that\n",
    "            while True:\n",
    "                next_gene = remaining_genes.pop(0)\n",
    "                if next_gene not in used_genes:\n",
    "                    child[i] = next_gene\n",
    "                    break\n",
    "\n",
    "        return child\n",
    "\n",
    "    def get_crossover_template(self,length, crossover_rate = 0.2):\n",
    "        # initialize template with false values\n",
    "        template = np.zeros((length,),dtype=bool)\n",
    "        # get random indices of the amount #of genes * crossover rate\n",
    "        random_indices = np.random.choice(template.shape[0], int(length*crossover_rate), replace=False)\n",
    "        #set these indices to true\n",
    "        template[random_indices] = True\n",
    "\n",
    "        return template\n",
    "\n",
    "    def tournament_selection(self, population, tournament_size = 8):\n",
    "        # get random indices to select random individuals from population\n",
    "        random_indices = np.random.choice(population.shape[0], tournament_size*2, replace=False)\n",
    "\n",
    "        # get individuals from random indices and split into two tournaments\n",
    "        tournament1 = population[random_indices[:tournament_size]]\n",
    "        tournament2 = population[random_indices[tournament_size:]]\n",
    "\n",
    "        parents = []\n",
    "        # tournament is won by fittest individual in each tournament, those become the two parents\n",
    "        for tournament in (tournament1,tournament2):\n",
    "            # get fitness scores for every individual in the tournament\n",
    "            fitness_scores = [Fitness().evaluate_fitness(individual, students) for individual in tournament]\n",
    "            # get indices ordered by highest fitness first\n",
    "            idx = np.argsort(fitness_scores)[::-1]\n",
    "            # add individual with highest fitness to parents\n",
    "            parents.append(tournament[idx[0]])\n",
    "\n",
    "        return parents"
   ]
  },
  {
   "cell_type": "code",
   "execution_count": 31,
   "metadata": {
    "pycharm": {
     "name": "#%%\n"
    }
   },
   "outputs": [
    {
     "name": "stdout",
     "output_type": "stream",
     "text": [
      "[[56 28 12 ... 79 64 77]\n",
      " [12 41 92 ... 79 21 62]\n",
      " [81 42 92 ... 28 36 80]\n",
      " ...\n",
      " [97 69  8 ... 53 33 35]\n",
      " [25 44 49 ... 72 59 13]\n",
      " [ 3 58 36 ... 37 73 45]] \n",
      "\n",
      "[ 76  61  49  18  39  47  42  31  86  75  11   6  73  88  41  29  65  13\n",
      "  69  15  20  67  92   8 100  40  62  51  48   5  98  97   3  37  16  74\n",
      "  44  90  85  36  53  28  21  84  32  43  14   9  57  19  12  22   4  46\n",
      "  80  23  71  35  38  59  45  96  70  78  56  79  91  10  52  68  30  58\n",
      "  66   7  99  50  95  34  27  24  82   2  77  17  87  26  93  33  54  55\n",
      " 101  25  72  94  81  89  60  63  64  83] \n",
      "\n",
      "[ 81  42  92  91  83  63  37  67  10  19  50  41  30  29  64  54  94   6\n",
      "  77   2  11  57  20  89  33  12  39  65  98  49  40  70  66 100  14  27\n",
      "  61  45  85  43  55  38  86  52  95  17  60  44  26  15  84  51  87   3\n",
      "  34  93  88  35  78   4  73  22  56  96  32  72  47  90  62  68  99   5\n",
      "  59  69  58  18  76  79  48 101  23  25  74  24  97  75  71  16  82  46\n",
      "  31  21   9   8   7  13  53  28  36  80] \n",
      "\n",
      "[ 81  42  92  91  83  63  37  19  86  75  50  41  30  29  64  54  94   6\n",
      "  77   2  11  67  57  20  89  12  39  65  98  49  40  70   3  66 100  74\n",
      "  14  90  27  61  85  43  21  55  38  52  44  26  15  84  51  87   4  46\n",
      "  93  88  78  35  73  22  45  96  32  72  56  47  62  10  99  68   5  59\n",
      "  69  58  18  76  95  34  79  48 101  23  24  17  97  71  16  33  82  31\n",
      "   9  25   8   7  13  53  60  28  36  80]\n"
     ]
    }
   ],
   "source": [
    "random_population = Population(students, num_individuals, groupsize).create_initial_population()\n",
    "\n",
    "print(random_population, '\\n')\n",
    "\n",
    "random_parent1, random_parent2 = Crossover().tournament_selection(random_population)\n",
    "\n",
    "print(random_parent1, '\\n')\n",
    "print(random_parent2, '\\n')\n",
    "\n",
    "child = Crossover().uniform_order_crossover(random_parent1, random_parent2)\n",
    "\n",
    "print(child)"
   ]
  },
  {
   "cell_type": "markdown",
   "metadata": {
    "pycharm": {
     "name": "#%% md\n"
    }
   },
   "source": [
    "We also add a mutation function: "
   ]
  },
  {
   "cell_type": "code",
   "execution_count": 32,
   "metadata": {
    "pycharm": {
     "name": "#%%\n"
    }
   },
   "outputs": [],
   "source": [
    "def mutation(individual, mutation_rate = 0.2):\n",
    "    # if random percentage is lower than the mutation rate, switch two random genes\n",
    "    if random.uniform(0, 1) < mutation_rate:\n",
    "        idx1 = random.randint(0, len(individual)-1)\n",
    "        idx2 = random.randint(0, len(individual)-1)\n",
    "\n",
    "        individual[idx1], individual[idx2] = individual[idx2], individual[idx1]\n",
    "\n",
    "    return individual"
   ]
  },
  {
   "cell_type": "markdown",
   "metadata": {
    "pycharm": {
     "name": "#%% md\n"
    }
   },
   "source": [
    "Finally, our executable GA class:"
   ]
  },
  {
   "cell_type": "code",
   "execution_count": 40,
   "metadata": {
    "pycharm": {
     "name": "#%%\n"
    }
   },
   "outputs": [],
   "source": [
    "class Genetic_Algorithm():\n",
    "    def __init__(self, students, num_individuals, groupsize):\n",
    "        super(Genetic_Algorithm, self).__init__()\n",
    "\n",
    "        self.students = students\n",
    "        self.groupsize = groupsize\n",
    "        self.num_individuals = num_individuals\n",
    "        self.ids = students.ID.tolist()\n",
    "\n",
    "    def run(self, episodes, replace='all', mutation_rate=0.2):\n",
    "\n",
    "        self.epidodes = episodes\n",
    "        self.population = Population(students, num_individuals, groupsize).create_initial_population()\n",
    "\n",
    "        print(\"episode \" + str(0) + \": mean fitness score: \" + str(Fitness().mean_fitness(self.population)) + \"; best individual fitness: \" + str(Fitness().best_fitness(self.population)))\n",
    "\n",
    "        if replace == 'all':\n",
    "            for episode in range(episodes):\n",
    "                new_pop = []\n",
    "                # we get two new individuals by each step, so half the pop size\n",
    "                for _ in range(len(self.population)//2):\n",
    "                    # find two parents by tournament selection\n",
    "                    p1, p2 = Crossover().tournament_selection(self.population,8)\n",
    "\n",
    "                    # create two children by uniform order crossover\n",
    "                    c1 = Crossover().uniform_order_crossover(p1,p2)\n",
    "                    c2 = Crossover().uniform_order_crossover(p2,p1)\n",
    "                    # do mutation\n",
    "                    c1 = mutation(c1, mutation_rate)\n",
    "                    c2 = mutation(c2, mutation_rate)\n",
    "                    # add children to new population\n",
    "                    new_pop.append(c1)\n",
    "                    new_pop.append(c2)\n",
    "\n",
    "                self.population = np.array(new_pop,dtype=int)\n",
    "\n",
    "                print(\"episode \" + str(episode+1) + \": mean fitness score: \" + str(Fitness().mean_fitness(self.population)) + \"; best individual fitness: \" + str(Fitness().best_fitness(self.population)))\n",
    "\n",
    "        elif list(replace):\n",
    "            for episode in range(episodes):\n",
    "                pop_indices_sorted_by_fitness = Fitness().indices_sorted_by_fitness(self.population)\n",
    "                \n",
    "                # we get two new individuals by each step, so half the pop size\n",
    "                for _ in range(replace//2):\n",
    "                    # find two parents by tournament selection\n",
    "                    p1, p2 = Crossover().tournament_selection(self.population,8)\n",
    "\n",
    "                    # create two children by uniform order crossover\n",
    "                    c1 = Crossover().uniform_order_crossover(p1,p2)\n",
    "                    c2 = Crossover().uniform_order_crossover(p2,p1)\n",
    "                    # do mutation\n",
    "                    c1 = mutation(c1)\n",
    "                    c2 = mutation(c2)\n",
    "                    # add children to new population\n",
    "                    next_idx = pop_indices_sorted_by_fitness.pop(0)\n",
    "                    self.population[next_idx] = c1\n",
    "                    next_idx = pop_indices_sorted_by_fitness.pop(0)\n",
    "                    self.population[next_idx] = c2\n",
    "\n",
    "                print(\"episode \" + str(episode+1) + \": mean fitness score: \" + str(Fitness().mean_fitness(self.population)) + \"; best individual fitness: \" + str(Fitness().best_fitness(self.population)))\n",
    "\n",
    "        return self.population"
   ]
  },
  {
   "cell_type": "code",
   "execution_count": 41,
   "outputs": [
    {
     "name": "stdout",
     "output_type": "stream",
     "text": [
      "episode 0: mean fitness score: 25.577; best individual fitness: 37.401\n",
      "episode 1: mean fitness score: 28.785; best individual fitness: 41.23\n",
      "episode 2: mean fitness score: 30.684; best individual fitness: 41.989\n",
      "episode 3: mean fitness score: 32.759; best individual fitness: 43.192\n",
      "episode 4: mean fitness score: 34.327; best individual fitness: 48.13\n",
      "episode 5: mean fitness score: 37.916; best individual fitness: 49.438\n",
      "episode 6: mean fitness score: 39.799; best individual fitness: 49.063\n",
      "episode 7: mean fitness score: 42.62; best individual fitness: 51.177\n",
      "episode 8: mean fitness score: 44.459; best individual fitness: 50.224\n",
      "episode 9: mean fitness score: 45.874; best individual fitness: 51.348\n",
      "episode 10: mean fitness score: 47.222; best individual fitness: 51.762\n"
     ]
    }
   ],
   "source": [
    "population = Genetic_Algorithm(students, num_individuals, groupsize).run(episodes=10, replace='all', mutation_rate=0.2)"
   ],
   "metadata": {
    "collapsed": false,
    "pycharm": {
     "name": "#%%\n"
    }
   }
  },
  {
   "cell_type": "code",
   "execution_count": 42,
   "outputs": [
    {
     "data": {
      "text/plain": "   ID                Name  Gender Preferred language          Majors  \\\n0   8   Sabrina Diederich  Female                Any  ('PHIL', 'AI')   \n1  67        Doreen Freud  Female                Any    ('NS', 'NI')   \n2  68         Anne Brandt  Female                Any    ('CL', 'CP')   \n3  39      Antje Schroder  Female                Any    ('NS', 'CP')   \n4  76      Andreas Fisher    Male             German  ('NI', 'PHIL')   \n5  35        Jan Dietrich    Male             German    ('AI', 'NI')   \n6  78        Marie Muench  Female                Any    ('NI', 'AI')   \n7  30    Christian Werfel    Male                Any    ('CP', 'AI')   \n8  57  Maximilian Fiedler    Male             German    ('AI', 'NI')   \n9  58        Jonas Zimmer    Male                Any    ('AI', 'CP')   \n\n  Level of ambition Preferred meeting place Personality type  \\\n0               Low               In person             ENTP   \n1            Medium               In person             INTP   \n2               Low               In person             ENTJ   \n3            Medium                  Online             ESTP   \n4               Low               In person             ESTP   \n5              High               In person             ISTP   \n6         Very high               In person             INFP   \n7          Very low                  Online             ISTJ   \n8          Very low               In person             ISTP   \n9              High                  Online             ENTP   \n\n         Best friend Preferred day  \n0     Sandra Metzger        Monday  \n1        Felix Wirtz        Monday  \n2    Patrick Shuster        Friday  \n3    Dennis Reiniger        Friday  \n4  Ralph Weissmuller        Friday  \n5   Juliane Drescher     Wednesday  \n6       Erik Schäfer       Tuesday  \n7     Diana Traugott      Thursday  \n8   Marco Eisenhauer       Tuesday  \n9         Mike Freud      Thursday  ",
      "text/html": "<div>\n<style scoped>\n    .dataframe tbody tr th:only-of-type {\n        vertical-align: middle;\n    }\n\n    .dataframe tbody tr th {\n        vertical-align: top;\n    }\n\n    .dataframe thead th {\n        text-align: right;\n    }\n</style>\n<table border=\"1\" class=\"dataframe\">\n  <thead>\n    <tr style=\"text-align: right;\">\n      <th></th>\n      <th>ID</th>\n      <th>Name</th>\n      <th>Gender</th>\n      <th>Preferred language</th>\n      <th>Majors</th>\n      <th>Level of ambition</th>\n      <th>Preferred meeting place</th>\n      <th>Personality type</th>\n      <th>Best friend</th>\n      <th>Preferred day</th>\n    </tr>\n  </thead>\n  <tbody>\n    <tr>\n      <th>0</th>\n      <td>8</td>\n      <td>Sabrina Diederich</td>\n      <td>Female</td>\n      <td>Any</td>\n      <td>('PHIL', 'AI')</td>\n      <td>Low</td>\n      <td>In person</td>\n      <td>ENTP</td>\n      <td>Sandra Metzger</td>\n      <td>Monday</td>\n    </tr>\n    <tr>\n      <th>1</th>\n      <td>67</td>\n      <td>Doreen Freud</td>\n      <td>Female</td>\n      <td>Any</td>\n      <td>('NS', 'NI')</td>\n      <td>Medium</td>\n      <td>In person</td>\n      <td>INTP</td>\n      <td>Felix Wirtz</td>\n      <td>Monday</td>\n    </tr>\n    <tr>\n      <th>2</th>\n      <td>68</td>\n      <td>Anne Brandt</td>\n      <td>Female</td>\n      <td>Any</td>\n      <td>('CL', 'CP')</td>\n      <td>Low</td>\n      <td>In person</td>\n      <td>ENTJ</td>\n      <td>Patrick Shuster</td>\n      <td>Friday</td>\n    </tr>\n    <tr>\n      <th>3</th>\n      <td>39</td>\n      <td>Antje Schroder</td>\n      <td>Female</td>\n      <td>Any</td>\n      <td>('NS', 'CP')</td>\n      <td>Medium</td>\n      <td>Online</td>\n      <td>ESTP</td>\n      <td>Dennis Reiniger</td>\n      <td>Friday</td>\n    </tr>\n    <tr>\n      <th>4</th>\n      <td>76</td>\n      <td>Andreas Fisher</td>\n      <td>Male</td>\n      <td>German</td>\n      <td>('NI', 'PHIL')</td>\n      <td>Low</td>\n      <td>In person</td>\n      <td>ESTP</td>\n      <td>Ralph Weissmuller</td>\n      <td>Friday</td>\n    </tr>\n    <tr>\n      <th>5</th>\n      <td>35</td>\n      <td>Jan Dietrich</td>\n      <td>Male</td>\n      <td>German</td>\n      <td>('AI', 'NI')</td>\n      <td>High</td>\n      <td>In person</td>\n      <td>ISTP</td>\n      <td>Juliane Drescher</td>\n      <td>Wednesday</td>\n    </tr>\n    <tr>\n      <th>6</th>\n      <td>78</td>\n      <td>Marie Muench</td>\n      <td>Female</td>\n      <td>Any</td>\n      <td>('NI', 'AI')</td>\n      <td>Very high</td>\n      <td>In person</td>\n      <td>INFP</td>\n      <td>Erik Schäfer</td>\n      <td>Tuesday</td>\n    </tr>\n    <tr>\n      <th>7</th>\n      <td>30</td>\n      <td>Christian Werfel</td>\n      <td>Male</td>\n      <td>Any</td>\n      <td>('CP', 'AI')</td>\n      <td>Very low</td>\n      <td>Online</td>\n      <td>ISTJ</td>\n      <td>Diana Traugott</td>\n      <td>Thursday</td>\n    </tr>\n    <tr>\n      <th>8</th>\n      <td>57</td>\n      <td>Maximilian Fiedler</td>\n      <td>Male</td>\n      <td>German</td>\n      <td>('AI', 'NI')</td>\n      <td>Very low</td>\n      <td>In person</td>\n      <td>ISTP</td>\n      <td>Marco Eisenhauer</td>\n      <td>Tuesday</td>\n    </tr>\n    <tr>\n      <th>9</th>\n      <td>58</td>\n      <td>Jonas Zimmer</td>\n      <td>Male</td>\n      <td>Any</td>\n      <td>('AI', 'CP')</td>\n      <td>High</td>\n      <td>Online</td>\n      <td>ENTP</td>\n      <td>Mike Freud</td>\n      <td>Thursday</td>\n    </tr>\n  </tbody>\n</table>\n</div>"
     },
     "execution_count": 42,
     "metadata": {},
     "output_type": "execute_result"
    }
   ],
   "source": [
    "# Select the fittest individiual from our population\n",
    "fittest_individual = Fitness().get_fittest_individual(population, students)\n",
    "\n",
    "# Convert the Gene String to a List of Groups\n",
    "groups_df = population_manager.get_groups_from_individual(fittest_individual)\n",
    "\n",
    "# Plot an example group of the list\n",
    "groups_df[0]"
   ],
   "metadata": {
    "collapsed": false,
    "pycharm": {
     "name": "#%%\n"
    }
   }
  },
  {
   "cell_type": "markdown",
   "source": [
    "*Let's find your group or the one of a friend*"
   ],
   "metadata": {
    "collapsed": false,
    "pycharm": {
     "name": "#%% md\n"
    }
   }
  },
  {
   "cell_type": "code",
   "execution_count": 45,
   "outputs": [
    {
     "name": "stdout",
     "output_type": "stream",
     "text": [
      "[     ID                 Name  Gender Preferred language          Majors  \\\n",
      "60   92         Sarah Hoover  Female                Any    ('NS', 'NI')   \n",
      "61   16         Stefan Beyer    Male                Any    ('CP', 'NI')   \n",
      "62   73         Jörg Strauss    Male            English  ('NS', 'PHIL')   \n",
      "63   10          René Kuefer    Male                Any    ('NS', 'NI')   \n",
      "64  100  Juliane Schultheiss  Female            English    ('AI', 'CP')   \n",
      "65   45      Brigitte Müller  Female            English    ('AI', 'CP')   \n",
      "66   72   Maximilian Schäfer    Male            English    ('AI', 'NI')   \n",
      "67    3    Johanna Schreiber  Female                Any    ('CL', 'NI')   \n",
      "68   93          Marina Kalb  Female                Any  ('NI', 'PHIL')   \n",
      "69   15     Marco Eisenhauer    Male                Any    ('NI', 'CL')   \n",
      "\n",
      "   Level of ambition Preferred meeting place Personality type  \\\n",
      "60              High               In person             ESTJ   \n",
      "61               Low               In person             ESTP   \n",
      "62          Very low               In person             ISTP   \n",
      "63               Low               In person             INTP   \n",
      "64         Very high               In person             ESFP   \n",
      "65               Low                  Online             INTJ   \n",
      "66              High               In person             ISTP   \n",
      "67         Very high               In person             ENFJ   \n",
      "68              High               In person             INTJ   \n",
      "69              High               In person             ISTJ   \n",
      "\n",
      "           Best friend Preferred day  \n",
      "60      Jennifer König      Thursday  \n",
      "61           Sven Weiß        Friday  \n",
      "62         Leon Fisher        Friday  \n",
      "63        Dominik Hoch        Monday  \n",
      "64    Felix Gruenewald     Wednesday  \n",
      "65          Laura Wulf        Monday  \n",
      "66       Juliane Freeh        Friday  \n",
      "67        Marie Kohler     Wednesday  \n",
      "68         Tim Krueger      Thursday  \n",
      "69  Maximilian Fiedler       Tuesday  ]\n"
     ]
    }
   ],
   "source": [
    "# User Input for the Full Name - Please be accurate!\n",
    "fullname = str(input(\"Please the Full-Name you want to look up: \"))\n",
    "# Get the group by your Full Name - If there are multiple Persons with your name you will get all of them\n",
    "my_group = population_manager.get_groups_by_person_fullname(fullname, fittest_individual)\n",
    "# Plotting the first group found\n",
    "if my_group:\n",
    "    print(my_group)\n",
    "else:\n",
    "    print(\"Didn't find the requested Person with given Fullname\")"
   ],
   "metadata": {
    "collapsed": false,
    "pycharm": {
     "name": "#%%\n"
    }
   }
  },
  {
   "cell_type": "code",
   "execution_count": 46,
   "outputs": [
    {
     "name": "stdout",
     "output_type": "stream",
     "text": [
      "    ID              Name  Gender Preferred language          Majors  \\\n",
      "70  97        Sara Papst  Female                Any    ('NI', 'AI')   \n",
      "71  64   Angelika Brauer  Female                Any    ('CP', 'NS')   \n",
      "72  33       Niklas Frey    Male             German    ('NI', 'NS')   \n",
      "73  82  Phillipp Koertig    Male                Any    ('CP', 'NS')   \n",
      "74  63       Karin Pfaff  Female                Any    ('NS', 'CP')   \n",
      "75  65         Sven Weiß    Male                Any    ('AI', 'CP')   \n",
      "76  21      Sven Holzman    Male                Any    ('CL', 'NI')   \n",
      "77  95    Diana Traugott  Female                Any    ('NI', 'NS')   \n",
      "78  44   Ursula Reiniger  Female                Any    ('CL', 'NS')   \n",
      "79  12       Luca Wexler    Male             German  ('NI', 'PHIL')   \n",
      "\n",
      "   Level of ambition Preferred meeting place Personality type  \\\n",
      "70          Very low               In person             ESFP   \n",
      "71         Very high                  Online             ISFP   \n",
      "72            Medium                  Online             ENTJ   \n",
      "73         Very high               In person             ISTJ   \n",
      "74              High                  Online             INFP   \n",
      "75               Low                  Online             INFJ   \n",
      "76         Very high               In person             ESTJ   \n",
      "77         Very high               In person             ESFP   \n",
      "78         Very high               In person             ESFP   \n",
      "79         Very high                  Online             INFP   \n",
      "\n",
      "           Best friend Preferred day  \n",
      "70        Sarah Mehler      Thursday  \n",
      "71  Phillipp Schroeder     Wednesday  \n",
      "72      Sophie Kastner       Tuesday  \n",
      "73   Christian Kuester        Monday  \n",
      "74         Luca Wexler     Wednesday  \n",
      "75        Stefan Beyer        Monday  \n",
      "76        Anke Lehmann        Friday  \n",
      "77    Christian Werfel        Monday  \n",
      "78      Jessika Wagner      Thursday  \n",
      "79         Karin Pfaff     Wednesday  \n"
     ]
    }
   ],
   "source": [
    "# Find your group by your ID\n",
    "my_group = population_manager.get_group_by_person_ID(33, fittest_individual)\n",
    "# Plotting the group, if one found with given ID\n",
    "if my_group is not None:\n",
    "    print(my_group)\n",
    "else:\n",
    "    print(\"Didn't find the requested Person with given ID\")"
   ],
   "metadata": {
    "collapsed": false,
    "pycharm": {
     "name": "#%%\n"
    }
   }
  },
  {
   "cell_type": "markdown",
   "source": [
    "## Manual Data Analysis\n",
    "In the next code cells you can look at the distributions of people in groups. Feel free to add more!"
   ],
   "metadata": {
    "collapsed": false,
    "pycharm": {
     "name": "#%% md\n"
    }
   }
  },
  {
   "cell_type": "code",
   "execution_count": null,
   "outputs": [],
   "source": [
    "def print_groups_distribution(column_name, groups):\n",
    "    for group_index, group in enumerate(groups):\n",
    "        statistics = group[column_name].value_counts() / group[column_name].value_counts().sum()\n",
    "        print(f\"Group {group_index}: Ratio of {column_name} is {sorted([i + ': ' + str(statistics[i]) for i in statistics.index])}\")"
   ],
   "metadata": {
    "collapsed": false,
    "pycharm": {
     "name": "#%%\n"
    }
   }
  },
  {
   "cell_type": "code",
   "execution_count": null,
   "outputs": [],
   "source": [
    "def print_groups_friends_match(groups):\n",
    "\n",
    "    for group_index, group in enumerate(groups):\n",
    "        print(f\"Group {group_index}: Friends matching: {Fitness().evaluate_friends(groups_df[0])}\")"
   ],
   "metadata": {
    "collapsed": false,
    "pycharm": {
     "name": "#%%\n"
    }
   }
  },
  {
   "cell_type": "code",
   "execution_count": null,
   "outputs": [],
   "source": [
    "print_groups_distribution(\"Gender\", groups_df)"
   ],
   "metadata": {
    "collapsed": false,
    "pycharm": {
     "name": "#%%\n"
    }
   }
  },
  {
   "cell_type": "code",
   "execution_count": null,
   "outputs": [],
   "source": [
    "print_groups_distribution(\"Preferred language\", groups_df)"
   ],
   "metadata": {
    "collapsed": false,
    "pycharm": {
     "name": "#%%\n"
    }
   }
  },
  {
   "cell_type": "code",
   "execution_count": null,
   "outputs": [],
   "source": [
    "print_groups_distribution(\"Preferred meeting place\", groups_df)"
   ],
   "metadata": {
    "collapsed": false,
    "pycharm": {
     "name": "#%%\n"
    }
   }
  },
  {
   "cell_type": "code",
   "execution_count": null,
   "outputs": [],
   "source": [
    "print_groups_distribution(\"Preferred day\", groups_df)"
   ],
   "metadata": {
    "collapsed": false,
    "pycharm": {
     "name": "#%%\n"
    }
   }
  },
  {
   "cell_type": "code",
   "execution_count": null,
   "outputs": [],
   "source": [
    "print_groups_distribution(\"Personality type\", groups_df)"
   ],
   "metadata": {
    "collapsed": false,
    "pycharm": {
     "name": "#%%\n"
    }
   }
  },
  {
   "cell_type": "code",
   "execution_count": null,
   "outputs": [],
   "source": [
    "print_groups_distribution(\"Level of ambition\", groups_df)"
   ],
   "metadata": {
    "collapsed": false,
    "pycharm": {
     "name": "#%%\n"
    }
   }
  },
  {
   "cell_type": "code",
   "execution_count": null,
   "outputs": [],
   "source": [
    "print_groups_friends_match(groups_df)"
   ],
   "metadata": {
    "collapsed": false,
    "pycharm": {
     "name": "#%%\n"
    }
   }
  },
  {
   "cell_type": "code",
   "execution_count": null,
   "outputs": [],
   "source": [],
   "metadata": {
    "collapsed": false,
    "pycharm": {
     "name": "#%%\n"
    }
   }
  }
 ],
 "metadata": {
  "kernelspec": {
   "display_name": "Python 3",
   "language": "python",
   "name": "python3"
  },
  "language_info": {
   "codemirror_mode": {
    "name": "ipython",
    "version": 3
   },
   "file_extension": ".py",
   "mimetype": "text/x-python",
   "name": "python",
   "nbconvert_exporter": "python",
   "pygments_lexer": "ipython3",
   "version": "3.9.7"
  }
 },
 "nbformat": 4,
 "nbformat_minor": 0
}