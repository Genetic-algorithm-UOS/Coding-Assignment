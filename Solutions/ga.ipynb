{
 "cells": [
  {
   "cell_type": "code",
   "execution_count": 435,
   "metadata": {},
   "outputs": [],
   "source": [
    "import numpy as np\n",
    "import random"
   ]
  },
  {
   "cell_type": "code",
   "execution_count": 436,
   "metadata": {},
   "outputs": [],
   "source": [
    "group_size = 3\n",
    "\n",
    "students = [\n",
    "    {'id':1, 'name':'alexandra','gender':'f', 'location':'online', 'language':'german'},\n",
    "    {'id':2, 'name':'josie','gender':'f', 'location':'onsite', 'language':'english'},\n",
    "    {'id':3, 'name':'laurel','gender':'f', 'location':'online', 'language':'both'},\n",
    "    {'id':4, 'name':'bob','gender':'m', 'location':'onsite', 'language':'german'},\n",
    "    {'id':5, 'name':'justin','gender':'m', 'location':'online', 'language':'german'},\n",
    "    {'id':6, 'name':'aaron','gender':'m', 'location':'online', 'language':'english'},\n",
    "    {'id':7, 'name':'frances','gender':'f', 'location':'onsite', 'language':'english'},\n",
    "    {'id':8, 'name':'sally','gender':'f', 'location':'onsite', 'language':'both'},\n",
    "    {'id':9, 'name':'claire','gender':'f', 'location':'online', 'language':'english'},\n",
    "    {'id':10, 'name':'carol','gender':'f', 'location':'onsite', 'language':'both'},\n",
    "    {'id':11, 'name':'lauren','gender':'f', 'location':'online', 'language':'german'},\n",
    "    {'id':12, 'name':'nora','gender':'f', 'location':'onsite', 'language':'english'},\n",
    "    {'id':13, 'name':'charlotte','gender':'f', 'location':'online', 'language':'both'},\n",
    "    {'id':14, 'name':'camille','gender':'f', 'location':'onsite', 'language':'both'},\n",
    "    {'id':15, 'name':'ben','gender':'m', 'location':'onsite', 'language':'german'},           \n",
    "    {'id':16, 'name':'dan','gender':'m', 'location':'online', 'language':'english'},\n",
    "    {'id':17, 'name':'harold','gender':'m', 'location':'online', 'language':'english'},\n",
    "    {'id':18, 'name':'evelyn','gender':'f', 'location':'online', 'language':'both'},\n",
    "    {'id':19, 'name':'leigh-ann','gender':'f', 'location':'onsite', 'language':'both'},\n",
    "    {'id':20, 'name':'melissa','gender':'f', 'location':'online', 'language':'german'},  \n",
    "    {'id':21, 'name':'brian','gender':'m', 'location':'onsite', 'language':'english'},\n",
    "    ]"
   ]
  },
  {
   "cell_type": "markdown",
   "metadata": {},
   "source": [
    "Random population"
   ]
  },
  {
   "cell_type": "code",
   "execution_count": 437,
   "metadata": {},
   "outputs": [],
   "source": [
    "def generate_population(students, groupsize):\n",
    "\n",
    "    students_copy = students.copy()\n",
    "\n",
    "    arr = np.zeros(shape=(int(len(students_copy)/group_size), group_size, 1), dtype=int)\n",
    "\n",
    "    for i in range(0,len(arr)):\n",
    "        for j in range(0,groupsize):\n",
    "            x = random.choice(students_copy)\n",
    "            arr[i][j] = x['id']\n",
    "            students_copy.remove(x)\n",
    "    return arr"
   ]
  },
  {
   "cell_type": "code",
   "execution_count": 438,
   "metadata": {},
   "outputs": [
    {
     "data": {
      "text/plain": [
       "array([[[11],\n",
       "        [14],\n",
       "        [19]],\n",
       "\n",
       "       [[ 4],\n",
       "        [ 5],\n",
       "        [ 9]],\n",
       "\n",
       "       [[ 8],\n",
       "        [15],\n",
       "        [ 2]],\n",
       "\n",
       "       [[16],\n",
       "        [ 7],\n",
       "        [10]],\n",
       "\n",
       "       [[21],\n",
       "        [ 1],\n",
       "        [12]],\n",
       "\n",
       "       [[17],\n",
       "        [ 3],\n",
       "        [ 6]],\n",
       "\n",
       "       [[13],\n",
       "        [20],\n",
       "        [18]]])"
      ]
     },
     "execution_count": 438,
     "metadata": {},
     "output_type": "execute_result"
    }
   ],
   "source": [
    "population = generate_population(students, group_size)\n",
    "population"
   ]
  },
  {
   "cell_type": "code",
   "execution_count": 439,
   "metadata": {},
   "outputs": [
    {
     "data": {
      "text/plain": [
       "21"
      ]
     },
     "execution_count": 439,
     "metadata": {},
     "output_type": "execute_result"
    }
   ],
   "source": [
    "len(set(population.flatten()))"
   ]
  },
  {
   "cell_type": "code",
   "execution_count": 440,
   "metadata": {},
   "outputs": [],
   "source": [
    "def show_population(array, students):\n",
    "    for n,i in enumerate(array): \n",
    "        print('\\nGroup:' ,n+1)\n",
    "        for j in i:\n",
    "            for k in students:\n",
    "                if k['id'] == int(j[0]):\n",
    "                    print(k['name'])"
   ]
  },
  {
   "cell_type": "code",
   "execution_count": 441,
   "metadata": {},
   "outputs": [
    {
     "name": "stdout",
     "output_type": "stream",
     "text": [
      "\n",
      "Group: 1\n",
      "lauren\n",
      "camille\n",
      "leigh-ann\n",
      "\n",
      "Group: 2\n",
      "bob\n",
      "justin\n",
      "claire\n",
      "\n",
      "Group: 3\n",
      "sally\n",
      "ben\n",
      "josie\n",
      "\n",
      "Group: 4\n",
      "dan\n",
      "frances\n",
      "carol\n",
      "\n",
      "Group: 5\n",
      "brian\n",
      "alexandra\n",
      "nora\n",
      "\n",
      "Group: 6\n",
      "harold\n",
      "laurel\n",
      "aaron\n",
      "\n",
      "Group: 7\n",
      "charlotte\n",
      "melissa\n",
      "evelyn\n"
     ]
    }
   ],
   "source": [
    "show_population(population, students)"
   ]
  },
  {
   "cell_type": "markdown",
   "metadata": {},
   "source": [
    "Evaluation: \n",
    "\n",
    "* Group has to be mixed with atleast one female and one male\n",
    "* Group has to have the same language\n",
    "* Group has to work in same location\n",
    "* Group has to have the same language or people that speak both languages"
   ]
  },
  {
   "cell_type": "code",
   "execution_count": 442,
   "metadata": {},
   "outputs": [],
   "source": [
    "def evaluate(array, students):\n",
    "\n",
    "    total = []\n",
    "    for i in array:\n",
    "        local = 0\n",
    "        gender = []\n",
    "        location = []\n",
    "        langauge = []\n",
    "        for j in i: # Group\n",
    "            for k in students:\n",
    "                if k['id'] == int(j[0]):\n",
    "                    \n",
    "                    gender.append(k['gender'])\n",
    "                    location.append(k['location'])\n",
    "                    langauge.append(k['language'])\n",
    "\n",
    "        if gender.count('m') <= 2 or gender.count('f') <= 2:\n",
    "            local += 1\n",
    "\n",
    "        if len(set(location)) == 1:\n",
    "            local += 1\n",
    "\n",
    "        if len(set(langauge)) == 1:\n",
    "            local += 1\n",
    "\n",
    "        total.append(local)\n",
    "\n",
    "    return sum(total)"
   ]
  },
  {
   "cell_type": "code",
   "execution_count": 443,
   "metadata": {},
   "outputs": [
    {
     "data": {
      "text/plain": [
       "10"
      ]
     },
     "execution_count": 443,
     "metadata": {},
     "output_type": "execute_result"
    }
   ],
   "source": [
    "evaluate(population, students)"
   ]
  },
  {
   "cell_type": "markdown",
   "metadata": {},
   "source": [
    "Selection and getting Parents"
   ]
  },
  {
   "cell_type": "code",
   "execution_count": 444,
   "metadata": {},
   "outputs": [],
   "source": [
    "def get_parents(scores, total_population):\n",
    "\n",
    "    parents = []\n",
    "\n",
    "    max_score = max(scores)\n",
    "    max_index = scores.index(max_score)\n",
    "    parents.append(total_population[max_index])\n",
    "    scores.remove(max_score)\n",
    "\n",
    "    max_score = max(scores)\n",
    "    max_index = scores.index(max_score)\n",
    "    parents.append(total_population[max_index])\n",
    "    scores.remove(max_score)\n",
    "\n",
    "    return parents"
   ]
  },
  {
   "cell_type": "code",
   "execution_count": 445,
   "metadata": {},
   "outputs": [],
   "source": [
    "dummy_populations = [generate_population(students, group_size) for i in range(0,10)]\n",
    "dummy_scores = [evaluate(i, students) for i in dummy_populations]"
   ]
  },
  {
   "cell_type": "code",
   "execution_count": 446,
   "metadata": {},
   "outputs": [],
   "source": [
    "a,b = get_parents(dummy_scores, dummy_populations)"
   ]
  },
  {
   "cell_type": "markdown",
   "metadata": {},
   "source": [
    "Reproduction (and Mutation)"
   ]
  },
  {
   "cell_type": "code",
   "execution_count": 447,
   "metadata": {},
   "outputs": [],
   "source": [
    "def crossover(parent1, parent2):\n",
    "\n",
    "    if len(parent1) != len(parent2):\n",
    "        print('Parents are not the same length')\n",
    "        return\n",
    "    \n",
    "    child = np.zeros_like(parent1)\n",
    "\n",
    "    # Duplicated member bug fixed ! \n",
    "    # The crossover has to be on the students, not the groups !\n",
    "\n",
    "    while len(set(child.flatten())) != len(parent1.flatten()): # This takes a lot of time in the beginning\n",
    "\n",
    "        for i in range(0,len(parent1)):\n",
    "            for j in range(0,len(parent1[i])):\n",
    "                if random.random() < 0.5:\n",
    "                    child[i][j] = parent1[i][j]\n",
    "                else:\n",
    "                    child[i][j] = parent2[i][j]\n",
    "\n",
    "\n",
    "    child = np.array(child)\n",
    "    child = np.reshape(child, newshape=(len(parent1), 3, 1))\n",
    "\n",
    "    return child"
   ]
  },
  {
   "cell_type": "code",
   "execution_count": 448,
   "metadata": {},
   "outputs": [],
   "source": [
    "def mutation(array, rate):\n",
    "\n",
    "    if random.uniform(0, 1) < rate:\n",
    "        \n",
    "        number1 = random.randint(1,len(array)*group_size)\n",
    "        number2 = random.randint(1,len(array)*group_size)\n",
    "\n",
    "        while number1 == number2:\n",
    "            number2 = random.randint(1,len(array)*group_size)\n",
    "        \n",
    "        mutation_location1 = np.argwhere(array == [number1])\n",
    "        mutation_location2 = np.argwhere(array == [number2])\n",
    "\n",
    "        \"\"\" print(mutation_location1, mutation_location2)\n",
    "        print('Numbers:', number1, number2)\n",
    "        print('Location1:', array[mutation_location1[0][0]][mutation_location1[0][1]])\n",
    "        print('Location2:', array[mutation_location2[0][0]][mutation_location2[0][1]])\n",
    "        print('----') \"\"\"\n",
    "\n",
    "        array[mutation_location2[0][0]][mutation_location2[0][1]] = number1\n",
    "        array[mutation_location1[0][0]][mutation_location1[0][1]] = number2\n",
    "\n",
    "    return array\n"
   ]
  },
  {
   "cell_type": "code",
   "execution_count": 449,
   "metadata": {},
   "outputs": [],
   "source": [
    "def delete_lowest(array, scores):\n",
    "\n",
    "    lowest_score = min(scores)\n",
    "    lowest_index = scores.index(lowest_score)\n",
    "    array.pop(lowest_index)\n",
    "    scores.pop(lowest_index)\n",
    "\n",
    "    return array, scores"
   ]
  },
  {
   "cell_type": "markdown",
   "metadata": {},
   "source": [
    "The full algorithm"
   ]
  },
  {
   "cell_type": "code",
   "execution_count": 456,
   "metadata": {},
   "outputs": [],
   "source": [
    "def genetic_algorithm(n_populations, students, group_size, mutation_rate):\n",
    "\n",
    "    history = []\n",
    "    scores = []\n",
    "    parents = []\n",
    "    iterations = 0\n",
    "    score = 0\n",
    "\n",
    "    total_population = [generate_population(students, group_size) for _ in range(0,n_populations)]\n",
    "\n",
    "    while score < 18: # Best possible score is 18, a way to calculate for every combination of groupsize?\n",
    "\n",
    "        scores = [evaluate(i, students) for i in total_population]\n",
    "        parents = get_parents(scores, total_population)\n",
    "        child = crossover(parents[0], parents[1])\n",
    "        \n",
    "        child = mutation(child, mutation_rate) # Does only the new child get mutated? Or the whole population?\n",
    "        total_population.append(child)\n",
    "\n",
    "        # total_population.append(child)\n",
    "        # total_population = [mutation(i, mutation_rate) for i in total_population]\n",
    "        \n",
    "        scores.append(evaluate(child, students))\n",
    "        history.append(np.mean(scores)) # Show scores in % or numbers? \n",
    "        total_population, scores = delete_lowest(total_population, scores)\n",
    "\n",
    "        score = max(scores)\n",
    "        iterations += 1\n",
    "        print(f'Iteration: {iterations} - score: {score}')\n",
    "\n",
    "    best_group = total_population[scores.index(max(scores))]\n",
    "\n",
    "    return best_group, history"
   ]
  },
  {
   "cell_type": "code",
   "execution_count": 460,
   "metadata": {},
   "outputs": [
    {
     "name": "stdout",
     "output_type": "stream",
     "text": [
      "Iteration: 1 - score: 11\n",
      "Iteration: 2 - score: 11\n",
      "Iteration: 3 - score: 11\n",
      "Iteration: 4 - score: 11\n",
      "Iteration: 5 - score: 11\n",
      "Iteration: 6 - score: 12\n",
      "Iteration: 7 - score: 12\n",
      "Iteration: 8 - score: 12\n",
      "Iteration: 9 - score: 12\n",
      "Iteration: 10 - score: 12\n",
      "Iteration: 11 - score: 12\n",
      "Iteration: 12 - score: 12\n",
      "Iteration: 13 - score: 13\n",
      "Iteration: 14 - score: 12\n",
      "Iteration: 15 - score: 12\n",
      "Iteration: 16 - score: 12\n",
      "Iteration: 17 - score: 12\n",
      "Iteration: 18 - score: 13\n",
      "Iteration: 19 - score: 13\n",
      "Iteration: 20 - score: 12\n",
      "Iteration: 21 - score: 13\n",
      "Iteration: 22 - score: 13\n",
      "Iteration: 23 - score: 13\n",
      "Iteration: 24 - score: 13\n",
      "Iteration: 25 - score: 13\n",
      "Iteration: 26 - score: 13\n",
      "Iteration: 27 - score: 13\n",
      "Iteration: 28 - score: 13\n",
      "Iteration: 29 - score: 14\n",
      "Iteration: 30 - score: 14\n",
      "Iteration: 31 - score: 14\n",
      "Iteration: 32 - score: 14\n",
      "Iteration: 33 - score: 14\n",
      "Iteration: 34 - score: 14\n",
      "Iteration: 35 - score: 14\n",
      "Iteration: 36 - score: 14\n",
      "Iteration: 37 - score: 14\n",
      "Iteration: 38 - score: 14\n",
      "Iteration: 39 - score: 14\n",
      "Iteration: 40 - score: 14\n",
      "Iteration: 41 - score: 14\n",
      "Iteration: 42 - score: 14\n",
      "Iteration: 43 - score: 14\n",
      "Iteration: 44 - score: 14\n",
      "Iteration: 45 - score: 14\n",
      "Iteration: 46 - score: 14\n",
      "Iteration: 47 - score: 14\n",
      "Iteration: 48 - score: 14\n",
      "Iteration: 49 - score: 14\n",
      "Iteration: 50 - score: 14\n",
      "Iteration: 51 - score: 14\n",
      "Iteration: 52 - score: 14\n",
      "Iteration: 53 - score: 14\n",
      "Iteration: 54 - score: 14\n",
      "Iteration: 55 - score: 14\n",
      "Iteration: 56 - score: 14\n",
      "Iteration: 57 - score: 14\n",
      "Iteration: 58 - score: 16\n",
      "Iteration: 59 - score: 16\n",
      "Iteration: 60 - score: 16\n",
      "Iteration: 61 - score: 16\n",
      "Iteration: 62 - score: 16\n",
      "Iteration: 63 - score: 16\n",
      "Iteration: 64 - score: 16\n",
      "Iteration: 65 - score: 16\n",
      "Iteration: 66 - score: 16\n",
      "Iteration: 67 - score: 16\n",
      "Iteration: 68 - score: 16\n",
      "Iteration: 69 - score: 16\n",
      "Iteration: 70 - score: 16\n",
      "Iteration: 71 - score: 17\n",
      "Iteration: 72 - score: 16\n",
      "Iteration: 73 - score: 17\n",
      "Iteration: 74 - score: 17\n",
      "Iteration: 75 - score: 17\n",
      "Iteration: 76 - score: 17\n",
      "Iteration: 77 - score: 17\n",
      "Iteration: 78 - score: 17\n",
      "Iteration: 79 - score: 17\n",
      "Iteration: 80 - score: 17\n",
      "Iteration: 81 - score: 17\n",
      "Iteration: 82 - score: 17\n",
      "Iteration: 83 - score: 17\n",
      "Iteration: 84 - score: 17\n",
      "Iteration: 85 - score: 17\n",
      "Iteration: 86 - score: 17\n",
      "Iteration: 87 - score: 17\n",
      "Iteration: 88 - score: 17\n",
      "Iteration: 89 - score: 17\n",
      "Iteration: 90 - score: 17\n",
      "Iteration: 91 - score: 17\n",
      "Iteration: 92 - score: 17\n",
      "Iteration: 93 - score: 17\n",
      "Iteration: 94 - score: 17\n",
      "Iteration: 95 - score: 17\n",
      "Iteration: 96 - score: 17\n",
      "Iteration: 97 - score: 17\n",
      "Iteration: 98 - score: 17\n",
      "Iteration: 99 - score: 17\n",
      "Iteration: 100 - score: 17\n",
      "Iteration: 101 - score: 17\n",
      "Iteration: 102 - score: 17\n",
      "Iteration: 103 - score: 17\n",
      "Iteration: 104 - score: 17\n",
      "Iteration: 105 - score: 17\n",
      "Iteration: 106 - score: 17\n",
      "Iteration: 107 - score: 17\n",
      "Iteration: 108 - score: 17\n",
      "Iteration: 109 - score: 17\n",
      "Iteration: 110 - score: 17\n",
      "Iteration: 111 - score: 17\n",
      "Iteration: 112 - score: 17\n",
      "Iteration: 113 - score: 17\n",
      "Iteration: 114 - score: 17\n",
      "Iteration: 115 - score: 17\n",
      "Iteration: 116 - score: 17\n",
      "Iteration: 117 - score: 17\n",
      "Iteration: 118 - score: 17\n",
      "Iteration: 119 - score: 17\n",
      "Iteration: 120 - score: 17\n",
      "Iteration: 121 - score: 17\n",
      "Iteration: 122 - score: 17\n",
      "Iteration: 123 - score: 17\n",
      "Iteration: 124 - score: 17\n",
      "Iteration: 125 - score: 17\n",
      "Iteration: 126 - score: 17\n",
      "Iteration: 127 - score: 17\n",
      "Iteration: 128 - score: 17\n",
      "Iteration: 129 - score: 17\n",
      "Iteration: 130 - score: 17\n",
      "Iteration: 131 - score: 17\n",
      "Iteration: 132 - score: 17\n",
      "Iteration: 133 - score: 17\n",
      "Iteration: 134 - score: 17\n",
      "Iteration: 135 - score: 17\n",
      "Iteration: 136 - score: 17\n",
      "Iteration: 137 - score: 17\n",
      "Iteration: 138 - score: 17\n",
      "Iteration: 139 - score: 17\n",
      "Iteration: 140 - score: 17\n",
      "Iteration: 141 - score: 17\n",
      "Iteration: 142 - score: 17\n",
      "Iteration: 143 - score: 17\n",
      "Iteration: 144 - score: 17\n",
      "Iteration: 145 - score: 17\n",
      "Iteration: 146 - score: 17\n",
      "Iteration: 147 - score: 17\n",
      "Iteration: 148 - score: 17\n",
      "Iteration: 149 - score: 17\n",
      "Iteration: 150 - score: 17\n",
      "Iteration: 151 - score: 17\n",
      "Iteration: 152 - score: 17\n",
      "Iteration: 153 - score: 17\n",
      "Iteration: 154 - score: 17\n",
      "Iteration: 155 - score: 17\n",
      "Iteration: 156 - score: 17\n",
      "Iteration: 157 - score: 17\n",
      "Iteration: 158 - score: 17\n",
      "Iteration: 159 - score: 17\n",
      "Iteration: 160 - score: 17\n",
      "Iteration: 161 - score: 17\n",
      "Iteration: 162 - score: 17\n",
      "Iteration: 163 - score: 17\n",
      "Iteration: 164 - score: 17\n",
      "Iteration: 165 - score: 17\n",
      "Iteration: 166 - score: 17\n",
      "Iteration: 167 - score: 17\n",
      "Iteration: 168 - score: 17\n",
      "Iteration: 169 - score: 17\n",
      "Iteration: 170 - score: 17\n",
      "Iteration: 171 - score: 17\n",
      "Iteration: 172 - score: 17\n",
      "Iteration: 173 - score: 17\n",
      "Iteration: 174 - score: 17\n",
      "Iteration: 175 - score: 17\n",
      "Iteration: 176 - score: 17\n",
      "Iteration: 177 - score: 17\n",
      "Iteration: 178 - score: 17\n",
      "Iteration: 179 - score: 17\n",
      "Iteration: 180 - score: 17\n",
      "Iteration: 181 - score: 17\n",
      "Iteration: 182 - score: 17\n",
      "Iteration: 183 - score: 17\n",
      "Iteration: 184 - score: 17\n",
      "Iteration: 185 - score: 17\n",
      "Iteration: 186 - score: 17\n",
      "Iteration: 187 - score: 17\n",
      "Iteration: 188 - score: 17\n",
      "Iteration: 189 - score: 17\n",
      "Iteration: 190 - score: 17\n",
      "Iteration: 191 - score: 17\n",
      "Iteration: 192 - score: 17\n",
      "Iteration: 193 - score: 17\n",
      "Iteration: 194 - score: 17\n",
      "Iteration: 195 - score: 17\n",
      "Iteration: 196 - score: 18\n"
     ]
    }
   ],
   "source": [
    "best_group, history = genetic_algorithm(100, students, group_size, 0.05)"
   ]
  },
  {
   "cell_type": "code",
   "execution_count": 461,
   "metadata": {},
   "outputs": [
    {
     "name": "stdout",
     "output_type": "stream",
     "text": [
      "\n",
      "Best group:\n",
      "\n",
      "Group: 1\n",
      "harold\n",
      "claire\n",
      "camille\n",
      "\n",
      "Group: 2\n",
      "leigh-ann\n",
      "aaron\n",
      "charlotte\n",
      "\n",
      "Group: 3\n",
      "josie\n",
      "dan\n",
      "brian\n",
      "\n",
      "Group: 4\n",
      "ben\n",
      "alexandra\n",
      "nora\n",
      "\n",
      "Group: 5\n",
      "laurel\n",
      "evelyn\n",
      "bob\n",
      "\n",
      "Group: 6\n",
      "justin\n",
      "lauren\n",
      "melissa\n",
      "\n",
      "Group: 7\n",
      "sally\n",
      "carol\n",
      "frances\n"
     ]
    }
   ],
   "source": [
    "print('\\nBest group:')\n",
    "show_population(best_group, students)"
   ]
  },
  {
   "cell_type": "code",
   "execution_count": 462,
   "metadata": {},
   "outputs": [
    {
     "data": {
      "image/png": "[encoded data removed]",
      "text/plain": [
       "<Figure size 432x288 with 1 Axes>"
      ]
     },
     "metadata": {
      "needs_background": "light"
     },
     "output_type": "display_data"
    }
   ],
   "source": [
    "import matplotlib.pyplot as plt\n",
    "\n",
    "plt.title('Genetic Algorithm')\n",
    "plt.plot(history)\n",
    "plt.xlabel('Iterations')\n",
    "plt.ylabel('Mean Score')\n",
    "plt.show()"
   ]
  }
 ],
 "metadata": {
  "interpreter": {
   "hash": "56e98236f8c636bf46699ec7acbcf4f82fa7d2f8d04c118bb47e5affabcc0765"
  },
  "kernelspec": {
   "display_name": "Python 3.6.13 ('cuda2')",
   "language": "python",
   "name": "python3"
  },
  "language_info": {
   "codemirror_mode": {
    "name": "ipython",
    "version": 3
   },
   "file_extension": ".py",
   "mimetype": "text/x-python",
   "name": "python",
   "nbconvert_exporter": "python",
   "pygments_lexer": "ipython3",
   "version": "3.9.7"
  },
  "orig_nbformat": 4
 },
 "nbformat": 4,
 "nbformat_minor": 2
}
