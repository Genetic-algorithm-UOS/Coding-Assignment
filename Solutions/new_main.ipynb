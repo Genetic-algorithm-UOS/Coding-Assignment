{
 "cells": [
  {
   "cell_type": "code",
   "execution_count": 45,
   "metadata": {
    "collapsed": true,
    "pycharm": {
     "name": "#%%\n"
    }
   },
   "outputs": [],
   "source": [
    "import numpy as np\n",
    "import random\n",
    "import pandas as pd"
   ]
  },
  {
   "cell_type": "code",
   "execution_count": 46,
   "metadata": {
    "collapsed": false,
    "pycharm": {
     "name": "#%%\n"
    }
   },
   "outputs": [],
   "source": [
    "students = pd.read_csv('dataset_full.csv')\n",
    "\n",
    "# hyperparameters\n",
    "num_individuals = 50\n",
    "groupsize = 5"
   ]
  },
  {
   "cell_type": "markdown",
   "metadata": {
    "pycharm": {
     "name": "#%% md\n"
    }
   },
   "source": [
    "Darwinian Natural Selection\n",
    "\n",
    "- Variation\n",
    "- Selection\n",
    "- Heredity"
   ]
  },
  {
   "cell_type": "markdown",
   "metadata": {
    "pycharm": {
     "name": "#%% md\n"
    }
   },
   "source": [
    "1. Variation (Create a population)"
   ]
  },
  {
   "cell_type": "code",
   "execution_count": 47,
   "metadata": {
    "pycharm": {
     "name": "#%%\n"
    }
   },
   "outputs": [
    {
     "data": {
      "text/plain": "   ID               Name  Gender Preferred language          Majors  \\\n0   1      Paul Schwartz    Male             German    ('AI', 'CL')   \n1   2         Mike Maier    Male                Any  ('PHIL', 'AI')   \n2   3      Phillipp Frei    Male                Any    ('CL', 'NI')   \n3   4  Annett Zimmermann  Female             German    ('AI', 'CL')   \n4   5   Manuela Fruehauf  Female            English  ('CL', 'PHIL')   \n\n  Level of ambition Preferred meeting place Personality type  \\\n0              High                  Online             ISFP   \n1         Very high               In person             ESFP   \n2            Medium               In person             ENFJ   \n3               Low               In person             ESFP   \n4               Low               In person             ENFJ   \n\n         Best friend Preferred day  \n0         Mandy Baer       Tuesday  \n1     Jürgen Baecker      Thursday  \n2  Jennifer Schiffer        Monday  \n3      Tobias Brandt     Wednesday  \n4   Wolfgang Gärtner       Tuesday  ",
      "text/html": "<div>\n<style scoped>\n    .dataframe tbody tr th:only-of-type {\n        vertical-align: middle;\n    }\n\n    .dataframe tbody tr th {\n        vertical-align: top;\n    }\n\n    .dataframe thead th {\n        text-align: right;\n    }\n</style>\n<table border=\"1\" class=\"dataframe\">\n  <thead>\n    <tr style=\"text-align: right;\">\n      <th></th>\n      <th>ID</th>\n      <th>Name</th>\n      <th>Gender</th>\n      <th>Preferred language</th>\n      <th>Majors</th>\n      <th>Level of ambition</th>\n      <th>Preferred meeting place</th>\n      <th>Personality type</th>\n      <th>Best friend</th>\n      <th>Preferred day</th>\n    </tr>\n  </thead>\n  <tbody>\n    <tr>\n      <th>0</th>\n      <td>1</td>\n      <td>Paul Schwartz</td>\n      <td>Male</td>\n      <td>German</td>\n      <td>('AI', 'CL')</td>\n      <td>High</td>\n      <td>Online</td>\n      <td>ISFP</td>\n      <td>Mandy Baer</td>\n      <td>Tuesday</td>\n    </tr>\n    <tr>\n      <th>1</th>\n      <td>2</td>\n      <td>Mike Maier</td>\n      <td>Male</td>\n      <td>Any</td>\n      <td>('PHIL', 'AI')</td>\n      <td>Very high</td>\n      <td>In person</td>\n      <td>ESFP</td>\n      <td>Jürgen Baecker</td>\n      <td>Thursday</td>\n    </tr>\n    <tr>\n      <th>2</th>\n      <td>3</td>\n      <td>Phillipp Frei</td>\n      <td>Male</td>\n      <td>Any</td>\n      <td>('CL', 'NI')</td>\n      <td>Medium</td>\n      <td>In person</td>\n      <td>ENFJ</td>\n      <td>Jennifer Schiffer</td>\n      <td>Monday</td>\n    </tr>\n    <tr>\n      <th>3</th>\n      <td>4</td>\n      <td>Annett Zimmermann</td>\n      <td>Female</td>\n      <td>German</td>\n      <td>('AI', 'CL')</td>\n      <td>Low</td>\n      <td>In person</td>\n      <td>ESFP</td>\n      <td>Tobias Brandt</td>\n      <td>Wednesday</td>\n    </tr>\n    <tr>\n      <th>4</th>\n      <td>5</td>\n      <td>Manuela Fruehauf</td>\n      <td>Female</td>\n      <td>English</td>\n      <td>('CL', 'PHIL')</td>\n      <td>Low</td>\n      <td>In person</td>\n      <td>ENFJ</td>\n      <td>Wolfgang Gärtner</td>\n      <td>Tuesday</td>\n    </tr>\n  </tbody>\n</table>\n</div>"
     },
     "execution_count": 47,
     "metadata": {},
     "output_type": "execute_result"
    }
   ],
   "source": [
    "students.head()"
   ]
  },
  {
   "cell_type": "code",
   "execution_count": 48,
   "metadata": {
    "pycharm": {
     "name": "#%%\n"
    }
   },
   "outputs": [],
   "source": [
    "class Population():\n",
    "    def __init__(self, students, n_individuals, groupsize):\n",
    "        super(Population, self).__init__()\n",
    "\n",
    "        if n_individuals % groupsize != 0:\n",
    "            raise ValueError(f'Received unexpected group size: {n_individuals} groups % {groupsize} individuals has to be 0.')\n",
    "        \n",
    "        self.students = students\n",
    "        self.n_individuals = n_individuals\n",
    "        self.ids = students.ID.tolist()\n",
    "        self.groupsize = groupsize\n",
    "\n",
    "    def create_random_individual(self):\n",
    "        individual = self.ids.copy()\n",
    "        random.shuffle(individual)\n",
    "\n",
    "        return individual\n",
    "\n",
    "    def create_initial_population(self):\n",
    "        population = []\n",
    "        for _ in range(self.n_individuals):\n",
    "            population.append(self.create_random_individual())\n",
    "\n",
    "        return np.array(population, dtype=int)\n",
    "\n",
    "    def show_groups_from_individual(self, individual):\n",
    "\n",
    "        groups = []\n",
    "        for i in individual:\n",
    "            groups.append(self.students['Name'][i-1])\n",
    "        \n",
    "        for n,j in enumerate(range(0, len(groups), self.groupsize)):\n",
    "            print(f'Group {n+1} :',groups[j:j+5])\n",
    "\n",
    "        return None"
   ]
  },
  {
   "cell_type": "code",
   "execution_count": 49,
   "metadata": {
    "pycharm": {
     "name": "#%%\n"
    }
   },
   "outputs": [
    {
     "data": {
      "text/plain": "array([[ 54, 100,  67, ...,  42,  72,  78],\n       [ 77,  71,   1, ...,  36,  27,  66],\n       [ 98,  43,  81, ...,  54,  33,   7],\n       ...,\n       [ 30,  29,  50, ...,  98,  19,  25],\n       [ 56, 100,  65, ...,  87,  28,  64],\n       [ 17,  85,  32, ...,  28,  70,  19]])"
     },
     "execution_count": 49,
     "metadata": {},
     "output_type": "execute_result"
    }
   ],
   "source": [
    "population = Population(students, num_individuals, groupsize)\n",
    "\n",
    "test_population = population.create_initial_population()\n",
    "\n",
    "test_population"
   ]
  },
  {
   "cell_type": "markdown",
   "metadata": {
    "pycharm": {
     "name": "#%% md\n"
    }
   },
   "source": [
    "Show Groups from the IDs"
   ]
  },
  {
   "cell_type": "code",
   "execution_count": 50,
   "metadata": {
    "pycharm": {
     "name": "#%%\n"
    }
   },
   "outputs": [
    {
     "name": "stdout",
     "output_type": "stream",
     "text": [
      "Group 1 : ['Tobias Brandt', 'Dirk Abend', 'Eric Grunewald', 'Mike Schwab', 'Brigitte Dreher']\n",
      "Group 2 : ['Eric Neumann', 'Sandra Beike', 'Alexander Gersten', 'Ute Eichelberger', 'Martina Lehmann']\n",
      "Group 3 : ['Diana Zimmerman', 'Monika Wurfel', 'Bernd Kappel', 'Eric Strauss', 'Michelle Eberhardt']\n",
      "Group 4 : ['Mandy Baer', 'Sophie Hueber', 'Maik Schulz', 'Marie Drescher', 'Ulrich Lemann']\n",
      "Group 5 : ['Simone Eichel', 'Patrick Nussbaum', 'Monika Faber', 'Vanessa Waechter', 'Uta Eichel']\n",
      "Group 6 : ['Jan Gloeckner', 'Yvonne Mahler', 'Jana Kuhn', 'Daniel Neudorf', 'Uta Beyer']\n",
      "Group 7 : ['Sophie Klug', 'Brigitte Freytag', 'Steffen Konig', 'Klaus Loewe', 'Monika Werner']\n",
      "Group 8 : ['Anne Maier', 'Annett Zimmermann', 'Leon Schulze', 'Jörg Hertzog', 'Ralph Freytag']\n",
      "Group 9 : ['Daniel Mueller', 'Klaus Fisher', 'Ines Ritter', 'Max Hartmann', 'Patrick Metzger']\n",
      "Group 10 : ['Paul Schwartz', 'Antje Koehler', 'Torsten Frei', 'Dirk Zweig', 'Phillipp Frei']\n",
      "Group 11 : ['Jana Schultheiss', 'Jürgen Koertig', 'Daniela Eggers', 'Christian Kaiser', 'Jörg Fuhrmann']\n",
      "Group 12 : ['Diana Waechter', 'Ulrich Gottlieb', 'Manuela Fruehauf', 'Brigitte Strauss', 'Marko Bach']\n",
      "Group 13 : ['Tobias Fruehauf', 'Stefan Zweig', 'Maximilian Reinhard', 'Stefan Fisher', 'Peter Friedmann']\n",
      "Group 14 : ['Sven Richter', 'Daniel Keller', 'Stephan Foerster', 'Johanna Eichmann', 'Christina Eisenhauer']\n",
      "Group 15 : ['Juliane Gruenewald', 'Maximilian Fiedler', 'Mario Schwarz', 'Anne Mahler', 'Sven Gloeckner']\n",
      "Group 16 : ['Christine Zimmer', 'Jan Eisenhower', 'Mike Maier', 'Jennifer Schiffer', 'Birgit Zweig']\n",
      "Group 17 : ['Christine Ritter', 'Eric Braun', 'Jessika Burger', 'Marcel Hertzog', 'Dominik Mahler']\n",
      "Group 18 : ['Barbara Schulz', 'Karin Kruger', 'Jan Kaestner', 'Anke Naumann', 'Ute Ostermann']\n",
      "Group 19 : ['Diana Meier', 'Sabrina Thalberg', 'Melanie Freeh', 'Annett Dietrich', 'Sabrina Achen']\n",
      "Group 20 : ['Martin Bosch', 'Wolfgang Gärtner', 'Benjamin Eisenberg', 'Melanie Urner', 'Jürgen Baecker']\n"
     ]
    }
   ],
   "source": [
    "population.show_groups_from_individual(test_population[0])"
   ]
  },
  {
   "cell_type": "markdown",
   "metadata": {
    "pycharm": {
     "name": "#%% md\n"
    }
   },
   "source": [
    "________"
   ]
  },
  {
   "cell_type": "markdown",
   "metadata": {
    "pycharm": {
     "name": "#%% md\n"
    }
   },
   "source": [
    "2. Selection (Evaluate the fitness of each group, find fittest)"
   ]
  },
  {
   "cell_type": "code",
   "execution_count": 51,
   "metadata": {
    "pycharm": {
     "name": "#%%\n"
    }
   },
   "outputs": [],
   "source": [
    "class Fitness():\n",
    "    def __init__(self):\n",
    "        super(Fitness, self).__init__()\n",
    "\n",
    "    def evaluate_fitness(self, individual, students):\n",
    "        \"\"\" Evaluates the fitness of an individual. \"\"\"\n",
    "\n",
    "        # split individual into student groups of the groupsize\n",
    "        groups = np.array_split(individual, (len(individual)/groupsize))\n",
    "\n",
    "        # iterate over groups and calculate scores for the different parameters\n",
    "        scores = []\n",
    "        for group_ids in groups:\n",
    "            # get full data for students in this group from pd dataframe\n",
    "            group = students.loc[students['ID'].isin(group_ids)]\n",
    "\n",
    "            # get individual scores for parameters\n",
    "            language_score = self.evaluate_language(group)\n",
    "            if language_score == -1:\n",
    "                # if we really want to use a hard constraint we would need to return -1 here, this makes for really bad (initial) results though\n",
    "                # return -1\n",
    "                scores.append(language_score)\n",
    "                continue\n",
    "\n",
    "            major_score = self.evaluate_majors(group)\n",
    "            ambition_score = self.evaluate_ambition(group)\n",
    "            place_score = self.evaluate_meeting_place(group)\n",
    "            gender_score = self.evaluate_gender(group)\n",
    "            friend_score = self.evaluate_friends(group)\n",
    "            personality_score = self.evaluate_personality(group)\n",
    "            day_score = self.evaluate_meeting_day(group)\n",
    "\n",
    "            # formula for adding and weighting different scores\n",
    "            scores.append(language_score+major_score+ambition_score+place_score+gender_score+friend_score+personality_score+day_score)\n",
    "\n",
    "        #Convert to series to calculate mean more easily\n",
    "        return pd.Series(scores).mean()\n",
    "\n",
    "    def evaluate_language(self, group):\n",
    "        # number of groupmembers per language\n",
    "        counts = group['Preferred language'].value_counts()\n",
    "\n",
    "        # hard constraints, if languages are conflicting, return -1\n",
    "        if 'German' in counts.index and 'English' in counts.index:\n",
    "            return -1\n",
    "\n",
    "        return groupsize\n",
    "\n",
    "    def evaluate_majors(self, group):\n",
    "        majors = group['Majors'].tolist()\n",
    "\n",
    "        # preprocess majors from dataset notation to list with all majors\n",
    "        group_majors = []\n",
    "        for pair in majors:\n",
    "            pair = pair[1:-1].split(\", \")\n",
    "\n",
    "            group_majors.append(pair[0][1:-1])\n",
    "            group_majors.append(pair[1][1:-1])\n",
    "\n",
    "        #convert to Series for easier handling\n",
    "        group_majors = pd.Series(group_majors)\n",
    "        #get value counts\n",
    "        group_major_values = group_majors.value_counts()\n",
    "        #remove majors only one person takes (as they provide no synergy to the group)\n",
    "        group_major_values = group_major_values[group_major_values > 1]\n",
    "\n",
    "        #add number of shared majors and divide by 2; Formula is kinda arbitrary\n",
    "        return group_major_values.sum() /2\n",
    "\n",
    "    def evaluate_ambition(self, group):\n",
    "        # get pd Series of ambitions\n",
    "        ambitions = group['Level of ambition']\n",
    "        # get int value mappings for ambitions\n",
    "\n",
    "        mapping = {\n",
    "            'Very low': 1,\n",
    "            'Low': 2,\n",
    "            'Medium': 3,\n",
    "            'High': 4,\n",
    "            'Very high': 5\n",
    "        } \n",
    "\n",
    "        ambitions = ambitions.map(mapping)\n",
    "\n",
    "        # fitness is groupsize - variance in group motivation (so less variance = more fitness)\n",
    "        return groupsize - ambitions.var()\n",
    "\n",
    "    def evaluate_meeting_place(self, group):\n",
    "        # number of groupmembers for each preferred meeting place\n",
    "        meeting_place = group['Preferred meeting place'].value_counts()\n",
    "\n",
    "        # if all prefer the same meeting place return 5, else 0\n",
    "        if meeting_place[0] == groupsize:\n",
    "            return 5\n",
    "\n",
    "        return 0\n",
    "\n",
    "    def evaluate_gender(self, group):\n",
    "        # evaluate by variance\n",
    "        genders = group['Gender'].value_counts()\n",
    "\n",
    "        # add 0 entry for missing genders\n",
    "        for gender in ['Male', 'Female', 'Indeterminate']:\n",
    "            if gender not in genders.index:\n",
    "                genders[gender] = 0\n",
    "\n",
    "        # return groupsize - variance\n",
    "        return groupsize - genders.var()\n",
    "\n",
    "    def evaluate_friends(self, group):\n",
    "        #for each member +1 if friend is also in group\n",
    "        group_member_names = group['Name'].tolist()\n",
    "        best_friends_name = group['Best friend'].tolist()\n",
    "\n",
    "        # get intersection between both lists\n",
    "        friends_in_group = list(set(group_member_names).intersection(best_friends_name))\n",
    "\n",
    "        # fitness += 1 for every pair of friends\n",
    "        return len(friends_in_group)\n",
    "\n",
    "    def evaluate_personality(self, group):\n",
    "        #information about compatible personality types is taken from\n",
    "        # Montequín, Vicente Rodríguez, et al. \"Using Myers-Briggs type indicator (MBTI) as a tool for setting up student teams for information technology projects.\" Journal of Information Technology and Application in Education 1.1 (2012): 28-34.\n",
    "\n",
    "        #count existing personality types in each group\n",
    "        personalities = group['Personality type']\n",
    "        types = personalities.value_counts()\n",
    "\n",
    "        #fitness function starts with 0 and gets better\n",
    "        # with every good group member\n",
    "        fitness = 0\n",
    "\n",
    "        #its good if there is a group leader like an ISTJ or an ESTJ, but only one\n",
    "        try:\n",
    "            if (types['ISTJ'] + types['ESTJ'] == 1):\n",
    "                fitness+=5\n",
    "            elif (types['ISTJ'] + types['ESTJ'] >= 2):\n",
    "                fitness-=5\n",
    "        except KeyError:\n",
    "            pass\n",
    "\n",
    "        #compare compatibility of group members\n",
    "        for i, personality_a in enumerate(personalities.tolist()):\n",
    "            for j, personality_b in enumerate(personalities.tolist()):\n",
    "                # skip same group member and members already compared\n",
    "                if i <= j:\n",
    "                    continue\n",
    "\n",
    "                # increase fitness if\n",
    "                if (personality_a[1] != personality_b[1]) ^ (personality_a[2] != personality_b[2]):\n",
    "                    if (personality_a[0] != personality_b[0]) or (personality_a[3] != personality_b[3]):\n",
    "                        fitness+=1\n",
    "\n",
    "        return fitness\n",
    "\n",
    "    def evaluate_meeting_day(self, group):\n",
    "        # number of groupmembers for each preferred meeting day\n",
    "        meeting_day = group['Preferred day'].value_counts()\n",
    "\n",
    "        # if all prefer the same meeting day return 5, else 0\n",
    "        if meeting_day[0] == groupsize:\n",
    "            return 5\n",
    "\n",
    "        return 0\n",
    "\n",
    "    def mean_fitness(self, population):\n",
    "        # get list of fitness scores for all individuals in this population\n",
    "        fitness_scores = [self.evaluate_fitness(individual, students) for individual in population]\n",
    "\n",
    "        # convert to series to calculate mean more easily\n",
    "        return round(pd.Series(fitness_scores).mean(), 3)\n",
    "\n",
    "    def best_fitness(self, population):\n",
    "        # get list of fitness scores for all individuals in this population\n",
    "        fitness_scores = [self.evaluate_fitness(individual, students) for individual in population]\n",
    "\n",
    "        # sort by best first\n",
    "        scores_sorted = sorted(fitness_scores, reverse=True)\n",
    "\n",
    "        # return fitness of best individual\n",
    "        return round(scores_sorted[0], 3)\n",
    "\n",
    "    def indices_sorted_by_fitness(self, population):\n",
    "        fitness_scores = [self.evaluate_fitness(individual, students) for individual in population]\n",
    "\n",
    "        indices = np.argsort(fitness_scores)\n",
    "\n",
    "        return indices.tolist()"
   ]
  },
  {
   "cell_type": "code",
   "execution_count": 52,
   "metadata": {
    "pycharm": {
     "name": "#%%\n"
    }
   },
   "outputs": [
    {
     "data": {
      "text/plain": "19.842"
     },
     "execution_count": 52,
     "metadata": {},
     "output_type": "execute_result"
    }
   ],
   "source": [
    "best_fitness = Fitness().best_fitness(test_population)\n",
    "best_fitness"
   ]
  },
  {
   "cell_type": "markdown",
   "metadata": {
    "pycharm": {
     "name": "#%% md\n"
    }
   },
   "source": [
    "3. Heredity (Pass on the fittest to the next generation)"
   ]
  },
  {
   "cell_type": "code",
   "execution_count": 53,
   "metadata": {
    "pycharm": {
     "name": "#%%\n"
    }
   },
   "outputs": [],
   "source": [
    "class Crossover():\n",
    "    def __init__(self):\n",
    "        super(Crossover, self).__init__()\n",
    "\n",
    "    def uniform_order_crossover(self, p1, p2):\n",
    "\n",
    "        template = self.get_crossover_template(len(p1), crossover_rate=0.2)\n",
    "        # create 'empty' child\n",
    "        child = np.zeros((len(p1),),dtype=int)\n",
    "        # where the template is true, take values from p1\n",
    "        child[template] = p1[template]\n",
    "        # store genes used from p1\n",
    "        used_genes = p1[template]\n",
    "\n",
    "        # get all genes from p2\n",
    "        remaining_genes = p2.tolist()\n",
    "        # add genes from p2 (that were not used from p1) to the empty spots of the child\n",
    "        for i, value in enumerate(child):\n",
    "            # if this spot is already filled, continue\n",
    "            if value != 0:\n",
    "                continue\n",
    "\n",
    "            # do while:  pop(get and remove) next gene from p2 until one is found that is not yet in the genome of the child, then add that\n",
    "            while True:\n",
    "                next_gene = remaining_genes.pop(0)\n",
    "                if next_gene not in used_genes:\n",
    "                    child[i] = next_gene\n",
    "                    break\n",
    "\n",
    "        return child\n",
    "\n",
    "    def get_crossover_template(self,length, crossover_rate = 0.2):\n",
    "        # initialize template with false values\n",
    "        template = np.zeros((length,),dtype=bool)\n",
    "        # get random indices of the amount #of genes * crossover rate\n",
    "        random_indices = np.random.choice(template.shape[0], int(length*crossover_rate), replace=False)\n",
    "        #set these indices to true\n",
    "        template[random_indices] = True\n",
    "\n",
    "        return template\n",
    "\n",
    "    def tournament_selection(self, popuplation, tournament_size = 8):\n",
    "        # get random indices to select random individuals from population\n",
    "        random_indices = np.random.choice(popuplation.shape[0], tournament_size*2, replace=False)\n",
    "\n",
    "        # get individuals from random indices and split into two tournaments\n",
    "        tournament1 = popuplation[random_indices[:tournament_size]]\n",
    "        tournament2 = popuplation[random_indices[tournament_size:]]\n",
    "\n",
    "        parents = []\n",
    "        # tournament is won by fittest individual in each tournament, those become the two parents\n",
    "        for tournament in (tournament1,tournament2):\n",
    "            # get fitness scores for every individual in the tournament\n",
    "            fitness_scores = [Fitness().evaluate_fitness(individual, students) for individual in tournament]\n",
    "            # get indices ordered by highest fitness first\n",
    "            idx = np.argsort(fitness_scores)[::-1]\n",
    "            # add individual with highest fitness to parents\n",
    "            parents.append(tournament[idx[0]])\n",
    "\n",
    "        return parents"
   ]
  },
  {
   "cell_type": "code",
   "execution_count": 54,
   "metadata": {
    "pycharm": {
     "name": "#%%\n"
    }
   },
   "outputs": [
    {
     "name": "stdout",
     "output_type": "stream",
     "text": [
      "[[18 39  3 ... 67 52 68]\n",
      " [ 2 42 57 ...  8 99 35]\n",
      " [82 99 38 ... 65 73 58]\n",
      " ...\n",
      " [71 65 26 ... 63 56 75]\n",
      " [32 61 19 ...  4 70 12]\n",
      " [93 41 14 ... 67 86 58]] \n",
      "\n",
      "[ 20  23  76  50  44  58  19  40  69  12  88  15  18   4  46  43  17  38\n",
      "  31  62  32  86  26  41   7  16 100   6  61  45   1  65  96  11  78  42\n",
      "   9  72  79  95  97  14  13  39  87  21  54  98  48  37  52  73  68  80\n",
      "  93  47  29  60  36  94  25  57  33  84  55  92  27   8  10  91  89  74\n",
      "  24  85  67  70  77  56  99  71  53  28  22  34  82  81  66  59  75  51\n",
      "  90   5   3  30   2  49  63  83  64  35] \n",
      "\n",
      "[ 97  23  74   8  22  51  99  49  75  66  44  69  70  61   5  15  91  87\n",
      "  92  33  27  31  62  54  73  60  53  63  93  36  12  11  71  81  47  65\n",
      "  37  98  84   6  55  20  79  50   2  89  90  29  76   4   9  17  41  38\n",
      "  30 100  77   3  64  14  24  78  96  43  59  13  86  82  56  21  85  95\n",
      "  46  16  10  52  26  58  40  19  80   1  72  83  68  28  18  25  34   7\n",
      "  94  45  67  35  57  39  88  48  42  32] \n",
      "\n",
      "[ 97  23  76  50  44  74  22  51  99  12  49  69  61   4   5  15  17  91\n",
      "  87  92  33  27  26  41  31  62  54  73  60  45  53  63  93  36  11  71\n",
      "  47  65  37  98  84   6  55  20  79   2  29   9  38  30 100  77  68   3\n",
      "  64  14  24  78  96  94  43  59  13  86  82  56  21   8  85  95  89  46\n",
      "  16  10  67  70  52  58  40  19  80   1  72  83  28  81  66  18  75  25\n",
      "  90  34   7  57  39  88  48  42  32  35]\n"
     ]
    }
   ],
   "source": [
    "random_population = Population(students, num_individuals, groupsize).create_initial_population()\n",
    "\n",
    "print(random_population, '\\n')\n",
    "\n",
    "random_parent1, random_parent2 = Crossover().tournament_selection(random_population)\n",
    "\n",
    "print(random_parent1, '\\n')\n",
    "print(random_parent2, '\\n')\n",
    "\n",
    "child = Crossover().uniform_order_crossover(random_parent1, random_parent2)\n",
    "\n",
    "print(child)"
   ]
  },
  {
   "cell_type": "markdown",
   "metadata": {
    "pycharm": {
     "name": "#%% md\n"
    }
   },
   "source": [
    "We also add a mutation function: "
   ]
  },
  {
   "cell_type": "code",
   "execution_count": 55,
   "metadata": {
    "pycharm": {
     "name": "#%%\n"
    }
   },
   "outputs": [],
   "source": [
    "def mutation(individual, mutation_rate = 0.2):\n",
    "    # if random percentage is lower than the mutation rate, switch two random genes\n",
    "    if random.uniform(0, 1) < mutation_rate:\n",
    "        idx1 = random.randint(0, len(individual)-1)\n",
    "        idx2 = random.randint(0, len(individual)-1)\n",
    "\n",
    "        individual[idx1], individual[idx2] = individual[idx2], individual[idx1]\n",
    "\n",
    "    return individual"
   ]
  },
  {
   "cell_type": "markdown",
   "metadata": {
    "pycharm": {
     "name": "#%% md\n"
    }
   },
   "source": [
    "Finally, our executable GA class:"
   ]
  },
  {
   "cell_type": "code",
   "execution_count": 56,
   "metadata": {
    "pycharm": {
     "name": "#%%\n"
    }
   },
   "outputs": [],
   "source": [
    "class Genetic_Algorithm():\n",
    "    def __init__(self, students, num_individuals, groupsize):\n",
    "        super(Genetic_Algorithm, self).__init__()\n",
    "\n",
    "        self.students = students\n",
    "        self.groupsize = groupsize\n",
    "        self.num_individuals = num_individuals\n",
    "        self.ids = students.ID.tolist()\n",
    "\n",
    "    def run(self, episodes, replace='all', mutation_rate=0.2):\n",
    "\n",
    "        self.epidodes = episodes\n",
    "        self.population = Population(students, num_individuals, groupsize).create_initial_population()\n",
    "\n",
    "        print(\"episode \" + str(0) + \": mean fitness score: \" + str(Fitness().mean_fitness(self.population)) + \"; best individual fitness: \" + str(Fitness().best_fitness(self.population)))\n",
    "\n",
    "        if replace == 'all':\n",
    "            for episode in range(episodes):\n",
    "                new_pop = []\n",
    "                # we get two new individuals by each step, so half the pop size\n",
    "                for _ in range(len(self.population)//2):\n",
    "                    # find two parents by tournament selection\n",
    "                    p1, p2 = Crossover().tournament_selection(self.population,8)\n",
    "\n",
    "                    # create two children by uniform order crossover\n",
    "                    c1 = Crossover().uniform_order_crossover(p1,p2)\n",
    "                    c2 = Crossover().uniform_order_crossover(p2,p1)\n",
    "                    # do mutation\n",
    "                    c1 = mutation(c1, mutation_rate)\n",
    "                    c2 = mutation(c2, mutation_rate)\n",
    "                    # add children to new population\n",
    "                    new_pop.append(c1)\n",
    "                    new_pop.append(c2)\n",
    "\n",
    "                self.population = np.array(new_pop,dtype=int)\n",
    "\n",
    "                print(\"episode \" + str(episode+1) + \": mean fitness score: \" + str(Fitness().mean_fitness(self.population)) + \"; best individual fitness: \" + str(Fitness().best_fitness(self.population)))\n",
    "\n",
    "        elif list(replace):\n",
    "            for episode in range(episodes):\n",
    "                pop_indices_sorted_by_fitness = Fitness().indices_sorted_by_fitness(self.population)\n",
    "                \n",
    "                # we get two new individuals by each step, so half the pop size\n",
    "                for _ in range(replace//2):\n",
    "                    # find two parents by tournament selection\n",
    "                    p1, p2 = Crossover().tournament_selection(self.population,8)\n",
    "\n",
    "                    # create two children by uniform order crossover\n",
    "                    c1 = Crossover().uniform_order_crossover(p1,p2)\n",
    "                    c2 = Crossover().uniform_order_crossover(p2,p1)\n",
    "                    # do mutation\n",
    "                    c1 = mutation(c1)\n",
    "                    c2 = mutation(c2)\n",
    "                    # add children to new population\n",
    "                    next_idx = pop_indices_sorted_by_fitness.pop(0)\n",
    "                    self.population[next_idx] = c1\n",
    "                    next_idx = pop_indices_sorted_by_fitness.pop(0)\n",
    "                    self.population[next_idx] = c2\n",
    "\n",
    "                print(\"episode \" + str(episode+1) + \": mean fitness score: \" + str(Fitness().mean_fitness(self.population)) + \"; best individual fitness: \" + str(Fitness().best_fitness(self.population)))"
   ]
  },
  {
   "cell_type": "code",
   "execution_count": null,
   "outputs": [
    {
     "name": "stdout",
     "output_type": "stream",
     "text": [
      "episode 0: mean fitness score: 16.183; best individual fitness: 19.592\n",
      "episode 1: mean fitness score: 17.445; best individual fitness: 19.787\n",
      "episode 2: mean fitness score: 17.581; best individual fitness: 20.687\n",
      "episode 3: mean fitness score: 18.414; best individual fitness: 21.167\n"
     ]
    }
   ],
   "source": [
    "Genetic_Algorithm(students, num_individuals, groupsize).run(episodes=10, replace='all', mutation_rate=0.2)"
   ],
   "metadata": {
    "collapsed": false,
    "pycharm": {
     "name": "#%%\n",
     "is_executing": true
    }
   }
  },
  {
   "cell_type": "code",
   "execution_count": null,
   "outputs": [],
   "source": [],
   "metadata": {
    "collapsed": false,
    "pycharm": {
     "name": "#%%\n",
     "is_executing": true
    }
   }
  }
 ],
 "metadata": {
  "kernelspec": {
   "display_name": "Python 3",
   "language": "python",
   "name": "python3"
  },
  "language_info": {
   "codemirror_mode": {
    "name": "ipython",
    "version": 3
   },
   "file_extension": ".py",
   "mimetype": "text/x-python",
   "name": "python",
   "nbconvert_exporter": "python",
   "pygments_lexer": "ipython3",
   "version": "3.9.7"
  }
 },
 "nbformat": 4,
 "nbformat_minor": 0
}