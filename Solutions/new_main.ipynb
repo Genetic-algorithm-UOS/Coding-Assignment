{
 "cells": [
  {
   "cell_type": "code",
   "execution_count": 49,
   "metadata": {
    "collapsed": true,
    "pycharm": {
     "name": "#%%\n"
    }
   },
   "outputs": [],
   "source": [
    "import numpy as np\n",
    "import random\n",
    "import pandas as pd\n",
    "from typing import List"
   ]
  },
  {
   "cell_type": "code",
   "execution_count": 50,
   "metadata": {
    "collapsed": false,
    "pycharm": {
     "name": "#%%\n"
    }
   },
   "outputs": [],
   "source": [
    "students = pd.read_csv('dataset_full.csv')\n",
    "\n",
    "# hyperparameters\n",
    "num_individuals = 50\n",
    "groupsize = 5"
   ]
  },
  {
   "cell_type": "markdown",
   "metadata": {
    "pycharm": {
     "name": "#%% md\n"
    }
   },
   "source": [
    "Darwinian Natural Selection\n",
    "\n",
    "- Variation\n",
    "- Selection\n",
    "- Heredity"
   ]
  },
  {
   "cell_type": "markdown",
   "metadata": {
    "pycharm": {
     "name": "#%% md\n"
    }
   },
   "source": [
    "1. Variation (Create a population)"
   ]
  },
  {
   "cell_type": "code",
   "execution_count": 51,
   "metadata": {
    "pycharm": {
     "name": "#%%\n"
    }
   },
   "outputs": [
    {
     "data": {
      "text/plain": "   ID               Name         Gender Preferred language          Majors  \\\n0   1        Marko Pfaff           Male            English    ('CP', 'AI')   \n1   2  Christian Kuester  Indeterminate                Any  ('CL', 'PHIL')   \n2   3  Johanna Schreiber         Female                Any    ('CL', 'NI')   \n3   4        Tim Krueger           Male                Any    ('NI', 'CP')   \n4   5      Jessica Fried         Female                Any  ('CP', 'PHIL')   \n\n  Level of ambition Preferred meeting place Personality type  \\\n0              High               In person             INTP   \n1         Very high               In person             ESTJ   \n2         Very high               In person             ENFJ   \n3            Medium               In person             ESFJ   \n4          Very low               In person             ESFP   \n\n        Best friend Preferred day  \n0      Mathias Durr        Friday  \n1  Phillipp Koertig      Thursday  \n2      Marie Kohler     Wednesday  \n3       Marina Kalb       Tuesday  \n4     Florian Bader     Wednesday  ",
      "text/html": "<div>\n<style scoped>\n    .dataframe tbody tr th:only-of-type {\n        vertical-align: middle;\n    }\n\n    .dataframe tbody tr th {\n        vertical-align: top;\n    }\n\n    .dataframe thead th {\n        text-align: right;\n    }\n</style>\n<table border=\"1\" class=\"dataframe\">\n  <thead>\n    <tr style=\"text-align: right;\">\n      <th></th>\n      <th>ID</th>\n      <th>Name</th>\n      <th>Gender</th>\n      <th>Preferred language</th>\n      <th>Majors</th>\n      <th>Level of ambition</th>\n      <th>Preferred meeting place</th>\n      <th>Personality type</th>\n      <th>Best friend</th>\n      <th>Preferred day</th>\n    </tr>\n  </thead>\n  <tbody>\n    <tr>\n      <th>0</th>\n      <td>1</td>\n      <td>Marko Pfaff</td>\n      <td>Male</td>\n      <td>English</td>\n      <td>('CP', 'AI')</td>\n      <td>High</td>\n      <td>In person</td>\n      <td>INTP</td>\n      <td>Mathias Durr</td>\n      <td>Friday</td>\n    </tr>\n    <tr>\n      <th>1</th>\n      <td>2</td>\n      <td>Christian Kuester</td>\n      <td>Indeterminate</td>\n      <td>Any</td>\n      <td>('CL', 'PHIL')</td>\n      <td>Very high</td>\n      <td>In person</td>\n      <td>ESTJ</td>\n      <td>Phillipp Koertig</td>\n      <td>Thursday</td>\n    </tr>\n    <tr>\n      <th>2</th>\n      <td>3</td>\n      <td>Johanna Schreiber</td>\n      <td>Female</td>\n      <td>Any</td>\n      <td>('CL', 'NI')</td>\n      <td>Very high</td>\n      <td>In person</td>\n      <td>ENFJ</td>\n      <td>Marie Kohler</td>\n      <td>Wednesday</td>\n    </tr>\n    <tr>\n      <th>3</th>\n      <td>4</td>\n      <td>Tim Krueger</td>\n      <td>Male</td>\n      <td>Any</td>\n      <td>('NI', 'CP')</td>\n      <td>Medium</td>\n      <td>In person</td>\n      <td>ESFJ</td>\n      <td>Marina Kalb</td>\n      <td>Tuesday</td>\n    </tr>\n    <tr>\n      <th>4</th>\n      <td>5</td>\n      <td>Jessica Fried</td>\n      <td>Female</td>\n      <td>Any</td>\n      <td>('CP', 'PHIL')</td>\n      <td>Very low</td>\n      <td>In person</td>\n      <td>ESFP</td>\n      <td>Florian Bader</td>\n      <td>Wednesday</td>\n    </tr>\n  </tbody>\n</table>\n</div>"
     },
     "execution_count": 51,
     "metadata": {},
     "output_type": "execute_result"
    }
   ],
   "source": [
    "students.head()"
   ]
  },
  {
   "cell_type": "code",
   "execution_count": 52,
   "metadata": {
    "pycharm": {
     "name": "#%%\n"
    }
   },
   "outputs": [],
   "source": [
    "class Population():\n",
    "    def __init__(self, students, n_individuals, groupsize):\n",
    "        super(Population, self).__init__()\n",
    "\n",
    "        if n_individuals % groupsize != 0:\n",
    "            raise ValueError(f'Received unexpected group size: {n_individuals} groups % {groupsize} individuals has to be 0.')\n",
    "        \n",
    "        self.students = students\n",
    "        self.n_individuals = n_individuals\n",
    "        self.ids = students.ID.tolist()\n",
    "        self.groupsize = groupsize\n",
    "\n",
    "    def create_random_individual(self):\n",
    "        individual = self.ids.copy()\n",
    "        random.shuffle(individual)\n",
    "\n",
    "        return individual\n",
    "\n",
    "    def create_initial_population(self) -> np.ndarray:\n",
    "        \"\"\" Creates an initial populations and returns it\"\"\"\n",
    "        population = []\n",
    "        for _ in range(self.n_individuals):\n",
    "            population.append(self.create_random_individual())\n",
    "\n",
    "        return np.array(population, dtype=int)\n",
    "\n",
    "    def show_groups_from_individual(self, individual: np.ndarray) -> None:\n",
    "        \"\"\" Prints all Groups of given $individual$\"\"\"\n",
    "        groups = []\n",
    "        for i in individual:\n",
    "            groups.append(self.students['Name'][i-1])\n",
    "        \n",
    "        for n,j in enumerate(range(0, len(groups), self.groupsize)):\n",
    "            print(f'Group {n+1} :',groups[j:j+5])\n",
    "\n",
    "        return None\n",
    "\n",
    "    def get_groups_from_individual(self, individual: np.ndarray) -> List[np.ndarray]:\n",
    "        \"\"\" Returns a Python List of all Groups in an individual(as numpy ndarrays) \"\"\"\n",
    "        groups = []\n",
    "        for i in individual:\n",
    "            groups.append(self.students.loc[i-1])\n",
    "\n",
    "        nested_groups_list = []\n",
    "        for n,j in enumerate(range(0, len(groups), self.groupsize)):\n",
    "            nested_groups_list.append(np.ndarray(groups[j:j+5]))\n",
    "\n",
    "        return nested_groups_list\n",
    "\n",
    "    def get_groups_by_person_fullname(self, fullname: str, individual: np.ndarray) -> List[np.ndarray]:\n",
    "        \"\"\" Returns all Groups that got a Person with $fullname$ in given $individual$\"\"\"\n",
    "        nested_groups_list = self.get_groups_from_individual(individual)\n",
    "\n",
    "        groups_with_person = []\n",
    "        for group in nested_groups_list:\n",
    "            if fullname in group[\"Name\"].values:\n",
    "                groups_with_person.append(group)\n",
    "        return groups_with_person\n",
    "\n",
    "    def get_group_by_person_ID(self, ID: int, individual: np.ndarray) -> np.ndarray:\n",
    "        \"\"\" Returns Group that has Person with given $ID$ in given $individual$\"\"\"\n",
    "        nested_groups_list = self.get_groups_from_individual(individual)\n",
    "\n",
    "        groups_with_person = []\n",
    "        for group in nested_groups_list:\n",
    "            if ID in group[\"ID\"].values:\n",
    "                return group\n",
    "        return None"
   ]
  },
  {
   "cell_type": "code",
   "execution_count": 53,
   "metadata": {
    "pycharm": {
     "name": "#%%\n"
    }
   },
   "outputs": [
    {
     "data": {
      "text/plain": "array([[62, 49, 75, ..., 94, 38, 28],\n       [19, 70, 77, ..., 73, 85, 91],\n       [27, 80, 50, ..., 69, 15, 44],\n       ...,\n       [91,  1, 63, ..., 98, 95, 50],\n       [62, 53, 56, ..., 64,  7,  3],\n       [66, 26, 38, ..., 85, 50, 62]])"
     },
     "execution_count": 53,
     "metadata": {},
     "output_type": "execute_result"
    }
   ],
   "source": [
    "population_manager = Population(students, num_individuals, groupsize)\n",
    "\n",
    "test_population = population_manager.create_initial_population()\n",
    "\n",
    "test_population"
   ]
  },
  {
   "cell_type": "markdown",
   "metadata": {
    "pycharm": {
     "name": "#%% md\n"
    }
   },
   "source": [
    "Show Groups from the IDs"
   ]
  },
  {
   "cell_type": "code",
   "execution_count": 54,
   "metadata": {
    "pycharm": {
     "name": "#%%\n"
    }
   },
   "outputs": [
    {
     "name": "stdout",
     "output_type": "stream",
     "text": [
      "Group 1 : ['Jennifer Zimmer', 'Phillipp Schroeder', 'Sandra Metzger', 'Tim Krueger', 'Jonas Zimmer']\n",
      "Group 2 : ['Ines Ebersbacher', 'Jessica Fried', 'Tim Neustadt', 'Max Osterhagen', 'Ursula Burger']\n",
      "Group 3 : ['Angelika Eggers', 'Martina Weisz', 'Juliane Frei', 'Benjamin Schmitz', 'Dominik Kohl']\n",
      "Group 4 : ['Dennis Reiniger', 'Christian Kuester', 'Stefan Freud', 'Max Meyer', 'Maximilian Fiedler']\n",
      "Group 5 : ['Anke Richter', 'Stefan Beyer', 'René Dresdner', 'Jessika Wagner', 'Sara Papst']\n",
      "Group 6 : ['Petra Zweig', 'Dieter Schweitzer', 'Kathrin Scherer', 'Felix Wirtz', 'Christian Werfel']\n",
      "Group 7 : ['Mathias Durr', 'Dominik Hoch', 'Florian Pfeiffer', 'Sabrina Fink', 'Sarah Hoover']\n",
      "Group 8 : ['Juliane Urner', 'Luca Wexler', 'Jan Richter', 'Laura Wulf', 'Sven Holzman']\n",
      "Group 9 : ['Michael Bohm', 'Mike Freud', 'Erik Schroeder', 'Ralph Busch', 'Maria Weisz']\n",
      "Group 10 : ['Martina Baumgartner', 'Marie Kohler', 'Jörg Strauss', 'Andreas Fisher', 'Marina Kalb']\n",
      "Group 11 : ['Anke Lehmann', 'Simone Kohl', 'Ralph Weissmuller', 'Erik Schäfer', 'Doreen Freud']\n",
      "Group 12 : ['Ursula Reiniger', 'Antje Schroder', 'Nadine Reiniger', 'Juliane Freeh', 'Juliane Drescher']\n",
      "Group 13 : ['Phillipp Koertig', 'René Kuefer', 'Ralph Freitag', 'Diana Traugott', 'Steffen Wagner']\n",
      "Group 14 : ['Sven Weiß', 'Sarah Boehm', 'Leah Duerr', 'Patrick Shuster', 'Johanna Schreiber']\n",
      "Group 15 : ['Angelika Brauer', 'Lukas Kaiser', 'Claudia Abendroth', 'Petra Schwab', 'Marie Muench']\n",
      "Group 16 : ['Sophie Bohm', 'Karin Pfaff', 'Marco Eisenhauer', 'Katrin Bachmeier', 'Jan Dietrich']\n",
      "Group 17 : ['Brigitte Müller', 'Maximilian Schäfer', 'David Schweitzer', 'Jennifer König', 'Eric Kirsch']\n",
      "Group 18 : ['Lisa Mauer', 'Niklas Frey', 'Christine Baum', 'Sarah Mehler', 'Juliane Schultheiss']\n",
      "Group 19 : ['Gabriele Weiss', 'Florian Bader', 'Sophie Kastner', 'Marko Pfaff', 'Sabrina Diederich']\n",
      "Group 20 : ['Lukas Sommer', 'Anne Brandt', 'Maik Meier', 'Leon Fisher', 'Felix Gruenewald']\n"
     ]
    }
   ],
   "source": [
    "population_manager.show_groups_from_individual(test_population[0])"
   ]
  },
  {
   "cell_type": "markdown",
   "metadata": {
    "pycharm": {
     "name": "#%% md\n"
    }
   },
   "source": [
    "________"
   ]
  },
  {
   "cell_type": "markdown",
   "metadata": {
    "pycharm": {
     "name": "#%% md\n"
    }
   },
   "source": [
    "2. Selection (Evaluate the fitness of each group, find fittest)"
   ]
  },
  {
   "cell_type": "code",
   "execution_count": 55,
   "metadata": {
    "pycharm": {
     "name": "#%%\n"
    }
   },
   "outputs": [],
   "source": [
    "class Fitness():\n",
    "    def __init__(self):\n",
    "        super(Fitness, self).__init__()\n",
    "\n",
    "    def evaluate_fitness(self, individual, students):\n",
    "        \"\"\" Evaluates the fitness of an individual. \"\"\"\n",
    "\n",
    "        # split individual into student groups of the groupsize\n",
    "        groups = np.array_split(individual, (len(individual)/groupsize))\n",
    "\n",
    "        # iterate over groups and calculate scores for the different parameters\n",
    "        scores = []\n",
    "        for group_ids in groups:\n",
    "            # get full data for students in this group from pd dataframe\n",
    "            group = students.loc[students['ID'].isin(group_ids)]\n",
    "\n",
    "            # get individual scores for parameters\n",
    "            language_score = self.evaluate_language(group)\n",
    "            if language_score == -1:\n",
    "                # if we really want to use a hard constraint we would need to return -1 here, this makes for really bad (initial) results though\n",
    "                # return -1\n",
    "                scores.append(language_score)\n",
    "                continue\n",
    "\n",
    "            major_score = self.evaluate_majors(group)\n",
    "            ambition_score = self.evaluate_ambition(group)\n",
    "            place_score = self.evaluate_meeting_place(group)\n",
    "            gender_score = self.evaluate_gender(group)\n",
    "            friend_score = self.evaluate_friends(group)\n",
    "            personality_score = self.evaluate_personality(group)\n",
    "            day_score = self.evaluate_meeting_day(group)\n",
    "\n",
    "            # formula for adding and weighting different scores\n",
    "            scores.append(language_score+major_score+ambition_score+place_score+gender_score+friend_score+personality_score+day_score)\n",
    "\n",
    "        #Convert to series to calculate mean more easily\n",
    "        return pd.Series(scores).mean()\n",
    "\n",
    "    def evaluate_language(self, group):\n",
    "        # number of groupmembers per language\n",
    "        counts = group['Preferred language'].value_counts()\n",
    "\n",
    "        # hard constraints, if languages are conflicting, return -1\n",
    "        if 'German' in counts.index and 'English' in counts.index:\n",
    "            return -1\n",
    "\n",
    "        return groupsize\n",
    "\n",
    "    def evaluate_majors(self, group):\n",
    "        majors = group['Majors'].tolist()\n",
    "\n",
    "        # preprocess majors from dataset notation to list with all majors\n",
    "        group_majors = []\n",
    "        for pair in majors:\n",
    "            pair = pair[1:-1].split(\", \")\n",
    "\n",
    "            group_majors.append(pair[0][1:-1])\n",
    "            group_majors.append(pair[1][1:-1])\n",
    "\n",
    "        #convert to Series for easier handling\n",
    "        group_majors = pd.Series(group_majors)\n",
    "        #get value counts\n",
    "        group_major_values = group_majors.value_counts()\n",
    "        #remove majors only one person takes (as they provide no synergy to the group)\n",
    "        group_major_values = group_major_values[group_major_values > 1]\n",
    "\n",
    "        #add number of shared majors and divide by 2; Formula is kinda arbitrary\n",
    "        return group_major_values.sum() /2\n",
    "\n",
    "    def evaluate_ambition(self, group):\n",
    "        # get pd Series of ambitions\n",
    "        ambitions = group['Level of ambition']\n",
    "        # get int value mappings for ambitions\n",
    "\n",
    "        mapping = {\n",
    "            'Very low': 1,\n",
    "            'Low': 2,\n",
    "            'Medium': 3,\n",
    "            'High': 4,\n",
    "            'Very high': 5\n",
    "        } \n",
    "\n",
    "        ambitions = ambitions.map(mapping)\n",
    "\n",
    "        # fitness is groupsize - variance in group motivation (so less variance = more fitness)\n",
    "        return groupsize - ambitions.var()\n",
    "\n",
    "    def evaluate_meeting_place(self, group):\n",
    "        # number of groupmembers for each preferred meeting place\n",
    "        meeting_place = group['Preferred meeting place'].value_counts()\n",
    "\n",
    "        # if all prefer the same meeting place return 5, else 0\n",
    "        if meeting_place[0] == groupsize:\n",
    "            return 5\n",
    "\n",
    "        return 0\n",
    "\n",
    "    def evaluate_gender(self, group):\n",
    "        # evaluate by variance\n",
    "        genders = group['Gender'].value_counts()\n",
    "\n",
    "        # add 0 entry for missing genders\n",
    "        for gender in ['Male', 'Female', 'Indeterminate']:\n",
    "            if gender not in genders.index:\n",
    "                genders[gender] = 0\n",
    "\n",
    "        # return groupsize - variance\n",
    "        return groupsize - genders.var()\n",
    "\n",
    "    def evaluate_friends(self, group):\n",
    "        #for each member +1 if friend is also in group\n",
    "        group_member_names = group['Name'].tolist()\n",
    "        best_friends_name = group['Best friend'].tolist()\n",
    "\n",
    "        # get intersection between both lists\n",
    "        friends_in_group = list(set(group_member_names).intersection(best_friends_name))\n",
    "\n",
    "        # fitness += 1 for every pair of friends\n",
    "        return len(friends_in_group)\n",
    "\n",
    "    def evaluate_personality(self, group):\n",
    "        #information about compatible personality types is taken from\n",
    "        # Montequín, Vicente Rodríguez, et al. \"Using Myers-Briggs type indicator (MBTI) as a tool for setting up student teams for information technology projects.\" Journal of Information Technology and Application in Education 1.1 (2012): 28-34.\n",
    "\n",
    "        #count existing personality types in each group\n",
    "        personalities = group['Personality type']\n",
    "        types = personalities.value_counts()\n",
    "\n",
    "        #fitness function starts with 0 and gets better\n",
    "        # with every good group member\n",
    "        fitness = 0\n",
    "\n",
    "        #its good if there is a group leader like an ISTJ or an ESTJ, but only one\n",
    "        try:\n",
    "            if (types['ISTJ'] + types['ESTJ'] == 1):\n",
    "                fitness+=5\n",
    "            elif (types['ISTJ'] + types['ESTJ'] >= 2):\n",
    "                fitness-=5\n",
    "        except KeyError:\n",
    "            pass\n",
    "\n",
    "        #compare compatibility of group members\n",
    "        for i, personality_a in enumerate(personalities.tolist()):\n",
    "            for j, personality_b in enumerate(personalities.tolist()):\n",
    "                # skip same group member and members already compared\n",
    "                if i <= j:\n",
    "                    continue\n",
    "\n",
    "                # increase fitness if\n",
    "                if (personality_a[1] != personality_b[1]) ^ (personality_a[2] != personality_b[2]):\n",
    "                    if (personality_a[0] != personality_b[0]) or (personality_a[3] != personality_b[3]):\n",
    "                        fitness+=1\n",
    "\n",
    "        return fitness\n",
    "\n",
    "    def evaluate_meeting_day(self, group):\n",
    "        # number of groupmembers for each preferred meeting day\n",
    "        meeting_day = group['Preferred day'].value_counts()\n",
    "\n",
    "        # if all prefer the same meeting day return 5, else 0\n",
    "        if meeting_day[0] == groupsize:\n",
    "            return 5\n",
    "\n",
    "        return 0\n",
    "\n",
    "    def mean_fitness(self, population):\n",
    "        # get list of fitness scores for all individuals in this population\n",
    "        fitness_scores = [self.evaluate_fitness(individual, students) for individual in population]\n",
    "\n",
    "        # convert to series to calculate mean more easily\n",
    "        return round(pd.Series(fitness_scores).mean(), 3)\n",
    "\n",
    "    def best_fitness(self, population):\n",
    "        # get list of fitness scores for all individuals in this population\n",
    "        fitness_scores = [self.evaluate_fitness(individual, students) for individual in population]\n",
    "\n",
    "        # sort by best first\n",
    "        scores_sorted = sorted(fitness_scores, reverse=True)\n",
    "\n",
    "        # return fitness of best individual\n",
    "        return round(scores_sorted[0], 3)\n",
    "\n",
    "    def get_fittest_individual(self, population, students):\n",
    "        # get list of fitness scores for all individuals in this population\n",
    "        highest_fitness = float(\"-inf\")\n",
    "        fittest_individual = None\n",
    "        for individual in population:\n",
    "            fitness = self.evaluate_fitness(individual, students)\n",
    "            if highest_fitness < self.evaluate_fitness(individual, students):\n",
    "                highest_fitness = fitness\n",
    "                fittest_individual = individual\n",
    "        return fittest_individual\n",
    "\n",
    "    def indices_sorted_by_fitness(self, population):\n",
    "        fitness_scores = [self.evaluate_fitness(individual, students) for individual in population]\n",
    "\n",
    "        indices = np.argsort(fitness_scores)\n",
    "\n",
    "        return indices.tolist()"
   ]
  },
  {
   "cell_type": "code",
   "execution_count": 56,
   "metadata": {
    "pycharm": {
     "name": "#%%\n"
    }
   },
   "outputs": [
    {
     "data": {
      "text/plain": "19.193"
     },
     "execution_count": 56,
     "metadata": {},
     "output_type": "execute_result"
    }
   ],
   "source": [
    "best_fitness = Fitness().best_fitness(test_population)\n",
    "best_fitness"
   ]
  },
  {
   "cell_type": "markdown",
   "metadata": {
    "pycharm": {
     "name": "#%% md\n"
    }
   },
   "source": [
    "3. Heredity (Pass on the fittest to the next generation)"
   ]
  },
  {
   "cell_type": "code",
   "execution_count": 57,
   "metadata": {
    "pycharm": {
     "name": "#%%\n"
    }
   },
   "outputs": [],
   "source": [
    "class Crossover():\n",
    "    def __init__(self):\n",
    "        super(Crossover, self).__init__()\n",
    "\n",
    "    def uniform_order_crossover(self, p1, p2):\n",
    "\n",
    "        template = self.get_crossover_template(len(p1), crossover_rate=0.2)\n",
    "        # create 'empty' child\n",
    "        child = np.zeros((len(p1),),dtype=int)\n",
    "        # where the template is true, take values from p1\n",
    "        child[template] = p1[template]\n",
    "        # store genes used from p1\n",
    "        used_genes = p1[template]\n",
    "\n",
    "        # get all genes from p2\n",
    "        remaining_genes = p2.tolist()\n",
    "        # add genes from p2 (that were not used from p1) to the empty spots of the child\n",
    "        for i, value in enumerate(child):\n",
    "            # if this spot is already filled, continue\n",
    "            if value != 0:\n",
    "                continue\n",
    "\n",
    "            # do while:  pop(get and remove) next gene from p2 until one is found that is not yet in the genome of the child, then add that\n",
    "            while True:\n",
    "                next_gene = remaining_genes.pop(0)\n",
    "                if next_gene not in used_genes:\n",
    "                    child[i] = next_gene\n",
    "                    break\n",
    "\n",
    "        return child\n",
    "\n",
    "    def get_crossover_template(self,length, crossover_rate = 0.2):\n",
    "        # initialize template with false values\n",
    "        template = np.zeros((length,),dtype=bool)\n",
    "        # get random indices of the amount #of genes * crossover rate\n",
    "        random_indices = np.random.choice(template.shape[0], int(length*crossover_rate), replace=False)\n",
    "        #set these indices to true\n",
    "        template[random_indices] = True\n",
    "\n",
    "        return template\n",
    "\n",
    "    def tournament_selection(self, popuplation, tournament_size = 8):\n",
    "        # get random indices to select random individuals from population\n",
    "        random_indices = np.random.choice(popuplation.shape[0], tournament_size*2, replace=False)\n",
    "\n",
    "        # get individuals from random indices and split into two tournaments\n",
    "        tournament1 = popuplation[random_indices[:tournament_size]]\n",
    "        tournament2 = popuplation[random_indices[tournament_size:]]\n",
    "\n",
    "        parents = []\n",
    "        # tournament is won by fittest individual in each tournament, those become the two parents\n",
    "        for tournament in (tournament1,tournament2):\n",
    "            # get fitness scores for every individual in the tournament\n",
    "            fitness_scores = [Fitness().evaluate_fitness(individual, students) for individual in tournament]\n",
    "            # get indices ordered by highest fitness first\n",
    "            idx = np.argsort(fitness_scores)[::-1]\n",
    "            # add individual with highest fitness to parents\n",
    "            parents.append(tournament[idx[0]])\n",
    "\n",
    "        return parents"
   ]
  },
  {
   "cell_type": "code",
   "execution_count": 58,
   "metadata": {
    "pycharm": {
     "name": "#%%\n"
    }
   },
   "outputs": [
    {
     "name": "stdout",
     "output_type": "stream",
     "text": [
      "[[ 31  17  83 ...   2  65  46]\n",
      " [ 66  19 100 ...  12  42  26]\n",
      " [ 19  16  83 ...  85  68   9]\n",
      " ...\n",
      " [ 48  66  58 ...  94  75  15]\n",
      " [ 89   9  25 ...  88  15  72]\n",
      " [ 52  20  25 ...   9  96  36]] \n",
      "\n",
      "[ 43  49  91  79  55  72  22  38  67  56  63  12  88   7  81  99  52  97\n",
      "  54  87  76  65  47  11  29  26  17  10  25   4   1  34  84  16  98  27\n",
      "  60  14  50  94  66  23  82  89  40  78  57  31  92  75  58   9  35  80\n",
      "  93  20  42  46  59   8  24   6  39  21  64  37  68  48  95  70  28  83\n",
      "  32  41  90  36  30  45 100  77  44   3   5  15  73  61  51  96  85  62\n",
      "  19  74  71  69   2  86  33  13  18  53] \n",
      "\n",
      "[ 94  34  75  69  90   8  46  28  93  86  99  44  65  96  20  81  72  26\n",
      "   5  30  58  29  89  67  45  88  14  54  71  19   1  38  51  59  13  87\n",
      "  17  82  23  22  18  31  66  84  40  41  74  78 100   6  37  62  55  57\n",
      "  53  64  16  97  52  73  61  95  15  32  79  11  91  56  49   7  43  35\n",
      "  92  25  50  80  76  60  83  12  10   9  42  21  48  24   3   4  47   2\n",
      "  27  85  63  98  77  33  70  39  36  68] \n",
      "\n",
      "[ 94  49  34  75  69   8  46  28  86  56  63  44  65  96  20  99  52  81\n",
      "  54  72   5  30  58  11  29  26  67  45  88  14  71  19   1  38  51  59\n",
      "  13  87  50  17  82  23  22  89  40  78  18  31  66  84  41  74 100  80\n",
      "  93   6  37  62  55  57  53  16  97  21  64  73  61  48  95  15  79  91\n",
      "  32   7  90  43  35  92  25  76  60  83  12  10   9  42  24   3   4  47\n",
      "   2  27  85  98  77  33  70  39  36  68]\n"
     ]
    }
   ],
   "source": [
    "random_population = Population(students, num_individuals, groupsize).create_initial_population()\n",
    "\n",
    "print(random_population, '\\n')\n",
    "\n",
    "random_parent1, random_parent2 = Crossover().tournament_selection(random_population)\n",
    "\n",
    "print(random_parent1, '\\n')\n",
    "print(random_parent2, '\\n')\n",
    "\n",
    "child = Crossover().uniform_order_crossover(random_parent1, random_parent2)\n",
    "\n",
    "print(child)"
   ]
  },
  {
   "cell_type": "markdown",
   "metadata": {
    "pycharm": {
     "name": "#%% md\n"
    }
   },
   "source": [
    "We also add a mutation function: "
   ]
  },
  {
   "cell_type": "code",
   "execution_count": 59,
   "metadata": {
    "pycharm": {
     "name": "#%%\n"
    }
   },
   "outputs": [],
   "source": [
    "def mutation(individual, mutation_rate = 0.2):\n",
    "    # if random percentage is lower than the mutation rate, switch two random genes\n",
    "    if random.uniform(0, 1) < mutation_rate:\n",
    "        idx1 = random.randint(0, len(individual)-1)\n",
    "        idx2 = random.randint(0, len(individual)-1)\n",
    "\n",
    "        individual[idx1], individual[idx2] = individual[idx2], individual[idx1]\n",
    "\n",
    "    return individual"
   ]
  },
  {
   "cell_type": "markdown",
   "metadata": {
    "pycharm": {
     "name": "#%% md\n"
    }
   },
   "source": [
    "Finally, our executable GA class:"
   ]
  },
  {
   "cell_type": "code",
   "execution_count": 60,
   "metadata": {
    "pycharm": {
     "name": "#%%\n"
    }
   },
   "outputs": [],
   "source": [
    "class Genetic_Algorithm():\n",
    "    def __init__(self, students, num_individuals, groupsize):\n",
    "        super(Genetic_Algorithm, self).__init__()\n",
    "\n",
    "        self.students = students\n",
    "        self.groupsize = groupsize\n",
    "        self.num_individuals = num_individuals\n",
    "        self.ids = students.ID.tolist()\n",
    "\n",
    "    def run(self, episodes, replace='all', mutation_rate=0.2):\n",
    "\n",
    "        self.epidodes = episodes\n",
    "        self.population = Population(students, num_individuals, groupsize).create_initial_population()\n",
    "\n",
    "        print(\"episode \" + str(0) + \": mean fitness score: \" + str(Fitness().mean_fitness(self.population)) + \"; best individual fitness: \" + str(Fitness().best_fitness(self.population)))\n",
    "\n",
    "        if replace == 'all':\n",
    "            for episode in range(episodes):\n",
    "                new_pop = []\n",
    "                # we get two new individuals by each step, so half the pop size\n",
    "                for _ in range(len(self.population)//2):\n",
    "                    # find two parents by tournament selection\n",
    "                    p1, p2 = Crossover().tournament_selection(self.population,8)\n",
    "\n",
    "                    # create two children by uniform order crossover\n",
    "                    c1 = Crossover().uniform_order_crossover(p1,p2)\n",
    "                    c2 = Crossover().uniform_order_crossover(p2,p1)\n",
    "                    # do mutation\n",
    "                    c1 = mutation(c1, mutation_rate)\n",
    "                    c2 = mutation(c2, mutation_rate)\n",
    "                    # add children to new population\n",
    "                    new_pop.append(c1)\n",
    "                    new_pop.append(c2)\n",
    "\n",
    "                self.population = np.array(new_pop,dtype=int)\n",
    "\n",
    "                print(\"episode \" + str(episode+1) + \": mean fitness score: \" + str(Fitness().mean_fitness(self.population)) + \"; best individual fitness: \" + str(Fitness().best_fitness(self.population)))\n",
    "\n",
    "        elif list(replace):\n",
    "            for episode in range(episodes):\n",
    "                pop_indices_sorted_by_fitness = Fitness().indices_sorted_by_fitness(self.population)\n",
    "                \n",
    "                # we get two new individuals by each step, so half the pop size\n",
    "                for _ in range(replace//2):\n",
    "                    # find two parents by tournament selection\n",
    "                    p1, p2 = Crossover().tournament_selection(self.population,8)\n",
    "\n",
    "                    # create two children by uniform order crossover\n",
    "                    c1 = Crossover().uniform_order_crossover(p1,p2)\n",
    "                    c2 = Crossover().uniform_order_crossover(p2,p1)\n",
    "                    # do mutation\n",
    "                    c1 = mutation(c1)\n",
    "                    c2 = mutation(c2)\n",
    "                    # add children to new population\n",
    "                    next_idx = pop_indices_sorted_by_fitness.pop(0)\n",
    "                    self.population[next_idx] = c1\n",
    "                    next_idx = pop_indices_sorted_by_fitness.pop(0)\n",
    "                    self.population[next_idx] = c2\n",
    "\n",
    "                print(\"episode \" + str(episode+1) + \": mean fitness score: \" + str(Fitness().mean_fitness(self.population)) + \"; best individual fitness: \" + str(Fitness().best_fitness(self.population)))\n",
    "\n",
    "        return self.population"
   ]
  },
  {
   "cell_type": "code",
   "execution_count": 61,
   "outputs": [
    {
     "name": "stdout",
     "output_type": "stream",
     "text": [
      "episode 0: mean fitness score: 16.143; best individual fitness: 19.608\n",
      "episode 1: mean fitness score: 17.154; best individual fitness: 19.442\n",
      "episode 2: mean fitness score: 17.607; best individual fitness: 20.252\n",
      "episode 3: mean fitness score: 17.655; best individual fitness: 20.282\n",
      "episode 4: mean fitness score: 18.321; best individual fitness: 20.392\n",
      "episode 5: mean fitness score: 18.669; best individual fitness: 20.912\n",
      "episode 6: mean fitness score: 19.104; best individual fitness: 21.102\n",
      "episode 7: mean fitness score: 19.267; best individual fitness: 20.702\n",
      "episode 8: mean fitness score: 19.49; best individual fitness: 21.042\n",
      "episode 9: mean fitness score: 19.873; best individual fitness: 21.217\n",
      "episode 10: mean fitness score: 20.35; best individual fitness: 21.247\n"
     ]
    }
   ],
   "source": [
    "population = Genetic_Algorithm(students, num_individuals, groupsize).run(episodes=10, replace='all', mutation_rate=0.2)"
   ],
   "metadata": {
    "collapsed": false,
    "pycharm": {
     "name": "#%%\n"
    }
   }
  },
  {
   "cell_type": "code",
   "execution_count": 74,
   "outputs": [
    {
     "data": {
      "text/plain": "    ID                 Name  Gender Preferred language          Majors  \\\n80  81     Juliane Drescher  Female                Any    ('CL', 'CP')   \n67  68          Anne Brandt  Female                Any    ('CL', 'CP')   \n89  90  Martina Baumgartner  Female            English  ('PHIL', 'NS')   \n84  85        Florian Bader    Male                Any  ('PHIL', 'NS')   \n96  97           Sara Papst  Female                Any    ('NI', 'AI')   \n\n   Level of ambition Preferred meeting place Personality type  \\\n80          Very low               In person             INTP   \n67               Low               In person             ENTJ   \n89               Low               In person             ISFJ   \n84          Very low               In person             ISFP   \n96          Very low               In person             ESFP   \n\n        Best friend Preferred day  \n80     Jan Dietrich     Wednesday  \n67  Patrick Shuster        Friday  \n89        Max Meyer        Monday  \n84    Jessica Fried       Tuesday  \n96     Sarah Mehler      Thursday  ",
      "text/html": "<div>\n<style scoped>\n    .dataframe tbody tr th:only-of-type {\n        vertical-align: middle;\n    }\n\n    .dataframe tbody tr th {\n        vertical-align: top;\n    }\n\n    .dataframe thead th {\n        text-align: right;\n    }\n</style>\n<table border=\"1\" class=\"dataframe\">\n  <thead>\n    <tr style=\"text-align: right;\">\n      <th></th>\n      <th>ID</th>\n      <th>Name</th>\n      <th>Gender</th>\n      <th>Preferred language</th>\n      <th>Majors</th>\n      <th>Level of ambition</th>\n      <th>Preferred meeting place</th>\n      <th>Personality type</th>\n      <th>Best friend</th>\n      <th>Preferred day</th>\n    </tr>\n  </thead>\n  <tbody>\n    <tr>\n      <th>80</th>\n      <td>81</td>\n      <td>Juliane Drescher</td>\n      <td>Female</td>\n      <td>Any</td>\n      <td>('CL', 'CP')</td>\n      <td>Very low</td>\n      <td>In person</td>\n      <td>INTP</td>\n      <td>Jan Dietrich</td>\n      <td>Wednesday</td>\n    </tr>\n    <tr>\n      <th>67</th>\n      <td>68</td>\n      <td>Anne Brandt</td>\n      <td>Female</td>\n      <td>Any</td>\n      <td>('CL', 'CP')</td>\n      <td>Low</td>\n      <td>In person</td>\n      <td>ENTJ</td>\n      <td>Patrick Shuster</td>\n      <td>Friday</td>\n    </tr>\n    <tr>\n      <th>89</th>\n      <td>90</td>\n      <td>Martina Baumgartner</td>\n      <td>Female</td>\n      <td>English</td>\n      <td>('PHIL', 'NS')</td>\n      <td>Low</td>\n      <td>In person</td>\n      <td>ISFJ</td>\n      <td>Max Meyer</td>\n      <td>Monday</td>\n    </tr>\n    <tr>\n      <th>84</th>\n      <td>85</td>\n      <td>Florian Bader</td>\n      <td>Male</td>\n      <td>Any</td>\n      <td>('PHIL', 'NS')</td>\n      <td>Very low</td>\n      <td>In person</td>\n      <td>ISFP</td>\n      <td>Jessica Fried</td>\n      <td>Tuesday</td>\n    </tr>\n    <tr>\n      <th>96</th>\n      <td>97</td>\n      <td>Sara Papst</td>\n      <td>Female</td>\n      <td>Any</td>\n      <td>('NI', 'AI')</td>\n      <td>Very low</td>\n      <td>In person</td>\n      <td>ESFP</td>\n      <td>Sarah Mehler</td>\n      <td>Thursday</td>\n    </tr>\n  </tbody>\n</table>\n</div>"
     },
     "execution_count": 74,
     "metadata": {},
     "output_type": "execute_result"
    }
   ],
   "source": [
    "# Select the fittest individiual from our population\n",
    "fittest_individual = Fitness().get_fittest_individual(population, students)\n",
    "\n",
    "# Convert the Gene String to a List of Groups\n",
    "groups_df = population_manager.get_groups_from_individual(fittest_individual)\n",
    "\n",
    "# Plot an example group of the list\n",
    "groups_df[0]"
   ],
   "metadata": {
    "collapsed": false,
    "pycharm": {
     "name": "#%%\n"
    }
   }
  },
  {
   "cell_type": "markdown",
   "source": [
    "*Let's find your group or the one of a friend*"
   ],
   "metadata": {
    "collapsed": false,
    "pycharm": {
     "name": "#%% md\n"
    }
   }
  },
  {
   "cell_type": "code",
   "execution_count": 80,
   "outputs": [
    {
     "name": "stdout",
     "output_type": "stream",
     "text": [
      "[    ID              Name  Gender Preferred language          Majors  \\\n",
      "14  15  Marco Eisenhauer    Male                Any    ('NI', 'CL')   \n",
      "19  20         Max Meyer    Male                Any    ('NI', 'CL')   \n",
      "45  46    Gabriele Weiss  Female                Any    ('AI', 'NI')   \n",
      "28  29       Jan Richter    Male                Any    ('NI', 'AI')   \n",
      "98  99      Marie Kohler  Female                Any  ('NI', 'PHIL')   \n",
      "\n",
      "   Level of ambition Preferred meeting place Personality type  \\\n",
      "14              High               In person             ISTJ   \n",
      "19            Medium               In person             INTJ   \n",
      "45         Very high               In person             ISFJ   \n",
      "28               Low                  Online             ISTP   \n",
      "98         Very high               In person             ENFJ   \n",
      "\n",
      "            Best friend Preferred day  \n",
      "14   Maximilian Fiedler       Tuesday  \n",
      "19  Martina Baumgartner     Wednesday  \n",
      "45          Sophie Bohm      Thursday  \n",
      "28    Dieter Schweitzer        Friday  \n",
      "98    Johanna Schreiber       Tuesday  ]\n"
     ]
    }
   ],
   "source": [
    "# User Input for the Full Name - Please be accurate!\n",
    "fullname = str(input(\"Please the Full-Name you want to look up: \"))\n",
    "# Get the group by your Full Name - If there are multiple Persons with your name you will get all of them\n",
    "my_group = population_manager.get_groups_by_person_fullname(fullname, fittest_individual)\n",
    "# Plotting the first group found\n",
    "if my_group:\n",
    "    print(my_group)\n",
    "else:\n",
    "    print(\"Didn't find the requested Person with given Fullname\")"
   ],
   "metadata": {
    "collapsed": false,
    "pycharm": {
     "name": "#%%\n"
    }
   }
  },
  {
   "cell_type": "code",
   "execution_count": 84,
   "outputs": [
    {
     "name": "stdout",
     "output_type": "stream",
     "text": [
      "    ID               Name  Gender Preferred language          Majors  \\\n",
      "26  27         Mike Freud    Male                Any    ('NS', 'AI')   \n",
      "2    3  Johanna Schreiber  Female                Any    ('CL', 'NI')   \n",
      "10  11    Angelika Eggers  Female                Any  ('PHIL', 'CL')   \n",
      "33  34    Nadine Reiniger  Female                Any    ('NI', 'AI')   \n",
      "32  33        Niklas Frey    Male             German    ('NI', 'NS')   \n",
      "\n",
      "   Level of ambition Preferred meeting place Personality type  \\\n",
      "26          Very low                  Online             INTP   \n",
      "2          Very high               In person             ENFJ   \n",
      "10         Very high               In person             ESTP   \n",
      "33               Low               In person             ENFP   \n",
      "32            Medium                  Online             ENTJ   \n",
      "\n",
      "         Best friend Preferred day  \n",
      "26      Jonas Zimmer       Tuesday  \n",
      "2       Marie Kohler     Wednesday  \n",
      "10  Florian Pfeiffer        Friday  \n",
      "33    Christine Baum     Wednesday  \n",
      "32    Sophie Kastner       Tuesday  \n"
     ]
    }
   ],
   "source": [
    "# Find\n",
    "my_group = population_manager.get_group_by_person_ID(33, fittest_individual)\n",
    "# Plotting the group, if one found with given ID\n",
    "if my_group is not None:\n",
    "    print(my_group)\n",
    "else:\n",
    "    print(\"Didn't find the requested Person with given ID\")"
   ],
   "metadata": {
    "collapsed": false,
    "pycharm": {
     "name": "#%%\n"
    }
   }
  },
  {
   "cell_type": "code",
   "execution_count": 64,
   "outputs": [],
   "source": [],
   "metadata": {
    "collapsed": false,
    "pycharm": {
     "name": "#%%\n"
    }
   }
  }
 ],
 "metadata": {
  "kernelspec": {
   "display_name": "Python 3",
   "language": "python",
   "name": "python3"
  },
  "language_info": {
   "codemirror_mode": {
    "name": "ipython",
    "version": 3
   },
   "file_extension": ".py",
   "mimetype": "text/x-python",
   "name": "python",
   "nbconvert_exporter": "python",
   "pygments_lexer": "ipython3",
   "version": "3.9.7"
  }
 },
 "nbformat": 4,
 "nbformat_minor": 0
}