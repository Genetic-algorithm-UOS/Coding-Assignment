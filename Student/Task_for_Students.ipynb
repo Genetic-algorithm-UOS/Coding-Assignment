{
 "cells": [
  {
   "cell_type": "markdown",
   "metadata": {},
   "source": [
    "# Using Genetic Algorithms to Form Optimal Groups"
   ]
  },
  {
   "cell_type": "markdown",
   "metadata": {},
   "source": [
    "We have all been in that situation. You have to do a group project in a class, and the lecturer assigns the groups randomly. You find yourself in a group with people you don’t know and end up doing all the work by yourself. We want to change that and want you to implement an Genetic Algorithm that optimizes groups.\n"
   ]
  },
  {
   "cell_type": "markdown",
   "metadata": {},
   "source": [
    "## Task 1:\n"
   ]
  },
  {
   "cell_type": "markdown",
   "source": [
    "You have to implement the initial population, crossover, mutation, and fitness function. We divided it into smaller subtasks for you and implemented some of the functions for you. If you want to do your own implementation, feel free to ignore our hints and functions.\n",
    "\n",
    "Your initial population consists of 50 group distributions, where 100 students are assigned to 20 groups. Each student has a Student ID, a name, their spoken language, their 2 Majors (we assume everyone is doing their Masters), their ambition in the course, their preferred meeting place, their personality type, their gender, a friend that they want to be in a group with, and their preferred meeting day. \n",
    "\n",
    "To get you even more involved with the task, we want every member of your group to add their own person into the data. To do so, you simply have to execute the Jupyter Notebook named \"Dataset_Input.ipynb\". We are using the Myers-Briggs personality, which may not be the most scientific, but it for sure is entertaining. If you don’t know your type, you can take the test here (approx. 10 minutes) https://www.16personalities.com/free-personality-test. "
   ],
   "metadata": {
    "collapsed": false,
    "pycharm": {
     "name": "#%% md\n"
    }
   }
  },
  {
   "cell_type": "markdown",
   "source": [
    "Run this cell to load the packages:"
   ],
   "metadata": {
    "collapsed": false,
    "pycharm": {
     "name": "#%% md\n"
    }
   }
  },
  {
   "cell_type": "code",
   "execution_count": 22,
   "outputs": [],
   "source": [
    "import numpy as np\n",
    "import random\n",
    "import pandas as pd\n",
    "import matplotlib as plt\n",
    "import ipywidgets\n",
    "import IPython\n",
    "from Generator import DataGenerator\n",
    "from typing import List"
   ],
   "metadata": {
    "collapsed": false,
    "pycharm": {
     "name": "#%%\n"
    }
   }
  },
  {
   "cell_type": "markdown",
   "source": [
    "Execute this cell to create the dataset:"
   ],
   "metadata": {
    "collapsed": false,
    "pycharm": {
     "name": "#%% md\n"
    }
   }
  },
  {
   "cell_type": "code",
   "execution_count": 23,
   "outputs": [],
   "source": [
    "generator = DataGenerator()\n",
    "\n",
    "#df, type_ = generator.create_basic()\n",
    "\n",
    "df, type_ = generator.create_full()\n",
    "\n",
    "df.to_csv(\"dataset_\" + type_ + \".csv\", encoding=\"utf-8-sig\", index=False)"
   ],
   "metadata": {
    "collapsed": false,
    "pycharm": {
     "name": "#%%\n"
    }
   }
  },
  {
   "cell_type": "markdown",
   "source": [
    "Hyperparameters:"
   ],
   "metadata": {
    "collapsed": false,
    "pycharm": {
     "name": "#%% md\n"
    }
   }
  },
  {
   "cell_type": "code",
   "execution_count": 21,
   "outputs": [
    {
     "name": "stdout",
     "output_type": "stream",
     "text": [
      "<class 'pandas.core.frame.DataFrame'>\n"
     ]
    },
    {
     "data": {
      "text/plain": "   ID                 Name  Gender Preferred language        Majors  \\\n0   1      Jennifer Kortig  Female                Any  ('AI', 'NI')   \n1   2       Patrick Eichel    Male                Any  ('AI', 'NI')   \n2   3         Ralph Schmid    Male                Any  ('AI', 'CL')   \n3   4  Christina Schreiber  Female            English  ('NI', 'CL')   \n4   5         Johanna Cole  Female                Any  ('CP', 'AI')   \n\n  Level of ambition Preferred meeting place Personality type  \\\n0              High                  Online             INFP   \n1               Low               In person             INTJ   \n2            Medium               In person             ENTP   \n3               Low               In person             INFJ   \n4          Very low               In person             ESTP   \n\n             Best friend Preferred day  \n0           Kathrin Cole        Friday  \n1           Melanie Bach        Monday  \n2          Ursula Hirsch        Friday  \n3         Markus Neumann       Tuesday  \n4  Johanna Fenstermacher     Wednesday  ",
      "text/html": "<div>\n<style scoped>\n    .dataframe tbody tr th:only-of-type {\n        vertical-align: middle;\n    }\n\n    .dataframe tbody tr th {\n        vertical-align: top;\n    }\n\n    .dataframe thead th {\n        text-align: right;\n    }\n</style>\n<table border=\"1\" class=\"dataframe\">\n  <thead>\n    <tr style=\"text-align: right;\">\n      <th></th>\n      <th>ID</th>\n      <th>Name</th>\n      <th>Gender</th>\n      <th>Preferred language</th>\n      <th>Majors</th>\n      <th>Level of ambition</th>\n      <th>Preferred meeting place</th>\n      <th>Personality type</th>\n      <th>Best friend</th>\n      <th>Preferred day</th>\n    </tr>\n  </thead>\n  <tbody>\n    <tr>\n      <th>0</th>\n      <td>1</td>\n      <td>Jennifer Kortig</td>\n      <td>Female</td>\n      <td>Any</td>\n      <td>('AI', 'NI')</td>\n      <td>High</td>\n      <td>Online</td>\n      <td>INFP</td>\n      <td>Kathrin Cole</td>\n      <td>Friday</td>\n    </tr>\n    <tr>\n      <th>1</th>\n      <td>2</td>\n      <td>Patrick Eichel</td>\n      <td>Male</td>\n      <td>Any</td>\n      <td>('AI', 'NI')</td>\n      <td>Low</td>\n      <td>In person</td>\n      <td>INTJ</td>\n      <td>Melanie Bach</td>\n      <td>Monday</td>\n    </tr>\n    <tr>\n      <th>2</th>\n      <td>3</td>\n      <td>Ralph Schmid</td>\n      <td>Male</td>\n      <td>Any</td>\n      <td>('AI', 'CL')</td>\n      <td>Medium</td>\n      <td>In person</td>\n      <td>ENTP</td>\n      <td>Ursula Hirsch</td>\n      <td>Friday</td>\n    </tr>\n    <tr>\n      <th>3</th>\n      <td>4</td>\n      <td>Christina Schreiber</td>\n      <td>Female</td>\n      <td>English</td>\n      <td>('NI', 'CL')</td>\n      <td>Low</td>\n      <td>In person</td>\n      <td>INFJ</td>\n      <td>Markus Neumann</td>\n      <td>Tuesday</td>\n    </tr>\n    <tr>\n      <th>4</th>\n      <td>5</td>\n      <td>Johanna Cole</td>\n      <td>Female</td>\n      <td>Any</td>\n      <td>('CP', 'AI')</td>\n      <td>Very low</td>\n      <td>In person</td>\n      <td>ESTP</td>\n      <td>Johanna Fenstermacher</td>\n      <td>Wednesday</td>\n    </tr>\n  </tbody>\n</table>\n</div>"
     },
     "execution_count": 21,
     "metadata": {},
     "output_type": "execute_result"
    }
   ],
   "source": [
    "students: pd.DataFrame = pd.read_csv(\"dataset_full.csv\")\n",
    "student_ids: List[int] = students.ID.tolist()\n",
    "\n",
    "# hyperparameters\n",
    "num_individuals: int = 50\n",
    "groupsize: int = 5\n",
    "# between 0 and 1\n",
    "mutation_rate: float = 0.05\n",
    "\n",
    "students.head()"
   ],
   "metadata": {
    "collapsed": false,
    "pycharm": {
     "name": "#%%\n"
    }
   }
  },
  {
   "cell_type": "markdown",
   "metadata": {},
   "source": [
    "We create one random individual:"
   ]
  },
  {
   "cell_type": "code",
   "execution_count": 20,
   "metadata": {
    "pycharm": {
     "name": "#%%\n"
    }
   },
   "outputs": [
    {
     "name": "stdout",
     "output_type": "stream",
     "text": [
      "[57, 22, 100, 73, 45, 49, 77, 74, 83, 23, 85, 46, 47, 19, 3, 81, 98, 55, 95, 26, 31, 68, 27, 99, 66, 40, 62, 92, 93, 38, 9, 6, 8, 33, 84, 43, 72, 18, 89, 11, 87, 79, 14, 56, 97, 90, 91, 10, 21, 51, 13, 36, 7, 29, 20, 17, 70, 44, 60, 67, 88, 54, 78, 5, 48, 94, 69, 30, 2, 32, 58, 86, 4, 25, 12, 61, 64, 52, 82, 59, 75, 37, 63, 42, 28, 16, 80, 1, 53, 35, 50, 24, 39, 96, 15, 76, 65, 41, 34, 71]\n"
     ]
    }
   ],
   "source": [
    "def create_random_individual(student_ids: List[int]) -> List[int]:\n",
    "    #You don't need to do anything here.\n",
    "\n",
    "    individual = student_ids.copy()\n",
    "    random.shuffle(individual)\n",
    "\n",
    "    return individual\n",
    "\n",
    "print(create_random_individual(student_ids))"
   ]
  },
  {
   "cell_type": "markdown",
   "metadata": {},
   "source": [
    "\n",
    "\n",
    "Create the initial population of 50 (=num_individuals) individuals:\n"
   ]
  },
  {
   "cell_type": "code",
   "execution_count": null,
   "metadata": {
    "pycharm": {
     "name": "#%%\n"
    }
   },
   "outputs": [],
   "source": [
    "def create_initial_population(students: c, groupsize: int) -> np.ndarray:\n",
    "    \n",
    "    #should return a numpy array of the whole population\n",
    "    pass"
   ]
  },
  {
   "cell_type": "markdown",
   "metadata": {},
   "source": [
    "We need a fitness function that computes how good the group distribution is. You have to take into consideration that we have many parameters that are not equally important and should therefore be differently weighted. We already coded some of the specific evaluation functions for the parameters for you. You have to implement the remaining evaluation functions. Think about what is desirable to have in a group and how you can calculate it. For example, you might have to change the data type of a parameter to make meaningful calculatons.\n",
    "\n",
    "At the end, you have to weigh all evaluation functions in one fitness function. "
   ]
  },
  {
   "cell_type": "code",
   "execution_count": 2,
   "metadata": {
    "pycharm": {
     "name": "#%%\n"
    }
   },
   "outputs": [],
   "source": [
    "def evaluate_language(group: pd.DataFrame) -> float:\n",
    "    pass"
   ]
  },
  {
   "cell_type": "code",
   "execution_count": 10,
   "metadata": {
    "pycharm": {
     "name": "#%%\n"
    }
   },
   "outputs": [],
   "source": [
    "\n",
    "def evaluate_majors(group: pd.DataFrame) -> float:\n",
    "    #Remember that the majors are stored as a string like \"('NS','AI')\". \n",
    "    # You might need to preprocess those to actual tupels.\n",
    "    pass\n"
   ]
  },
  {
   "cell_type": "code",
   "execution_count": null,
   "metadata": {
    "pycharm": {
     "name": "#%%\n"
    }
   },
   "outputs": [],
   "source": [
    "\n",
    "def evaluate_ambition(group: pd.DataFrame) -> float:\n",
    "    #it might be useful to convert the strings to an integer scala\n",
    "    \n",
    "    pass\n"
   ]
  },
  {
   "cell_type": "code",
   "execution_count": null,
   "metadata": {
    "pycharm": {
     "name": "#%%\n"
    }
   },
   "outputs": [],
   "source": [
    "\n",
    "def evaluate_meeting_place(group: pd.DataFrame) -> float:\n",
    "    #You don't need to code anything in here.\n",
    "    #This is an example evaluation function.\n",
    "    \n",
    "    # number of groupmembers for each preferred meeting place\n",
    "    meeting_place = group['Preferred meeting place'].value_counts()\n",
    "\n",
    "    # if all prefer the same meeting place return 5, else 0\n",
    "    if meeting_place[0] == groupsize:\n",
    "        return 5\n",
    "\n",
    "    return 0"
   ]
  },
  {
   "cell_type": "code",
   "execution_count": null,
   "metadata": {
    "pycharm": {
     "name": "#%%\n"
    }
   },
   "outputs": [],
   "source": [
    "def evaluate_gender(group: pd.DataFrame) -> float:\n",
    "    pass"
   ]
  },
  {
   "cell_type": "code",
   "execution_count": null,
   "metadata": {
    "pycharm": {
     "name": "#%%\n"
    }
   },
   "outputs": [],
   "source": [
    "def evaluate_friends(array: pd.DataFrame, students: pd.DataFrame) -> float:\n",
    "    pass"
   ]
  },
  {
   "cell_type": "code",
   "execution_count": null,
   "metadata": {
    "pycharm": {
     "name": "#%%\n"
    }
   },
   "outputs": [],
   "source": [
    "def evaluate_personality(group: pd.DataFrame) -> float:\n",
    "    #You dont need to change anything in here \n",
    "\n",
    "    #information about compatible personality types is taken from\n",
    "    # Montequín, Vicente Rodríguez, et al. \"Using Myers-Briggs type indicator (MBTI) as a tool for setting up student teams for information technology projects.\" Journal of Information Technology and Application in Education 1.1 (2012): 28-34.\n",
    "\n",
    "    #count existing personality types in each group\n",
    "    personalities = group['Personality type']\n",
    "    types = personalities.value_counts()\n",
    "\n",
    "    #fitness function starts with 0 and gets better\n",
    "    # with every good group member\n",
    "    fitness = 0\n",
    "\n",
    "    #its good if there is a group leader like an ISTJ or an ESTJ, but only one\n",
    "    try:\n",
    "        if (types['ISTJ'] + types['ESTJ'] == 1):\n",
    "            fitness+=5\n",
    "        elif (types['ISTJ'] + types['ESTJ'] >= 2):\n",
    "            fitness-=5\n",
    "    except KeyError:\n",
    "        pass\n",
    "\n",
    "    #compare compatibility of group members\n",
    "    for i, personality_a in enumerate(personalities.tolist()):\n",
    "        for j, personality_b in enumerate(personalities.tolist()):\n",
    "            # skip same group member and members already compared\n",
    "            if i <= j:\n",
    "                continue\n",
    "\n",
    "            # increase fitness if\n",
    "            if (personality_a[1] != personality_b[1]) ^ (personality_a[2] != personality_b[2]):\n",
    "                if (personality_a[0] != personality_b[0]) or (personality_a[3] != personality_b[3]):\n",
    "                    fitness+=1\n",
    "\n",
    "    return fitness"
   ]
  },
  {
   "cell_type": "code",
   "execution_count": null,
   "metadata": {
    "pycharm": {
     "name": "#%%\n"
    }
   },
   "outputs": [],
   "source": [
    "def evaluate_meeting_day(group: pd.DataFrame) -> float:\n",
    "    pass"
   ]
  },
  {
   "cell_type": "markdown",
   "metadata": {},
   "source": [
    "And now put everything together.\n",
    "The function is almost done, but remember to add the weights.\n",
    "\n",
    "In case you want to add hard constraints, feel free to do that in this function.\n",
    "\n"
   ]
  },
  {
   "cell_type": "code",
   "execution_count": 3,
   "metadata": {
    "pycharm": {
     "name": "#%%\n"
    }
   },
   "outputs": [],
   "source": [
    "def evaluate_fitness(individual: np.ndarray, students: pd.DataFrame):\n",
    "    # split individual into student groups of the groupsize\n",
    "    groups = np.array_split(individual, (len(individual)/groupsize))\n",
    "\n",
    "    # iterate over groups and calculate scores for the different parameters\n",
    "    scores = []\n",
    "    for group_ids in groups:\n",
    "        # get full data for students in this group from pd dataframe\n",
    "        group = students.loc[students['ID'].isin(group_ids)]\n",
    "\n",
    "        # get individual scores for parameters\n",
    "        language_score = evaluate_language(group)\n",
    "        major_score = evaluate_majors(group)\n",
    "        ambition_score = evaluate_ambition(group)\n",
    "        place_score = evaluate_meeting_place(group)\n",
    "        gender_score = evaluate_gender(group)\n",
    "        friend_score = evaluate_friends(group)\n",
    "        personality_score = evaluate_personality(group)\n",
    "        day_score = evaluate_meeting_day(group)\n",
    "\n",
    "        # formula for adding and weighting different scores\n",
    "        scores.append(language_score+major_score+ambition_score+place_score+gender_score+friend_score+personality_score+day_score)\n",
    "\n",
    "    #Convert to series to calculate mean more easily\n",
    "    return pd.Series(scores).mean()\n",
    "    "
   ]
  },
  {
   "cell_type": "markdown",
   "metadata": {},
   "source": [
    "Now, you have to code a crossover function, which takes 2 individuals based on their fitness function and produces a child from them. Use the tournament selection for parent selection.\n",
    "For the crossover, we want you to use the uniform crossover function with random templates. "
   ]
  },
  {
   "cell_type": "code",
   "execution_count": 11,
   "metadata": {
    "pycharm": {
     "name": "#%%\n"
    }
   },
   "outputs": [],
   "source": [
    "def tournament_selection(population: np.ndarray, tournament_size: int) -> List[np.ndarray]:\n",
    "    \n",
    "\n",
    "    #should return 2 parents as a list\n",
    "    pass\n"
   ]
  },
  {
   "cell_type": "markdown",
   "metadata": {},
   "source": [
    "Use a boolean template in the length of the individual, this can be hardcoded or generated randomly every time to add more variance. On the places where the template is true use the genes from parent1, then take all the genes from parent2 that are not used and add them to the empty places in the child in the same order as they appear on parent2"
   ]
  },
  {
   "cell_type": "code",
   "execution_count": 12,
   "metadata": {
    "pycharm": {
     "name": "#%%\n"
    }
   },
   "outputs": [],
   "source": [
    "def uniform_order_crossover(parent1: np.ndarray, parent2: np.ndarray, template: np.ndarray) -> np.ndarray:\n",
    "    pass"
   ]
  },
  {
   "cell_type": "markdown",
   "metadata": {},
   "source": [
    "The last thing you need is the mutation function. It should take the individual produced by the crossover function and mutate it with a chance of for example 5%. A mutation switches the assigned groups of 2 people. "
   ]
  },
  {
   "cell_type": "code",
   "execution_count": null,
   "metadata": {
    "pycharm": {
     "name": "#%%\n"
    }
   },
   "outputs": [],
   "source": [
    "def mutation(individual: np.ndarray, mutation_rate: float) -> np.ndarray:\n",
    "    pass\n"
   ]
  },
  {
   "cell_type": "markdown",
   "metadata": {},
   "source": [
    "You can now execute the code below and see if everything is working."
   ]
  },
  {
   "cell_type": "code",
   "execution_count": 7,
   "metadata": {
    "pycharm": {
     "name": "#%%\n"
    }
   },
   "outputs": [],
   "source": [
    "#episodes is the number of episodes after the algorithm stops\n",
    "#num_replace is the number of unfit individuals that will be replaced\n",
    "def genetic_algorithm(episodes: int, num_replace: int) -> np.ndarray:\n",
    "    \n",
    "    \n",
    "    \n",
    "    #visualization:\n",
    "    pass"
   ]
  },
  {
   "cell_type": "code",
   "execution_count": null,
   "metadata": {
    "pycharm": {
     "name": "#%%\n"
    }
   },
   "outputs": [],
   "source": [
    "population = genetic_algorithm(20,2)"
   ]
  },
  {
   "cell_type": "markdown",
   "source": [
    "### Let's find your group or the one of a friend"
   ],
   "metadata": {
    "collapsed": false,
    "pycharm": {
     "name": "#%% md\n"
    }
   }
  },
  {
   "cell_type": "code",
   "execution_count": 24,
   "outputs": [],
   "source": [
    "def get_groups_from_individual(individual: np.ndarray) -> List[np.ndarray]:\n",
    "    \"\"\" Returns a Python List of all Groups in an individual(as numpy ndarrays) \"\"\"\n",
    "    groups = []\n",
    "    for i in individual:\n",
    "        groups.append(students.loc[i-1])\n",
    "\n",
    "    nested_groups_list = []\n",
    "    for n,j in enumerate(range(0, len(groups), groupsize)):\n",
    "        nested_groups_list.append(pd.DataFrame(groups[j:j+5]))\n",
    "\n",
    "    return nested_groups_list\n",
    "\n",
    "def get_groups_by_person_fullname(fullname: str, individual: np.ndarray) -> List[np.ndarray]:\n",
    "    \"\"\" Returns all Groups that got a Person with $fullname$ in given $individual$\"\"\"\n",
    "    nested_groups_list = get_groups_from_individual(individual)\n",
    "\n",
    "    groups_with_person = []\n",
    "    for group in nested_groups_list:\n",
    "        if fullname in group[\"Name\"].values:\n",
    "            groups_with_person.append(group)\n",
    "    return groups_with_person\n",
    "\n",
    "def get_group_by_person_ID(ID: int, individual: np.ndarray) -> np.ndarray:\n",
    "    \"\"\" Returns Group that has Person with given $ID$ in given $individual$\"\"\"\n",
    "    nested_groups_list = get_groups_from_individual(individual)\n",
    "\n",
    "    groups_with_person = []\n",
    "    for group in nested_groups_list:\n",
    "        if ID in group[\"ID\"].values:\n",
    "            return group\n",
    "    return None"
   ],
   "metadata": {
    "collapsed": false,
    "pycharm": {
     "name": "#%%\n"
    }
   }
  },
  {
   "cell_type": "markdown",
   "source": [
    "#### Find your group by your Fullname"
   ],
   "metadata": {
    "collapsed": false,
    "pycharm": {
     "name": "#%% md\n"
    }
   }
  },
  {
   "cell_type": "code",
   "execution_count": 33,
   "outputs": [
    {
     "name": "stdout",
     "output_type": "stream",
     "text": [
      "[    ID             Name  Gender Preferred language          Majors  \\\n",
      "53  54        Eric Blau    Male            English    ('NI', 'NS')   \n",
      "69  70  Katja Holtzmann  Female                Any  ('PHIL', 'AI')   \n",
      "31  32    Florian Kluge    Male                Any  ('PHIL', 'CP')   \n",
      "38  39   Matthias Beich    Male                Any    ('NS', 'NI')   \n",
      "47  48      Uwe Schultz    Male                Any    ('AI', 'NS')   \n",
      "\n",
      "   Level of ambition Preferred meeting place Personality type  \\\n",
      "53               Low               In person             ESFJ   \n",
      "69               Low               In person             INTP   \n",
      "31               Low                  Online             ENTP   \n",
      "38               Low               In person             ENTJ   \n",
      "47         Very high               In person             INFJ   \n",
      "\n",
      "        Best friend Preferred day  \n",
      "53  Mario Schreiner     Wednesday  \n",
      "69     Felix Hueber        Monday  \n",
      "31     Sophia Beich     Wednesday  \n",
      "38  Phillipp Aachen        Friday  \n",
      "47      Jan Richter     Wednesday  ]\n"
     ]
    }
   ],
   "source": [
    "######### ATTENTION ##########\n",
    "# Define your individual here!!! At the moment it will take a random individual! Pick for example the fittest individual.\n",
    "individual = create_random_individual(student_ids)\n",
    "\n",
    "# User Input for the Full Name - Please be accurate!\n",
    "fullname = str(input(\"Please the Full-Name you want to look up: \"))\n",
    "# Get the group by your Full Name - If there are multiple Persons with your name you will get all of them\n",
    "my_group = get_groups_by_person_fullname(fullname, individual)\n",
    "# Plotting the first group found\n",
    "if my_group:\n",
    "    print(my_group)\n",
    "else:\n",
    "    print(\"Didn't find the requested Person with given Fullname\")"
   ],
   "metadata": {
    "collapsed": false,
    "pycharm": {
     "name": "#%%\n"
    }
   }
  },
  {
   "cell_type": "markdown",
   "source": [
    "#### Find your group by your ID"
   ],
   "metadata": {
    "collapsed": false,
    "pycharm": {
     "name": "#%% md\n"
    }
   }
  },
  {
   "cell_type": "code",
   "execution_count": 28,
   "outputs": [
    {
     "name": "stdout",
     "output_type": "stream",
     "text": [
      "    ID              Name         Gender Preferred language          Majors  \\\n",
      "86  87        Marko Wulf  Indeterminate                Any    ('NS', 'CL')   \n",
      "92  93  Michael Reinhard           Male            English    ('CL', 'NS')   \n",
      "78  79       Lucas Hertz           Male                Any  ('CL', 'PHIL')   \n",
      "95  96     Annett Peters         Female            English    ('AI', 'CP')   \n",
      "32  33   Thorsten Schmid           Male                Any    ('AI', 'CL')   \n",
      "\n",
      "   Level of ambition Preferred meeting place Personality type  \\\n",
      "86         Very high                  Online             INTP   \n",
      "92         Very high               In person             ISTP   \n",
      "78            Medium               In person             ENTP   \n",
      "95          Very low               In person             ENTP   \n",
      "32         Very high               In person             ENTP   \n",
      "\n",
      "        Best friend Preferred day  \n",
      "86     Sven Hertzog        Monday  \n",
      "92   Birgit Hofmann       Tuesday  \n",
      "78  Benjamin Kruger     Wednesday  \n",
      "95        Mike Blau     Wednesday  \n",
      "32     Dominik Jung     Wednesday  \n"
     ]
    }
   ],
   "source": [
    "# Find your group by your ID\n",
    "my_group = get_group_by_person_ID(33, individual)\n",
    "# Plotting the group, if one found with given ID\n",
    "if my_group is not None:\n",
    "    print(my_group)\n",
    "else:\n",
    "    print(\"Didn't find the requested Person with given ID\")"
   ],
   "metadata": {
    "collapsed": false,
    "pycharm": {
     "name": "#%%\n"
    }
   }
  },
  {
   "cell_type": "markdown",
   "metadata": {},
   "source": [
    "## Task 2"
   ]
  },
  {
   "cell_type": "markdown",
   "metadata": {
    "pycharm": {
     "name": "#%% md\n"
    }
   },
   "source": [
    "Play around with the different values like initial population size, mutation rate, fitness function, and number of students and observe when it works the best. Write your insights down here."
   ]
  },
  {
   "cell_type": "markdown",
   "metadata": {},
   "source": []
  }
 ],
 "metadata": {
  "interpreter": {
   "hash": "46024bae245c9f00600f83cce7f4f46f3134317cce6afc2ecf551c3e651ce5aa"
  },
  "kernelspec": {
   "display_name": "Python 3.8.3 32-bit",
   "language": "python",
   "name": "python3"
  },
  "language_info": {
   "codemirror_mode": {
    "name": "ipython",
    "version": 3
   },
   "file_extension": ".py",
   "mimetype": "text/x-python",
   "name": "python",
   "nbconvert_exporter": "python",
   "pygments_lexer": "ipython3",
   "version": "3.8.8"
  },
  "orig_nbformat": 4
 },
 "nbformat": 4,
 "nbformat_minor": 2
}