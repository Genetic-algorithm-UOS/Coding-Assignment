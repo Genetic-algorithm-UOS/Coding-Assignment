{
 "cells": [
  {
   "cell_type": "code",
   "execution_count": 6,
   "metadata": {},
   "outputs": [],
   "source": [
    "import csv\n",
    "import ipywidgets as widgets\n",
    "from IPython.display import display\n",
    "import pandas as pd"
   ]
  },
  {
   "cell_type": "markdown",
   "metadata": {},
   "source": [
    "## Add your own data:\n",
    "\n",
    "Execute the following cell to be able to create your own genes. You can create genes by defining the following values:\n",
    "* Name\n",
    "* Language\n",
    "* Gender\n",
    "* Major\n",
    "* Second major\n",
    "* Level of motivation\n",
    "* Meeting place\n",
    "* Personality\n",
    "* Friend\n",
    "* Blocked Day\n",
    "\n",
    "Don't worry you don't have to understand the code and please do not modify it! It works as it is here.<br />\n",
    "That is not a task for you in which you have to change some lines it is just runnable code that allows you to create your own genes."
   ]
  },
  {
   "cell_type": "markdown",
   "metadata": {},
   "source": [
    "### Input your name:"
   ]
  },
  {
   "cell_type": "code",
   "execution_count": 11,
   "metadata": {},
   "outputs": [
    {
     "data": {
      "application/vnd.jupyter.widget-view+json": {
       "model_id": "deb99a6c91304205a7ff412b9117cff3",
       "version_major": 2,
       "version_minor": 0
      },
      "text/plain": [
       "Text(value='Donald Dump', description='Your name:')"
      ]
     },
     "metadata": {},
     "output_type": "display_data"
    },
    {
     "data": {
      "application/vnd.jupyter.widget-view+json": {
       "model_id": "45ffe082530844358ca7ace34825c9d2",
       "version_major": 2,
       "version_minor": 0
      },
      "text/plain": [
       "Dropdown(description='Language:', options=('Any', 'English', 'German'), value='Any')"
      ]
     },
     "metadata": {},
     "output_type": "display_data"
    },
    {
     "data": {
      "application/vnd.jupyter.widget-view+json": {
       "model_id": "296451003baa4785bf9e24b69851d719",
       "version_major": 2,
       "version_minor": 0
      },
      "text/plain": [
       "Dropdown(description='First Major:', options=('AI', 'NP', 'PHIL', 'CL', 'NI', 'NB', 'DS'), value='AI')"
      ]
     },
     "metadata": {},
     "output_type": "display_data"
    },
    {
     "data": {
      "application/vnd.jupyter.widget-view+json": {
       "model_id": "1c0076491d8f4162b6d3a86357e88185",
       "version_major": 2,
       "version_minor": 0
      },
      "text/plain": [
       "Dropdown(description='Second Major:', index=4, options=('AI', 'NP', 'PHIL', 'CL', 'NI', 'NB', 'DS'), value='NI…"
      ]
     },
     "metadata": {},
     "output_type": "display_data"
    },
    {
     "data": {
      "application/vnd.jupyter.widget-view+json": {
       "model_id": "2685148542a84a25a3a2822ecf8c1e68",
       "version_major": 2,
       "version_minor": 0
      },
      "text/plain": [
       "Dropdown(description='Motivation:', index=2, options=('Very low', 'Low', 'Medium', 'High', 'Very high'), value…"
      ]
     },
     "metadata": {},
     "output_type": "display_data"
    },
    {
     "data": {
      "application/vnd.jupyter.widget-view+json": {
       "model_id": "83d902584cbd4e6db451f74e26e03fee",
       "version_major": 2,
       "version_minor": 0
      },
      "text/plain": [
       "Dropdown(description='Meeting place:', index=1, options=('In person', 'Online'), value='Online')"
      ]
     },
     "metadata": {},
     "output_type": "display_data"
    },
    {
     "data": {
      "application/vnd.jupyter.widget-view+json": {
       "model_id": "b241cb70c64e4f29a7358f5919093291",
       "version_major": 2,
       "version_minor": 0
      },
      "text/plain": [
       "Dropdown(description='Personality:', index=10, options=('ESTJ', 'ENTJ', 'ESFJ', 'ENFJ', 'ISTJ', 'ISFJ', 'INTJ'…"
      ]
     },
     "metadata": {},
     "output_type": "display_data"
    },
    {
     "data": {
      "application/vnd.jupyter.widget-view+json": {
       "model_id": "b84f829d79784268894903948fb4b29f",
       "version_major": 2,
       "version_minor": 0
      },
      "text/plain": [
       "Dropdown(description='Friend:', options=('Barbara Schaefer', 'Lea Austerlitz', 'Niklas Junker', 'Susanne Schwe…"
      ]
     },
     "metadata": {},
     "output_type": "display_data"
    },
    {
     "data": {
      "application/vnd.jupyter.widget-view+json": {
       "model_id": "96fecc7161414edf988425e1bd20e7d5",
       "version_major": 2,
       "version_minor": 0
      },
      "text/plain": [
       "Dropdown(description='Blocked Day', options=('Monday', 'Tuesday', 'Wednesday', 'Thursday', 'Friday'), value='M…"
      ]
     },
     "metadata": {},
     "output_type": "display_data"
    },
    {
     "data": {
      "application/vnd.jupyter.widget-view+json": {
       "model_id": "ccf6cf9c73414ccea218dbb2fd42d0cd",
       "version_major": 2,
       "version_minor": 0
      },
      "text/plain": [
       "Dropdown(description='Gender', options=('Divers', 'Male', 'Female'), value='Divers')"
      ]
     },
     "metadata": {},
     "output_type": "display_data"
    }
   ],
   "source": [
    "\n",
    "csv_persons = csv.reader(open(\"dataset_full.csv\", encoding='utf8'))\n",
    "next(csv_persons, None)\n",
    "\n",
    "all_participants = [x[1] for x in csv_persons]\n",
    "all_ids =[int(x[0]) for x in csv_persons]\n",
    "\n",
    "#here is the code for the input field for the namen, the default is Donald Trump\n",
    "nameinput = widgets.Text(description=\"Your name:\", value='Donald Dump', disabled=False)\n",
    "\n",
    "#here is the code for selecting a language out of any, german and englisch. It is defined as a dropdown\n",
    "language_dropdown = widgets.Dropdown(\n",
    "    options=['Any', 'English', 'German'],\n",
    "    value='Any',\n",
    "    description='Language:',\n",
    "    disabled=False,\n",
    ")\n",
    "\n",
    "# here we define the values for the majors\n",
    "maj = [\"AI\", \"NP\", \"PHIL\", \"CL\", \"NI\", \"NB\", \"DS\"]\n",
    "\n",
    "#here is the code for selecting one of the majors from above\n",
    "first_major = widgets.Dropdown(\n",
    "    options=maj,\n",
    "    value='AI',\n",
    "    description='First Major:',\n",
    "    disabled=False,\n",
    ")\n",
    "\n",
    "#here is the code for selecting your second major\n",
    "second_major = widgets.Dropdown(\n",
    "    options=maj,\n",
    "    value='NI',\n",
    "    description='Second Major:',\n",
    "    disabled=False,\n",
    ")\n",
    "\n",
    "#here you can select your level for motivation from very low to very high\n",
    "level_of_motivation = widgets.Dropdown(\n",
    "    options=[\"Very low\", \"Low\", \"Medium\", \"High\", \"Very high\"],\n",
    "    value='Medium',\n",
    "    description='Motivation:',\n",
    "    disabled=False,\n",
    ")\n",
    "\n",
    "#here is the code where you can select your favourite meeting place out of in person or online\n",
    "meeting_place = widgets.Dropdown(\n",
    "    options=[\"In person\", \"Online\"],\n",
    "    value='Online',\n",
    "    description='Meeting place:',\n",
    "    disabled=False,\n",
    ")\n",
    "\n",
    "#here is the code which defines all possibly personalities\n",
    "pers = [\"ESTJ\", \"ENTJ\", \"ESFJ\", \"ENFJ\", \n",
    "        \"ISTJ\", \"ISFJ\", \"INTJ\", \"INFJ\", \n",
    "        \"ESTP\", \"ESFP\", \"ENTP\", \"ENFP\", \n",
    "        \"ISTP\", \"ISFP\", \"INTP\", \"INFP\"\n",
    "        ]\n",
    "\n",
    "#here you can select your personality/ personality of the gene you wanna create\n",
    "personality = widgets.Dropdown(\n",
    "    options=pers,\n",
    "    value='ENTP',\n",
    "    description='Personality:',\n",
    "    disabled=False,\n",
    ")\n",
    "\n",
    "# here you can select of a list of all already existing genes the friend of the gene\n",
    "friend = widgets.Dropdown(\n",
    "    options=all_participants,\n",
    "    value=all_participants[0],\n",
    "    description='Friend:',\n",
    "    disabled=False,\n",
    ")\n",
    "\n",
    "#last but not least you have the opportunity to select a day you don't wanna work on \n",
    "BlockedDay = widgets.Dropdown(\n",
    "    options=[\"Monday\", \"Tuesday\", \"Wednesday\", \"Thursday\", \"Friday\"],\n",
    "    value=\"Monday\",\n",
    "    description='Blocked Day',\n",
    "    disabled=False,\n",
    ")\n",
    "\n",
    "Gender = widgets.Dropdown(\n",
    "    options=[\"Divers\", \"Male\", \"Female\"],\n",
    "    value=\"Divers\",\n",
    "    description='Gender',\n",
    "    disabled=False,\n",
    ")\n",
    "\n",
    "\n",
    "#this line just makes the dropdowns visisble\n",
    "display(nameinput, language_dropdown, first_major, second_major, level_of_motivation, meeting_place, personality, friend, BlockedDay, Gender)"
   ]
  },
  {
   "cell_type": "markdown",
   "metadata": {},
   "source": [
    "After having executed the previous cells make sure that everything has finished because otherwise you'll get an error."
   ]
  },
  {
   "cell_type": "code",
   "execution_count": 37,
   "metadata": {},
   "outputs": [
    {
     "name": "stdout",
     "output_type": "stream",
     "text": [
      "    ID         Name  Gender Preferred language        Majors  \\\n",
      "0  101  Donald Dump  Divers                Any  ('AI', 'NI')   \n",
      "\n",
      "  Level of ambition Preferred meeting place Personality type  \\\n",
      "0            Medium                  Online             ENTP   \n",
      "\n",
      "        Best friend Preferred day  \n",
      "0  Barbara Schaefer        Monday  \n"
     ]
    }
   ],
   "source": [
    "csv_file = open(\"dataset_full.csv\", mode=\"r\")\n",
    "csv_reader = pd.read_csv(csv_file)\n",
    "\n",
    "max_id = max(csv_reader.iloc[1:][\"ID\"])\n",
    "new_values = csv_reader.iloc[1:]\n",
    "\n",
    "values = pd.DataFrame.from_dict({\"ID\": [max_id + 1], \"Name\":[nameinput.get_interact_value()],\"Gender\":[Gender.get_interact_value()], \"Preferred language\":[language_dropdown.get_interact_value()], \"Majors\":[\"('\" + first_major.get_interact_value() + \"', '\" + second_major.get_interact_value() + \"')\"], \"Level of ambition\":[level_of_motivation.get_interact_value()], \"Preferred meeting place\":[meeting_place.get_interact_value()], \"Personality type\":[personality.get_interact_value()], \"Best friend\":[friend.get_interact_value()], \"Preferred day\":[BlockedDay.get_interact_value()]})\n",
    "new_values = new_values.append(values, ignore_index=True)\n",
    "csv_file.close()\n",
    "new_values.to_csv(\"dataset_full.csv\", index=False)"
   ]
  }
 ],
 "metadata": {
  "interpreter": {
   "hash": "b0b0bb6359295fc56c719f904968bda4c9aa91c8906011719b9239c30320e5b5"
  },
  "kernelspec": {
   "display_name": "Python 3 (ipykernel)",
   "language": "python",
   "name": "python3"
  },
  "language_info": {
   "codemirror_mode": {
    "name": "ipython",
    "version": 3
   },
   "file_extension": ".py",
   "mimetype": "text/x-python",
   "name": "python",
   "nbconvert_exporter": "python",
   "pygments_lexer": "ipython3",
   "version": "3.8.8"
  }
 },
 "nbformat": 4,
 "nbformat_minor": 2
}
