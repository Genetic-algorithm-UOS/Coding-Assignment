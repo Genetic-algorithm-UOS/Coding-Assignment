{
 "cells": [
  {
   "cell_type": "code",
   "execution_count": 4,
   "metadata": {},
   "outputs": [],
   "source": [
    "import csv\n",
    "import ipywidgets as widgets\n",
    "from IPython.display import display"
   ]
  },
  {
   "cell_type": "markdown",
   "metadata": {},
   "source": [
    "Execute the following cell to be able to create your own genes. You can create genes by defining the following values:\n",
    "\n",
    "Name\n",
    "Language\n",
    "Major\n",
    "Second major\n",
    "Level of motivation\n",
    "Meeting place\n",
    "Pers\n",
    "Personality\n",
    "Friend\n",
    "Blocked Day\n",
    "\n",
    "Don't worry you don't have to understand the code and please do not modify it! It works as it is here.\n",
    "That is not a task for you in which you have to change some lines it is just runnable code that allows you to create your own genes."
   ]
  },
  {
   "cell_type": "markdown",
   "metadata": {},
   "source": [
    "### Input your name:"
   ]
  },
  {
   "cell_type": "code",
   "execution_count": 6,
   "metadata": {},
   "outputs": [
    {
     "ename": "FileNotFoundError",
     "evalue": "[Errno 2] No such file or directory: 'dataset_full.csv'",
     "output_type": "error",
     "traceback": [
      "\u001b[1;31m---------------------------------------------------------------------------\u001b[0m",
      "\u001b[1;31mFileNotFoundError\u001b[0m                         Traceback (most recent call last)",
      "\u001b[1;32mc:\\Users\\laura\\Coding-Assignment\\Dataset_Input.ipynb Cell 4'\u001b[0m in \u001b[0;36m<cell line: 1>\u001b[1;34m()\u001b[0m\n\u001b[1;32m----> <a href='vscode-notebook-cell:/c%3A/Users/laura/Coding-Assignment/Dataset_Input.ipynb#ch0000002?line=0'>1</a>\u001b[0m csv_persons \u001b[39m=\u001b[39m csv\u001b[39m.\u001b[39mreader(\u001b[39mopen\u001b[39;49m(\u001b[39m\"\u001b[39;49m\u001b[39mdataset_full.csv\u001b[39;49m\u001b[39m\"\u001b[39;49m, encoding\u001b[39m=\u001b[39;49m\u001b[39m'\u001b[39;49m\u001b[39mutf8\u001b[39;49m\u001b[39m'\u001b[39;49m))\n\u001b[0;32m      <a href='vscode-notebook-cell:/c%3A/Users/laura/Coding-Assignment/Dataset_Input.ipynb#ch0000002?line=1'>2</a>\u001b[0m \u001b[39mnext\u001b[39m(csv_persons, \u001b[39mNone\u001b[39;00m)\n\u001b[0;32m      <a href='vscode-notebook-cell:/c%3A/Users/laura/Coding-Assignment/Dataset_Input.ipynb#ch0000002?line=3'>4</a>\u001b[0m all_participants \u001b[39m=\u001b[39m [x[\u001b[39m1\u001b[39m] \u001b[39mfor\u001b[39;00m x \u001b[39min\u001b[39;00m csv_persons]\n",
      "\u001b[1;31mFileNotFoundError\u001b[0m: [Errno 2] No such file or directory: 'dataset_full.csv'"
     ]
    }
   ],
   "source": [
    "\n",
    "csv_persons = csv.reader(open(\"dataset_full.csv\", encoding='utf8'))\n",
    "next(csv_persons, None)\n",
    "\n",
    "all_participants = [x[1] for x in csv_persons]\n",
    "\n",
    "#here is the code for the input field for the namen, the default is Donald Trump\n",
    "nameinput = widgets.Text(description=\"Your name:\", value='Donald Dump', disabled=False)\n",
    "\n",
    "#here is the code for selecting a language out of any, german and englisch. It is defined as a dropdown\n",
    "language_dropdown = widgets.Dropdown(\n",
    "    options=['Any', 'English', 'German'],\n",
    "    value='Any',\n",
    "    description='Language:',\n",
    "    disabled=False,\n",
    ")\n",
    "\n",
    "# here we define the values for the majors\n",
    "maj = [\"AI\", \"NP\", \"PHIL\", \"CL\", \"NI\", \"NB\", \"DS\"]\n",
    "\n",
    "#here is the code for selecting one of the majors from above\n",
    "first_major = widgets.Dropdown(\n",
    "    options=maj,\n",
    "    value='AI',\n",
    "    description='First Major:',\n",
    "    disabled=False,\n",
    ")\n",
    "\n",
    "#here is the code for selecting your second major\n",
    "second_major = widgets.Dropdown(\n",
    "    options=maj,\n",
    "    value='NI',\n",
    "    description='Second Major:',\n",
    "    disabled=False,\n",
    ")\n",
    "\n",
    "#here you can select your level for motivation from very low to very high\n",
    "level_of_motivation = widgets.Dropdown(\n",
    "    options=[\"Very low\", \"Low\", \"Medium\", \"High\", \"Very high\"],\n",
    "    value='Medium',\n",
    "    description='Motivation:',\n",
    "    disabled=False,\n",
    ")\n",
    "\n",
    "#here is the code where you can select your favourite meeting place out of in person or online\n",
    "meeting_place = widgets.Dropdown(\n",
    "    options=[\"In person\", \"Online\"],\n",
    "    value='Online',\n",
    "    description='Meeting place:',\n",
    "    disabled=False,\n",
    ")\n",
    "\n",
    "#here is the code which defines all possibly personalities\n",
    "pers = [\"ESTJ\", \"ENTJ\", \"ESFJ\", \"ENFJ\", \n",
    "        \"ISTJ\", \"ISFJ\", \"INTJ\", \"INFJ\", \n",
    "        \"ESTP\", \"ESFP\", \"ENTP\", \"ENFP\", \n",
    "        \"ISTP\", \"ISFP\", \"INTP\", \"INFP\"\n",
    "        ]\n",
    "\n",
    "#here you can select your personality/ personality of the gene you wanna create\n",
    "personality = widgets.Dropdown(\n",
    "    options=pers,\n",
    "    value='ENTP',\n",
    "    description='Personality:',\n",
    "    disabled=False,\n",
    ")\n",
    "\n",
    "# here you can select of a list of all already existing genes the friend of the gene\n",
    "friend = widgets.Dropdown(\n",
    "    options=all_participants,\n",
    "    value=all_participants[0],\n",
    "    description='Friend:',\n",
    "    disabled=False,\n",
    ")\n",
    "\n",
    "#last but not least you have the opportunity to select a day you don't wanna work on \n",
    "BlockedDay = widgets.Dropdown(\n",
    "    options=[\"Monday\", \"Tuesday\", \"Wednesday\", \"Thursday\", \"Friday\"],\n",
    "    value=\"Monday\",\n",
    "    description='Blocked Day',\n",
    "    disabled=False,\n",
    ")\n",
    "\n",
    "\n",
    "#this line just makes the dropdowns visisble\n",
    "display(nameinput, language_dropdown, first_major, second_major, level_of_motivation, meeting_place, personality, friend, BlockedDay)"
   ]
  },
  {
   "cell_type": "markdown",
   "metadata": {},
   "source": [
    "After having executed the previous cells make sure that everything has finished because otherwise you'll get an error."
   ]
  },
  {
   "cell_type": "code",
   "execution_count": 7,
   "metadata": {},
   "outputs": [
    {
     "ename": "NameError",
     "evalue": "name 'all_participants' is not defined",
     "output_type": "error",
     "traceback": [
      "\u001b[1;31m---------------------------------------------------------------------------\u001b[0m",
      "\u001b[1;31mNameError\u001b[0m                                 Traceback (most recent call last)",
      "\u001b[1;32mc:\\Users\\laura\\Coding-Assignment\\Dataset_Input.ipynb Cell 6'\u001b[0m in \u001b[0;36m<cell line: 1>\u001b[1;34m()\u001b[0m\n\u001b[1;32m----> <a href='vscode-notebook-cell:/c%3A/Users/laura/Coding-Assignment/Dataset_Input.ipynb#ch0000003?line=0'>1</a>\u001b[0m values \u001b[39m=\u001b[39m [\u001b[39mlen\u001b[39m(all_participants) \u001b[39m+\u001b[39m \u001b[39m1\u001b[39m, nameinput\u001b[39m.\u001b[39mget_interact_value(), language_dropdown\u001b[39m.\u001b[39mget_interact_value(), first_major\u001b[39m.\u001b[39mget_interact_value(), second_major\u001b[39m.\u001b[39mget_interact_value(), level_of_motivation\u001b[39m.\u001b[39mget_interact_value(), meeting_place\u001b[39m.\u001b[39mget_interact_value(), personality\u001b[39m.\u001b[39mget_interact_value(), friend\u001b[39m.\u001b[39mget_interact_value(), BlockedDay\u001b[39m.\u001b[39mget_interact_value()]\n\u001b[0;32m      <a href='vscode-notebook-cell:/c%3A/Users/laura/Coding-Assignment/Dataset_Input.ipynb#ch0000003?line=1'>2</a>\u001b[0m \u001b[39mwith\u001b[39;00m \u001b[39mopen\u001b[39m(\u001b[39m\"\u001b[39m\u001b[39mdataset_full_.csv\u001b[39m\u001b[39m\"\u001b[39m, \u001b[39m\"\u001b[39m\u001b[39ma\u001b[39m\u001b[39m\"\u001b[39m, encoding\u001b[39m=\u001b[39m\u001b[39m'\u001b[39m\u001b[39mutf8\u001b[39m\u001b[39m'\u001b[39m) \u001b[39mas\u001b[39;00m f:\n\u001b[0;32m      <a href='vscode-notebook-cell:/c%3A/Users/laura/Coding-Assignment/Dataset_Input.ipynb#ch0000003?line=2'>3</a>\u001b[0m     writer \u001b[39m=\u001b[39m csv\u001b[39m.\u001b[39mwriter(f)\n",
      "\u001b[1;31mNameError\u001b[0m: name 'all_participants' is not defined"
     ]
    }
   ],
   "source": [
    "values = [len(all_participants) + 1, nameinput.get_interact_value(), language_dropdown.get_interact_value(), first_major.get_interact_value(), second_major.get_interact_value(), level_of_motivation.get_interact_value(), meeting_place.get_interact_value(), personality.get_interact_value(), friend.get_interact_value(), BlockedDay.get_interact_value()]\n",
    "with open(\"dataset_full_.csv\", \"a\", encoding='utf8') as f:\n",
    "    writer = csv.writer(f)\n",
    "    writer.writerow(values)"
   ]
  }
 ],
 "metadata": {
  "interpreter": {
   "hash": "b0b0bb6359295fc56c719f904968bda4c9aa91c8906011719b9239c30320e5b5"
  },
  "kernelspec": {
   "display_name": "Python 3 (ipykernel)",
   "language": "python",
   "name": "python3"
  },
  "language_info": {
   "codemirror_mode": {
    "name": "ipython",
    "version": 3
   },
   "file_extension": ".py",
   "mimetype": "text/x-python",
   "name": "python",
   "nbconvert_exporter": "python",
   "pygments_lexer": "ipython3",
   "version": "3.10.0"
  }
 },
 "nbformat": 4,
 "nbformat_minor": 2
}
