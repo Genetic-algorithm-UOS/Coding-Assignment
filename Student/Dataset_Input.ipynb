{
 "cells": [
  {
   "cell_type": "code",
   "execution_count": 2,
   "outputs": [],
   "source": [
    "import csv\n",
    "import ipywidgets as widgets\n",
    "from IPython.display import display\n",
    "import pandas as pd"
   ],
   "metadata": {
    "collapsed": false,
    "pycharm": {
     "name": "#%%\n"
    }
   }
  },
  {
   "cell_type": "markdown",
   "source": [
    "## Add your own data:\n",
    "\n",
    "Execute the following cell to be able to create your own genes. You can create genes by defining the following values:\n",
    "* Name\n",
    "* Language\n",
    "* Gender\n",
    "* Major\n",
    "* Second major\n",
    "* Level of motivation\n",
    "* Meeting place\n",
    "* Personality\n",
    "* Friend\n",
    "* Blocked Day\n",
    "\n",
    "Don't worry you don't have to understand the code and please do not modify it! It works as it is here.<br />\n",
    "That is not a task for you in which you have to change some lines it is just runnable code that allows you to create your own genes."
   ],
   "metadata": {
    "collapsed": false,
    "pycharm": {
     "name": "#%% md\n"
    }
   }
  },
  {
   "cell_type": "markdown",
   "source": [
    "### Input your name:"
   ],
   "metadata": {
    "collapsed": false,
    "pycharm": {
     "name": "#%% md\n"
    }
   }
  },
  {
   "cell_type": "code",
   "execution_count": 5,
   "outputs": [
    {
     "data": {
      "text/plain": "Text(value='Donald Dump', description='Your name:')",
      "application/vnd.jupyter.widget-view+json": {
       "version_major": 2,
       "version_minor": 0,
       "model_id": "fe1c55850ca04fe6ab1393f4a083348f"
      }
     },
     "metadata": {},
     "output_type": "display_data"
    },
    {
     "data": {
      "text/plain": "Dropdown(description='Language:', options=('Any', 'English', 'German'), value='Any')",
      "application/vnd.jupyter.widget-view+json": {
       "version_major": 2,
       "version_minor": 0,
       "model_id": "af6c0b9493d54919bdee8b3c485fa2a1"
      }
     },
     "metadata": {},
     "output_type": "display_data"
    },
    {
     "data": {
      "text/plain": "Dropdown(description='First Major:', options=('AI', 'NP', 'PHIL', 'CL', 'NI', 'NB', 'DS'), value='AI')",
      "application/vnd.jupyter.widget-view+json": {
       "version_major": 2,
       "version_minor": 0,
       "model_id": "f4b4e3054d0a457499cb615e7164281e"
      }
     },
     "metadata": {},
     "output_type": "display_data"
    },
    {
     "data": {
      "text/plain": "Dropdown(description='Second Major:', index=4, options=('AI', 'NP', 'PHIL', 'CL', 'NI', 'NB', 'DS'), value='NI…",
      "application/vnd.jupyter.widget-view+json": {
       "version_major": 2,
       "version_minor": 0,
       "model_id": "2eef0c62cbaa43eb968e0b5bd3985606"
      }
     },
     "metadata": {},
     "output_type": "display_data"
    },
    {
     "data": {
      "text/plain": "Dropdown(description='Motivation:', index=2, options=('Very low', 'Low', 'Medium', 'High', 'Very high'), value…",
      "application/vnd.jupyter.widget-view+json": {
       "version_major": 2,
       "version_minor": 0,
       "model_id": "5c4e2c072675477ca0bcbcf8561cb464"
      }
     },
     "metadata": {},
     "output_type": "display_data"
    },
    {
     "data": {
      "text/plain": "Dropdown(description='Meeting place:', index=1, options=('In person', 'Online'), value='Online')",
      "application/vnd.jupyter.widget-view+json": {
       "version_major": 2,
       "version_minor": 0,
       "model_id": "70ffe15c2a0c4420aeb75f603d38ef6c"
      }
     },
     "metadata": {},
     "output_type": "display_data"
    },
    {
     "data": {
      "text/plain": "Dropdown(description='Personality:', index=10, options=('ESTJ', 'ENTJ', 'ESFJ', 'ENFJ', 'ISTJ', 'ISFJ', 'INTJ'…",
      "application/vnd.jupyter.widget-view+json": {
       "version_major": 2,
       "version_minor": 0,
       "model_id": "e6b5c777cb754c959152ee1b645d373a"
      }
     },
     "metadata": {},
     "output_type": "display_data"
    },
    {
     "data": {
      "text/plain": "Dropdown(description='Friend:', options=('Silke Kappel', 'Ines Lemann', 'Kevin Kuster', 'Brigitte Krüger', 'Me…",
      "application/vnd.jupyter.widget-view+json": {
       "version_major": 2,
       "version_minor": 0,
       "model_id": "eaea38d58b9c459fad5e0029f6eea5a4"
      }
     },
     "metadata": {},
     "output_type": "display_data"
    },
    {
     "data": {
      "text/plain": "Dropdown(description='Blocked Day', options=('Monday', 'Tuesday', 'Wednesday', 'Thursday', 'Friday'), value='M…",
      "application/vnd.jupyter.widget-view+json": {
       "version_major": 2,
       "version_minor": 0,
       "model_id": "2bc9837be5064a8091fdca5b917745f9"
      }
     },
     "metadata": {},
     "output_type": "display_data"
    },
    {
     "data": {
      "text/plain": "Dropdown(description='Gender', options=('Divers', 'Male', 'Female'), value='Divers')",
      "application/vnd.jupyter.widget-view+json": {
       "version_major": 2,
       "version_minor": 0,
       "model_id": "779a16e4998f4e74b912cbcdbde274c0"
      }
     },
     "metadata": {},
     "output_type": "display_data"
    }
   ],
   "source": [
    "\n",
    "csv_persons = csv.reader(open(\"dataset_full.csv\", encoding='utf8'))\n",
    "next(csv_persons, None)\n",
    "\n",
    "all_participants = [x[1] for x in csv_persons]\n",
    "all_ids =[int(x[0]) for x in csv_persons]\n",
    "\n",
    "#here is the code for the input field for the namen, the default is Donald Trump\n",
    "nameinput = widgets.Text(description=\"Your name:\", value='Donald Dump', disabled=False)\n",
    "\n",
    "#here is the code for selecting a language out of any, german and englisch. It is defined as a dropdown\n",
    "language_dropdown = widgets.Dropdown(\n",
    "    options=['Any', 'English', 'German'],\n",
    "    value='Any',\n",
    "    description='Language:',\n",
    "    disabled=False,\n",
    ")\n",
    "\n",
    "# here we define the values for the majors\n",
    "maj = [\"AI\", \"NP\", \"PHIL\", \"CL\", \"NI\", \"NB\", \"DS\"]\n",
    "\n",
    "#here is the code for selecting one of the majors from above\n",
    "first_major = widgets.Dropdown(\n",
    "    options=maj,\n",
    "    value='AI',\n",
    "    description='First Major:',\n",
    "    disabled=False,\n",
    ")\n",
    "\n",
    "#here is the code for selecting your second major\n",
    "second_major = widgets.Dropdown(\n",
    "    options=maj,\n",
    "    value='NI',\n",
    "    description='Second Major:',\n",
    "    disabled=False,\n",
    ")\n",
    "\n",
    "#here you can select your level for motivation from very low to very high\n",
    "level_of_motivation = widgets.Dropdown(\n",
    "    options=[\"Very low\", \"Low\", \"Medium\", \"High\", \"Very high\"],\n",
    "    value='Medium',\n",
    "    description='Motivation:',\n",
    "    disabled=False,\n",
    ")\n",
    "\n",
    "#here is the code where you can select your favourite meeting place out of in person or online\n",
    "meeting_place = widgets.Dropdown(\n",
    "    options=[\"In person\", \"Online\"],\n",
    "    value='Online',\n",
    "    description='Meeting place:',\n",
    "    disabled=False,\n",
    ")\n",
    "\n",
    "#here is the code which defines all possibly personalities\n",
    "pers = [\"ESTJ\", \"ENTJ\", \"ESFJ\", \"ENFJ\", \n",
    "        \"ISTJ\", \"ISFJ\", \"INTJ\", \"INFJ\", \n",
    "        \"ESTP\", \"ESFP\", \"ENTP\", \"ENFP\", \n",
    "        \"ISTP\", \"ISFP\", \"INTP\", \"INFP\"\n",
    "        ]\n",
    "\n",
    "#here you can select your personality/ personality of the gene you wanna create\n",
    "personality = widgets.Dropdown(\n",
    "    options=pers,\n",
    "    value='ENTP',\n",
    "    description='Personality:',\n",
    "    disabled=False,\n",
    ")\n",
    "\n",
    "# here you can select of a list of all already existing genes the friend of the gene\n",
    "friend = widgets.Dropdown(\n",
    "    options=all_participants,\n",
    "    value=all_participants[0],\n",
    "    description='Friend:',\n",
    "    disabled=False,\n",
    ")\n",
    "\n",
    "#last but not least you have the opportunity to select a day you don't wanna work on \n",
    "BlockedDay = widgets.Dropdown(\n",
    "    options=[\"Monday\", \"Tuesday\", \"Wednesday\", \"Thursday\", \"Friday\"],\n",
    "    value=\"Monday\",\n",
    "    description='Blocked Day',\n",
    "    disabled=False,\n",
    ")\n",
    "\n",
    "Gender = widgets.Dropdown(\n",
    "    options=[\"Divers\", \"Male\", \"Female\"],\n",
    "    value=\"Divers\",\n",
    "    description='Gender',\n",
    "    disabled=False,\n",
    ")\n",
    "\n",
    "\n",
    "#this line just makes the dropdowns visisble\n",
    "display(nameinput, language_dropdown, first_major, second_major, level_of_motivation, meeting_place, personality, friend, BlockedDay, Gender)"
   ],
   "metadata": {
    "collapsed": false,
    "pycharm": {
     "name": "#%%\n"
    }
   }
  },
  {
   "cell_type": "markdown",
   "source": [
    "After having executed the previous cells make sure that everything has finished because otherwise you'll get an error."
   ],
   "metadata": {
    "collapsed": false,
    "pycharm": {
     "name": "#%% md\n"
    }
   }
  },
  {
   "cell_type": "code",
   "execution_count": 6,
   "outputs": [
    {
     "name": "stderr",
     "output_type": "stream",
     "text": [
      "/var/folders/7n/n7486_2d7cq6s7v2lj0hsx5r0000gn/T/ipykernel_93256/1360929567.py:8: FutureWarning: The frame.append method is deprecated and will be removed from pandas in a future version. Use pandas.concat instead.\n",
      "  new_values = new_values.append(values, ignore_index=True)\n"
     ]
    }
   ],
   "source": [
    "csv_file = open(\"dataset_full.csv\", mode=\"r\")\n",
    "csv_reader = pd.read_csv(csv_file)\n",
    "\n",
    "max_id = max(csv_reader.iloc[1:][\"ID\"])\n",
    "new_values = csv_reader.iloc[1:]\n",
    "\n",
    "values = pd.DataFrame.from_dict({\"ID\": [max_id + 1], \"Name\":[nameinput.get_interact_value()],\"Gender\":[Gender.get_interact_value()], \"Preferred language\":[language_dropdown.get_interact_value()], \"Majors\":[\"('\" + first_major.get_interact_value() + \"', '\" + second_major.get_interact_value() + \"')\"], \"Level of ambition\":[level_of_motivation.get_interact_value()], \"Preferred meeting place\":[meeting_place.get_interact_value()], \"Personality type\":[personality.get_interact_value()], \"Best friend\":[friend.get_interact_value()], \"Preferred day\":[BlockedDay.get_interact_value()]})\n",
    "new_values = new_values.append(values, ignore_index=True)\n",
    "csv_file.close()\n",
    "new_values.to_csv(\"dataset_full.csv\", index=False)"
   ],
   "metadata": {
    "collapsed": false,
    "pycharm": {
     "name": "#%%\n"
    }
   }
  },
  {
   "cell_type": "code",
   "execution_count": 4,
   "outputs": [],
   "source": [],
   "metadata": {
    "collapsed": false,
    "pycharm": {
     "name": "#%%\n"
    }
   }
  }
 ],
 "metadata": {
  "interpreter": {
   "hash": "b0b0bb6359295fc56c719f904968bda4c9aa91c8906011719b9239c30320e5b5"
  },
  "kernelspec": {
   "display_name": "Python 3 (ipykernel)",
   "language": "python",
   "name": "python3"
  },
  "language_info": {
   "codemirror_mode": {
    "name": "ipython",
    "version": 3
   },
   "file_extension": ".py",
   "mimetype": "text/x-python",
   "name": "python",
   "nbconvert_exporter": "python",
   "pygments_lexer": "ipython3",
   "version": "3.8.8"
  }
 },
 "nbformat": 4,
 "nbformat_minor": 2
}