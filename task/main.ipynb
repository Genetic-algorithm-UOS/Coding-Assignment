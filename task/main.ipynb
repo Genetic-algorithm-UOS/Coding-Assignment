{
 "cells": [
  {
   "cell_type": "code",
   "execution_count": 1,
   "metadata": {
    "collapsed": true,
    "pycharm": {
     "name": "#%%\n"
    }
   },
   "outputs": [],
   "source": [
    "import numpy as np\n",
    "import random\n",
    "import pandas as pd"
   ]
  },
  {
   "cell_type": "code",
   "execution_count": 2,
   "outputs": [],
   "source": [
    "students = pd.read_csv (r'../dataset.csv')\n",
    "student_ids = students.ID.tolist()\n",
    "\n",
    "# TODO: dataset IDs should start with 1 to make handling easier\n",
    "student_ids = [id+1 for id in student_ids]\n",
    "\n",
    "# hyperparameters\n",
    "num_individuals = 50\n",
    "groupsize = 5\n",
    "# between 0 and 1\n",
    "mutation_rate = 0.05"
   ],
   "metadata": {
    "collapsed": false,
    "pycharm": {
     "name": "#%%\n"
    }
   }
  },
  {
   "cell_type": "code",
   "execution_count": 3,
   "outputs": [],
   "source": [
    "def create_random_individual(ids):\n",
    "    individual = ids.copy()\n",
    "    random.shuffle(individual)\n",
    "\n",
    "    return individual"
   ],
   "metadata": {
    "collapsed": false,
    "pycharm": {
     "name": "#%%\n"
    }
   }
  },
  {
   "cell_type": "code",
   "execution_count": 4,
   "outputs": [],
   "source": [
    "def create_initial_population(ids, num_individuals):\n",
    "    population = []\n",
    "    for _ in range(num_individuals):\n",
    "        population.append(create_random_individual(ids))\n",
    "\n",
    "    return np.array(population,dtype=int)"
   ],
   "metadata": {
    "collapsed": false,
    "pycharm": {
     "name": "#%%\n"
    }
   }
  },
  {
   "cell_type": "code",
   "execution_count": 5,
   "outputs": [],
   "source": [
    "def tournament_selection(popuplation, tournament_size = 8):\n",
    "    # get random indices to select random individuals from population\n",
    "    random_indices = np.random.choice(popuplation.shape[0], tournament_size*2, replace=False)\n",
    "\n",
    "    # get individuals from random indices and split into two tournaments\n",
    "    tournament1 = popuplation[random_indices[:tournament_size]]\n",
    "    tournament2 = popuplation[random_indices[tournament_size:]]\n",
    "\n",
    "    parents = []\n",
    "    # tournament is won by fittest individual in each tournament, those become the two parents\n",
    "    for tournament in (tournament1,tournament2):\n",
    "        # get fitness scores for every individual in the tournament\n",
    "        fitness_scores = [evaluate_fitness(individual, students) for individual in tournament]\n",
    "        # get indices ordered by highest fitness first\n",
    "        idx = np.argsort(fitness_scores)[::-1]\n",
    "        # add individual with highest fitness to parents\n",
    "        parents.append(tournament[idx[0]])\n",
    "\n",
    "    return parents"
   ],
   "metadata": {
    "collapsed": false,
    "pycharm": {
     "name": "#%%\n"
    }
   }
  },
  {
   "cell_type": "code",
   "execution_count": 6,
   "outputs": [],
   "source": [
    "def uniform_order_crossover(p1, p2, template):\n",
    "    # create 'empty' child\n",
    "    child = np.zeros((len(p1),),dtype=int)\n",
    "    # where the template is true, take values from p1\n",
    "    child[template] = p1[template]\n",
    "    # store genes used from p1\n",
    "    used_genes = p1[template]\n",
    "\n",
    "    # get all genes from p2\n",
    "    remaining_genes = p2.tolist()\n",
    "    # add genes from p2 (that were not used from p1) to the empty spots of the child\n",
    "    for i, value in enumerate(child):\n",
    "        # if this spot is already filled, continue\n",
    "        if value != 0:\n",
    "            continue\n",
    "\n",
    "        # do while:  pop(get and remove) next gene from p2 until one is found that is not yet in the genome of the child, then add that\n",
    "        while True:\n",
    "            next_gene = remaining_genes.pop(0)\n",
    "            if next_gene not in used_genes:\n",
    "                child[i] = next_gene\n",
    "                break\n",
    "\n",
    "    return child"
   ],
   "metadata": {
    "collapsed": false,
    "pycharm": {
     "name": "#%%\n"
    }
   }
  },
  {
   "cell_type": "code",
   "execution_count": 7,
   "outputs": [],
   "source": [
    "def get_crossover_template(crossover_rate = 0.1):\n",
    "    # initialize template with false values\n",
    "    template = np.zeros((len(pop[0]),),dtype=bool)\n",
    "    # get random indices of the amount #of genes * crossover rate\n",
    "    random_indices = np.random.choice(template.shape[0], int(len(pop[0])*crossover_rate), replace=False)\n",
    "    #set these indices to true\n",
    "    template[random_indices] = True\n",
    "\n",
    "    return template"
   ],
   "metadata": {
    "collapsed": false,
    "pycharm": {
     "name": "#%%\n"
    }
   }
  },
  {
   "cell_type": "code",
   "execution_count": 8,
   "outputs": [],
   "source": [
    "def mutation(individual):\n",
    "    # if random percentage is lower than the mutation rate, switch two random genes\n",
    "    if random.uniform(0, 1) < mutation_rate:\n",
    "        idx1 = random.randint(0, len(individual)-1)\n",
    "        idx2 = random.randint(0, len(individual)-1)\n",
    "\n",
    "        individual[idx1], individual[idx2] = individual[idx2], individual[idx1]\n",
    "\n",
    "    return individual"
   ],
   "metadata": {
    "collapsed": false,
    "pycharm": {
     "name": "#%%\n"
    }
   }
  },
  {
   "cell_type": "code",
   "execution_count": 9,
   "outputs": [],
   "source": [
    "def evaluate_fitness(individual, students):\n",
    "    # split individual into student groups of the groupsize\n",
    "    groups = np.array_split(individual, (len(individual)/groupsize))\n",
    "\n",
    "    # iterate over groups and calculate scores for the different parameters\n",
    "    scores = []\n",
    "    for group_ids in groups:\n",
    "        # get full data for students in this group from pd dataframe\n",
    "        group = students.loc[students['ID'].isin(group_ids)]\n",
    "\n",
    "        # get individual scores for parameters\n",
    "        language_score = evaluate_language(group)\n",
    "        major_score = evaluate_majors(group)\n",
    "        ambition_score = evaluate_ambition(group)\n",
    "        place_score = evaluate_meeting_place(group)\n",
    "\n",
    "        # formula for adding and weighting different scores\n",
    "        scores.append(language_score+major_score+ambition_score+place_score)\n",
    "\n",
    "    #Convert to series to calculate mean more easily\n",
    "    return pd.Series(scores).mean()"
   ],
   "metadata": {
    "collapsed": false,
    "pycharm": {
     "name": "#%%\n"
    }
   }
  },
  {
   "cell_type": "code",
   "execution_count": 10,
   "outputs": [],
   "source": [
    "def evaluate_language(group):\n",
    "    # number of groupmembers per language\n",
    "    counts = group['Preferred language'].value_counts()\n",
    "\n",
    "    # max fitness here is number of members\n",
    "    fitness = groupsize\n",
    "\n",
    "    # if there are conflicting languages (any is ignored) decrease fitness for every conflict\n",
    "    try:\n",
    "        if counts['German'] and counts['English']:\n",
    "            fitness -= counts['German'] + counts['English']\n",
    "    except KeyError:\n",
    "        pass\n",
    "\n",
    "    return fitness"
   ],
   "metadata": {
    "collapsed": false,
    "pycharm": {
     "name": "#%%\n"
    }
   }
  },
  {
   "cell_type": "code",
   "execution_count": 11,
   "outputs": [],
   "source": [
    "def evaluate_majors(group):\n",
    "    majors = group['Majors'].tolist()\n",
    "\n",
    "    # preprocess majors from dataset notation to list with all majors\n",
    "    group_majors = []\n",
    "    for pair in majors:\n",
    "        pair = pair[1:-1].split(\", \")\n",
    "\n",
    "        group_majors.append(pair[0][1:-1])\n",
    "        group_majors.append(pair[1][1:-1])\n",
    "\n",
    "    #convert to Series for easier handling\n",
    "    group_majors = pd.Series(group_majors)\n",
    "    #get value counts\n",
    "    group_major_values = group_majors.value_counts()\n",
    "    #remove majors only one person takes (as they provide no synergy to the group)\n",
    "    group_major_values = group_major_values[group_major_values > 1]\n",
    "\n",
    "    #add number of shared majors and divide by 2; Formula is kinda arbitrary\n",
    "    return group_major_values.sum() /2"
   ],
   "metadata": {
    "collapsed": false,
    "pycharm": {
     "name": "#%%\n"
    }
   }
  },
  {
   "cell_type": "code",
   "execution_count": 12,
   "outputs": [],
   "source": [
    "def ambition_to_int(ambition):\n",
    "    mapping = {\n",
    "        'Very low': 1,\n",
    "        'Low': 2,\n",
    "        'Medium': 3,\n",
    "        'High': 4,\n",
    "        'Very high': 5\n",
    "    }\n",
    "\n",
    "    return mapping[ambition]\n",
    "\n",
    "def evaluate_ambition(group):\n",
    "    # get pd Series of ambitions\n",
    "    ambitions = group['Level of ambition']\n",
    "    # get int value mappings for ambitions\n",
    "    ambitions = ambitions.apply(lambda val: ambition_to_int(val))\n",
    "\n",
    "    # fitness is groupsize - variance in group motivation (so less variance = more fitness)\n",
    "    return groupsize - ambitions.var()"
   ],
   "metadata": {
    "collapsed": false,
    "pycharm": {
     "name": "#%%\n"
    }
   }
  },
  {
   "cell_type": "code",
   "execution_count": 13,
   "outputs": [],
   "source": [
    "def evaluate_meeting_place(group):\n",
    "    # number of groupmembers for each preferred meeting place\n",
    "    meeting_place = group['Prefered meeting place'].value_counts()\n",
    "\n",
    "    # if all prefer the same meeting place return 5, else 0\n",
    "    if meeting_place[0] == 5:\n",
    "        return 5\n",
    "\n",
    "    return 0"
   ],
   "metadata": {
    "collapsed": false,
    "pycharm": {
     "name": "#%%\n"
    }
   }
  },
  {
   "cell_type": "code",
   "execution_count": 14,
   "outputs": [],
   "source": [
    "def evaluate_pop(population):\n",
    "    # get list of fitness scores for all individuals in this population\n",
    "    fitness_scores = [evaluate_fitness(individual, students) for individual in population]\n",
    "\n",
    "    # convert to series to calculate mean more easily\n",
    "    return pd.Series(fitness_scores).mean()"
   ],
   "metadata": {
    "collapsed": false,
    "pycharm": {
     "name": "#%%\n"
    }
   }
  },
  {
   "cell_type": "code",
   "execution_count": 15,
   "outputs": [
    {
     "name": "stdout",
     "output_type": "stream",
     "text": [
      "episode 0: mean fitness score: 13.055416666666666\n",
      "episode 1: mean fitness score: 13.355966666666664\n",
      "episode 2: mean fitness score: 13.350099999999998\n",
      "episode 3: mean fitness score: 13.623483333333338\n",
      "episode 4: mean fitness score: 14.11245\n",
      "episode 5: mean fitness score: 14.547366666666665\n",
      "episode 6: mean fitness score: 14.694966666666664\n",
      "episode 7: mean fitness score: 14.751700000000001\n",
      "episode 8: mean fitness score: 14.858133333333333\n",
      "episode 9: mean fitness score: 14.999216666666669\n",
      "episode 10: mean fitness score: 15.113933333333332\n",
      "episode 11: mean fitness score: 15.31583333333333\n",
      "episode 12: mean fitness score: 15.364933333333335\n",
      "episode 13: mean fitness score: 15.366333333333344\n",
      "episode 14: mean fitness score: 15.322366666666671\n",
      "episode 15: mean fitness score: 15.442133333333338\n",
      "episode 16: mean fitness score: 15.410633333333326\n",
      "episode 17: mean fitness score: 15.547633333333321\n",
      "episode 18: mean fitness score: 15.592816666666652\n",
      "episode 19: mean fitness score: 15.588133333333325\n",
      "episode 20: mean fitness score: 15.655633333333322\n",
      "episode 21: mean fitness score: 15.69413333333332\n",
      "episode 22: mean fitness score: 15.733333333333318\n",
      "episode 23: mean fitness score: 15.65803333333332\n",
      "episode 24: mean fitness score: 15.634233333333327\n"
     ]
    }
   ],
   "source": [
    "pop = create_initial_population(student_ids, num_individuals)\n",
    "\n",
    "for episode in range(25):\n",
    "    new_pop = []\n",
    "    # we get two new individuals by each step, so half the pop size\n",
    "    for _ in range(len(pop)//2):\n",
    "        # find two parents by tournament selection\n",
    "        p1, p2 = tournament_selection(pop)\n",
    "\n",
    "        # get random binary template for crossover\n",
    "        crossover_template = get_crossover_template()\n",
    "\n",
    "        # create two children by uniform order crossover\n",
    "        c1 = uniform_order_crossover(p1,p2,crossover_template)\n",
    "        c2 = uniform_order_crossover(p2,p1,crossover_template)\n",
    "        # do mutation\n",
    "        c1 = mutation(c1)\n",
    "        c2 = mutation(c2)\n",
    "        # add children to new population\n",
    "        new_pop.append(c1)\n",
    "        new_pop.append(c2)\n",
    "\n",
    "    pop = np.array(new_pop,dtype=int)\n",
    "\n",
    "    print(\"episode \" + str(episode) + \": mean fitness score: \" + str(evaluate_pop(pop)))"
   ],
   "metadata": {
    "collapsed": false,
    "pycharm": {
     "name": "#%%\n"
    }
   }
  },
  {
   "cell_type": "code",
   "execution_count": 15,
   "outputs": [],
   "source": [],
   "metadata": {
    "collapsed": false,
    "pycharm": {
     "name": "#%%\n"
    }
   }
  }
 ],
 "metadata": {
  "kernelspec": {
   "display_name": "Python 3",
   "language": "python",
   "name": "python3"
  },
  "language_info": {
   "codemirror_mode": {
    "name": "ipython",
    "version": 2
   },
   "file_extension": ".py",
   "mimetype": "text/x-python",
   "name": "python",
   "nbconvert_exporter": "python",
   "pygments_lexer": "ipython2",
   "version": "2.7.6"
  }
 },
 "nbformat": 4,
 "nbformat_minor": 0
}