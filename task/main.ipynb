{
 "cells": [
  {
   "cell_type": "code",
   "execution_count": 22,
   "metadata": {
    "collapsed": true,
    "pycharm": {
     "name": "#%%\n"
    }
   },
   "outputs": [],
   "source": [
    "import numpy as np\n",
    "import random\n",
    "import pandas as pd"
   ]
  },
  {
   "cell_type": "code",
   "execution_count": 23,
   "metadata": {
    "collapsed": false,
    "pycharm": {
     "name": "#%%\n"
    }
   },
   "outputs": [],
   "source": [
    "students = pd.read_csv (r'../dataset_full.csv')\n",
    "student_ids = students.ID.tolist()\n",
    "\n",
    "# hyperparameters\n",
    "num_individuals = 50\n",
    "groupsize = 5\n",
    "# between 0 and 1\n",
    "mutation_rate = 0.05"
   ]
  },
  {
   "cell_type": "code",
   "execution_count": 24,
   "metadata": {
    "collapsed": false,
    "pycharm": {
     "name": "#%%\n"
    }
   },
   "outputs": [],
   "source": [
    "def create_random_individual(ids):\n",
    "    individual = ids.copy()\n",
    "    random.shuffle(individual)\n",
    "\n",
    "    return individual"
   ]
  },
  {
   "cell_type": "code",
   "execution_count": 25,
   "metadata": {
    "collapsed": false,
    "pycharm": {
     "name": "#%%\n"
    }
   },
   "outputs": [],
   "source": [
    "def create_initial_population(ids, num_individuals):\n",
    "    population = []\n",
    "    for _ in range(num_individuals):\n",
    "        population.append(create_random_individual(ids))\n",
    "\n",
    "    return np.array(population,dtype=int)"
   ]
  },
  {
   "cell_type": "code",
   "execution_count": 26,
   "metadata": {
    "collapsed": false,
    "pycharm": {
     "name": "#%%\n"
    }
   },
   "outputs": [],
   "source": [
    "def tournament_selection(popuplation, tournament_size = 8):\n",
    "    # get random indices to select random individuals from population\n",
    "    random_indices = np.random.choice(popuplation.shape[0], tournament_size*2, replace=False)\n",
    "\n",
    "    # get individuals from random indices and split into two tournaments\n",
    "    tournament1 = popuplation[random_indices[:tournament_size]]\n",
    "    tournament2 = popuplation[random_indices[tournament_size:]]\n",
    "\n",
    "    parents = []\n",
    "    # tournament is won by fittest individual in each tournament, those become the two parents\n",
    "    for tournament in (tournament1,tournament2):\n",
    "        # get fitness scores for every individual in the tournament\n",
    "        fitness_scores = [evaluate_fitness(individual, students) for individual in tournament]\n",
    "        # get indices ordered by highest fitness first\n",
    "        idx = np.argsort(fitness_scores)[::-1]\n",
    "        # add individual with highest fitness to parents\n",
    "        parents.append(tournament[idx[0]])\n",
    "\n",
    "    return parents"
   ]
  },
  {
   "cell_type": "code",
   "execution_count": 27,
   "metadata": {
    "collapsed": false,
    "pycharm": {
     "name": "#%%\n"
    }
   },
   "outputs": [],
   "source": [
    "def uniform_order_crossover(p1, p2, template):\n",
    "    # create 'empty' child\n",
    "    child = np.zeros((len(p1),),dtype=int)\n",
    "    # where the template is true, take values from p1\n",
    "    child[template] = p1[template]\n",
    "    # store genes used from p1\n",
    "    used_genes = p1[template]\n",
    "\n",
    "    # get all genes from p2\n",
    "    remaining_genes = p2.tolist()\n",
    "    # add genes from p2 (that were not used from p1) to the empty spots of the child\n",
    "    for i, value in enumerate(child):\n",
    "        # if this spot is already filled, continue\n",
    "        if value != 0:\n",
    "            continue\n",
    "\n",
    "        # do while:  pop(get and remove) next gene from p2 until one is found that is not yet in the genome of the child, then add that\n",
    "        while True:\n",
    "            next_gene = remaining_genes.pop(0)\n",
    "            if next_gene not in used_genes:\n",
    "                child[i] = next_gene\n",
    "                break\n",
    "\n",
    "    return child"
   ]
  },
  {
   "cell_type": "code",
   "execution_count": 28,
   "metadata": {
    "collapsed": false,
    "pycharm": {
     "name": "#%%\n"
    }
   },
   "outputs": [],
   "source": [
    "def get_crossover_template(crossover_rate = 0.1):\n",
    "    # initialize template with false values\n",
    "    template = np.zeros((len(pop[0]),),dtype=bool)\n",
    "    # get random indices of the amount #of genes * crossover rate\n",
    "    random_indices = np.random.choice(template.shape[0], int(len(pop[0])*crossover_rate), replace=False)\n",
    "    #set these indices to true\n",
    "    template[random_indices] = True\n",
    "\n",
    "    return template"
   ]
  },
  {
   "cell_type": "code",
   "execution_count": 29,
   "metadata": {
    "collapsed": false,
    "pycharm": {
     "name": "#%%\n"
    }
   },
   "outputs": [],
   "source": [
    "def mutation(individual):\n",
    "    # if random percentage is lower than the mutation rate, switch two random genes\n",
    "    if random.uniform(0, 1) < mutation_rate:\n",
    "        idx1 = random.randint(0, len(individual)-1)\n",
    "        idx2 = random.randint(0, len(individual)-1)\n",
    "\n",
    "        individual[idx1], individual[idx2] = individual[idx2], individual[idx1]\n",
    "\n",
    "    return individual"
   ]
  },
  {
   "cell_type": "code",
   "execution_count": 30,
   "outputs": [],
   "source": [
    "def evaluate_fitness(individual, students):\n",
    "    # split individual into student groups of the groupsize\n",
    "    groups = np.array_split(individual, (len(individual)/groupsize))\n",
    "\n",
    "    # iterate over groups and calculate scores for the different parameters\n",
    "    scores = []\n",
    "    for group_ids in groups:\n",
    "        # get full data for students in this group from pd dataframe\n",
    "        group = students.loc[students['ID'].isin(group_ids)]\n",
    "\n",
    "        # get individual scores for parameters\n",
    "        language_score = evaluate_language(group)\n",
    "        major_score = evaluate_majors(group)\n",
    "        ambition_score = evaluate_ambition(group)\n",
    "        place_score = evaluate_meeting_place(group)\n",
    "        gender_score = evaluate_gender(group)\n",
    "        friend_score = evaluate_friends(group)\n",
    "        personality_score = evaluate_personality(group)\n",
    "        day_score = evaluate_meeting_day(group)\n",
    "\n",
    "        # formula for adding and weighting different scores\n",
    "        scores.append(language_score+major_score+ambition_score+place_score+gender_score+friend_score+personality_score+day_score)\n",
    "\n",
    "    #Convert to series to calculate mean more easily\n",
    "    return pd.Series(scores).mean()"
   ],
   "metadata": {
    "collapsed": false,
    "pycharm": {
     "name": "#%%\n"
    }
   }
  },
  {
   "cell_type": "code",
   "execution_count": 31,
   "outputs": [],
   "source": [
    "def evaluate_language(group):\n",
    "    # number of groupmembers per language\n",
    "    counts = group['Preferred language'].value_counts()\n",
    "\n",
    "    # max fitness here is number of members\n",
    "    fitness = groupsize\n",
    "\n",
    "    # if there are conflicting languages (any is ignored) decrease fitness for every conflict\n",
    "    try:\n",
    "        if counts['German'] and counts['English']:\n",
    "            fitness -= counts['German'] + counts['English']\n",
    "    except KeyError:\n",
    "        pass\n",
    "\n",
    "    return fitness"
   ],
   "metadata": {
    "collapsed": false,
    "pycharm": {
     "name": "#%%\n"
    }
   }
  },
  {
   "cell_type": "code",
   "execution_count": 32,
   "outputs": [],
   "source": [
    "def evaluate_majors(group):\n",
    "    majors = group['Majors'].tolist()\n",
    "\n",
    "    # preprocess majors from dataset notation to list with all majors\n",
    "    group_majors = []\n",
    "    for pair in majors:\n",
    "        pair = pair[1:-1].split(\", \")\n",
    "\n",
    "        group_majors.append(pair[0][1:-1])\n",
    "        group_majors.append(pair[1][1:-1])\n",
    "\n",
    "    #convert to Series for easier handling\n",
    "    group_majors = pd.Series(group_majors)\n",
    "    #get value counts\n",
    "    group_major_values = group_majors.value_counts()\n",
    "    #remove majors only one person takes (as they provide no synergy to the group)\n",
    "    group_major_values = group_major_values[group_major_values > 1]\n",
    "\n",
    "    #add number of shared majors and divide by 2; Formula is kinda arbitrary\n",
    "    return group_major_values.sum() /2"
   ],
   "metadata": {
    "collapsed": false,
    "pycharm": {
     "name": "#%%\n"
    }
   }
  },
  {
   "cell_type": "code",
   "execution_count": 33,
   "outputs": [],
   "source": [
    "def ambition_to_int(ambition):\n",
    "    mapping = {\n",
    "        'Very low': 1,\n",
    "        'Low': 2,\n",
    "        'Medium': 3,\n",
    "        'High': 4,\n",
    "        'Very high': 5\n",
    "    }\n",
    "\n",
    "    return mapping[ambition]\n",
    "\n",
    "def evaluate_ambition(group):\n",
    "    # get pd Series of ambitions\n",
    "    ambitions = group['Level of ambition']\n",
    "    # get int value mappings for ambitions\n",
    "    ambitions = ambitions.apply(lambda val: ambition_to_int(val))\n",
    "\n",
    "    # fitness is groupsize - variance in group motivation (so less variance = more fitness)\n",
    "    return groupsize - ambitions.var()"
   ],
   "metadata": {
    "collapsed": false,
    "pycharm": {
     "name": "#%%\n"
    }
   }
  },
  {
   "cell_type": "code",
   "execution_count": 34,
   "outputs": [],
   "source": [
    "def evaluate_meeting_place(group):\n",
    "    # number of groupmembers for each preferred meeting place\n",
    "    meeting_place = group['Preferred meeting place'].value_counts()\n",
    "\n",
    "    # if all prefer the same meeting place return 5, else 0\n",
    "    if meeting_place[0] == groupsize:\n",
    "        return 5\n",
    "\n",
    "    return 0"
   ],
   "metadata": {
    "collapsed": false,
    "pycharm": {
     "name": "#%%\n"
    }
   }
  },
  {
   "cell_type": "code",
   "execution_count": 35,
   "outputs": [],
   "source": [
    "def evaluate_gender(group):\n",
    "    # evaluate by variance\n",
    "    genders = group['Gender'].value_counts()\n",
    "\n",
    "    # add 0 entry for missing genders\n",
    "    for gender in ['Male', 'Female', 'Indeterminate']:\n",
    "        if gender not in genders.index:\n",
    "            genders[gender] = 0\n",
    "\n",
    "    # return groupsize - variance\n",
    "    return groupsize - genders.var()"
   ],
   "metadata": {
    "collapsed": false,
    "pycharm": {
     "name": "#%%\n"
    }
   }
  },
  {
   "cell_type": "code",
   "execution_count": 36,
   "outputs": [],
   "source": [
    "def evaluate_friends(group):\n",
    "    #for each member +1 if friend is also in group\n",
    "    group_member_names = group['Name'].tolist()\n",
    "    best_friends_name = group['Best friend'].tolist()\n",
    "\n",
    "    # get intersection between both lists\n",
    "    friends_in_group = list(set(group_member_names).intersection(best_friends_name))\n",
    "\n",
    "    # fitness += 1 for every pair of friends\n",
    "    return len(friends_in_group)"
   ],
   "metadata": {
    "collapsed": false,
    "pycharm": {
     "name": "#%%\n"
    }
   }
  },
  {
   "cell_type": "code",
   "execution_count": 37,
   "outputs": [],
   "source": [
    "def evaluate_personality(group):\n",
    "    #information about compatible personality types is taken from\n",
    "    # Montequín, Vicente Rodríguez, et al. \"Using Myers-Briggs type indicator (MBTI) as a tool for setting up student teams for information technology projects.\" Journal of Information Technology and Application in Education 1.1 (2012): 28-34.\n",
    "\n",
    "    #count existing personality types in each group\n",
    "    personalities = group['Personality type']\n",
    "    types = personalities.value_counts()\n",
    "\n",
    "    #fitness function starts with 0 and gets better\n",
    "    # with every good group member\n",
    "    fitness = 0\n",
    "\n",
    "    #its good if there is a group leader like an ISTJ or an ESTJ, but only one\n",
    "    try:\n",
    "        if (types['ISTJ'] + types['ESTJ'] == 1):\n",
    "            fitness+=5\n",
    "        elif (types['ISTJ'] + types['ESTJ'] >= 2):\n",
    "            fitness-=5\n",
    "    except KeyError:\n",
    "        pass\n",
    "\n",
    "    #compare compatibility of group members\n",
    "    for i, personality_a in enumerate(personalities.tolist()):\n",
    "        for j, personality_b in enumerate(personalities.tolist()):\n",
    "            # skip same group member and members already compared\n",
    "            if i <= j:\n",
    "                continue\n",
    "\n",
    "            # increase fitness if\n",
    "            if (personality_a[1] != personality_b[1]) ^ (personality_a[2] != personality_b[2]):\n",
    "                if (personality_a[0] != personality_b[0]) or (personality_a[3] != personality_b[3]):\n",
    "                    fitness+=1\n",
    "\n",
    "    return fitness"
   ],
   "metadata": {
    "collapsed": false,
    "pycharm": {
     "name": "#%%\n"
    }
   }
  },
  {
   "cell_type": "code",
   "execution_count": 38,
   "outputs": [],
   "source": [
    "def evaluate_meeting_day(group):\n",
    "    # number of groupmembers for each preferred meeting day\n",
    "    meeting_day = group['Preferred day'].value_counts()\n",
    "\n",
    "    # if all prefer the same meeting day return 5, else 0\n",
    "    if meeting_day[0] == groupsize:\n",
    "        return 5\n",
    "\n",
    "    return 0"
   ],
   "metadata": {
    "collapsed": false,
    "pycharm": {
     "name": "#%%\n"
    }
   }
  },
  {
   "cell_type": "code",
   "execution_count": 39,
   "metadata": {
    "collapsed": false,
    "pycharm": {
     "name": "#%%\n"
    }
   },
   "outputs": [],
   "source": [
    "def get_pop_mean_fitness(population):\n",
    "    # get list of fitness scores for all individuals in this population\n",
    "    fitness_scores = [evaluate_fitness(individual, students) for individual in population]\n",
    "\n",
    "    # convert to series to calculate mean more easily\n",
    "    return round(pd.Series(fitness_scores).mean(), 3)"
   ]
  },
  {
   "cell_type": "code",
   "execution_count": 40,
   "metadata": {
    "collapsed": false,
    "pycharm": {
     "name": "#%%\n"
    }
   },
   "outputs": [],
   "source": [
    "def get_pop_best_fitness(population):\n",
    "    # get list of fitness scores for all individuals in this population\n",
    "    fitness_scores = [evaluate_fitness(individual, students) for individual in population]\n",
    "\n",
    "    # sort by best first\n",
    "    scores_sorted = sorted(fitness_scores, reverse=True)\n",
    "\n",
    "    # return fitness of best individual\n",
    "    return round(scores_sorted[0], 3)"
   ]
  },
  {
   "cell_type": "code",
   "execution_count": 41,
   "metadata": {
    "collapsed": false,
    "pycharm": {
     "name": "#%%\n"
    }
   },
   "outputs": [
    {
     "name": "stdout",
     "output_type": "stream",
     "text": [
      "episode 0: mean fitness score: 18.736; best individual fitness: 20.357\n",
      "episode 1: mean fitness score: 19.319; best individual fitness: 21.212\n",
      "episode 2: mean fitness score: 19.762; best individual fitness: 20.812\n",
      "episode 3: mean fitness score: 20.028; best individual fitness: 20.872\n",
      "episode 4: mean fitness score: 20.205; best individual fitness: 21.202\n",
      "episode 5: mean fitness score: 20.348; best individual fitness: 21.492\n"
     ]
    }
   ],
   "source": [
    "pop = create_initial_population(student_ids, num_individuals)\n",
    "\n",
    "print(\"episode \" + str(0) + \": mean fitness score: \" + str(get_pop_mean_fitness(pop)) + \"; best individual fitness: \" + str(get_pop_best_fitness(pop)))\n",
    "\n",
    "for episode in range(5):\n",
    "    new_pop = []\n",
    "    # we get two new individuals by each step, so half the pop size\n",
    "    for _ in range(len(pop)//2):\n",
    "        # find two parents by tournament selection\n",
    "        p1, p2 = tournament_selection(pop)\n",
    "\n",
    "        # get random binary template for crossover\n",
    "        crossover_template = get_crossover_template()\n",
    "\n",
    "        # create two children by uniform order crossover\n",
    "        c1 = uniform_order_crossover(p1,p2,crossover_template)\n",
    "        c2 = uniform_order_crossover(p2,p1,crossover_template)\n",
    "        # do mutation\n",
    "        c1 = mutation(c1)\n",
    "        c2 = mutation(c2)\n",
    "        # add children to new population\n",
    "        new_pop.append(c1)\n",
    "        new_pop.append(c2)\n",
    "\n",
    "    pop = np.array(new_pop,dtype=int)\n",
    "\n",
    "    print(\"episode \" + str(episode+1) + \": mean fitness score: \" + str(get_pop_mean_fitness(pop)) + \"; best individual fitness: \" + str(get_pop_best_fitness(pop)))"
   ]
  },
  {
   "cell_type": "code",
   "execution_count": 41,
   "metadata": {
    "collapsed": false,
    "pycharm": {
     "name": "#%%\n"
    }
   },
   "outputs": [],
   "source": []
  }
 ],
 "metadata": {
  "kernelspec": {
   "display_name": "Python 3",
   "language": "python",
   "name": "python3"
  },
  "language_info": {
   "codemirror_mode": {
    "name": "ipython",
    "version": 3
   },
   "file_extension": ".py",
   "mimetype": "text/x-python",
   "name": "python",
   "nbconvert_exporter": "python",
   "pygments_lexer": "ipython3",
   "version": "3.8.3"
  }
 },
 "nbformat": 4,
 "nbformat_minor": 0
}