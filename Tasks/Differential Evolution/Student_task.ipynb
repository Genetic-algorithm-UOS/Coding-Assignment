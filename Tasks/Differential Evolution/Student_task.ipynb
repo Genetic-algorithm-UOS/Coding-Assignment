{
 "cells": [
  {
   "cell_type": "markdown",
   "metadata": {
    "pycharm": {
     "name": "#%% md\n"
    }
   },
   "source": [
    "## Section 1: Create Your Own T-Rex!\n",
    "\n",
    "Credit: Anna Sommer, Fabienne Kock, Hind Shalfeh, Inga Wohlert, Malte Heyen, Marlon Dammann, Max Wassermann, and Piper Powell\n"
   ]
  },
  {
   "cell_type": "markdown",
   "metadata": {
    "pycharm": {
     "name": "#%% md\n"
    }
   },
   "source": [
    "The T-Rex was one of the most famous (and most dangerous) dinosaurs to have existed on Earth. With individuals reaching weights as high as 14 metric tons, these predators were something to watch out for during their prime over 60 million years ago. Now, use Python and the power of Differential Evolution to bring these animals back to life and build the best apex predator you can (but do try to avoid any ... Jurassic Park style incidents while you're at it).\n",
    "\n",
    "Let the evolution begin!"
   ]
  },
  {
   "cell_type": "code",
   "execution_count": 1,
   "metadata": {
    "pycharm": {
     "name": "#%%\n"
    }
   },
   "outputs": [],
   "source": [
    "#Our suggested imports. If you use functions from other packages, be sure to import them here.\n",
    "\n",
    "import numpy as np\n",
    "import random as random\n",
    "import copy \n",
    "import statistics\n",
    "import time\n",
    "import matplotlib.pyplot as plt"
   ]
  },
  {
   "cell_type": "markdown",
   "metadata": {
    "pycharm": {
     "name": "#%% md\n"
    }
   },
   "source": [
    "## Task 1 - Create Your T-Rex!\n",
    "\n",
    "A real T-Rex would have been a complex animal with hundreds of parameters and variations that interacted with its environment and dictated how well it could survive. Here, we'll be starting our evolutionary exercise by creating a simplified version of the predator, with only 7 principle features - brain size, teeth size, height, weight, camouflage level, claw size, and aggression.\n",
    "\n",
    "Your Differential Evolution expert has reminded you that all calculations for this algorithm occur in a multi-dimensional vector space and that they'll need that taken into account when you create the mathematical representation of your Rex. They've left the specifics of that up to you though. They did recommend starting by defining a unit of measure for your features, and setting a few logical constraints. Thankfully, they've also provided you with some helpful info that might assist you in determining reasonable units and ranges:\n",
    "\n",
    "- brain size: An adult T-Rex had a brain size of up to approximately 1kg. That's actually only about 1 liter of water!\n",
    "- teeth size: T-Rex teeth could grow to be up to 30cm long. Dentists beware!\n",
    "- height: A T-Rex could grow to be taller than 3.5 meters just at the hips. Better raise the ceiling!\n",
    "- weight: A T-Rex is estimated to have weighed between 5.000 and 7.000 kg. That's nearly three African elephants!\n",
    "- camouflage level: Camouflage is hard to measure, but you might consider a handy percentage effectiveness measure here.\n",
    "- claw size: Though not as large as some of their teeth, a T-Rex claw could still grow to around 10cm long. A dangerous weapon!\n",
    "- aggression: T-Rex was an aggressive animal, but this would have varied by individual. A percentage might be useful here as well."
   ]
  },
  {
   "cell_type": "code",
   "execution_count": 2,
   "metadata": {
    "pycharm": {
     "name": "#%%\n"
    }
   },
   "outputs": [],
   "source": [
    "def create_rex():\n",
    "    \"\"\"\n",
    "    Create a T-Rex with random values for brain size, teeth size, height, weight, camouflage level, claw size, and aggression.\n",
    "    return: trex; list, a random 7-dimensional vector representing your T-Rex\n",
    "    \"\"\"\n",
    "\n",
    "    brain=random.uniform(0,1000)\n",
    "    teeth=random.uniform(0,30)\n",
    "    height=random.uniform(0,3.5)\n",
    "    weight=random.uniform(5000,7000)\n",
    "    camouflage_level=random.uniform(0,1)\n",
    "    claw_size=random.uniform(0,10)\n",
    "    aggression=random.uniform(0,1)\n",
    "    \n",
    "    rex=[brain, teeth, height, weight, camouflage_level, claw_size, aggression]\n",
    "    \n",
    "    return rex\n"
   ]
  },
  {
   "cell_type": "markdown",
   "metadata": {
    "pycharm": {
     "name": "#%% md\n"
    }
   },
   "source": [
    "## Task 2 - Out of the Lab and Into the Wild\n",
    "Now that you have created your T-Rex, it's time to let it loose and see how well it survives! After all, we don't want to base our next round of evolutionary exploration on an individual that doesn't survive well in the wild.\n",
    "\n",
    "To test your T-Rex, create a series of fitness functions that will evaluate its performance in its environment.\n",
    "\n",
    "Your Differential Evolution expert has explained that for technical reasons, it would be best if all the fitness functions output a score within the same range, perhaps 0-100.\n",
    "\n",
    "Don't forget how you've stored your T-Rex's trait information..."
   ]
  },
  {
   "cell_type": "markdown",
   "metadata": {
    "pycharm": {
     "name": "#%% md\n"
    }
   },
   "source": [
    "### 1.1 Fitness to Hunt\n",
    "\n",
    "Your T-Rex needs to be able to hunt for food. Some of its traits will help it out there, but others could prove a hindrance...\n",
    "\n",
    "Luckily, there is an abundant amount of large prey that your T-Rex can rip into with their sharp teeth and claws. The prey is quite docile though, and it startles easily. Unless you can hide properly or tactically corner it, it's likely to escape or retaliate aggressively. Your T-Rex also needs to feel like attacking the prey in the first place, and it needs to be fast enough to run and catch it.\n",
    "\n",
    "Based on this information, identify the features of your T-Rex which will play a role in how well it is able to hunt for food, and then define a function which will output an overall hunting fitness score for your T-Rex based on its levels of these features.\n",
    "\n",
    "Hint: Brain size and intelligence are of course not directly related, but you might use brain size as a proxy for intelligence here."
   ]
  },
  {
   "cell_type": "code",
   "execution_count": 3,
   "metadata": {
    "pycharm": {
     "name": "#%%\n"
    }
   },
   "outputs": [],
   "source": [
    "def fitness_hunt(trex):\n",
    "    \"\"\"\n",
    "    Evaluates the fitness of a T-Rex with respect to hunting.\n",
    "    param: trex; list, a vector representing the T-Rex\n",
    "    return: fithunt; float, hunting fitness value of the T-Rex\n",
    "    \"\"\"\n",
    "\n",
    "    teeth=trex[1]/30\n",
    "    claw_size=trex[5]/10\n",
    "    aggression=trex[6]\n",
    "    \n",
    "    return (teeth+claw_size+aggression)/3\n",
    "\n",
    "    #Don't forget to keep your scores in the proper range!\n",
    "\n",
    "    pass"
   ]
  },
  {
   "cell_type": "markdown",
   "metadata": {
    "pycharm": {
     "name": "#%% md\n"
    }
   },
   "source": [
    "### 1.2 Fitness to Fight\n",
    "\n",
    "Your T-Rex will sometimes need to fight other animals, whether over territory or simply to not lose the food it's worked so hard to hunt. Some of its traits will help it out there, but others could prove a hindrance...\n",
    "\n",
    "Your T-Rex will need good weapons, a willingness to attack, and good planning so it doesn't make a mistake in the battle and get hurt. Even a small T-Rex might be able to prevail with a cunning plan, but if a T-Rex can't maneuver lightly to dodge attacks and land its own blows, it could be a very short conflict.\n",
    "\n",
    "Based on this information, identify the features of your T-Rex which will play a role in how well it is able to fight when the need arises, and then define a function which will output an overall fighting fitness score for your T-Rex based on its levels of these features.\n",
    "\n",
    "Hint: Brain size and intelligence are of course not directly related, but you might use brain size as a proxy for intelligence here."
   ]
  },
  {
   "cell_type": "code",
   "execution_count": 4,
   "metadata": {
    "pycharm": {
     "name": "#%%\n"
    }
   },
   "outputs": [],
   "source": [
    "def fitness_fight(trex):\n",
    "    \"\"\"\n",
    "    Evaluates the fitness of a T-Rex with respect to fighting.\n",
    "    param: trex; list, a vector representing the T-Rex\n",
    "    return: fitfight; float, fighting fitness value of the T-Rex\n",
    "    \"\"\"\n",
    "\n",
    "    brain = trex[0]/1000\n",
    "    teeth = trex[1]/30\n",
    "    claw = trex[5]/10\n",
    "    aggresion= trex[6]\n",
    "\n",
    "    return (brain + teeth + claw + aggresion)/4\n",
    "\n",
    "    #Don't forget to keep your scores in the proper range!\n",
    "\n",
    "    pass"
   ]
  },
  {
   "cell_type": "markdown",
   "metadata": {
    "pycharm": {
     "name": "#%% md\n"
    }
   },
   "source": [
    "### 1.3 Fitness to Flee\n",
    "\n",
    "Even a T-Rex will sometimes need to make a quick getaway if it (ahem) bites off more than it can chew. Some of its traits will help it out there, but others could prove a hindrance...\n",
    "\n",
    "A lighter T-Rex with longer legs will be able to run away faster. A T-Rex with better camouflaged skin might be able to hide easier. A T-Rex who's too aggressive might not be able to pull itself away from the fight, even if it's poorly matched to its opponent.\n",
    "\n",
    "Based on this information, identify the features of your T-Rex which will play a role in how well it is able to fight when the need arises, and then define a function which will output an overall fleeing fitness score for your T-Rex based on its levels of these features.\n",
    "\n",
    "Hint: You might consider a ratio of weight/height to determine running speed."
   ]
  },
  {
   "cell_type": "code",
   "execution_count": 5,
   "metadata": {
    "pycharm": {
     "name": "#%%\n"
    }
   },
   "outputs": [],
   "source": [
    "def fitness_flee(trex):\n",
    "    \"\"\"\n",
    "    Evaluates the fitness of a T-Rex with respect to fleeing.\n",
    "    param: trex; list, a vector representing the T-Rex\n",
    "    return: fitflee; float, fleeing fitness value of the T-Rex\n",
    "    \"\"\"\n",
    "    trex_brain_size = trex[0]\n",
    "    trex_height = trex[2]\n",
    "    trex_weight = trex[3]\n",
    "    trex_camouflage_level = trex[4]\n",
    "\n",
    "    # Relevant features: height, weight, camouflage, brain_size\n",
    "\n",
    "    flee_value = ((trex_brain_size / 1000) + ( 1 - (trex_height / 3.5)) + ( 1 - (trex_weight / 7000)) + trex_camouflage_level)/4\n",
    " \n",
    "    return flee_value"
   ]
  },
  {
   "cell_type": "markdown",
   "metadata": {
    "pycharm": {
     "name": "#%% md\n"
    }
   },
   "source": [
    "### Overall Fitness\n",
    "\n",
    "For technical reasons, your Differential Evolution expert would prefer you assembled your T-Rex's fitness scores into one convenient overall fitness score that they can use in their evaluations. They request that the output of this function be in the same range you used for the basic fitness functions. Higher scores should mean higher chances of survival and a greater level of success in the wild."
   ]
  },
  {
   "cell_type": "code",
   "execution_count": 6,
   "metadata": {
    "pycharm": {
     "name": "#%%\n"
    }
   },
   "outputs": [],
   "source": [
    "def combi_fitness(trex):\n",
    "    \"\"\"\n",
    "    Evaluates the overall fitness of a T-Rex.\n",
    "    param: trex; list, a vector representing the T-Rex\n",
    "    return: combifitness; integer, an overall fitness value for your T-Rex\n",
    "    \"\"\"\n",
    "    #Call your other fitness functions above to calculate the overall fitness of your T-Rex\n",
    "    fight_fitness = fitness_fight(trex)\n",
    "    flee_fitness = fitness_flee(trex)\n",
    "    hunt_fitness = fitness_hunt(trex)\n",
    "\n",
    "    overall_fitness = (fight_fitness + flee_fitness + hunt_fitness) / 3\n",
    "\n",
    "    return overall_fitness\n"
   ]
  },
  {
   "cell_type": "markdown",
   "metadata": {
    "pycharm": {
     "name": "#%% md\n"
    }
   },
   "source": [
    "Your Differential Evolution expert likes your fitness formula! He reminds you though that Differential Evolution usually works by minimizing the fitness function, not maximizing it, meaning that your fitness function will need to behave like a cost function instead. To let you focus on other more important matters, he's provided you with a handy line of code that will perform the necessary conversion to make your function suitable for the standard form of Differential Evolution."
   ]
  },
  {
   "cell_type": "code",
   "execution_count": 7,
   "metadata": {
    "pycharm": {
     "name": "#%%\n"
    }
   },
   "outputs": [],
   "source": [
    "cost_function = lambda x:-combi_fitness(x)"
   ]
  },
  {
   "cell_type": "markdown",
   "metadata": {
    "pycharm": {
     "name": "#%% md\n"
    }
   },
   "source": [
    "## Task 3: The More, The Merrier\n",
    "\n",
    "Congratulations! You've created a T-Rex and tested it in the wild. But in order to find the *best* T-Rex, we'll of course need more than one. Create a population of T-Rex's so we can let nature take its course and create the best one."
   ]
  },
  {
   "cell_type": "code",
   "execution_count": 8,
   "metadata": {
    "pycharm": {
     "name": "#%%\n"
    }
   },
   "outputs": [],
   "source": [
    "def create_population(pop_size):\n",
    "    \"\"\"\n",
    "    Creates a population of T-Rex's of size pop_size.\n",
    "    param: pop_size; integer, the number of T-Rex's you want to create in your population\n",
    "    return: population; list, a list of the T-Rex vectors that make up your population\n",
    "    \"\"\"\n",
    "    \n",
    "    trex_population = [create_rex() for i in range(pop_size)]\n",
    "\n",
    "    return trex_population"
   ]
  },
  {
   "cell_type": "markdown",
   "metadata": {
    "pycharm": {
     "name": "#%% md\n"
    }
   },
   "source": [
    "## Task 4: Evolution Requires Preparation\n",
    "\n",
    "Now that we can create a single T-Rex, and a population of T-Rex's, it's time to use our powers of Differential Evolution to build the best Rex possible. We'll need to start by taking care of a few niggling details your Differential Evolution expert has requested you address before the real fun begins."
   ]
  },
  {
   "cell_type": "markdown",
   "metadata": {
    "pycharm": {
     "name": "#%% md\n"
    }
   },
   "source": [
    "### Mutation\n",
    "\n",
    "As you learned in the presentation, mutation is a key step in the Differential Evolution algorithm. Go ahead and program it here so we have it on hand later.\n"
   ]
  },
  {
   "cell_type": "code",
   "execution_count": 9,
   "metadata": {
    "pycharm": {
     "name": "#%%\n"
    }
   },
   "outputs": [],
   "source": [
    "def mutation(current_rex_index, rex_population, differential_weight):\n",
    "       \"\"\"\n",
    "       Creates the mutant vector for the current T-Rex out of the current population.\n",
    "       param: current_rex_index; integer, the index of the vector for the current T-Rex within the population\n",
    "              rex_population; list, the list of T-Rex vectors that makes up your population\n",
    "              differential_weight; float, the differential weight discussed in the presentation\n",
    "       return: mutant_vector, a list representing the 7-dimensional mutant vector\n",
    "       \"\"\"\n",
    "\n",
    "\n",
    "    \n",
    "       indices = [index for index in range(len(rex_population)) if index != current_rex_index]\n",
    "       selected = np.random.choice(indices, 3, replace=False)\n",
    "\n",
    "       a = rex_population[selected[0]]\n",
    "       b = rex_population[selected[1]]\n",
    "       c = rex_population[selected[2]]\n",
    "\n",
    "       mutant_vector = np.array(a) + differential_weight * (np.array(b) - np.array(c))\n",
    "\n",
    "       brain, teeth, height, weight, camouflage_level, claw_size, aggression = mutant_vector\n",
    "\n",
    "       brain = np.clip(brain, 0, 1000)\n",
    "       teeth = np.clip(teeth, 0, 30)\n",
    "       height = np.clip(height, 0, 3.5)\n",
    "       weight = np.clip(weight, 5000, 7000)\n",
    "       camouflage_level = np.clip(camouflage_level, 0, 1)\n",
    "       claw_size = np.clip(claw_size, 0, 10)\n",
    "       aggression = np.clip(aggression, 0, 1)\n",
    "\n",
    "       mutant_vector = [brain, teeth, height, weight, camouflage_level, claw_size, aggression]\n",
    "\n",
    "       return mutant_vector"
   ]
  },
  {
   "cell_type": "markdown",
   "metadata": {
    "pycharm": {
     "name": "#%% md\n"
    }
   },
   "source": [
    "### Crossover\n",
    "\n",
    "Another important function you'll remember from the presentation is crossover. Go ahead and implement this function here as well so we have it on hand later."
   ]
  },
  {
   "cell_type": "code",
   "execution_count": 10,
   "metadata": {
    "pycharm": {
     "name": "#%%\n"
    }
   },
   "outputs": [],
   "source": [
    "def cross_over(mutant_vector, trex, crossover_rate = 0.9):\n",
    "    \"\"\"\n",
    "    Creates the potential new T-Rex via the crossover process using the input T-Rex's vector and the mutant vector\n",
    "    param: mutant_vector; list, the 7-dimensional mutant vector\n",
    "           trex; list, the vector for the input T-Rex\n",
    "           crossover_rate; float, the crossover rate (CR) discussed in the presentation\n",
    "    return: mutant_rex, the vector for the potential new T-Rex created in the crossover process\n",
    "    \"\"\"\n",
    "\n",
    "    #Remember to initialize your r value as discussed in the presentation!\n",
    "\n",
    "    #Remember to implement checks for both the r < CR case and the j = i case discussed in the presentation!\n",
    "\n",
    "    mutant_rex = copy.copy(trex)\n",
    "    i = random.randint(0,6)\n",
    "    for j in range(0,6):\n",
    "           r = random.random()\n",
    "           if (r < crossover_rate) or (i == j):\n",
    "                  mutant_rex[j] = mutant_vector[j]\n",
    "       \n",
    "    return mutant_rex"
   ]
  },
  {
   "cell_type": "markdown",
   "metadata": {
    "pycharm": {
     "name": "#%% md\n"
    }
   },
   "source": [
    "### Selection\n",
    "\n",
    "Once you've created a new candidate T-Rex for our population using mutation and crossover, we'll need a way to see if we will actually add this new Rex to our population, or if we will discard it. After all, we don't want to add a Rex who is worse off in the environment than the one we started with!"
   ]
  },
  {
   "cell_type": "code",
   "execution_count": 11,
   "metadata": {
    "pycharm": {
     "name": "#%%\n"
    }
   },
   "outputs": [],
   "source": [
    "def selection(mutant_rex, trex, population, cost_function):\n",
    "    \"\"\"\n",
    "    Checks to see if the new T-Rex will be added to the population or discarded.\n",
    "    param: mutant_rex; list, the vector for the potential new T-Rex created via mutation and crossover\n",
    "           trex; list, the vector for the current T-Rex\n",
    "           population; list, the list of T-Rex vectors that make up the population\n",
    "           cost_function; function, the converted fitness function used to evaluate the T-Rex's\n",
    "    \"\"\"\n",
    "    \n",
    "    # calculates the fitness function of the dinos\n",
    "    mutant_fitness=cost_function(mutant_rex)\n",
    "    trex_fitness=cost_function(trex)\n",
    "    \n",
    "    if mutant_fitness > trex_fitness:\n",
    "        location=population.index(trex)\n",
    "        population[location]=mutant_rex\n",
    "    \n",
    "    pass"
   ]
  },
  {
   "cell_type": "markdown",
   "metadata": {
    "pycharm": {
     "name": "#%% md\n"
    }
   },
   "source": [
    "## Task 5: Evolve Your T-Rex!\n",
    "\n",
    "Now that you have laid the foundations by defining functions to create a single T-Rex and a population of them, to create new T-Rex's based on the current ones, and to evaluate the fitness of your Rex's, it's time to bring it all together and set the algorithm to work!"
   ]
  },
  {
   "cell_type": "code",
   "execution_count": 12,
   "metadata": {
    "pycharm": {
     "name": "#%%\n"
    }
   },
   "outputs": [],
   "source": [
    "def de_algorithm(pop_size, generations, crossover_rate, differential_weight, cost_function):\n",
    "       \"\"\"\n",
    "       Brings together the functions above to perform Differential Evolution and find the best individual\n",
    "       param: pop_size; integer, the size of the population you want to create and run the algorithm on\n",
    "              generations; integer, how many generations you want the algorithm to run for\n",
    "              crossover_rate; float, the crossover rate (CR) discussed in the presentation\n",
    "              differential_weight; float, the differential weight (F) discussed in the presentation\n",
    "              cost_function; function, the converted fitness function for evaluating individuals\n",
    "       return: best; list, the vector representing the best individual at the conclusion of the algorithm's run\n",
    "       \"\"\"\n",
    "       population = create_population(pop_size)\n",
    "       best = population[0]\n",
    "       for i in range(generations):\n",
    "              for j in range(pop_size):\n",
    "                     mutant_vector = mutation(j, population, differential_weight)\n",
    "                     new_vector = cross_over(mutant_vector, population[j], crossover_rate)\n",
    "                     selection(new_vector, population[j], population, cost_function)\n",
    "              if cost_function(best) > cost_function(population[j]):\n",
    "                     best = population[j]\n",
    "       return best"
   ]
  },
  {
   "cell_type": "markdown",
   "metadata": {
    "pycharm": {
     "name": "#%% md\n"
    }
   },
   "source": [
    "Choose a population size, number of generations, crossover rate, and differential weight, and set the cost function to the one your Differential Evolution expert converted for you, and then see how your algorithm performs!\n"
   ]
  },
  {
   "cell_type": "code",
   "execution_count": 66,
   "metadata": {
    "pycharm": {
     "is_executing": true,
     "name": "#%%\n"
    }
   },
   "outputs": [
    {
     "name": "stdout",
     "output_type": "stream",
     "text": [
      "Your algorithm output [925.992610669558, 16.706813204737344, 0.8884229707330804, 5728.023103927115, 0.5583961788054448, 6.859182248860253, 0.21244524654086283]as the best evolved T-Rex, with a fitness score of 0.5611547907454145 .\n"
     ]
    }
   ],
   "source": [
    "'''\n",
    "Call your de_algorithm, defining the parameters as you wish, with cost_function set to cost_function to call the converted function from above.\n",
    "Call your combi_fitness function to see how well this Rex performs in its environment.\n",
    "'''\n",
    "\n",
    "best_rex = de_algorithm(pop_size=200, generations=200, crossover_rate=0.1, differential_weight=0.1, cost_function=cost_function)\n",
    "rex_score = combi_fitness(best_rex)\n",
    "\n",
    "print('Your algorithm output ' + str(best_rex) + 'as the best evolved T-Rex, with a fitness score of ' + str(rex_score) + ' .')"
   ]
  },
  {
   "cell_type": "markdown",
   "metadata": {},
   "source": [
    "### Testing Hyperparameters"
   ]
  },
  {
   "cell_type": "markdown",
   "metadata": {},
   "source": [
    "##### Population size (0-50)"
   ]
  },
  {
   "cell_type": "code",
   "execution_count": 59,
   "metadata": {},
   "outputs": [
    {
     "name": "stdout",
     "output_type": "stream",
     "text": [
      "Current Population size: 5\n",
      "Time (50 iterations): 3.78125\n",
      "Average fitness: 0.5302813129296164\n",
      "Highest fitness: 0.7208735905745555\n",
      "Lowest fitness: 0.34583030184464225\n",
      "\n",
      "Current Population size: 10\n",
      "Time (50 iterations): 7.9375\n",
      "Average fitness: 0.5051234142355105\n",
      "Highest fitness: 0.6788229505352583\n",
      "Lowest fitness: 0.32920260480012487\n",
      "\n",
      "Current Population size: 15\n",
      "Time (50 iterations): 11.828125\n",
      "Average fitness: 0.4884900663385357\n",
      "Highest fitness: 0.6570476313484875\n",
      "Lowest fitness: 0.2638123796651855\n",
      "\n",
      "Current Population size: 20\n",
      "Time (50 iterations): 15.34375\n",
      "Average fitness: 0.49732219267238315\n",
      "Highest fitness: 0.7420293560790253\n",
      "Lowest fitness: 0.23364951585627647\n",
      "\n",
      "Current Population size: 25\n",
      "Time (50 iterations): 19.140625\n",
      "Average fitness: 0.4920801016612499\n",
      "Highest fitness: 0.720771017023817\n",
      "Lowest fitness: 0.3272273120629648\n",
      "\n",
      "Current Population size: 30\n",
      "Time (50 iterations): 22.703125\n",
      "Average fitness: 0.49785717887586184\n",
      "Highest fitness: 0.7074273295005974\n",
      "Lowest fitness: 0.2877873155012085\n",
      "\n",
      "Current Population size: 35\n",
      "Time (50 iterations): 27.359375\n",
      "Average fitness: 0.49069222446734706\n",
      "Highest fitness: 0.7680018153209951\n",
      "Lowest fitness: 0.31649012857656916\n",
      "\n",
      "Current Population size: 40\n",
      "Time (50 iterations): 31.984375\n",
      "Average fitness: 0.5275997619486645\n",
      "Highest fitness: 0.7014693336505536\n",
      "Lowest fitness: 0.2945691636763164\n",
      "\n",
      "Current Population size: 45\n",
      "Time (50 iterations): 35.484375\n",
      "Average fitness: 0.5005855062863144\n",
      "Highest fitness: 0.6968055151236533\n",
      "Lowest fitness: 0.27053930895340833\n",
      "\n",
      "Current Population size: 50\n",
      "Time (50 iterations): 39.6875\n",
      "Average fitness: 0.5115265261057765\n",
      "Highest fitness: 0.7123504353186362\n",
      "Lowest fitness: 0.29415781427593396\n",
      "\n"
     ]
    },
    {
     "data": {
      "image/png": "[encoded data removed]",
      "text/plain": [
       "<Figure size 432x288 with 1 Axes>"
      ]
     },
     "metadata": {
      "needs_background": "light"
     },
     "output_type": "display_data"
    },
    {
     "data": {
      "image/png": "[encoded data removed]",
      "text/plain": [
       "<Figure size 432x288 with 1 Axes>"
      ]
     },
     "metadata": {
      "needs_background": "light"
     },
     "output_type": "display_data"
    }
   ],
   "source": [
    "p_size = 5 # start with size 0\n",
    "rex_score_list = []\n",
    "\n",
    "### lists for plotting\n",
    "\n",
    "popsize = []\n",
    "average = []\n",
    "highest = []\n",
    "lowest = []\n",
    "times = []\n",
    "\n",
    "\n",
    "while p_size <= 50:\n",
    "    \n",
    "    i = 0\n",
    "    rex_score_list = []  \n",
    "    start = time.process_time() # start timer\n",
    "    \n",
    "    # do 50 iterations\n",
    "    while i < 50:\n",
    "\n",
    "        best_rex = de_algorithm(pop_size=p_size, generations=100, crossover_rate=0.9, differential_weight=0.8, cost_function=cost_function)\n",
    "        rex_score = combi_fitness(best_rex)\n",
    "        rex_score_list.append(rex_score)\n",
    "        \n",
    "        i += 1\n",
    "    \n",
    "    # append values for plotting\n",
    "    popsize.append(p_size)\n",
    "    average.append(statistics.mean(rex_score_list)) \n",
    "    highest.append(max(rex_score_list))\n",
    "    lowest.append(min(rex_score_list))\n",
    "    times.append(time.process_time() - start)\n",
    "    \n",
    "    # print info\n",
    "    print('Current Population size: ' + str(p_size))\n",
    "    print('Time (50 iterations): ' + str(time.process_time() - start))\n",
    "\n",
    "    print('Average fitness: ' + str(statistics.mean(rex_score_list)))\n",
    "    print('Highest fitness: ' + str(max(rex_score_list)))\n",
    "    print('Lowest fitness: ' + str(min(rex_score_list))+ \"\\n\")\n",
    "    \n",
    "    # increase population size\n",
    "    p_size += 5\n",
    "    \n",
    "# plot results\n",
    "plt.plot(popsize, average, label = \"Average\")\n",
    "plt.plot(popsize, highest, label = \"Max\")\n",
    "plt.plot(popsize, lowest, label = \"Min\")\n",
    "\n",
    "plt.legend(loc='upper right')\n",
    "plt.title(\"Fitness depending on the population size\")\n",
    "plt.xticks(popsize)\n",
    "plt.show()\n",
    "\n",
    "# plot results\n",
    "plt.plot(popsize, times,color=\"red\")\n",
    "plt.title(\"Computation time (s)\")\n",
    "plt.xticks(popsize)\n",
    "plt.show()"
   ]
  },
  {
   "cell_type": "markdown",
   "metadata": {},
   "source": [
    "##### Epoch size (0-50)"
   ]
  },
  {
   "cell_type": "code",
   "execution_count": 67,
   "metadata": {},
   "outputs": [
    {
     "name": "stdout",
     "output_type": "stream",
     "text": [
      "Current Epoch size: 5\n",
      "Time (50 iterations): 5.203125\n",
      "Average fitness: 0.5090649630836129\n",
      "Highest fitness: 0.6772776857364736\n",
      "Lowest fitness: 0.3501475586274984\n",
      "\n",
      "Current Epoch size: 10\n",
      "Time (50 iterations): 10.390625\n",
      "Average fitness: 0.5272033274735424\n",
      "Highest fitness: 0.8092953673072499\n",
      "Lowest fitness: 0.3416591869484527\n",
      "\n",
      "Current Epoch size: 15\n",
      "Time (50 iterations): 15.5625\n",
      "Average fitness: 0.5162559167293426\n",
      "Highest fitness: 0.7180331317217016\n",
      "Lowest fitness: 0.27212182750349473\n",
      "\n",
      "Current Epoch size: 20\n",
      "Time (50 iterations): 21.171875\n",
      "Average fitness: 0.5133823964059183\n",
      "Highest fitness: 0.6874797968613818\n",
      "Lowest fitness: 0.3159793156327681\n",
      "\n",
      "Current Epoch size: 25\n",
      "Time (50 iterations): 26.765625\n",
      "Average fitness: 0.5238336562557137\n",
      "Highest fitness: 0.7070844035692659\n",
      "Lowest fitness: 0.24753470699584945\n",
      "\n",
      "Current Epoch size: 30\n",
      "Time (50 iterations): 32.453125\n",
      "Average fitness: 0.5180000638548343\n",
      "Highest fitness: 0.7098865646353643\n",
      "Lowest fitness: 0.2963191644914942\n",
      "\n",
      "Current Epoch size: 35\n",
      "Time (50 iterations): 37.4375\n",
      "Average fitness: 0.5235980238386233\n",
      "Highest fitness: 0.7301875418279344\n",
      "Lowest fitness: 0.29449574246545845\n",
      "\n",
      "Current Epoch size: 40\n",
      "Time (50 iterations): 43.53125\n",
      "Average fitness: 0.500037773879673\n",
      "Highest fitness: 0.7194593873006205\n",
      "Lowest fitness: 0.3244100058990816\n",
      "\n",
      "Current Epoch size: 45\n",
      "Time (50 iterations): 48.046875\n",
      "Average fitness: 0.49626284948148225\n",
      "Highest fitness: 0.6704440449093743\n",
      "Lowest fitness: 0.3132057695306265\n",
      "\n",
      "Current Epoch size: 50\n",
      "Time (50 iterations): 51.375\n",
      "Average fitness: 0.5211456425466041\n",
      "Highest fitness: 0.7828229530450083\n",
      "Lowest fitness: 0.36115801751063065\n",
      "\n"
     ]
    },
    {
     "data": {
      "image/png": "[encoded data removed]",
      "text/plain": [
       "<Figure size 432x288 with 1 Axes>"
      ]
     },
     "metadata": {
      "needs_background": "light"
     },
     "output_type": "display_data"
    },
    {
     "data": {
      "image/png": "[encoded data removed]",
      "text/plain": [
       "<Figure size 432x288 with 1 Axes>"
      ]
     },
     "metadata": {
      "needs_background": "light"
     },
     "output_type": "display_data"
    }
   ],
   "source": [
    "epoch_size = 5 # start with size 0\n",
    "rex_score_list = []\n",
    "\n",
    "### lists for plotting\n",
    "\n",
    "epochsize = []\n",
    "average = []\n",
    "highest = []\n",
    "lowest = []\n",
    "times = []\n",
    "\n",
    "\n",
    "while epoch_size <= 50:\n",
    "    \n",
    "    i = 0\n",
    "    rex_score_list = []  \n",
    "    start = time.process_time() # start timer\n",
    "    \n",
    "    # do 50 iterations\n",
    "    while i < 50:\n",
    "\n",
    "        best_rex = de_algorithm(pop_size=100, generations=epoch_size, crossover_rate=0.9, differential_weight=0.8, cost_function=cost_function)\n",
    "        rex_score = combi_fitness(best_rex)\n",
    "        rex_score_list.append(rex_score)\n",
    "        \n",
    "        i += 1\n",
    "    \n",
    "    # append values for plotting\n",
    "    epochsize.append(epoch_size)\n",
    "    average.append(statistics.mean(rex_score_list)) \n",
    "    highest.append(max(rex_score_list))\n",
    "    lowest.append(min(rex_score_list))\n",
    "    times.append(time.process_time() - start)\n",
    "    \n",
    "    # print info\n",
    "    print('Current Epoch size: ' + str(epoch_size))\n",
    "    print('Time (50 iterations): ' + str(time.process_time() - start))\n",
    "\n",
    "    print('Average fitness: ' + str(statistics.mean(rex_score_list)))\n",
    "    print('Highest fitness: ' + str(max(rex_score_list)))\n",
    "    print('Lowest fitness: ' + str(min(rex_score_list))+ \"\\n\")\n",
    "    \n",
    "    # increase epoch size\n",
    "    epoch_size += 5\n",
    "    \n",
    "# plot results\n",
    "plt.plot(epochsize, average, label = \"Average\")\n",
    "plt.plot(epochsize, highest, label = \"Max\")\n",
    "plt.plot(epochsize, lowest, label = \"Min\")\n",
    "\n",
    "plt.legend(loc='upper right')\n",
    "plt.title(\"Fitness depending on the amount of epochs\")\n",
    "plt.xticks(epochsize)\n",
    "plt.show()\n",
    "\n",
    "# plot results\n",
    "plt.plot(epochsize, times,color=\"red\")\n",
    "plt.title(\"Computation time (s)\")\n",
    "plt.xticks(epochsize)\n",
    "plt.show()"
   ]
  },
  {
   "cell_type": "markdown",
   "metadata": {},
   "source": [
    "##### Crossover rate (0.1-0.9)"
   ]
  },
  {
   "cell_type": "code",
   "execution_count": 60,
   "metadata": {},
   "outputs": [
    {
     "name": "stdout",
     "output_type": "stream",
     "text": [
      "Current Crossover rate: 0.1\n",
      "Time (50 iterations): 97.59375\n",
      "Average fitness: 0.5160736070597747\n",
      "Highest fitness: 0.6794817446390841\n",
      "Lowest fitness: 0.3269510041718498\n",
      "\n",
      "Current Crossover rate: 0.2\n",
      "Time (50 iterations): 94.078125\n",
      "Average fitness: 0.4958857599806971\n",
      "Highest fitness: 0.6446930691216249\n",
      "Lowest fitness: 0.34554931986657306\n",
      "\n",
      "Current Crossover rate: 0.30000000000000004\n",
      "Time (50 iterations): 92.125\n",
      "Average fitness: 0.5506431657618636\n",
      "Highest fitness: 0.7334168708061474\n",
      "Lowest fitness: 0.3995260483765764\n",
      "\n",
      "Current Crossover rate: 0.4\n",
      "Time (50 iterations): 88.078125\n",
      "Average fitness: 0.5081113681506487\n",
      "Highest fitness: 0.7031667795580052\n",
      "Lowest fitness: 0.33151232737925274\n",
      "\n",
      "Current Crossover rate: 0.5\n",
      "Time (50 iterations): 86.796875\n",
      "Average fitness: 0.5173804429839409\n",
      "Highest fitness: 0.7175935174594642\n",
      "Lowest fitness: 0.32256141958524703\n",
      "\n",
      "Current Crossover rate: 0.6\n",
      "Time (50 iterations): 91.5625\n",
      "Average fitness: 0.5127340928767102\n",
      "Highest fitness: 0.6929441116626727\n",
      "Lowest fitness: 0.31112619190198726\n",
      "\n",
      "Current Crossover rate: 0.7\n",
      "Time (50 iterations): 93.53125\n",
      "Average fitness: 0.500195281104964\n",
      "Highest fitness: 0.6709874447114209\n",
      "Lowest fitness: 0.3220568339877265\n",
      "\n",
      "Current Crossover rate: 0.7999999999999999\n",
      "Time (50 iterations): 91.4375\n",
      "Average fitness: 0.5446485883844884\n",
      "Highest fitness: 0.7414408504535167\n",
      "Lowest fitness: 0.36976642980803165\n",
      "\n",
      "Current Crossover rate: 0.8999999999999999\n",
      "Time (50 iterations): 88.53125\n",
      "Average fitness: 0.5098244708044126\n",
      "Highest fitness: 0.7418715880511394\n",
      "Lowest fitness: 0.26698078815347553\n",
      "\n"
     ]
    },
    {
     "data": {
      "image/png": "[encoded data removed]",
      "text/plain": [
       "<Figure size 432x288 with 1 Axes>"
      ]
     },
     "metadata": {
      "needs_background": "light"
     },
     "output_type": "display_data"
    },
    {
     "data": {
      "image/png": "[encoded data removed]",
      "text/plain": [
       "<Figure size 432x288 with 1 Axes>"
      ]
     },
     "metadata": {
      "needs_background": "light"
     },
     "output_type": "display_data"
    }
   ],
   "source": [
    "cr_rate = 0.1 # start with size 0\n",
    "rex_score_list = []\n",
    "\n",
    "### lists for plotting\n",
    "\n",
    "crrate = []\n",
    "average = []\n",
    "highest = []\n",
    "lowest = []\n",
    "times = []\n",
    "\n",
    "while cr_rate <= 0.9:\n",
    "    \n",
    "    i = 0\n",
    "    rex_score_list = []  \n",
    "    start = time.process_time() # start timer\n",
    "    \n",
    "    # do 50 iterations\n",
    "    while i < 50:\n",
    "\n",
    "        best_rex = de_algorithm(pop_size=100, generations=100, crossover_rate=cr_rate, differential_weight=0.8, cost_function=cost_function)\n",
    "        rex_score = combi_fitness(best_rex)\n",
    "        rex_score_list.append(rex_score)\n",
    "        \n",
    "        i += 1\n",
    "    \n",
    "    # append values for plotting\n",
    "    crrate.append(cr_rate)\n",
    "    average.append(statistics.mean(rex_score_list)) \n",
    "    highest.append(max(rex_score_list))\n",
    "    lowest.append(min(rex_score_list))\n",
    "    times.append(time.process_time() - start)\n",
    "    \n",
    "    # print info\n",
    "    print('Current Crossover rate: ' + str(cr_rate))\n",
    "    print('Time (50 iterations): ' + str(time.process_time() - start))\n",
    "\n",
    "    print('Average fitness: ' + str(statistics.mean(rex_score_list)))\n",
    "    print('Highest fitness: ' + str(max(rex_score_list)))\n",
    "    print('Lowest fitness: ' + str(min(rex_score_list))+ \"\\n\")\n",
    "    \n",
    "    # increase crossover rate\n",
    "    cr_rate += 0.1\n",
    "    \n",
    "# plot results\n",
    "plt.plot(crrate, average, label = \"Average\")\n",
    "plt.plot(crrate, highest, label = \"Max\")\n",
    "plt.plot(crrate, lowest, label = \"Min\")\n",
    "\n",
    "plt.legend(loc='upper right')\n",
    "plt.title(\"Fitness depending on the Crossover rate\")\n",
    "plt.xticks(crrate)\n",
    "plt.show()\n",
    "\n",
    "# plot results\n",
    "plt.plot(crrate, times,color=\"red\")\n",
    "plt.title(\"Computation time (s)\")\n",
    "plt.xticks(crrate)\n",
    "plt.show()"
   ]
  },
  {
   "cell_type": "markdown",
   "metadata": {},
   "source": [
    "##### Differential weight(0.1-0.9)"
   ]
  },
  {
   "cell_type": "code",
   "execution_count": 13,
   "metadata": {},
   "outputs": [
    {
     "name": "stdout",
     "output_type": "stream",
     "text": [
      "Current Differential Weight: 0.1\n",
      "Time (50 iterations): 86.9375\n",
      "Average fitness: 0.5133596420388243\n",
      "Highest fitness: 0.7383927871100208\n",
      "Lowest fitness: 0.2774435204427063\n",
      "\n",
      "Current Differential Weight: 0.2\n",
      "Time (50 iterations): 87.59375\n",
      "Average fitness: 0.5089042449785451\n",
      "Highest fitness: 0.7028096922169276\n",
      "Lowest fitness: 0.2526396576805882\n",
      "\n",
      "Current Differential Weight: 0.30000000000000004\n",
      "Time (50 iterations): 85.671875\n",
      "Average fitness: 0.514511747957088\n",
      "Highest fitness: 0.7674210342927893\n",
      "Lowest fitness: 0.3274936566488058\n",
      "\n",
      "Current Differential Weight: 0.4\n",
      "Time (50 iterations): 97.703125\n",
      "Average fitness: 0.5051097328789398\n",
      "Highest fitness: 0.6990425859557835\n",
      "Lowest fitness: 0.32827849050199737\n",
      "\n",
      "Current Differential Weight: 0.5\n",
      "Time (50 iterations): 100.734375\n",
      "Average fitness: 0.5268152752729581\n",
      "Highest fitness: 0.7415128474054032\n",
      "Lowest fitness: 0.3215255971179831\n",
      "\n",
      "Current Differential Weight: 0.6\n",
      "Time (50 iterations): 91.140625\n",
      "Average fitness: 0.5286175726561377\n",
      "Highest fitness: 0.7634372018747095\n",
      "Lowest fitness: 0.30654772781386735\n",
      "\n",
      "Current Differential Weight: 0.7\n",
      "Time (50 iterations): 91.5625\n",
      "Average fitness: 0.5014223822541277\n",
      "Highest fitness: 0.7089652323564574\n",
      "Lowest fitness: 0.2977376326608457\n",
      "\n",
      "Current Differential Weight: 0.7999999999999999\n",
      "Time (50 iterations): 91.234375\n",
      "Average fitness: 0.49870529360719273\n",
      "Highest fitness: 0.7014354468397547\n",
      "Lowest fitness: 0.3440943104999139\n",
      "\n",
      "Current Differential Weight: 0.8999999999999999\n",
      "Time (50 iterations): 97.21875\n",
      "Average fitness: 0.508303364261727\n",
      "Highest fitness: 0.7207834225425023\n",
      "Lowest fitness: 0.29935499794581794\n",
      "\n"
     ]
    },
    {
     "data": {
      "image/png": "[encoded data removed]",
      "text/plain": [
       "<Figure size 432x288 with 1 Axes>"
      ]
     },
     "metadata": {
      "needs_background": "light"
     },
     "output_type": "display_data"
    },
    {
     "data": {
      "image/png": "[encoded data removed]",
      "text/plain": [
       "<Figure size 432x288 with 1 Axes>"
      ]
     },
     "metadata": {
      "needs_background": "light"
     },
     "output_type": "display_data"
    }
   ],
   "source": [
    "dw_rate = 0.1 # start with size 0\n",
    "rex_score_list = []\n",
    "\n",
    "### lists for plotting\n",
    "\n",
    "dwrate = []\n",
    "average = []\n",
    "highest = []\n",
    "lowest = []\n",
    "times = []\n",
    "\n",
    "while dw_rate <= 0.9:\n",
    "    \n",
    "    i = 0\n",
    "    rex_score_list = []  \n",
    "    start = time.process_time() # start timer\n",
    "    \n",
    "    # do 50 iterations\n",
    "    while i < 50:\n",
    "\n",
    "        best_rex = de_algorithm(pop_size=100, generations=100, crossover_rate=0.9, differential_weight=dw_rate, cost_function=cost_function)\n",
    "        rex_score = combi_fitness(best_rex)\n",
    "        rex_score_list.append(rex_score)\n",
    "        \n",
    "        i += 1\n",
    "    \n",
    "    # append values for plotting\n",
    "    dwrate.append(dw_rate)\n",
    "    average.append(statistics.mean(rex_score_list)) \n",
    "    highest.append(max(rex_score_list))\n",
    "    lowest.append(min(rex_score_list))\n",
    "    times.append(time.process_time() - start)\n",
    "    \n",
    "    # print info\n",
    "    print('Current Differential Weight: ' + str(dw_rate))\n",
    "    print('Time (50 iterations): ' + str(time.process_time() - start))\n",
    "\n",
    "    print('Average fitness: ' + str(statistics.mean(rex_score_list)))\n",
    "    print('Highest fitness: ' + str(max(rex_score_list)))\n",
    "    print('Lowest fitness: ' + str(min(rex_score_list))+ \"\\n\")\n",
    "    \n",
    "    # increase Differential weight\n",
    "    dw_rate += 0.1\n",
    "    \n",
    "# plot results\n",
    "plt.plot(dwrate, average, label = \"Average\")\n",
    "plt.plot(dwrate, highest, label = \"Max\")\n",
    "plt.plot(dwrate, lowest, label = \"Min\")\n",
    "\n",
    "plt.legend(loc='upper right')\n",
    "plt.title(\"Fitness depending on the Differential weight\")\n",
    "plt.xticks(dwrate)\n",
    "plt.show()\n",
    "\n",
    "# plot results\n",
    "plt.plot(dwrate, times,color=\"red\")\n",
    "plt.title(\"Computation time (s)\")\n",
    "plt.xticks(dwrate)\n",
    "plt.show()"
   ]
  },
  {
   "cell_type": "markdown",
   "metadata": {
    "pycharm": {
     "name": "#%% md\n"
    }
   },
   "source": [
    "## Task 6: Write Up!\n",
    "\n",
    "Whew! That was a lot of work! Well, for the algorithm anyway. A representative from a company you've forgotten the name of right now (was it EnGin? InTen? Oh, nevermind) has reached out to you and asked for a report on your observations from your experiment, for reasons they'd rather not disclose apparently. They seem particularly interested in how changing various parameters might affect the process. Go ahead and play around with your algorithm a bit (perhaps you'd like to try out different population sizes, crossover rate and differential weight values, or even tweak your fitness functions?) to generate an answer for them. Turns out your lab has an email template you can use, so all you'll need to do is plug in your observations and hope they're not used for anything...potentially problematic.\n",
    "\n",
    "(Hint - Your lab recently genetically engineered species #5698, which your team is currently calling \"Bonus Point.\" A few of those might have escaped, but if you come up with a sufficiently interesting name for yourself in the report, they might just decide to come back and help you out.)"
   ]
  },
  {
   "cell_type": "markdown",
   "metadata": {
    "pycharm": {
     "name": "#%% md\n"
    }
   },
   "source": [
    "From: BestResearcherEver (bre@uni-osnabrueck.de)\n",
    "To: NotAMadScientist (research@ingen.jp)\n",
    "\n",
    "Dear InGen Research Team,\n",
    "\n",
    "Pursuant to your request for further data on the effect of parameter manipulation in our Differential Evolution experiment with species #1475, Tyrannosaurus rex, the following is a brief report on my observations:\n",
    "\n",
    "**Your Answer Here**\n",
    "\n",
    "Sincerely,\n",
    "BestResearcherEver"
   ]
  },
  {
   "cell_type": "markdown",
   "metadata": {},
   "source": [
    "## Just For Fun - Dino Dating\n",
    "\n",
    "So you think you can design the best dinosaur, eh? Well, you've created a pretty hearty T-Rex there, but it won't get very far in the evolution game if no one wants to take it out to the dance. Let's see how your top predator survives its next big challenge, Germany's latest top hit prehistoric TV show - DinoDating!\n",
    "\n",
    "This section is just for fun. You don't actually have to code anything, just plug in your best Rex and see how it fares.\n",
    "\n",
    "Normally the judges don't like to share their scoring criteria, but since this is an academic exercise, they bent the rules this once.\n",
    "\n",
    "(75 - 100) - Ooh La La!\n",
    "(50 - 74) - Dateable\n",
    "(25 - 49) - In The Right Clothes, Maybe...\n",
    "(0 - 24) - Well, no takers now, but take some time to become your best self and try again later. :)"
   ]
  },
  {
   "cell_type": "code",
   "execution_count": 17,
   "metadata": {
    "pycharm": {
     "name": "#%%\n"
    }
   },
   "outputs": [
    {
     "name": "stdout",
     "output_type": "stream",
     "text": [
      "Your top Rex scored 17.484683282324763 in Dino Dating!\n"
     ]
    }
   ],
   "source": [
    "from dino_dating import dating_fitness\n",
    "\n",
    "score = dating_fitness(best_rex)\n",
    "\n",
    "print('Your top Rex scored ' + str(score) + ' in Dino Dating!')"
   ]
  },
  {
   "cell_type": "markdown",
   "metadata": {
    "pycharm": {
     "name": "#%% md\n"
    }
   },
   "source": [
    "## How Did You Do?\n",
    "\n",
    "This part is optional, but gives you a chance to see how well your algorithm functions. Your algorithm should output a Rex with a vector close to [100, 30, 8, 5, 42, 7, 0] and a score close to 100."
   ]
  },
  {
   "cell_type": "code",
   "execution_count": 19,
   "metadata": {
    "pycharm": {
     "name": "#%%\n"
    }
   },
   "outputs": [
    {
     "name": "stdout",
     "output_type": "stream",
     "text": [
      "Your algorithm output [861.6509226383558, 23.47351447728677, 0.40335956115604055, 5557.764748350053, 0.3772861652118231, 7.234087022001276, 0.5835879230188297]as the best individual, with a dating score of 24.77926891870526 . How did you do? :)\n"
     ]
    }
   ],
   "source": [
    "from dino_dating import dating_fitness\n",
    "\n",
    "dating_cost_function = lambda x:-dating_fitness(x)\n",
    "\n",
    "best_dater = de_algorithm(pop_size=100,generations=50,crossover_rate=0.8,differential_weight=0.5,cost_function=dating_cost_function)\n",
    "\n",
    "dater_score = dating_fitness(best_dater)\n",
    "\n",
    "print('Your algorithm output ' + str(best_dater) + 'as the best individual, with a dating score of ' + str(dater_score) + ' . How did you do? :)')"
   ]
  }
 ],
 "metadata": {
  "interpreter": {
   "hash": "52ee2977380704a66854748a73250e0671a9318bd5b3fd45a3df9f851ae61629"
  },
  "kernelspec": {
   "display_name": "Python 3 (ipykernel)",
   "language": "python",
   "name": "python3"
  },
  "language_info": {
   "codemirror_mode": {
    "name": "ipython",
    "version": 3
   },
   "file_extension": ".py",
   "mimetype": "text/x-python",
   "name": "python",
   "nbconvert_exporter": "python",
   "pygments_lexer": "ipython3",
   "version": "3.9.7"
  }
 },
 "nbformat": 4,
 "nbformat_minor": 4
}
