{
 "cells": [
  {
   "cell_type": "markdown",
   "metadata": {
    "pycharm": {
     "name": "#%% md\n"
    }
   },
   "source": [
    "## Section 1: Create Your Own T-Rex!\n",
    "\n",
    "Credit: Anna Sommer, Fabienne Kock, Hind Shalfeh, Inga Wohlert, Malte Heyen, Marlon Dammann, Max Wassermann, and Piper Powell\n"
   ]
  },
  {
   "cell_type": "markdown",
   "metadata": {
    "pycharm": {
     "name": "#%% md\n"
    }
   },
   "source": [
    "The T-Rex was one of the most famous (and most dangerous) dinosaurs to have existed on Earth. With individuals reaching weights as high as 14 metric tons, these predators were something to watch out for during their prime over 60 million years ago. Now, use Python and the power of Differential Evolution to bring these animals back to life and build the best apex predator you can (but do try to avoid any ... Jurassic Park style incidents while you're at it).\n",
    "\n",
    "Let the evolution begin!"
   ]
  },
  {
   "cell_type": "code",
   "execution_count": 1,
   "metadata": {
    "pycharm": {
     "name": "#%%\n"
    }
   },
   "outputs": [],
   "source": [
    "#Our suggested imports. If you use functions from other packages, be sure to import them here.\n",
    "\n",
    "import numpy as np\n",
    "import random as random\n",
    "import copy \n",
    "import statistics\n",
    "import time\n",
    "import matplotlib.pyplot as plt"
   ]
  },
  {
   "cell_type": "markdown",
   "metadata": {
    "pycharm": {
     "name": "#%% md\n"
    }
   },
   "source": [
    "## Task 1 - Create Your T-Rex!\n",
    "\n",
    "A real T-Rex would have been a complex animal with hundreds of parameters and variations that interacted with its environment and dictated how well it could survive. Here, we'll be starting our evolutionary exercise by creating a simplified version of the predator, with only 7 principle features - brain size, teeth size, height, weight, camouflage level, claw size, and aggression.\n",
    "\n",
    "Your Differential Evolution expert has reminded you that all calculations for this algorithm occur in a multi-dimensional vector space and that they'll need that taken into account when you create the mathematical representation of your Rex. They've left the specifics of that up to you though. They did recommend starting by defining a unit of measure for your features, and setting a few logical constraints. Thankfully, they've also provided you with some helpful info that might assist you in determining reasonable units and ranges:\n",
    "\n",
    "- brain size: An adult T-Rex had a brain size of up to approximately 1kg. That's actually only about 1 liter of water!\n",
    "- teeth size: T-Rex teeth could grow to be up to 30cm long. Dentists beware!\n",
    "- height: A T-Rex could grow to be taller than 3.5 meters just at the hips. Better raise the ceiling!\n",
    "- weight: A T-Rex is estimated to have weighed between 5.000 and 7.000 kg. That's nearly three African elephants!\n",
    "- camouflage level: Camouflage is hard to measure, but you might consider a handy percentage effectiveness measure here.\n",
    "- claw size: Though not as large as some of their teeth, a T-Rex claw could still grow to around 10cm long. A dangerous weapon!\n",
    "- aggression: T-Rex was an aggressive animal, but this would have varied by individual. A percentage might be useful here as well."
   ]
  },
  {
   "cell_type": "code",
   "execution_count": 2,
   "metadata": {
    "pycharm": {
     "name": "#%%\n"
    }
   },
   "outputs": [],
   "source": [
    "def create_rex():\n",
    "    \"\"\"\n",
    "    Create a T-Rex with random values for brain size, teeth size, height, weight, camouflage level, claw size, and aggression.\n",
    "    return: trex; list, a random 7-dimensional vector representing your T-Rex\n",
    "    \"\"\"\n",
    "\n",
    "    brain=random.uniform(0,1000)\n",
    "    teeth=random.uniform(0,30)\n",
    "    height=random.uniform(0,3.5)\n",
    "    weight=random.uniform(5000,7000)\n",
    "    camouflage_level=random.uniform(0,1)\n",
    "    claw_size=random.uniform(0,10)\n",
    "    aggression=random.uniform(0,1)\n",
    "    \n",
    "    rex=[brain, teeth, height, weight, camouflage_level, claw_size, aggression]\n",
    "    \n",
    "    return rex\n"
   ]
  },
  {
   "cell_type": "markdown",
   "metadata": {
    "pycharm": {
     "name": "#%% md\n"
    }
   },
   "source": [
    "## Task 2 - Out of the Lab and Into the Wild\n",
    "Now that you have created your T-Rex, it's time to let it loose and see how well it survives! After all, we don't want to base our next round of evolutionary exploration on an individual that doesn't survive well in the wild.\n",
    "\n",
    "To test your T-Rex, create a series of fitness functions that will evaluate its performance in its environment.\n",
    "\n",
    "Your Differential Evolution expert has explained that for technical reasons, it would be best if all the fitness functions output a score within the same range, perhaps 0-100.\n",
    "\n",
    "Don't forget how you've stored your T-Rex's trait information..."
   ]
  },
  {
   "cell_type": "markdown",
   "metadata": {
    "pycharm": {
     "name": "#%% md\n"
    }
   },
   "source": [
    "### 1.1 Fitness to Hunt\n",
    "\n",
    "Your T-Rex needs to be able to hunt for food. Some of its traits will help it out there, but others could prove a hindrance...\n",
    "\n",
    "Luckily, there is an abundant amount of large prey that your T-Rex can rip into with their sharp teeth and claws. The prey is quite docile though, and it startles easily. Unless you can hide properly or tactically corner it, it's likely to escape or retaliate aggressively. Your T-Rex also needs to feel like attacking the prey in the first place, and it needs to be fast enough to run and catch it.\n",
    "\n",
    "Based on this information, identify the features of your T-Rex which will play a role in how well it is able to hunt for food, and then define a function which will output an overall hunting fitness score for your T-Rex based on its levels of these features.\n",
    "\n",
    "Hint: Brain size and intelligence are of course not directly related, but you might use brain size as a proxy for intelligence here."
   ]
  },
  {
   "cell_type": "code",
   "execution_count": 3,
   "metadata": {
    "pycharm": {
     "name": "#%%\n"
    }
   },
   "outputs": [],
   "source": [
    "def fitness_hunt(trex):\n",
    "    \"\"\"\n",
    "    Evaluates the fitness of a T-Rex with respect to hunting.\n",
    "    param: trex; list, a vector representing the T-Rex\n",
    "    return: fithunt; float, hunting fitness value of the T-Rex\n",
    "    \"\"\"\n",
    "\n",
    "    teeth=trex[1]/30\n",
    "    claw_size=trex[5]/10\n",
    "    aggression=trex[6]\n",
    "    \n",
    "    return (teeth+claw_size+aggression)/3\n",
    "\n",
    "    #Don't forget to keep your scores in the proper range!\n",
    "\n",
    "    pass"
   ]
  },
  {
   "cell_type": "markdown",
   "metadata": {
    "pycharm": {
     "name": "#%% md\n"
    }
   },
   "source": [
    "### 1.2 Fitness to Fight\n",
    "\n",
    "Your T-Rex will sometimes need to fight other animals, whether over territory or simply to not lose the food it's worked so hard to hunt. Some of its traits will help it out there, but others could prove a hindrance...\n",
    "\n",
    "Your T-Rex will need good weapons, a willingness to attack, and good planning so it doesn't make a mistake in the battle and get hurt. Even a small T-Rex might be able to prevail with a cunning plan, but if a T-Rex can't maneuver lightly to dodge attacks and land its own blows, it could be a very short conflict.\n",
    "\n",
    "Based on this information, identify the features of your T-Rex which will play a role in how well it is able to fight when the need arises, and then define a function which will output an overall fighting fitness score for your T-Rex based on its levels of these features.\n",
    "\n",
    "Hint: Brain size and intelligence are of course not directly related, but you might use brain size as a proxy for intelligence here."
   ]
  },
  {
   "cell_type": "code",
   "execution_count": 4,
   "metadata": {
    "pycharm": {
     "name": "#%%\n"
    }
   },
   "outputs": [],
   "source": [
    "def fitness_fight(trex):\n",
    "    \"\"\"\n",
    "    Evaluates the fitness of a T-Rex with respect to fighting.\n",
    "    param: trex; list, a vector representing the T-Rex\n",
    "    return: fitfight; float, fighting fitness value of the T-Rex\n",
    "    \"\"\"\n",
    "\n",
    "    brain = trex[0]/1000\n",
    "    teeth = trex[1]/30\n",
    "    claw = trex[5]/10\n",
    "    aggresion= trex[6]\n",
    "\n",
    "    return (brain + teeth + claw + aggresion)/4\n",
    "\n",
    "    #Don't forget to keep your scores in the proper range!\n",
    "\n",
    "    pass"
   ]
  },
  {
   "cell_type": "markdown",
   "metadata": {
    "pycharm": {
     "name": "#%% md\n"
    }
   },
   "source": [
    "### 1.3 Fitness to Flee\n",
    "\n",
    "Even a T-Rex will sometimes need to make a quick getaway if it (ahem) bites off more than it can chew. Some of its traits will help it out there, but others could prove a hindrance...\n",
    "\n",
    "A lighter T-Rex with longer legs will be able to run away faster. A T-Rex with better camouflaged skin might be able to hide easier. A T-Rex who's too aggressive might not be able to pull itself away from the fight, even if it's poorly matched to its opponent.\n",
    "\n",
    "Based on this information, identify the features of your T-Rex which will play a role in how well it is able to fight when the need arises, and then define a function which will output an overall fleeing fitness score for your T-Rex based on its levels of these features.\n",
    "\n",
    "Hint: You might consider a ratio of weight/height to determine running speed."
   ]
  },
  {
   "cell_type": "code",
   "execution_count": 5,
   "metadata": {
    "pycharm": {
     "name": "#%%\n"
    }
   },
   "outputs": [],
   "source": [
    "def fitness_flee(trex):\n",
    "    \"\"\"\n",
    "    Evaluates the fitness of a T-Rex with respect to fleeing.\n",
    "    param: trex; list, a vector representing the T-Rex\n",
    "    return: fitflee; float, fleeing fitness value of the T-Rex\n",
    "    \"\"\"\n",
    "    trex_brain_size = trex[0]\n",
    "    trex_height = trex[2]\n",
    "    trex_weight = trex[3]\n",
    "    trex_camouflage_level = trex[4]\n",
    "\n",
    "    # Relevant features: height, weight, camouflage, brain_size\n",
    "\n",
    "    flee_value = ((trex_brain_size / 1000) + ( 1 - (trex_height / 3.5)) + ( 1 - (trex_weight / 7000)) + trex_camouflage_level)/4\n",
    " \n",
    "    return flee_value"
   ]
  },
  {
   "cell_type": "markdown",
   "metadata": {
    "pycharm": {
     "name": "#%% md\n"
    }
   },
   "source": [
    "### Overall Fitness\n",
    "\n",
    "For technical reasons, your Differential Evolution expert would prefer you assembled your T-Rex's fitness scores into one convenient overall fitness score that they can use in their evaluations. They request that the output of this function be in the same range you used for the basic fitness functions. Higher scores should mean higher chances of survival and a greater level of success in the wild."
   ]
  },
  {
   "cell_type": "code",
   "execution_count": 6,
   "metadata": {
    "pycharm": {
     "name": "#%%\n"
    }
   },
   "outputs": [],
   "source": [
    "def combi_fitness(trex):\n",
    "    \"\"\"\n",
    "    Evaluates the overall fitness of a T-Rex.\n",
    "    param: trex; list, a vector representing the T-Rex\n",
    "    return: combifitness; integer, an overall fitness value for your T-Rex\n",
    "    \"\"\"\n",
    "    #Call your other fitness functions above to calculate the overall fitness of your T-Rex\n",
    "    fight_fitness = fitness_fight(trex)\n",
    "    flee_fitness = fitness_flee(trex)\n",
    "    hunt_fitness = fitness_hunt(trex)\n",
    "\n",
    "    overall_fitness = (fight_fitness + flee_fitness + hunt_fitness) / 3\n",
    "\n",
    "    return overall_fitness\n"
   ]
  },
  {
   "cell_type": "markdown",
   "metadata": {
    "pycharm": {
     "name": "#%% md\n"
    }
   },
   "source": [
    "Your Differential Evolution expert likes your fitness formula! He reminds you though that Differential Evolution usually works by minimizing the fitness function, not maximizing it, meaning that your fitness function will need to behave like a cost function instead. To let you focus on other more important matters, he's provided you with a handy line of code that will perform the necessary conversion to make your function suitable for the standard form of Differential Evolution."
   ]
  },
  {
   "cell_type": "code",
   "execution_count": 7,
   "metadata": {
    "pycharm": {
     "name": "#%%\n"
    }
   },
   "outputs": [],
   "source": [
    "cost_function = lambda x:-combi_fitness(x)"
   ]
  },
  {
   "cell_type": "markdown",
   "metadata": {
    "pycharm": {
     "name": "#%% md\n"
    }
   },
   "source": [
    "## Task 3: The More, The Merrier\n",
    "\n",
    "Congratulations! You've created a T-Rex and tested it in the wild. But in order to find the *best* T-Rex, we'll of course need more than one. Create a population of T-Rex's so we can let nature take its course and create the best one."
   ]
  },
  {
   "cell_type": "code",
   "execution_count": 8,
   "metadata": {
    "pycharm": {
     "name": "#%%\n"
    }
   },
   "outputs": [],
   "source": [
    "def create_population(pop_size):\n",
    "    \"\"\"\n",
    "    Creates a population of T-Rex's of size pop_size.\n",
    "    param: pop_size; integer, the number of T-Rex's you want to create in your population\n",
    "    return: population; list, a list of the T-Rex vectors that make up your population\n",
    "    \"\"\"\n",
    "    \n",
    "    trex_population = [create_rex() for i in range(pop_size)]\n",
    "\n",
    "    return trex_population"
   ]
  },
  {
   "cell_type": "markdown",
   "metadata": {
    "pycharm": {
     "name": "#%% md\n"
    }
   },
   "source": [
    "## Task 4: Evolution Requires Preparation\n",
    "\n",
    "Now that we can create a single T-Rex, and a population of T-Rex's, it's time to use our powers of Differential Evolution to build the best Rex possible. We'll need to start by taking care of a few niggling details your Differential Evolution expert has requested you address before the real fun begins."
   ]
  },
  {
   "cell_type": "markdown",
   "metadata": {
    "pycharm": {
     "name": "#%% md\n"
    }
   },
   "source": [
    "### Mutation\n",
    "\n",
    "As you learned in the presentation, mutation is a key step in the Differential Evolution algorithm. Go ahead and program it here so we have it on hand later.\n"
   ]
  },
  {
   "cell_type": "code",
   "execution_count": 9,
   "metadata": {
    "pycharm": {
     "name": "#%%\n"
    }
   },
   "outputs": [],
   "source": [
    "def mutation(current_rex_index, rex_population, differential_weight):\n",
    "       \"\"\"\n",
    "       Creates the mutant vector for the current T-Rex out of the current population.\n",
    "       param: current_rex_index; integer, the index of the vector for the current T-Rex within the population\n",
    "              rex_population; list, the list of T-Rex vectors that makes up your population\n",
    "              differential_weight; float, the differential weight discussed in the presentation\n",
    "       return: mutant_vector, a list representing the 7-dimensional mutant vector\n",
    "       \"\"\"\n",
    "\n",
    "\n",
    "    \n",
    "       indices = [index for index in range(len(rex_population)) if index != current_rex_index]\n",
    "       selected = np.random.choice(indices, 3, replace=False)\n",
    "\n",
    "       a = rex_population[selected[0]]\n",
    "       b = rex_population[selected[1]]\n",
    "       c = rex_population[selected[2]]\n",
    "\n",
    "       mutant_vector = np.array(a) + differential_weight * (np.array(b) - np.array(c))\n",
    "\n",
    "       brain, teeth, height, weight, camouflage_level, claw_size, aggression = mutant_vector\n",
    "\n",
    "       brain = np.clip(brain, 0, 1000)\n",
    "       teeth = np.clip(teeth, 0, 30)\n",
    "       height = np.clip(height, 0, 3.5)\n",
    "       weight = np.clip(weight, 5000, 7000)\n",
    "       camouflage_level = np.clip(camouflage_level, 0, 1)\n",
    "       claw_size = np.clip(claw_size, 0, 10)\n",
    "       aggression = np.clip(aggression, 0, 1)\n",
    "\n",
    "       mutant_vector = [brain, teeth, height, weight, camouflage_level, claw_size, aggression]\n",
    "\n",
    "       return mutant_vector"
   ]
  },
  {
   "cell_type": "markdown",
   "metadata": {
    "pycharm": {
     "name": "#%% md\n"
    }
   },
   "source": [
    "### Crossover\n",
    "\n",
    "Another important function you'll remember from the presentation is crossover. Go ahead and implement this function here as well so we have it on hand later."
   ]
  },
  {
   "cell_type": "code",
   "execution_count": 10,
   "metadata": {
    "pycharm": {
     "name": "#%%\n"
    }
   },
   "outputs": [],
   "source": [
    "def cross_over(mutant_vector, trex, crossover_rate = 0.9):\n",
    "    \"\"\"\n",
    "    Creates the potential new T-Rex via the crossover process using the input T-Rex's vector and the mutant vector\n",
    "    param: mutant_vector; list, the 7-dimensional mutant vector\n",
    "           trex; list, the vector for the input T-Rex\n",
    "           crossover_rate; float, the crossover rate (CR) discussed in the presentation\n",
    "    return: mutant_rex, the vector for the potential new T-Rex created in the crossover process\n",
    "    \"\"\"\n",
    "\n",
    "    #Remember to initialize your r value as discussed in the presentation!\n",
    "\n",
    "    #Remember to implement checks for both the r < CR case and the j = i case discussed in the presentation!\n",
    "\n",
    "    mutant_rex = copy.copy(trex)\n",
    "    i = random.randint(0,6)\n",
    "    for j in range(0,6):\n",
    "           r = random.random()\n",
    "           if (r < crossover_rate) or (i == j):\n",
    "                  mutant_rex[j] = mutant_vector[j]\n",
    "       \n",
    "    return mutant_rex"
   ]
  },
  {
   "cell_type": "markdown",
   "metadata": {
    "pycharm": {
     "name": "#%% md\n"
    }
   },
   "source": [
    "### Selection\n",
    "\n",
    "Once you've created a new candidate T-Rex for our population using mutation and crossover, we'll need a way to see if we will actually add this new Rex to our population, or if we will discard it. After all, we don't want to add a Rex who is worse off in the environment than the one we started with!"
   ]
  },
  {
   "cell_type": "code",
   "execution_count": 11,
   "metadata": {
    "pycharm": {
     "name": "#%%\n"
    }
   },
   "outputs": [],
   "source": [
    "def selection(mutant_rex, trex, population, cost_function):\n",
    "    \"\"\"\n",
    "    Checks to see if the new T-Rex will be added to the population or discarded.\n",
    "    param: mutant_rex; list, the vector for the potential new T-Rex created via mutation and crossover\n",
    "           trex; list, the vector for the current T-Rex\n",
    "           population; list, the list of T-Rex vectors that make up the population\n",
    "           cost_function; function, the converted fitness function used to evaluate the T-Rex's\n",
    "    \"\"\"\n",
    "    \n",
    "    # calculates the fitness function of the dinos\n",
    "    mutant_fitness=cost_function(mutant_rex)\n",
    "    trex_fitness=cost_function(trex)\n",
    "    \n",
    "    if mutant_fitness > trex_fitness:\n",
    "        location=population.index(trex)\n",
    "        population[location]=mutant_rex\n",
    "    \n",
    "    pass"
   ]
  },
  {
   "cell_type": "markdown",
   "metadata": {
    "pycharm": {
     "name": "#%% md\n"
    }
   },
   "source": [
    "## Task 5: Evolve Your T-Rex!\n",
    "\n",
    "Now that you have laid the foundations by defining functions to create a single T-Rex and a population of them, to create new T-Rex's based on the current ones, and to evaluate the fitness of your Rex's, it's time to bring it all together and set the algorithm to work!"
   ]
  },
  {
   "cell_type": "code",
   "execution_count": null,
   "outputs": [],
   "source": [
    "def de_algorithm(pop_size, generations, crossover_rate, differential_weight, cost_function):\n",
    "    \"\"\"\n",
    "    Brings together the functions above to perform Differential Evolution and find the best individual\n",
    "    param: pop_size; integer, the size of the population you want to create and run the algorithm on\n",
    "           generations; integer, how many generations you want the algorithm to run for\n",
    "           crossover_rate; float, the crossover rate (CR) discussed in the presentation\n",
    "           differential_weight; float, the differential weight (F) discussed in the presentation\n",
    "           cost_function; function, the converted fitness function for evaluating individuals\n",
    "    return: best; list, the vector representing the best individual at the conclusion of the algorithm's run\n",
    "    \"\"\"\n",
    "\n",
    "    #YOUR CODE HERE\n",
    "\n",
    "    population = create_population(pop_size)\n",
    "    best = population[0]\n",
    "    for i in range(generations):\n",
    "        for j in range(pop_size):\n",
    "            mutant_vector = mutation(j, population, differential_weight)\n",
    "            new_vector = cross_over(mutant_vector, population[j], crossover_rate)\n",
    "            selection(new_vector, population[j], population, cost_function)\n",
    "            if cost_function(best) > cost_function(population[j]):\n",
    "                best = population[j]\n",
    "    return best\n",
    "\n"
   ],
   "metadata": {
    "collapsed": false,
    "pycharm": {
     "name": "#%%\n"
    }
   }
  },
  {
   "cell_type": "markdown",
   "source": [
    "Choose a population size, number of generations, crossover rate, and differential weight, and set the cost function to the one your Differential Evolution expert converted for you, and then see how your algorithm performs!\n"
   ],
   "metadata": {
    "collapsed": false,
    "pycharm": {
     "name": "#%% md\n"
    }
   }
  },
  {
   "cell_type": "markdown",
   "metadata": {
    "pycharm": {
     "name": "#%% md\n"
    }
   },
   "source": [
    "Choose a population size, number of generations, crossover rate, and differential weight, and set the cost function to the one your Differential Evolution expert converted for you, and then see how your algorithm performs!\n"
   ]
  },
  {
   "cell_type": "code",
   "execution_count": 13,
   "metadata": {
    "pycharm": {
     "name": "#%%\n"
    }
   },
   "outputs": [
    {
     "name": "stdout",
     "output_type": "stream",
     "text": [
      "Your algorithm output [993.2345038343925, 21.785654798994017, 1.4947290706316605, 5233.702832400033, 0.5523501824533552, 9.581312356293775, 0.8344266790752926]as the best evolved T-Rex, with a fitness score of 0.7700964050150553 .\n"
     ]
    }
   ],
   "source": [
    "'''\n",
    "Call your de_algorithm, defining the parameters as you wish, with cost_function set to cost_function to call the converted function from above.\n",
    "Call your combi_fitness function to see how well this Rex performs in its environment.\n",
    "'''\n",
    "\n",
    "best_rex = de_algorithm(pop_size=200, generations=200, crossover_rate=0.1, differential_weight=0.1, cost_function=cost_function)\n",
    "rex_score = combi_fitness(best_rex)\n",
    "\n",
    "print('Your algorithm output ' + str(best_rex) + 'as the best evolved T-Rex, with a fitness score of ' + str(rex_score) + ' .')"
   ]
  },
  {
   "cell_type": "markdown",
   "metadata": {
    "pycharm": {
     "name": "#%% md\n"
    }
   },
   "source": [
    "### Testing Hyperparameters"
   ]
  },
  {
   "cell_type": "markdown",
   "metadata": {
    "pycharm": {
     "name": "#%% md\n"
    }
   },
   "source": [
    "##### Population size (0-50)"
   ]
  },
  {
   "cell_type": "code",
   "execution_count": 14,
   "metadata": {
    "pycharm": {
     "name": "#%%\n"
    }
   },
   "outputs": [
    {
     "name": "stdout",
     "output_type": "stream",
     "text": [
      "Current Population size: 5\n",
      "Time (50 iterations): 4.696465999999999\n",
      "Average fitness: 0.5396629025203553\n",
      "Highest fitness: 0.674495068279445\n",
      "Lowest fitness: 0.33106362934018274\n",
      "\n",
      "Current Population size: 10\n",
      "Time (50 iterations): 9.383354\n",
      "Average fitness: 0.5751071027046306\n",
      "Highest fitness: 0.7243874876685585\n",
      "Lowest fitness: 0.4154209355651071\n",
      "\n",
      "Current Population size: 15\n",
      "Time (50 iterations): 14.067121000000007\n",
      "Average fitness: 0.5819786877254816\n",
      "Highest fitness: 0.6776968303024041\n",
      "Lowest fitness: 0.43282998356104496\n",
      "\n",
      "Current Population size: 20\n",
      "Time (50 iterations): 19.32919799999999\n",
      "Average fitness: 0.6061000400941006\n",
      "Highest fitness: 0.7258109549981554\n",
      "Lowest fitness: 0.4757793597296538\n",
      "\n",
      "Current Population size: 25\n",
      "Time (50 iterations): 23.538402000000012\n",
      "Average fitness: 0.6090162311334312\n",
      "Highest fitness: 0.7146359320196528\n",
      "Lowest fitness: 0.4708272113814556\n",
      "\n",
      "Current Population size: 30\n",
      "Time (50 iterations): 28.246925000000005\n",
      "Average fitness: 0.6289387413649515\n",
      "Highest fitness: 0.8336157078351615\n",
      "Lowest fitness: 0.4898338197586658\n",
      "\n",
      "Current Population size: 35\n",
      "Time (50 iterations): 34.066266\n",
      "Average fitness: 0.621445622844236\n",
      "Highest fitness: 0.7237117850224144\n",
      "Lowest fitness: 0.5211403292454552\n",
      "\n",
      "Current Population size: 40\n",
      "Time (50 iterations): 39.995113\n",
      "Average fitness: 0.620885511521389\n",
      "Highest fitness: 0.7641323691527218\n",
      "Lowest fitness: 0.5356389196911929\n",
      "\n",
      "Current Population size: 45\n",
      "Time (50 iterations): 43.058299000000005\n",
      "Average fitness: 0.6325967577402972\n",
      "Highest fitness: 0.7470442085174049\n",
      "Lowest fitness: 0.5422688624894114\n",
      "\n",
      "Current Population size: 50\n",
      "Time (50 iterations): 49.30134100000001\n",
      "Average fitness: 0.6354322921116591\n",
      "Highest fitness: 0.7352833848267012\n",
      "Lowest fitness: 0.5570188891620246\n",
      "\n"
     ]
    },
    {
     "data": {
      "image/png": "[encoded data removed]",
      "text/plain": [
       "<Figure size 432x288 with 1 Axes>"
      ]
     },
     "metadata": {
      "needs_background": "light"
     },
     "output_type": "display_data"
    },
    {
     "data": {
      "image/png": "[encoded data removed]",
      "text/plain": [
       "<Figure size 432x288 with 1 Axes>"
      ]
     },
     "metadata": {
      "needs_background": "light"
     },
     "output_type": "display_data"
    }
   ],
   "source": [
    "p_size = 5 # start with size 0\n",
    "rex_score_list = []\n",
    "\n",
    "### lists for plotting\n",
    "\n",
    "popsize = []\n",
    "average = []\n",
    "highest = []\n",
    "lowest = []\n",
    "times = []\n",
    "\n",
    "\n",
    "while p_size <= 50:\n",
    "    \n",
    "    i = 0\n",
    "    rex_score_list = []  \n",
    "    start = time.process_time() # start timer\n",
    "    \n",
    "    # do 50 iterations\n",
    "    while i < 50:\n",
    "\n",
    "        best_rex = de_algorithm(pop_size=p_size, generations=100, crossover_rate=0.9, differential_weight=0.8, cost_function=cost_function)\n",
    "        rex_score = combi_fitness(best_rex)\n",
    "        rex_score_list.append(rex_score)\n",
    "        \n",
    "        i += 1\n",
    "    \n",
    "    # append values for plotting\n",
    "    popsize.append(p_size)\n",
    "    average.append(statistics.mean(rex_score_list)) \n",
    "    highest.append(max(rex_score_list))\n",
    "    lowest.append(min(rex_score_list))\n",
    "    times.append(time.process_time() - start)\n",
    "    \n",
    "    # print info\n",
    "    print('Current Population size: ' + str(p_size))\n",
    "    print('Time (50 iterations): ' + str(time.process_time() - start))\n",
    "\n",
    "    print('Average fitness: ' + str(statistics.mean(rex_score_list)))\n",
    "    print('Highest fitness: ' + str(max(rex_score_list)))\n",
    "    print('Lowest fitness: ' + str(min(rex_score_list))+ \"\\n\")\n",
    "    \n",
    "    # increase population size\n",
    "    p_size += 5\n",
    "    \n",
    "# plot results\n",
    "plt.plot(popsize, average, label = \"Average\")\n",
    "plt.plot(popsize, highest, label = \"Max\")\n",
    "plt.plot(popsize, lowest, label = \"Min\")\n",
    "\n",
    "plt.legend(loc='upper right')\n",
    "plt.title(\"Fitness depending on the population size\")\n",
    "plt.xticks(popsize)\n",
    "plt.show()\n",
    "\n",
    "# plot results\n",
    "plt.plot(popsize, times,color=\"red\")\n",
    "plt.title(\"Computation time (s)\")\n",
    "plt.xticks(popsize)\n",
    "plt.show()"
   ]
  },
  {
   "cell_type": "markdown",
   "metadata": {
    "pycharm": {
     "name": "#%% md\n"
    }
   },
   "source": [
    "##### Epoch size (0-50)"
   ]
  },
  {
   "cell_type": "code",
   "execution_count": 15,
   "metadata": {
    "pycharm": {
     "name": "#%%\n"
    }
   },
   "outputs": [
    {
     "name": "stdout",
     "output_type": "stream",
     "text": [
      "Current Epoch size: 5\n",
      "Time (50 iterations): 5.307700000000011\n",
      "Average fitness: 0.6592367669106434\n",
      "Highest fitness: 0.8031482948296061\n",
      "Lowest fitness: 0.5723782318361109\n",
      "\n",
      "Current Epoch size: 10\n",
      "Time (50 iterations): 10.826520000000016\n",
      "Average fitness: 0.6550972422656497\n",
      "Highest fitness: 0.7741086183516649\n",
      "Lowest fitness: 0.575397534095043\n",
      "\n",
      "Current Epoch size: 15\n",
      "Time (50 iterations): 16.030403000000035\n",
      "Average fitness: 0.6571768547897244\n",
      "Highest fitness: 0.7317251620894067\n",
      "Lowest fitness: 0.5980978001609034\n",
      "\n",
      "Current Epoch size: 20\n",
      "Time (50 iterations): 20.415243999999973\n",
      "Average fitness: 0.6577907234381277\n",
      "Highest fitness: 0.7471943157557922\n",
      "Lowest fitness: 0.5822011202453735\n",
      "\n",
      "Current Epoch size: 25\n",
      "Time (50 iterations): 26.215238999999997\n",
      "Average fitness: 0.6511227886897764\n",
      "Highest fitness: 0.7641665240944384\n",
      "Lowest fitness: 0.5595890551014843\n",
      "\n",
      "Current Epoch size: 30\n",
      "Time (50 iterations): 31.546474000000046\n",
      "Average fitness: 0.6727801286265772\n",
      "Highest fitness: 0.7480256997872091\n",
      "Lowest fitness: 0.5570952596208762\n",
      "\n",
      "Current Epoch size: 35\n",
      "Time (50 iterations): 37.00794300000001\n",
      "Average fitness: 0.6726275714820953\n",
      "Highest fitness: 0.8278951150489107\n",
      "Lowest fitness: 0.5830340708048226\n",
      "\n",
      "Current Epoch size: 40\n",
      "Time (50 iterations): 40.861875999999995\n",
      "Average fitness: 0.653241661381983\n",
      "Highest fitness: 0.7578589602342674\n",
      "Lowest fitness: 0.575457572845654\n",
      "\n",
      "Current Epoch size: 45\n",
      "Time (50 iterations): 47.08901300000002\n",
      "Average fitness: 0.668654458399224\n",
      "Highest fitness: 0.7537381731840149\n",
      "Lowest fitness: 0.5844793841827236\n",
      "\n",
      "Current Epoch size: 50\n",
      "Time (50 iterations): 52.43341699999996\n",
      "Average fitness: 0.6619581487008562\n",
      "Highest fitness: 0.7499094055595412\n",
      "Lowest fitness: 0.5878245131148233\n",
      "\n"
     ]
    },
    {
     "data": {
      "image/png": "[encoded data removed]",
      "text/plain": [
       "<Figure size 432x288 with 1 Axes>"
      ]
     },
     "metadata": {
      "needs_background": "light"
     },
     "output_type": "display_data"
    },
    {
     "data": {
      "image/png": "[encoded data removed]",
      "text/plain": [
       "<Figure size 432x288 with 1 Axes>"
      ]
     },
     "metadata": {
      "needs_background": "light"
     },
     "output_type": "display_data"
    }
   ],
   "source": [
    "epoch_size = 5 # start with size 0\n",
    "rex_score_list = []\n",
    "\n",
    "### lists for plotting\n",
    "\n",
    "epochsize = []\n",
    "average = []\n",
    "highest = []\n",
    "lowest = []\n",
    "times = []\n",
    "\n",
    "\n",
    "while epoch_size <= 50:\n",
    "    \n",
    "    i = 0\n",
    "    rex_score_list = []  \n",
    "    start = time.process_time() # start timer\n",
    "    \n",
    "    # do 50 iterations\n",
    "    while i < 50:\n",
    "\n",
    "        best_rex = de_algorithm(pop_size=100, generations=epoch_size, crossover_rate=0.9, differential_weight=0.8, cost_function=cost_function)\n",
    "        rex_score = combi_fitness(best_rex)\n",
    "        rex_score_list.append(rex_score)\n",
    "        \n",
    "        i += 1\n",
    "    \n",
    "    # append values for plotting\n",
    "    epochsize.append(epoch_size)\n",
    "    average.append(statistics.mean(rex_score_list)) \n",
    "    highest.append(max(rex_score_list))\n",
    "    lowest.append(min(rex_score_list))\n",
    "    times.append(time.process_time() - start)\n",
    "    \n",
    "    # print info\n",
    "    print('Current Epoch size: ' + str(epoch_size))\n",
    "    print('Time (50 iterations): ' + str(time.process_time() - start))\n",
    "\n",
    "    print('Average fitness: ' + str(statistics.mean(rex_score_list)))\n",
    "    print('Highest fitness: ' + str(max(rex_score_list)))\n",
    "    print('Lowest fitness: ' + str(min(rex_score_list))+ \"\\n\")\n",
    "    \n",
    "    # increase epoch size\n",
    "    epoch_size += 5\n",
    "    \n",
    "# plot results\n",
    "plt.plot(epochsize, average, label = \"Average\")\n",
    "plt.plot(epochsize, highest, label = \"Max\")\n",
    "plt.plot(epochsize, lowest, label = \"Min\")\n",
    "\n",
    "plt.legend(loc='upper right')\n",
    "plt.title(\"Fitness depending on the amount of epochs\")\n",
    "plt.xticks(epochsize)\n",
    "plt.show()\n",
    "\n",
    "# plot results\n",
    "plt.plot(epochsize, times,color=\"red\")\n",
    "plt.title(\"Computation time (s)\")\n",
    "plt.xticks(epochsize)\n",
    "plt.show()"
   ]
  },
  {
   "cell_type": "markdown",
   "metadata": {
    "pycharm": {
     "name": "#%% md\n"
    }
   },
   "source": [
    "##### Crossover rate (0.1-0.9)"
   ]
  },
  {
   "cell_type": "code",
   "execution_count": 16,
   "metadata": {
    "pycharm": {
     "name": "#%%\n"
    }
   },
   "outputs": [
    {
     "name": "stdout",
     "output_type": "stream",
     "text": [
      "Current Crossover rate: 0.1\n",
      "Time (50 iterations): 99.12099699999999\n",
      "Average fitness: 0.7244077765173372\n",
      "Highest fitness: 0.8354986362989228\n",
      "Lowest fitness: 0.6366017068955229\n",
      "\n",
      "Current Crossover rate: 0.2\n",
      "Time (50 iterations): 99.811557\n",
      "Average fitness: 0.7091075260641089\n",
      "Highest fitness: 0.7992206890706176\n",
      "Lowest fitness: 0.6544129645751826\n",
      "\n",
      "Current Crossover rate: 0.30000000000000004\n",
      "Time (50 iterations): 98.8093060000001\n",
      "Average fitness: 0.7124704133957254\n",
      "Highest fitness: 0.804389662275462\n",
      "Lowest fitness: 0.6092607691686026\n",
      "\n",
      "Current Crossover rate: 0.4\n",
      "Time (50 iterations): 100.18664000000001\n",
      "Average fitness: 0.6898564135717936\n",
      "Highest fitness: 0.8140421157658052\n",
      "Lowest fitness: 0.6223765556269688\n",
      "\n",
      "Current Crossover rate: 0.5\n",
      "Time (50 iterations): 102.15882199999999\n",
      "Average fitness: 0.6967579439703174\n",
      "Highest fitness: 0.7918821824894705\n",
      "Lowest fitness: 0.5961497717896538\n",
      "\n",
      "Current Crossover rate: 0.6\n",
      "Time (50 iterations): 103.41756400000008\n",
      "Average fitness: 0.6901210386122564\n",
      "Highest fitness: 0.7887594754822796\n",
      "Lowest fitness: 0.610344001666704\n",
      "\n",
      "Current Crossover rate: 0.7\n",
      "Time (50 iterations): 99.47659900000008\n",
      "Average fitness: 0.676237285928668\n",
      "Highest fitness: 0.7746109560327247\n",
      "Lowest fitness: 0.6048051138919988\n",
      "\n",
      "Current Crossover rate: 0.7999999999999999\n",
      "Time (50 iterations): 99.85857099999998\n",
      "Average fitness: 0.6676598755921556\n",
      "Highest fitness: 0.8296831023447897\n",
      "Lowest fitness: 0.5757378785652558\n",
      "\n",
      "Current Crossover rate: 0.8999999999999999\n",
      "Time (50 iterations): 99.50574400000005\n",
      "Average fitness: 0.6612281869687207\n",
      "Highest fitness: 0.751017545773082\n",
      "Lowest fitness: 0.5843186922815583\n",
      "\n"
     ]
    },
    {
     "data": {
      "image/png": "[encoded data removed]",
      "text/plain": [
       "<Figure size 432x288 with 1 Axes>"
      ]
     },
     "metadata": {
      "needs_background": "light"
     },
     "output_type": "display_data"
    },
    {
     "data": {
      "image/png": "[encoded data removed]",
      "text/plain": [
       "<Figure size 432x288 with 1 Axes>"
      ]
     },
     "metadata": {
      "needs_background": "light"
     },
     "output_type": "display_data"
    }
   ],
   "source": [
    "cr_rate = 0.1 # start with size 0\n",
    "rex_score_list = []\n",
    "\n",
    "### lists for plotting\n",
    "\n",
    "crrate = []\n",
    "average = []\n",
    "highest = []\n",
    "lowest = []\n",
    "times = []\n",
    "\n",
    "while cr_rate <= 0.9:\n",
    "    \n",
    "    i = 0\n",
    "    rex_score_list = []  \n",
    "    start = time.process_time() # start timer\n",
    "    \n",
    "    # do 50 iterations\n",
    "    while i < 50:\n",
    "\n",
    "        best_rex = de_algorithm(pop_size=100, generations=100, crossover_rate=cr_rate, differential_weight=0.8, cost_function=cost_function)\n",
    "        rex_score = combi_fitness(best_rex)\n",
    "        rex_score_list.append(rex_score)\n",
    "        \n",
    "        i += 1\n",
    "    \n",
    "    # append values for plotting\n",
    "    crrate.append(cr_rate)\n",
    "    average.append(statistics.mean(rex_score_list)) \n",
    "    highest.append(max(rex_score_list))\n",
    "    lowest.append(min(rex_score_list))\n",
    "    times.append(time.process_time() - start)\n",
    "    \n",
    "    # print info\n",
    "    print('Current Crossover rate: ' + str(cr_rate))\n",
    "    print('Time (50 iterations): ' + str(time.process_time() - start))\n",
    "\n",
    "    print('Average fitness: ' + str(statistics.mean(rex_score_list)))\n",
    "    print('Highest fitness: ' + str(max(rex_score_list)))\n",
    "    print('Lowest fitness: ' + str(min(rex_score_list))+ \"\\n\")\n",
    "    \n",
    "    # increase crossover rate\n",
    "    cr_rate += 0.1\n",
    "    \n",
    "# plot results\n",
    "plt.plot(crrate, average, label = \"Average\")\n",
    "plt.plot(crrate, highest, label = \"Max\")\n",
    "plt.plot(crrate, lowest, label = \"Min\")\n",
    "\n",
    "plt.legend(loc='upper right')\n",
    "plt.title(\"Fitness depending on the Crossover rate\")\n",
    "plt.xticks(crrate)\n",
    "plt.show()\n",
    "\n",
    "# plot results\n",
    "plt.plot(crrate, times,color=\"red\")\n",
    "plt.title(\"Computation time (s)\")\n",
    "plt.xticks(crrate)\n",
    "plt.show()"
   ]
  },
  {
   "cell_type": "markdown",
   "metadata": {
    "pycharm": {
     "name": "#%% md\n"
    }
   },
   "source": [
    "##### Differential weight(0.1-0.9)"
   ]
  },
  {
   "cell_type": "code",
   "execution_count": 17,
   "metadata": {
    "pycharm": {
     "name": "#%%\n"
    }
   },
   "outputs": [
    {
     "name": "stdout",
     "output_type": "stream",
     "text": [
      "Current Differential Weight: 0.1\n",
      "Time (50 iterations): 100.69725099999982\n",
      "Average fitness: 0.6420930794525014\n",
      "Highest fitness: 0.7423669160058229\n",
      "Lowest fitness: 0.5733333194496308\n",
      "\n",
      "Current Differential Weight: 0.2\n",
      "Time (50 iterations): 100.48576000000003\n",
      "Average fitness: 0.6418840568687774\n",
      "Highest fitness: 0.7461054443490243\n",
      "Lowest fitness: 0.5582769611839992\n",
      "\n",
      "Current Differential Weight: 0.30000000000000004\n",
      "Time (50 iterations): 101.2694869999998\n",
      "Average fitness: 0.6477515583538618\n",
      "Highest fitness: 0.7499686724832334\n",
      "Lowest fitness: 0.5773798563940539\n",
      "\n",
      "Current Differential Weight: 0.4\n",
      "Time (50 iterations): 100.7405070000002\n",
      "Average fitness: 0.6464805230928349\n",
      "Highest fitness: 0.7284684600775632\n",
      "Lowest fitness: 0.5850633765523824\n",
      "\n",
      "Current Differential Weight: 0.5\n",
      "Time (50 iterations): 100.42552599999999\n",
      "Average fitness: 0.6617201609177356\n",
      "Highest fitness: 0.7357337383354247\n",
      "Lowest fitness: 0.5941727267849436\n",
      "\n",
      "Current Differential Weight: 0.6\n",
      "Time (50 iterations): 99.88913400000001\n",
      "Average fitness: 0.6533279828686488\n",
      "Highest fitness: 0.7406482204500312\n",
      "Lowest fitness: 0.5704183613974722\n",
      "\n",
      "Current Differential Weight: 0.7\n",
      "Time (50 iterations): 99.52582200000006\n",
      "Average fitness: 0.665054244439049\n",
      "Highest fitness: 0.7843273771103019\n",
      "Lowest fitness: 0.5972443147718947\n",
      "\n",
      "Current Differential Weight: 0.7999999999999999\n",
      "Time (50 iterations): 99.95182699999941\n",
      "Average fitness: 0.665660151230031\n",
      "Highest fitness: 0.7899186793080992\n",
      "Lowest fitness: 0.6016592192428721\n",
      "\n",
      "Current Differential Weight: 0.8999999999999999\n",
      "Time (50 iterations): 99.55290000000014\n",
      "Average fitness: 0.6608982355126911\n",
      "Highest fitness: 0.7626529989957521\n",
      "Lowest fitness: 0.596635918007277\n",
      "\n"
     ]
    },
    {
     "data": {
      "image/png": "[encoded data removed]",
      "text/plain": [
       "<Figure size 432x288 with 1 Axes>"
      ]
     },
     "metadata": {
      "needs_background": "light"
     },
     "output_type": "display_data"
    },
    {
     "data": {
      "image/png": "[encoded data removed]",
      "text/plain": [
       "<Figure size 432x288 with 1 Axes>"
      ]
     },
     "metadata": {
      "needs_background": "light"
     },
     "output_type": "display_data"
    }
   ],
   "source": [
    "dw_rate = 0.1 # start with size 0\n",
    "rex_score_list = []\n",
    "\n",
    "### lists for plotting\n",
    "\n",
    "dwrate = []\n",
    "average = []\n",
    "highest = []\n",
    "lowest = []\n",
    "times = []\n",
    "\n",
    "while dw_rate <= 0.9:\n",
    "    \n",
    "    i = 0\n",
    "    rex_score_list = []  \n",
    "    start = time.process_time() # start timer\n",
    "    \n",
    "    # do 50 iterations\n",
    "    while i < 50:\n",
    "\n",
    "        best_rex = de_algorithm(pop_size=100, generations=100, crossover_rate=0.9, differential_weight=dw_rate, cost_function=cost_function)\n",
    "        rex_score = combi_fitness(best_rex)\n",
    "        rex_score_list.append(rex_score)\n",
    "        \n",
    "        i += 1\n",
    "    \n",
    "    # append values for plotting\n",
    "    dwrate.append(dw_rate)\n",
    "    average.append(statistics.mean(rex_score_list)) \n",
    "    highest.append(max(rex_score_list))\n",
    "    lowest.append(min(rex_score_list))\n",
    "    times.append(time.process_time() - start)\n",
    "    \n",
    "    # print info\n",
    "    print('Current Differential Weight: ' + str(dw_rate))\n",
    "    print('Time (50 iterations): ' + str(time.process_time() - start))\n",
    "\n",
    "    print('Average fitness: ' + str(statistics.mean(rex_score_list)))\n",
    "    print('Highest fitness: ' + str(max(rex_score_list)))\n",
    "    print('Lowest fitness: ' + str(min(rex_score_list))+ \"\\n\")\n",
    "    \n",
    "    # increase Differential weight\n",
    "    dw_rate += 0.1\n",
    "    \n",
    "# plot results\n",
    "plt.plot(dwrate, average, label = \"Average\")\n",
    "plt.plot(dwrate, highest, label = \"Max\")\n",
    "plt.plot(dwrate, lowest, label = \"Min\")\n",
    "\n",
    "plt.legend(loc='upper right')\n",
    "plt.title(\"Fitness depending on the Differential weight\")\n",
    "plt.xticks(dwrate)\n",
    "plt.show()\n",
    "\n",
    "# plot results\n",
    "plt.plot(dwrate, times,color=\"red\")\n",
    "plt.title(\"Computation time (s)\")\n",
    "plt.xticks(dwrate)\n",
    "plt.show()"
   ]
  },
  {
   "cell_type": "markdown",
   "metadata": {
    "pycharm": {
     "name": "#%% md\n"
    }
   },
   "source": [
    "## Task 6: Write Up!\n",
    "\n",
    "Whew! That was a lot of work! Well, for the algorithm anyway. A representative from a company you've forgotten the name of right now (was it EnGin? InTen? Oh, nevermind) has reached out to you and asked for a report on your observations from your experiment, for reasons they'd rather not disclose apparently. They seem particularly interested in how changing various parameters might affect the process. Go ahead and play around with your algorithm a bit (perhaps you'd like to try out different population sizes, crossover rate and differential weight values, or even tweak your fitness functions?) to generate an answer for them. Turns out your lab has an email template you can use, so all you'll need to do is plug in your observations and hope they're not used for anything...potentially problematic.\n",
    "\n",
    "(Hint - Your lab recently genetically engineered species #5698, which your team is currently calling \"Bonus Point.\" A few of those might have escaped, but if you come up with a sufficiently interesting name for yourself in the report, they might just decide to come back and help you out.)"
   ]
  },
  {
   "cell_type": "markdown",
   "metadata": {
    "pycharm": {
     "name": "#%% md\n"
    }
   },
   "source": [
    "From: BestResearcherEver (bre@uni-osnabrueck.de)\n",
    "To: NotAMadScientist (research@ingen.jp)\n",
    "\n",
    "Dear InGen Research Team,\n",
    "\n",
    "Pursuant to your request for further data on the effect of parameter manipulation in our Differential Evolution experiment with species #1475, Tyrannosaurus rex, the following is a brief report on my observations:\n",
    "\n",
    "**Your Answer Here**\n",
    "\n",
    "Sincerely,\n",
    "BestResearcherEver"
   ]
  },
  {
   "cell_type": "markdown",
   "metadata": {
    "pycharm": {
     "name": "#%% md\n"
    }
   },
   "source": [
    "## Just For Fun - Dino Dating\n",
    "\n",
    "So you think you can design the best dinosaur, eh? Well, you've created a pretty hearty T-Rex there, but it won't get very far in the evolution game if no one wants to take it out to the dance. Let's see how your top predator survives its next big challenge, Germany's latest top hit prehistoric TV show - DinoDating!\n",
    "\n",
    "This section is just for fun. You don't actually have to code anything, just plug in your best Rex and see how it fares.\n",
    "\n",
    "Normally the judges don't like to share their scoring criteria, but since this is an academic exercise, they bent the rules this once.\n",
    "\n",
    "(75 - 100) - Ooh La La!\n",
    "(50 - 74) - Dateable\n",
    "(25 - 49) - In The Right Clothes, Maybe...\n",
    "(0 - 24) - Well, no takers now, but take some time to become your best self and try again later. :)"
   ]
  },
  {
   "cell_type": "code",
   "execution_count": 18,
   "metadata": {
    "pycharm": {
     "name": "#%%\n"
    }
   },
   "outputs": [
    {
     "name": "stdout",
     "output_type": "stream",
     "text": [
      "Your top Rex scored 15.542179652436513 in Dino Dating!\n"
     ]
    }
   ],
   "source": [
    "from dino_dating import dating_fitness\n",
    "\n",
    "score = dating_fitness(best_rex)\n",
    "\n",
    "print('Your top Rex scored ' + str(score) + ' in Dino Dating!')"
   ]
  },
  {
   "cell_type": "markdown",
   "metadata": {
    "pycharm": {
     "name": "#%% md\n"
    }
   },
   "source": [
    "## How Did You Do?\n",
    "\n",
    "This part is optional, but gives you a chance to see how well your algorithm functions. Your algorithm should output a Rex with a vector close to [100, 30, 8, 5, 42, 7, 0] and a score close to 100."
   ]
  },
  {
   "cell_type": "code",
   "execution_count": 19,
   "metadata": {
    "pycharm": {
     "name": "#%%\n"
    }
   },
   "outputs": [
    {
     "name": "stdout",
     "output_type": "stream",
     "text": [
      "Your algorithm output [911.9013952381739, 8.91684238328577, 0.7040010781944785, 5116.442798200286, 0.30791116955054415, 6.604342009266954, 0.19461692478486292]as the best individual, with a dating score of 26.42015970881788 . How did you do? :)\n"
     ]
    }
   ],
   "source": [
    "from dino_dating import dating_fitness\n",
    "\n",
    "dating_cost_function = lambda x:-dating_fitness(x)\n",
    "\n",
    "best_dater = de_algorithm(pop_size=100,generations=50,crossover_rate=0.8,differential_weight=0.5,cost_function=dating_cost_function)\n",
    "\n",
    "dater_score = dating_fitness(best_dater)\n",
    "\n",
    "print('Your algorithm output ' + str(best_dater) + 'as the best individual, with a dating score of ' + str(dater_score) + ' . How did you do? :)')"
   ]
  }
 ],
 "metadata": {
  "interpreter": {
   "hash": "aee8b7b246df8f9039afb4144a1f6fd8d2ca17a180786b69acc140d282b71a49"
  },
  "kernelspec": {
   "display_name": "Python 3",
   "language": "python",
   "name": "python3"
  },
  "language_info": {
   "codemirror_mode": {
    "name": "ipython",
    "version": 3
   },
   "file_extension": ".py",
   "mimetype": "text/x-python",
   "name": "python",
   "nbconvert_exporter": "python",
   "pygments_lexer": "ipython3",
   "version": "3.6.10"
  }
 },
 "nbformat": 4,
 "nbformat_minor": 4
}